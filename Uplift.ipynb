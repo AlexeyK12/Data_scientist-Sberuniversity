{
  "cells": [
    {
      "cell_type": "markdown",
      "metadata": {
        "id": "view-in-github",
        "colab_type": "text"
      },
      "source": [
        "<a href=\"https://colab.research.google.com/github/AlexeyK12/Data_scientist-Sberuniversity/blob/main/Uplift.ipynb\" target=\"_parent\"><img src=\"https://colab.research.google.com/assets/colab-badge.svg\" alt=\"Open In Colab\"/></a>"
      ]
    },
    {
      "cell_type": "markdown",
      "metadata": {
        "id": "W1lxVgNyQHdI"
      },
      "source": [
        "# Uplift-моделирование"
      ]
    },
    {
      "cell_type": "markdown",
      "metadata": {
        "id": "e8k4r8P1QHdS"
      },
      "source": [
        "На этом занятии мы научимся строить uplift-модели при помощи библиотеки **scikit-uplift**.\n",
        "\n",
        "Для этого мы:\n",
        "- Подгрузим данные для моделирования\n",
        "- Построим модель со сменой задачи\n",
        "- Построим модель T-learn\n",
        "- Построим модель S-learn\n",
        "- Оценим качество наших моделей"
      ]
    },
    {
      "cell_type": "markdown",
      "source": [
        "**Uplift-моделирование** — это задача машинного обучения, в которой мы пытаемся найти объекты, которые при наличии на них влияния совершат целевое действие, а без отсутствия влияния целевое действие не совершат.\n",
        "\n",
        "***Пример:*** мы продаем мобильные телефоны и выбираем, кому показать рекламу. Всем показать рекламу мы не можем, так как наш бюджет ограничен. Мы хотим найти таких клиентов, которые:\n",
        "- Купят телефон, если увидят рекламу\n",
        "- Не купят телефон, если рекламу не увидят\n",
        "\n",
        "Для uplift-моделирования нам нужны 3 составляющие:\n",
        " - **Воздействие** (treatment, взаимодействие). Будем обозначать его через $t$. Это бинарная переменная, принимающая значение 0, если воздействие не совершено, и 1, если воздействие совершено\n",
        " - **Целевое действие** (target, таргет). Его будем обозначать через $y$. $y$ принимает значение 0, если клиент не совершил целевое действие, и 1, если совершил\n",
        " - **Признаки** о наших объектах (иногда мы их будем называть клиентами). Обозначим их через $x$\n",
        "\n",
        "В нашем случае воздействие — это показ рекламы, а целевое действие — это покупка телефона, признаки — обычные признаки для клиентов: пол, возраст, история покупок.\n",
        "\n",
        "Однако существует проблема: мы не можем одновременно показать и не показать рекламу телефона, поэтому мы должны работать не напрямую с целевыми действиями, а с их математическими ожиданиями:\n",
        "\n",
        "$$ uplift = E(y | X, t=1) -  E(y | X, t=0) $$"
      ],
      "metadata": {
        "id": "Ixeqf0bGU3zn"
      }
    },
    {
      "cell_type": "markdown",
      "metadata": {
        "id": "a6IivUQbQHdV"
      },
      "source": [
        "Приступим к моделированию. Установим библиотеку **scikit-uplift**. Эта библиотека имеет интерфейс, похожий на интерфейс sklearn, но предназначена для построения uplift-моделей. Она содержит блок *datasets* с датасетами, блок *models* с моделями, а также блоки *metrics* и *viz* для оценки качества моделей.  "
      ]
    },
    {
      "cell_type": "code",
      "execution_count": null,
      "metadata": {
        "colab": {
          "base_uri": "https://localhost:8080/"
        },
        "id": "a9lZC0AeQHdX",
        "outputId": "50e326e1-0c77-44dd-bf8c-a65f89338947"
      },
      "outputs": [
        {
          "output_type": "stream",
          "name": "stdout",
          "text": [
            "Looking in indexes: https://pypi.org/simple, https://us-python.pkg.dev/colab-wheels/public/simple/\n",
            "Collecting scikit-uplift\n",
            "  Downloading scikit_uplift-0.5.1-py3-none-any.whl (42 kB)\n",
            "\u001b[K     |████████████████████████████████| 42 kB 774 kB/s \n",
            "\u001b[?25hRequirement already satisfied: numpy>=1.16 in /usr/local/lib/python3.7/dist-packages (from scikit-uplift) (1.21.6)\n",
            "Requirement already satisfied: scikit-learn>=0.21.0 in /usr/local/lib/python3.7/dist-packages (from scikit-uplift) (1.0.2)\n",
            "Requirement already satisfied: requests in /usr/local/lib/python3.7/dist-packages (from scikit-uplift) (2.23.0)\n",
            "Requirement already satisfied: matplotlib in /usr/local/lib/python3.7/dist-packages (from scikit-uplift) (3.2.2)\n",
            "Requirement already satisfied: pandas in /usr/local/lib/python3.7/dist-packages (from scikit-uplift) (1.3.5)\n",
            "Requirement already satisfied: tqdm in /usr/local/lib/python3.7/dist-packages (from scikit-uplift) (4.64.1)\n",
            "Requirement already satisfied: scipy>=1.1.0 in /usr/local/lib/python3.7/dist-packages (from scikit-learn>=0.21.0->scikit-uplift) (1.7.3)\n",
            "Requirement already satisfied: joblib>=0.11 in /usr/local/lib/python3.7/dist-packages (from scikit-learn>=0.21.0->scikit-uplift) (1.2.0)\n",
            "Requirement already satisfied: threadpoolctl>=2.0.0 in /usr/local/lib/python3.7/dist-packages (from scikit-learn>=0.21.0->scikit-uplift) (3.1.0)\n",
            "Requirement already satisfied: python-dateutil>=2.1 in /usr/local/lib/python3.7/dist-packages (from matplotlib->scikit-uplift) (2.8.2)\n",
            "Requirement already satisfied: pyparsing!=2.0.4,!=2.1.2,!=2.1.6,>=2.0.1 in /usr/local/lib/python3.7/dist-packages (from matplotlib->scikit-uplift) (3.0.9)\n",
            "Requirement already satisfied: kiwisolver>=1.0.1 in /usr/local/lib/python3.7/dist-packages (from matplotlib->scikit-uplift) (1.4.4)\n",
            "Requirement already satisfied: cycler>=0.10 in /usr/local/lib/python3.7/dist-packages (from matplotlib->scikit-uplift) (0.11.0)\n",
            "Requirement already satisfied: typing-extensions in /usr/local/lib/python3.7/dist-packages (from kiwisolver>=1.0.1->matplotlib->scikit-uplift) (4.1.1)\n",
            "Requirement already satisfied: six>=1.5 in /usr/local/lib/python3.7/dist-packages (from python-dateutil>=2.1->matplotlib->scikit-uplift) (1.15.0)\n",
            "Requirement already satisfied: pytz>=2017.3 in /usr/local/lib/python3.7/dist-packages (from pandas->scikit-uplift) (2022.6)\n",
            "Requirement already satisfied: idna<3,>=2.5 in /usr/local/lib/python3.7/dist-packages (from requests->scikit-uplift) (2.10)\n",
            "Requirement already satisfied: chardet<4,>=3.0.2 in /usr/local/lib/python3.7/dist-packages (from requests->scikit-uplift) (3.0.4)\n",
            "Requirement already satisfied: urllib3!=1.25.0,!=1.25.1,<1.26,>=1.21.1 in /usr/local/lib/python3.7/dist-packages (from requests->scikit-uplift) (1.24.3)\n",
            "Requirement already satisfied: certifi>=2017.4.17 in /usr/local/lib/python3.7/dist-packages (from requests->scikit-uplift) (2022.9.24)\n",
            "Installing collected packages: scikit-uplift\n",
            "Successfully installed scikit-uplift-0.5.1\n"
          ]
        }
      ],
      "source": [
        "! pip install scikit-uplift -U"
      ]
    },
    {
      "cell_type": "markdown",
      "metadata": {
        "id": "yoneVysCQHdb"
      },
      "source": [
        "Помимо библиотеки scikit-uplift, мы будем использовать стандартные библиотеки для анализа данных: pandas и sklearn."
      ]
    },
    {
      "cell_type": "code",
      "execution_count": null,
      "metadata": {
        "id": "rUn4G1_NQHdb"
      },
      "outputs": [],
      "source": [
        "import pandas as pd\n",
        "\n",
        "from sklearn.model_selection import train_test_split\n",
        "from sklearn.preprocessing import OneHotEncoder\n",
        "from sklearn.ensemble import RandomForestClassifier\n",
        "\n",
        "from sklift.datasets import fetch_x5, fetch_lenta, clear_data_dir, fetch_megafon, fetch_hillstrom\n",
        "from sklift.metrics import uplift_at_k\n",
        "from sklift.viz import plot_uplift_preds\n",
        "from sklift.models import SoloModel, TwoModels, ClassTransformation\n",
        "\n",
        "from sklift.viz import plot_uplift_curve"
      ]
    },
    {
      "cell_type": "markdown",
      "metadata": {
        "id": "_wHarm_8QHdc"
      },
      "source": [
        "# Подгрузка данных"
      ]
    },
    {
      "cell_type": "markdown",
      "metadata": {
        "id": "9t1QYEvIQHdd"
      },
      "source": [
        "Для работы мы будем использовать **Kevin Hillstrom Dataset**. В датасете содержатся данные о покупках в зависимости от того, получали ли клиенты email-рассылку или нет. Подгрузим данные при помощи функции fetch_hillstrom."
      ]
    },
    {
      "cell_type": "code",
      "execution_count": null,
      "metadata": {
        "colab": {
          "base_uri": "https://localhost:8080/",
          "height": 49,
          "referenced_widgets": [
            "151b508f9b814011a8c7f76db160dd7d",
            "4c8e567f34f04b0a896bc1b67f41f76f",
            "1306af87a66b4440aed62083dfb5c25f",
            "403370668e8e4af6927c4544b89cd11d",
            "e2290d4128bc4cceafe001d79553b66e",
            "daf792c09a48463a836199a7c7ed9338",
            "82601468c0b74826a32e4033ec31a370",
            "e9ca839730104702891be33eaa6c1240",
            "612a6be79f444513a0afdd39e18d8f1d",
            "b3bb6b3e587f4bdd8124e8e88488f463",
            "19bf0dc9c169498bab8e000ca9a6aa81"
          ]
        },
        "id": "kA2cyEZ4QHde",
        "outputId": "738ba583-0179-4ec0-bed2-77cab3b95aba"
      },
      "outputs": [
        {
          "output_type": "display_data",
          "data": {
            "text/plain": [
              "Hillstrom dataset:   0%|          | 0.00/443k [00:00<?, ?iB/s]"
            ],
            "application/vnd.jupyter.widget-view+json": {
              "version_major": 2,
              "version_minor": 0,
              "model_id": "151b508f9b814011a8c7f76db160dd7d"
            }
          },
          "metadata": {}
        }
      ],
      "source": [
        "data = fetch_hillstrom()"
      ]
    },
    {
      "cell_type": "markdown",
      "metadata": {
        "id": "yRqeqhrAQHdg"
      },
      "source": [
        "Посмотрим на наш датасет более детально."
      ]
    },
    {
      "cell_type": "code",
      "execution_count": null,
      "metadata": {
        "colab": {
          "base_uri": "https://localhost:8080/"
        },
        "id": "VOTpQAznQHdh",
        "outputId": "5af69a18-bfce-4084-e64e-0ad385b59b3c"
      },
      "outputs": [
        {
          "output_type": "stream",
          "name": "stdout",
          "text": [
            "Kevin Hillstrom Dataset: MineThatData\n",
            "=====================================\n",
            "\n",
            "Data description\n",
            "################\n",
            "\n",
            "This is a copy of `MineThatData E-Mail Analytics And Data Mining Challenge dataset <https://blog.minethatdata.com/2008/03/minethatdata-e-mail-analytics-and-data.html>`_.\n",
            "\n",
            "This dataset contains 64,000 customers who last purchased within twelve months.\n",
            "The customers were involved in an e-mail test.\n",
            "\n",
            "* 1/3 were randomly chosen to receive an e-mail campaign featuring Mens merchandise.\n",
            "* 1/3 were randomly chosen to receive an e-mail campaign featuring Womens merchandise.\n",
            "* 1/3 were randomly chosen to not receive an e-mail campaign.\n",
            "\n",
            "During a period of two weeks following the e-mail campaign, results were tracked.\n",
            "Your job is to tell the world if the Mens or Womens e-mail campaign was successful.\n",
            "\n",
            "Fields\n",
            "################\n",
            "\n",
            "Historical customer attributes at your disposal include:\n",
            "\n",
            "* Recency: Months since last purchase.\n",
            "* History_Segment: Categorization of dollars spent in the past year.\n",
            "* History: Actual dollar value spent in the past year.\n",
            "* Mens: 1/0 indicator, 1 = customer purchased Mens merchandise in the past year.\n",
            "* Womens: 1/0 indicator, 1 = customer purchased Womens merchandise in the past year.\n",
            "* Zip_Code: Classifies zip code as Urban, Suburban, or Rural.\n",
            "* Newbie: 1/0 indicator, 1 = New customer in the past twelve months.\n",
            "* Channel: Describes the channels the customer purchased from in the past year.\n",
            "\n",
            "Another variable describes the e-mail campaign the customer received:\n",
            "\n",
            "* Segment\n",
            "\n",
            "    * Mens E-Mail\n",
            "    * Womens E-Mail\n",
            "    * No E-Mail\n",
            "\n",
            "Finally, we have a series of variables describing activity in the two weeks following delivery of the e-mail campaign:\n",
            "\n",
            "* Visit: 1/0 indicator, 1 = Customer visited website in the following two weeks.\n",
            "* Conversion: 1/0 indicator, 1 = Customer purchased merchandise in the following two weeks.\n",
            "* Spend: Actual dollars spent in the following two weeks.\n",
            "\n",
            "Key figures\n",
            "################\n",
            "\n",
            "* Format: CSV\n",
            "* Size: 433KB (compressed) 4,935KB (uncompressed)\n",
            "* Rows: 64,000\n",
            "* Response Ratio:\n",
            "\n",
            "    * Average `visit` Rate: .15,\n",
            "    * Average `conversion` Rate: .009,\n",
            "    * the values in the `spend` column are unevenly distributed from 0.0 to 499.0\n",
            "\n",
            "* Treatment Ratio: The parts are distributed evenly between the *three* classes\n"
          ]
        }
      ],
      "source": [
        "print(data['DESCR'])"
      ]
    },
    {
      "cell_type": "markdown",
      "metadata": {
        "id": "wDUXr45VQHdj"
      },
      "source": [
        "Для работы с uplift-моделями нам нужны данные о воздействиях на клиентов (treatment, t), данные о целевых действиях клиентов (target, y) и данные о характеристиках наших клиентов X. Проверим, что у нас есть все подходящие данные."
      ]
    },
    {
      "cell_type": "code",
      "execution_count": null,
      "metadata": {
        "id": "vuKD3m3UQHdk"
      },
      "outputs": [],
      "source": [
        "X, y, t = data['data'],  data['target'], data['treatment']"
      ]
    },
    {
      "cell_type": "code",
      "execution_count": null,
      "metadata": {
        "colab": {
          "base_uri": "https://localhost:8080/"
        },
        "id": "rdis07zJQHdl",
        "outputId": "1c9bc4c7-4bd3-4d44-d29d-8419ba230aa1"
      },
      "outputs": [
        {
          "output_type": "execute_result",
          "data": {
            "text/plain": [
              "((64000, 8), (64000,), (64000,))"
            ]
          },
          "metadata": {},
          "execution_count": 6
        }
      ],
      "source": [
        "X.shape, y.shape, t.shape"
      ]
    },
    {
      "cell_type": "markdown",
      "metadata": {
        "id": "DpRgianXQHdl"
      },
      "source": [
        "Посмотрим на данные в виде таблицы, в которой указаны первые 5 строк с использованием функции head()."
      ]
    },
    {
      "cell_type": "code",
      "execution_count": null,
      "metadata": {
        "colab": {
          "base_uri": "https://localhost:8080/",
          "height": 206
        },
        "id": "NQROESNoQHdm",
        "outputId": "4ce978f6-06ef-451a-b00e-3fe827997c92"
      },
      "outputs": [
        {
          "output_type": "execute_result",
          "data": {
            "text/plain": [
              "   recency history_segment  history  mens  womens   zip_code  newbie channel\n",
              "0       10  2) $100 - $200   142.44     1       0  Surburban       0   Phone\n",
              "1        6  3) $200 - $350   329.08     1       1      Rural       1     Web\n",
              "2        7  2) $100 - $200   180.65     0       1  Surburban       1     Web\n",
              "3        9  5) $500 - $750   675.83     1       0      Rural       1     Web\n",
              "4        2    1) $0 - $100    45.34     1       0      Urban       0     Web"
            ],
            "text/html": [
              "\n",
              "  <div id=\"df-e0847bac-8e09-4dbd-a969-caff74ad7731\">\n",
              "    <div class=\"colab-df-container\">\n",
              "      <div>\n",
              "<style scoped>\n",
              "    .dataframe tbody tr th:only-of-type {\n",
              "        vertical-align: middle;\n",
              "    }\n",
              "\n",
              "    .dataframe tbody tr th {\n",
              "        vertical-align: top;\n",
              "    }\n",
              "\n",
              "    .dataframe thead th {\n",
              "        text-align: right;\n",
              "    }\n",
              "</style>\n",
              "<table border=\"1\" class=\"dataframe\">\n",
              "  <thead>\n",
              "    <tr style=\"text-align: right;\">\n",
              "      <th></th>\n",
              "      <th>recency</th>\n",
              "      <th>history_segment</th>\n",
              "      <th>history</th>\n",
              "      <th>mens</th>\n",
              "      <th>womens</th>\n",
              "      <th>zip_code</th>\n",
              "      <th>newbie</th>\n",
              "      <th>channel</th>\n",
              "    </tr>\n",
              "  </thead>\n",
              "  <tbody>\n",
              "    <tr>\n",
              "      <th>0</th>\n",
              "      <td>10</td>\n",
              "      <td>2) $100 - $200</td>\n",
              "      <td>142.44</td>\n",
              "      <td>1</td>\n",
              "      <td>0</td>\n",
              "      <td>Surburban</td>\n",
              "      <td>0</td>\n",
              "      <td>Phone</td>\n",
              "    </tr>\n",
              "    <tr>\n",
              "      <th>1</th>\n",
              "      <td>6</td>\n",
              "      <td>3) $200 - $350</td>\n",
              "      <td>329.08</td>\n",
              "      <td>1</td>\n",
              "      <td>1</td>\n",
              "      <td>Rural</td>\n",
              "      <td>1</td>\n",
              "      <td>Web</td>\n",
              "    </tr>\n",
              "    <tr>\n",
              "      <th>2</th>\n",
              "      <td>7</td>\n",
              "      <td>2) $100 - $200</td>\n",
              "      <td>180.65</td>\n",
              "      <td>0</td>\n",
              "      <td>1</td>\n",
              "      <td>Surburban</td>\n",
              "      <td>1</td>\n",
              "      <td>Web</td>\n",
              "    </tr>\n",
              "    <tr>\n",
              "      <th>3</th>\n",
              "      <td>9</td>\n",
              "      <td>5) $500 - $750</td>\n",
              "      <td>675.83</td>\n",
              "      <td>1</td>\n",
              "      <td>0</td>\n",
              "      <td>Rural</td>\n",
              "      <td>1</td>\n",
              "      <td>Web</td>\n",
              "    </tr>\n",
              "    <tr>\n",
              "      <th>4</th>\n",
              "      <td>2</td>\n",
              "      <td>1) $0 - $100</td>\n",
              "      <td>45.34</td>\n",
              "      <td>1</td>\n",
              "      <td>0</td>\n",
              "      <td>Urban</td>\n",
              "      <td>0</td>\n",
              "      <td>Web</td>\n",
              "    </tr>\n",
              "  </tbody>\n",
              "</table>\n",
              "</div>\n",
              "      <button class=\"colab-df-convert\" onclick=\"convertToInteractive('df-e0847bac-8e09-4dbd-a969-caff74ad7731')\"\n",
              "              title=\"Convert this dataframe to an interactive table.\"\n",
              "              style=\"display:none;\">\n",
              "        \n",
              "  <svg xmlns=\"http://www.w3.org/2000/svg\" height=\"24px\"viewBox=\"0 0 24 24\"\n",
              "       width=\"24px\">\n",
              "    <path d=\"M0 0h24v24H0V0z\" fill=\"none\"/>\n",
              "    <path d=\"M18.56 5.44l.94 2.06.94-2.06 2.06-.94-2.06-.94-.94-2.06-.94 2.06-2.06.94zm-11 1L8.5 8.5l.94-2.06 2.06-.94-2.06-.94L8.5 2.5l-.94 2.06-2.06.94zm10 10l.94 2.06.94-2.06 2.06-.94-2.06-.94-.94-2.06-.94 2.06-2.06.94z\"/><path d=\"M17.41 7.96l-1.37-1.37c-.4-.4-.92-.59-1.43-.59-.52 0-1.04.2-1.43.59L10.3 9.45l-7.72 7.72c-.78.78-.78 2.05 0 2.83L4 21.41c.39.39.9.59 1.41.59.51 0 1.02-.2 1.41-.59l7.78-7.78 2.81-2.81c.8-.78.8-2.07 0-2.86zM5.41 20L4 18.59l7.72-7.72 1.47 1.35L5.41 20z\"/>\n",
              "  </svg>\n",
              "      </button>\n",
              "      \n",
              "  <style>\n",
              "    .colab-df-container {\n",
              "      display:flex;\n",
              "      flex-wrap:wrap;\n",
              "      gap: 12px;\n",
              "    }\n",
              "\n",
              "    .colab-df-convert {\n",
              "      background-color: #E8F0FE;\n",
              "      border: none;\n",
              "      border-radius: 50%;\n",
              "      cursor: pointer;\n",
              "      display: none;\n",
              "      fill: #1967D2;\n",
              "      height: 32px;\n",
              "      padding: 0 0 0 0;\n",
              "      width: 32px;\n",
              "    }\n",
              "\n",
              "    .colab-df-convert:hover {\n",
              "      background-color: #E2EBFA;\n",
              "      box-shadow: 0px 1px 2px rgba(60, 64, 67, 0.3), 0px 1px 3px 1px rgba(60, 64, 67, 0.15);\n",
              "      fill: #174EA6;\n",
              "    }\n",
              "\n",
              "    [theme=dark] .colab-df-convert {\n",
              "      background-color: #3B4455;\n",
              "      fill: #D2E3FC;\n",
              "    }\n",
              "\n",
              "    [theme=dark] .colab-df-convert:hover {\n",
              "      background-color: #434B5C;\n",
              "      box-shadow: 0px 1px 3px 1px rgba(0, 0, 0, 0.15);\n",
              "      filter: drop-shadow(0px 1px 2px rgba(0, 0, 0, 0.3));\n",
              "      fill: #FFFFFF;\n",
              "    }\n",
              "  </style>\n",
              "\n",
              "      <script>\n",
              "        const buttonEl =\n",
              "          document.querySelector('#df-e0847bac-8e09-4dbd-a969-caff74ad7731 button.colab-df-convert');\n",
              "        buttonEl.style.display =\n",
              "          google.colab.kernel.accessAllowed ? 'block' : 'none';\n",
              "\n",
              "        async function convertToInteractive(key) {\n",
              "          const element = document.querySelector('#df-e0847bac-8e09-4dbd-a969-caff74ad7731');\n",
              "          const dataTable =\n",
              "            await google.colab.kernel.invokeFunction('convertToInteractive',\n",
              "                                                     [key], {});\n",
              "          if (!dataTable) return;\n",
              "\n",
              "          const docLinkHtml = 'Like what you see? Visit the ' +\n",
              "            '<a target=\"_blank\" href=https://colab.research.google.com/notebooks/data_table.ipynb>data table notebook</a>'\n",
              "            + ' to learn more about interactive tables.';\n",
              "          element.innerHTML = '';\n",
              "          dataTable['output_type'] = 'display_data';\n",
              "          await google.colab.output.renderOutput(dataTable, element);\n",
              "          const docLink = document.createElement('div');\n",
              "          docLink.innerHTML = docLinkHtml;\n",
              "          element.appendChild(docLink);\n",
              "        }\n",
              "      </script>\n",
              "    </div>\n",
              "  </div>\n",
              "  "
            ]
          },
          "metadata": {},
          "execution_count": 7
        }
      ],
      "source": [
        "X.head()"
      ]
    },
    {
      "cell_type": "code",
      "execution_count": null,
      "metadata": {
        "colab": {
          "base_uri": "https://localhost:8080/"
        },
        "id": "p4BUw1QbQHdn",
        "outputId": "ae2ce75c-b142-4ac9-90ba-837ca3b5f3b7"
      },
      "outputs": [
        {
          "output_type": "execute_result",
          "data": {
            "text/plain": [
              "3947       Mens E-Mail\n",
              "48105      Mens E-Mail\n",
              "15614      Mens E-Mail\n",
              "58595        No E-Mail\n",
              "21571    Womens E-Mail\n",
              "Name: segment, dtype: object"
            ]
          },
          "metadata": {},
          "execution_count": 8
        }
      ],
      "source": [
        "t.sample(5)"
      ]
    },
    {
      "cell_type": "code",
      "execution_count": null,
      "metadata": {
        "colab": {
          "base_uri": "https://localhost:8080/"
        },
        "id": "9q6Zp3k1QHdo",
        "outputId": "fa102bc9-f031-4362-e2b4-36fd9f544509"
      },
      "outputs": [
        {
          "output_type": "execute_result",
          "data": {
            "text/plain": [
              "24511    0\n",
              "27442    0\n",
              "37124    1\n",
              "3569     0\n",
              "36720    0\n",
              "Name: visit, dtype: int64"
            ]
          },
          "metadata": {},
          "execution_count": 9
        }
      ],
      "source": [
        "y.sample(5)"
      ]
    },
    {
      "cell_type": "markdown",
      "metadata": {
        "id": "_6DInIHLQHdo"
      },
      "source": [
        "В данных содержатся бинарные переменные, которые необходимо трансформировать."
      ]
    },
    {
      "cell_type": "markdown",
      "metadata": {
        "id": "rPVUZTnQQHdp"
      },
      "source": [
        "# preprocessing"
      ]
    },
    {
      "cell_type": "markdown",
      "metadata": {
        "id": "1Mb5YRiNQHdq"
      },
      "source": [
        "Посмотрим, сколько уникальных значений встречается для каждой переменной в нашем датасете."
      ]
    },
    {
      "cell_type": "code",
      "execution_count": null,
      "metadata": {
        "colab": {
          "base_uri": "https://localhost:8080/"
        },
        "id": "Oh1DgykVQHdq",
        "outputId": "ef2b9aee-f4d4-4bab-b73d-af892c8ef592"
      },
      "outputs": [
        {
          "output_type": "execute_result",
          "data": {
            "text/plain": [
              "recency               12\n",
              "history_segment        7\n",
              "history            34833\n",
              "mens                   2\n",
              "womens                 2\n",
              "zip_code               3\n",
              "newbie                 2\n",
              "channel                3\n",
              "dtype: int64"
            ]
          },
          "metadata": {},
          "execution_count": 10
        }
      ],
      "source": [
        "X.nunique()"
      ]
    },
    {
      "cell_type": "code",
      "execution_count": null,
      "metadata": {
        "colab": {
          "base_uri": "https://localhost:8080/"
        },
        "id": "He5KPvldQHdr",
        "outputId": "1265f705-ef75-4293-90b2-118ee3f18f25"
      },
      "outputs": [
        {
          "output_type": "execute_result",
          "data": {
            "text/plain": [
              "0    54606\n",
              "1     9394\n",
              "Name: visit, dtype: int64"
            ]
          },
          "metadata": {},
          "execution_count": 11
        }
      ],
      "source": [
        "y.value_counts()"
      ]
    },
    {
      "cell_type": "code",
      "execution_count": null,
      "metadata": {
        "scrolled": true,
        "colab": {
          "base_uri": "https://localhost:8080/"
        },
        "id": "JhTsY4GTQHds",
        "outputId": "2fc5438d-b1d6-485e-887f-4bcce2cc3643"
      },
      "outputs": [
        {
          "output_type": "execute_result",
          "data": {
            "text/plain": [
              "Womens E-Mail    21387\n",
              "Mens E-Mail      21307\n",
              "No E-Mail        21306\n",
              "Name: segment, dtype: int64"
            ]
          },
          "metadata": {},
          "execution_count": 12
        }
      ],
      "source": [
        "t.value_counts()"
      ]
    },
    {
      "cell_type": "markdown",
      "metadata": {
        "id": "UWjWtIq5QHds"
      },
      "source": [
        "Вектор со взаимодействиями представлен тремя видами: письмо для мужчин, письмо для женщин и отсутствие письма. В нашем упражнении мы не будем рассматривать отдельно мужчин и женщин, поэтому давайте преобразуем вектор t в бинарный, где 1 — наличие взаимодействия, а 0 — отсутствие взаимодействия."
      ]
    },
    {
      "cell_type": "code",
      "execution_count": null,
      "metadata": {
        "colab": {
          "base_uri": "https://localhost:8080/"
        },
        "id": "bbZK11arQHdt",
        "outputId": "50352a38-321f-4edc-982b-343f2610e35e"
      },
      "outputs": [
        {
          "output_type": "execute_result",
          "data": {
            "text/plain": [
              "0    1\n",
              "1    0\n",
              "2    1\n",
              "3    1\n",
              "4    1\n",
              "Name: segment, dtype: int64"
            ]
          },
          "metadata": {},
          "execution_count": 13
        }
      ],
      "source": [
        "t = t.map({'Womens E-Mail':1, 'Mens E-Mail':1, 'No E-Mail':0})\n",
        "t.head()"
      ]
    },
    {
      "cell_type": "markdown",
      "metadata": {
        "id": "Ary0r0BtQHdu"
      },
      "source": [
        "Видов категориальных переменных в признаках не очень много. Для трансформации наших переменных используем метод **One Hot Encodding**. Но, чтобы не допустить утечки данных, сначала разобьем все данные на train и test."
      ]
    },
    {
      "cell_type": "code",
      "execution_count": null,
      "metadata": {
        "id": "41F0mZBsQHdu"
      },
      "outputs": [],
      "source": [
        "X_train, X_test, y_train, y_test, t_train, t_test = train_test_split(X, y, t, test_size=0.3, random_state=42)"
      ]
    },
    {
      "cell_type": "markdown",
      "metadata": {
        "id": "3qsOzkp6QHdv"
      },
      "source": [
        "В признаках X всего 3 категориальные переменные: history_segment, zip_code, channel. Трансформируем их и добавим к числовым переменным для X_train и X_test."
      ]
    },
    {
      "cell_type": "code",
      "execution_count": null,
      "metadata": {
        "id": "M3ZztMcNQHdv"
      },
      "outputs": [],
      "source": [
        "cat_columns = ['history_segment', 'zip_code', 'channel']\n",
        "enc = OneHotEncoder(sparse=False)\n",
        "\n",
        "X_train_cat = enc.fit_transform(X_train[cat_columns])\n",
        "X_train_cat = pd.DataFrame(X_train_cat,\n",
        "                           index=X_train.index,\n",
        "                           columns=enc.get_feature_names_out(cat_columns))\n",
        "\n",
        "X_test_cat = enc.transform(X_test[cat_columns])\n",
        "X_test_cat = pd.DataFrame(X_test_cat,\n",
        "                          index=X_test.index,\n",
        "                          columns=enc.get_feature_names_out(cat_columns))\n",
        "\n",
        "X_train = pd.concat([X_train_cat, X_train.drop(cat_columns, axis=1)], axis=1)\n",
        "X_test = pd.concat([X_test_cat, X_test.drop(cat_columns, axis=1)], axis=1)"
      ]
    },
    {
      "cell_type": "code",
      "execution_count": null,
      "metadata": {
        "colab": {
          "base_uri": "https://localhost:8080/",
          "height": 287
        },
        "id": "QIiJOU2VQHdw",
        "outputId": "3482aae6-d4b3-4b9f-d7bd-27d9f0e003c7"
      },
      "outputs": [
        {
          "output_type": "execute_result",
          "data": {
            "text/plain": [
              "       history_segment_1) $0 - $100  history_segment_2) $100 - $200  \\\n",
              "9656                            0.0                             0.0   \n",
              "63037                           0.0                             0.0   \n",
              "31405                           0.0                             1.0   \n",
              "58088                           0.0                             1.0   \n",
              "44344                           1.0                             0.0   \n",
              "\n",
              "       history_segment_3) $200 - $350  history_segment_4) $350 - $500  \\\n",
              "9656                              0.0                             1.0   \n",
              "63037                             0.0                             1.0   \n",
              "31405                             0.0                             0.0   \n",
              "58088                             0.0                             0.0   \n",
              "44344                             0.0                             0.0   \n",
              "\n",
              "       history_segment_5) $500 - $750  history_segment_6) $750 - $1,000  \\\n",
              "9656                              0.0                               0.0   \n",
              "63037                             0.0                               0.0   \n",
              "31405                             0.0                               0.0   \n",
              "58088                             0.0                               0.0   \n",
              "44344                             0.0                               0.0   \n",
              "\n",
              "       history_segment_7) $1,000 +  zip_code_Rural  zip_code_Surburban  \\\n",
              "9656                           0.0             0.0                 0.0   \n",
              "63037                          0.0             0.0                 1.0   \n",
              "31405                          0.0             0.0                 0.0   \n",
              "58088                          0.0             0.0                 1.0   \n",
              "44344                          0.0             0.0                 1.0   \n",
              "\n",
              "       zip_code_Urban  channel_Multichannel  channel_Phone  channel_Web  \\\n",
              "9656              1.0                   0.0            0.0          1.0   \n",
              "63037             0.0                   1.0            0.0          0.0   \n",
              "31405             1.0                   0.0            1.0          0.0   \n",
              "58088             0.0                   0.0            0.0          1.0   \n",
              "44344             0.0                   0.0            1.0          0.0   \n",
              "\n",
              "       recency  history  mens  womens  newbie  \n",
              "9656         7   434.35     1       0       1  \n",
              "63037        1   376.59     1       0       0  \n",
              "31405        3   140.34     0       1       1  \n",
              "58088        3   150.76     0       1       0  \n",
              "44344        2    67.97     1       0       1  "
            ],
            "text/html": [
              "\n",
              "  <div id=\"df-e83b7db7-5e27-4efa-805c-39de7d67908f\">\n",
              "    <div class=\"colab-df-container\">\n",
              "      <div>\n",
              "<style scoped>\n",
              "    .dataframe tbody tr th:only-of-type {\n",
              "        vertical-align: middle;\n",
              "    }\n",
              "\n",
              "    .dataframe tbody tr th {\n",
              "        vertical-align: top;\n",
              "    }\n",
              "\n",
              "    .dataframe thead th {\n",
              "        text-align: right;\n",
              "    }\n",
              "</style>\n",
              "<table border=\"1\" class=\"dataframe\">\n",
              "  <thead>\n",
              "    <tr style=\"text-align: right;\">\n",
              "      <th></th>\n",
              "      <th>history_segment_1) $0 - $100</th>\n",
              "      <th>history_segment_2) $100 - $200</th>\n",
              "      <th>history_segment_3) $200 - $350</th>\n",
              "      <th>history_segment_4) $350 - $500</th>\n",
              "      <th>history_segment_5) $500 - $750</th>\n",
              "      <th>history_segment_6) $750 - $1,000</th>\n",
              "      <th>history_segment_7) $1,000 +</th>\n",
              "      <th>zip_code_Rural</th>\n",
              "      <th>zip_code_Surburban</th>\n",
              "      <th>zip_code_Urban</th>\n",
              "      <th>channel_Multichannel</th>\n",
              "      <th>channel_Phone</th>\n",
              "      <th>channel_Web</th>\n",
              "      <th>recency</th>\n",
              "      <th>history</th>\n",
              "      <th>mens</th>\n",
              "      <th>womens</th>\n",
              "      <th>newbie</th>\n",
              "    </tr>\n",
              "  </thead>\n",
              "  <tbody>\n",
              "    <tr>\n",
              "      <th>9656</th>\n",
              "      <td>0.0</td>\n",
              "      <td>0.0</td>\n",
              "      <td>0.0</td>\n",
              "      <td>1.0</td>\n",
              "      <td>0.0</td>\n",
              "      <td>0.0</td>\n",
              "      <td>0.0</td>\n",
              "      <td>0.0</td>\n",
              "      <td>0.0</td>\n",
              "      <td>1.0</td>\n",
              "      <td>0.0</td>\n",
              "      <td>0.0</td>\n",
              "      <td>1.0</td>\n",
              "      <td>7</td>\n",
              "      <td>434.35</td>\n",
              "      <td>1</td>\n",
              "      <td>0</td>\n",
              "      <td>1</td>\n",
              "    </tr>\n",
              "    <tr>\n",
              "      <th>63037</th>\n",
              "      <td>0.0</td>\n",
              "      <td>0.0</td>\n",
              "      <td>0.0</td>\n",
              "      <td>1.0</td>\n",
              "      <td>0.0</td>\n",
              "      <td>0.0</td>\n",
              "      <td>0.0</td>\n",
              "      <td>0.0</td>\n",
              "      <td>1.0</td>\n",
              "      <td>0.0</td>\n",
              "      <td>1.0</td>\n",
              "      <td>0.0</td>\n",
              "      <td>0.0</td>\n",
              "      <td>1</td>\n",
              "      <td>376.59</td>\n",
              "      <td>1</td>\n",
              "      <td>0</td>\n",
              "      <td>0</td>\n",
              "    </tr>\n",
              "    <tr>\n",
              "      <th>31405</th>\n",
              "      <td>0.0</td>\n",
              "      <td>1.0</td>\n",
              "      <td>0.0</td>\n",
              "      <td>0.0</td>\n",
              "      <td>0.0</td>\n",
              "      <td>0.0</td>\n",
              "      <td>0.0</td>\n",
              "      <td>0.0</td>\n",
              "      <td>0.0</td>\n",
              "      <td>1.0</td>\n",
              "      <td>0.0</td>\n",
              "      <td>1.0</td>\n",
              "      <td>0.0</td>\n",
              "      <td>3</td>\n",
              "      <td>140.34</td>\n",
              "      <td>0</td>\n",
              "      <td>1</td>\n",
              "      <td>1</td>\n",
              "    </tr>\n",
              "    <tr>\n",
              "      <th>58088</th>\n",
              "      <td>0.0</td>\n",
              "      <td>1.0</td>\n",
              "      <td>0.0</td>\n",
              "      <td>0.0</td>\n",
              "      <td>0.0</td>\n",
              "      <td>0.0</td>\n",
              "      <td>0.0</td>\n",
              "      <td>0.0</td>\n",
              "      <td>1.0</td>\n",
              "      <td>0.0</td>\n",
              "      <td>0.0</td>\n",
              "      <td>0.0</td>\n",
              "      <td>1.0</td>\n",
              "      <td>3</td>\n",
              "      <td>150.76</td>\n",
              "      <td>0</td>\n",
              "      <td>1</td>\n",
              "      <td>0</td>\n",
              "    </tr>\n",
              "    <tr>\n",
              "      <th>44344</th>\n",
              "      <td>1.0</td>\n",
              "      <td>0.0</td>\n",
              "      <td>0.0</td>\n",
              "      <td>0.0</td>\n",
              "      <td>0.0</td>\n",
              "      <td>0.0</td>\n",
              "      <td>0.0</td>\n",
              "      <td>0.0</td>\n",
              "      <td>1.0</td>\n",
              "      <td>0.0</td>\n",
              "      <td>0.0</td>\n",
              "      <td>1.0</td>\n",
              "      <td>0.0</td>\n",
              "      <td>2</td>\n",
              "      <td>67.97</td>\n",
              "      <td>1</td>\n",
              "      <td>0</td>\n",
              "      <td>1</td>\n",
              "    </tr>\n",
              "  </tbody>\n",
              "</table>\n",
              "</div>\n",
              "      <button class=\"colab-df-convert\" onclick=\"convertToInteractive('df-e83b7db7-5e27-4efa-805c-39de7d67908f')\"\n",
              "              title=\"Convert this dataframe to an interactive table.\"\n",
              "              style=\"display:none;\">\n",
              "        \n",
              "  <svg xmlns=\"http://www.w3.org/2000/svg\" height=\"24px\"viewBox=\"0 0 24 24\"\n",
              "       width=\"24px\">\n",
              "    <path d=\"M0 0h24v24H0V0z\" fill=\"none\"/>\n",
              "    <path d=\"M18.56 5.44l.94 2.06.94-2.06 2.06-.94-2.06-.94-.94-2.06-.94 2.06-2.06.94zm-11 1L8.5 8.5l.94-2.06 2.06-.94-2.06-.94L8.5 2.5l-.94 2.06-2.06.94zm10 10l.94 2.06.94-2.06 2.06-.94-2.06-.94-.94-2.06-.94 2.06-2.06.94z\"/><path d=\"M17.41 7.96l-1.37-1.37c-.4-.4-.92-.59-1.43-.59-.52 0-1.04.2-1.43.59L10.3 9.45l-7.72 7.72c-.78.78-.78 2.05 0 2.83L4 21.41c.39.39.9.59 1.41.59.51 0 1.02-.2 1.41-.59l7.78-7.78 2.81-2.81c.8-.78.8-2.07 0-2.86zM5.41 20L4 18.59l7.72-7.72 1.47 1.35L5.41 20z\"/>\n",
              "  </svg>\n",
              "      </button>\n",
              "      \n",
              "  <style>\n",
              "    .colab-df-container {\n",
              "      display:flex;\n",
              "      flex-wrap:wrap;\n",
              "      gap: 12px;\n",
              "    }\n",
              "\n",
              "    .colab-df-convert {\n",
              "      background-color: #E8F0FE;\n",
              "      border: none;\n",
              "      border-radius: 50%;\n",
              "      cursor: pointer;\n",
              "      display: none;\n",
              "      fill: #1967D2;\n",
              "      height: 32px;\n",
              "      padding: 0 0 0 0;\n",
              "      width: 32px;\n",
              "    }\n",
              "\n",
              "    .colab-df-convert:hover {\n",
              "      background-color: #E2EBFA;\n",
              "      box-shadow: 0px 1px 2px rgba(60, 64, 67, 0.3), 0px 1px 3px 1px rgba(60, 64, 67, 0.15);\n",
              "      fill: #174EA6;\n",
              "    }\n",
              "\n",
              "    [theme=dark] .colab-df-convert {\n",
              "      background-color: #3B4455;\n",
              "      fill: #D2E3FC;\n",
              "    }\n",
              "\n",
              "    [theme=dark] .colab-df-convert:hover {\n",
              "      background-color: #434B5C;\n",
              "      box-shadow: 0px 1px 3px 1px rgba(0, 0, 0, 0.15);\n",
              "      filter: drop-shadow(0px 1px 2px rgba(0, 0, 0, 0.3));\n",
              "      fill: #FFFFFF;\n",
              "    }\n",
              "  </style>\n",
              "\n",
              "      <script>\n",
              "        const buttonEl =\n",
              "          document.querySelector('#df-e83b7db7-5e27-4efa-805c-39de7d67908f button.colab-df-convert');\n",
              "        buttonEl.style.display =\n",
              "          google.colab.kernel.accessAllowed ? 'block' : 'none';\n",
              "\n",
              "        async function convertToInteractive(key) {\n",
              "          const element = document.querySelector('#df-e83b7db7-5e27-4efa-805c-39de7d67908f');\n",
              "          const dataTable =\n",
              "            await google.colab.kernel.invokeFunction('convertToInteractive',\n",
              "                                                     [key], {});\n",
              "          if (!dataTable) return;\n",
              "\n",
              "          const docLinkHtml = 'Like what you see? Visit the ' +\n",
              "            '<a target=\"_blank\" href=https://colab.research.google.com/notebooks/data_table.ipynb>data table notebook</a>'\n",
              "            + ' to learn more about interactive tables.';\n",
              "          element.innerHTML = '';\n",
              "          dataTable['output_type'] = 'display_data';\n",
              "          await google.colab.output.renderOutput(dataTable, element);\n",
              "          const docLink = document.createElement('div');\n",
              "          docLink.innerHTML = docLinkHtml;\n",
              "          element.appendChild(docLink);\n",
              "        }\n",
              "      </script>\n",
              "    </div>\n",
              "  </div>\n",
              "  "
            ]
          },
          "metadata": {},
          "execution_count": 16
        }
      ],
      "source": [
        "X_train.head()"
      ]
    },
    {
      "cell_type": "markdown",
      "metadata": {
        "id": "mdv5rxXTQHdx"
      },
      "source": [
        "# Обучение моделей"
      ]
    },
    {
      "cell_type": "markdown",
      "metadata": {
        "id": "h0rAADtPQHdy"
      },
      "source": [
        "Создадим переменную для записи результатов для различных моделей."
      ]
    },
    {
      "cell_type": "code",
      "execution_count": null,
      "metadata": {
        "id": "SfPHOfZlQHdy"
      },
      "outputs": [],
      "source": [
        "model_predictions = dict()"
      ]
    },
    {
      "cell_type": "markdown",
      "metadata": {
        "id": "eZMXKRXlQHdz"
      },
      "source": [
        "## S-learner"
      ]
    },
    {
      "cell_type": "markdown",
      "metadata": {
        "id": "z474V886QHdz"
      },
      "source": [
        "Данную модель мы уже рассматривали в лонгриде. Ее основная идея в том, что мы обучаем базовую модель. Затем применяем  базовую модель сначала для данных, где указываем, что со всеми клиентами взаимодействовали (t = 1 для всех объектов), и просим вернуть вероятность y = 1 с помощью метода predict proba. На схеме эта часть обозначена через «Применение 1». Потом повторяем процедуру на этих же данных, но указываем, что взаимодействия не было (t = 0). На схеме ниже эта часть подписана «Применение 2». Разница между двумя векторами предсказаний и будет uplift.\n",
        "\n",
        "\n",
        "![image](https://drive.google.com/uc?export=view&id=1x0hYltrTziBxLo1BJLYRM8kE_l2a6k_x)"
      ]
    },
    {
      "cell_type": "markdown",
      "metadata": {
        "id": "V56g-qfHQHd0"
      },
      "source": [
        "Применим uplift-модель solo-model к нашим данным. В качестве базовой модели возьмем Random Forest. Запишем результаты в словарь model_predictions."
      ]
    },
    {
      "cell_type": "code",
      "execution_count": null,
      "metadata": {
        "id": "NDgO_VzmQHd0"
      },
      "outputs": [],
      "source": [
        "model_name = 's_learner'\n",
        "\n",
        "basic_model = RandomForestClassifier(random_state=42)\n",
        "uplift_model = SoloModel(basic_model)\n",
        "uplift_model = uplift_model.fit(X_train, y_train, t_train)\n",
        "\n",
        "model_predictions[model_name] = uplift_model.predict(X_test)"
      ]
    },
    {
      "cell_type": "markdown",
      "metadata": {
        "id": "-HQytVOHQHd1"
      },
      "source": [
        "## Изменение задачи"
      ]
    },
    {
      "cell_type": "markdown",
      "metadata": {
        "id": "gDp5MBQuQHd2"
      },
      "source": [
        "Суть данного подхода заключается к сведению задачи uplift к задаче бинарной классификации либо регрессии по признакам X. Рассмотрим, как можно заменить данный подход на задачу классификации:\n",
        "\n",
        "$$ z =\n",
        "\\begin{equation*}\n",
        " \\begin{cases}\n",
        "   1 &\\text{если y = 1 и t = 1 (подверглись воздействию и совершили целевое действие)}\n",
        "   \\\\\n",
        "   1 &\\text{если y = 0 и t = 0 (не подвергались воздействию и не совершали целевое действие)}\n",
        "   \\\\\n",
        "   0 &\\text{во всех остальных случаях}\n",
        " \\end{cases}\n",
        "\\end{equation*}\n",
        "$$\n",
        "\n",
        "Далее для решения задачи мы можем применять модель бинарной классификации. В этом случае uplift — это уверенность нашей модели, что объект принадлежит классу 1, т. е. результат применения predict proba для класса 1."
      ]
    },
    {
      "cell_type": "markdown",
      "metadata": {
        "id": "UCmlb77FQHd2"
      },
      "source": [
        "Применим этот подход на наших данных. В качестве подобной базовой модели мы будем использовать модель RandomForestClassifier из библиотеки sklearn. В sсikit-uplift уже реализован функционал трансформации задачи, поэтому мы можем самостоятельно не изменять переменную y, а вызвать модель ClassTransformation и передать в нее модель базовую модель."
      ]
    },
    {
      "cell_type": "code",
      "execution_count": null,
      "metadata": {
        "id": "9XJXcQbVQHd3"
      },
      "outputs": [],
      "source": [
        "model_name = 'task_transform'\n",
        "\n",
        "basic_model = RandomForestClassifier(random_state=42)\n",
        "uplift_model = ClassTransformation(basic_model)\n",
        "uplift_model = uplift_model.fit(X_train, y_train, t_train)\n",
        "\n",
        "model_predictions[model_name] = uplift_model.predict(X_test)"
      ]
    },
    {
      "cell_type": "markdown",
      "metadata": {
        "id": "pI0lTKiNQHd3"
      },
      "source": [
        "## T-learner"
      ]
    },
    {
      "cell_type": "markdown",
      "metadata": {
        "id": "3DS7-I4_QHd4"
      },
      "source": [
        "Подход с 2 моделями напоминает подход с одной моделью, однако вместо того, чтобы обучать одну базовую модель на всех данных, мы будем обучать 2 модели:\n",
        "- $model_c$ для **контрольной** группы (тех, с кем yt взаимоделйствовали: t = 0)\n",
        "- $model_c$ для **тестовой** группы (тех, с кем yt взаимоделйствовали: t = 1)\n",
        "\n",
        "\n",
        "В нашем случае $n = n_c + n_t$,\n",
        "где $n$ — размер выборки train, $n_c$ — размер контрольной (с кем не было взаимодействия) выборки для обучения, $n_t$ — размер тестовой (с кем было взаимодействие) выборки для обучения.\n",
        "![image](https://drive.google.com/uc?export=view&id=1RG-1Djmoa_k194aHPITsz4wlNMgAYA-E)"
      ]
    },
    {
      "cell_type": "markdown",
      "metadata": {
        "id": "7Yu40c4xQHd4"
      },
      "source": [
        "Для получения вектора uplift применим наши модели на тестовых данных, как и в случае с Solo Model. Только в отличии от solo model мы не будем добавлять отдельный вектор взаимодействия к признакам, а будем использовать 2 независимые модели. Разница между двумя векторами predict proba и будет uplift для этой модели.\n",
        "\n",
        "![image](https://drive.google.com/uc?export=view&id=1_4huBAFr7Yq4sK49Wuwx0RAe7k3K9NhN)"
      ]
    },
    {
      "cell_type": "markdown",
      "metadata": {
        "id": "Z8XQyOlMQHd4"
      },
      "source": [
        "**ВНИМАНИЕ!**\n",
        "\n",
        "$n_t$ — это размер тестовой подвыборки обучающей выборки. На ней мы обучаем модель $model_t$. В нашем коде нет отдельной переменной для хранения тестовой подвыборки обучающей выборки, так как она создается сама внутри модели TwoModels библиотеки scikit-uplift.\n",
        "\n",
        "$n_{val}$ — размер валидационной выборки для проверки нашей модели. В коде для более привычного вида обозначено через X_test, y_test, t_test, как и в классическом машинном обучении."
      ]
    },
    {
      "cell_type": "markdown",
      "metadata": {
        "id": "LOFQRmjXQHd5"
      },
      "source": [
        "Применим подход TwoModels для наших данных."
      ]
    },
    {
      "cell_type": "code",
      "execution_count": null,
      "metadata": {
        "id": "U8CmyOiBQHd5"
      },
      "outputs": [],
      "source": [
        "model_name = 't_learner'\n",
        "\n",
        "basic_model_control = RandomForestClassifier(random_state=42)\n",
        "basic_model_test = RandomForestClassifier(random_state=42)\n",
        "\n",
        "uplift_model = TwoModels(basic_model_test, basic_model_control, method='vanilla')\n",
        "uplift_model = uplift_model.fit(X_train, y_train, t_train)\n",
        "\n",
        "model_predictions[model_name] = uplift_model.predict(X_test)"
      ]
    },
    {
      "cell_type": "markdown",
      "metadata": {
        "id": "s9q5kJ0HQHd6"
      },
      "source": [
        "# Оценка качества модели"
      ]
    },
    {
      "cell_type": "markdown",
      "metadata": {
        "id": "xwXYsL3PQHd6"
      },
      "source": [
        "Для оценки качества наших моделей мы будем применять метрику **uplift@k**. Данная метрика измеряется в диапазоне от –1 до 1, где 1 — самый лучший вариант, а –1 — абсолютно неверная работающая модель. Если значение метрики 0, то наша модель работает эквивалентно случайной модели. Данная модель крайне редко получает высокие значения, близкие к 1, поэтому результат больше 0.05 уже считается неслучайным.  \n",
        "\n",
        "Суть данного подхода в следующем:\n",
        "1. Берем k объектов с самым высоким uplift из нашей отложенной выборки для проверки. k — это или количество объектов, или доля объектов от общей выборки\n",
        "2. Делим получившуюся подвыборку на контроль (t = 0) и тест (t = 1)\n",
        "3. Рассчитываем средний таргет $y$ для каждой группы отдельно\n",
        "4. Находим разницу\n",
        "\n",
        "$$ uplift@k = \\bar{y}_{k \\space test} - \\bar{y}_{k \\space control} $$\n",
        "\n",
        "$$ \\bar{y}_k = \\frac{1}{n} \\sum_{i=1}^{k}{uplift_i,}  $$\n",
        "\n",
        "где $uplift_i$ — $i$-й объект uplift-вектора, отсортированного в порядке убывания (лучшие объекты идут вначале). Данный подход называется **uplift@k** общий, или overall.\n",
        "\n",
        "Существует также второй способ рассчитать **uplift@k**. Он называется подход по группам. Разница с overall-подходом в том, что мы в подходе по группам мы сначала разбиваем данные не тест и контроль, а уже потом отбираем лучшие k объектов.\n",
        "\n",
        "\n",
        "Более подробно про эту и другие метрики вы прочитать в туториал на Habr: https://habr.com/ru/company/ru_mts/blog/538934."
      ]
    },
    {
      "cell_type": "markdown",
      "metadata": {
        "id": "YhfxoYdOQHd7"
      },
      "source": [
        "Рассчитаем оба варианта метрики uplift@k для наших данных. В качестве k будем брать 20 % наших лучших предсказаний."
      ]
    },
    {
      "cell_type": "code",
      "execution_count": null,
      "metadata": {
        "colab": {
          "base_uri": "https://localhost:8080/",
          "height": 161
        },
        "id": "8wiJ0cizQHd7",
        "outputId": "c062ddde-d80d-41db-8f4e-6ed0350785cb"
      },
      "outputs": [
        {
          "output_type": "stream",
          "name": "stdout",
          "text": [
            "uplift@k\n"
          ]
        },
        {
          "output_type": "execute_result",
          "data": {
            "text/plain": [
              "                 up@k_gr  up@k_over\n",
              "s_learner       0.052072   0.052598\n",
              "task_transform  0.071552   0.071409\n",
              "t_learner       0.060676   0.058424"
            ],
            "text/html": [
              "\n",
              "  <div id=\"df-31bf37b8-5a2c-4df9-8c3a-6343d2f91ac9\">\n",
              "    <div class=\"colab-df-container\">\n",
              "      <div>\n",
              "<style scoped>\n",
              "    .dataframe tbody tr th:only-of-type {\n",
              "        vertical-align: middle;\n",
              "    }\n",
              "\n",
              "    .dataframe tbody tr th {\n",
              "        vertical-align: top;\n",
              "    }\n",
              "\n",
              "    .dataframe thead th {\n",
              "        text-align: right;\n",
              "    }\n",
              "</style>\n",
              "<table border=\"1\" class=\"dataframe\">\n",
              "  <thead>\n",
              "    <tr style=\"text-align: right;\">\n",
              "      <th></th>\n",
              "      <th>up@k_gr</th>\n",
              "      <th>up@k_over</th>\n",
              "    </tr>\n",
              "  </thead>\n",
              "  <tbody>\n",
              "    <tr>\n",
              "      <th>s_learner</th>\n",
              "      <td>0.052072</td>\n",
              "      <td>0.052598</td>\n",
              "    </tr>\n",
              "    <tr>\n",
              "      <th>task_transform</th>\n",
              "      <td>0.071552</td>\n",
              "      <td>0.071409</td>\n",
              "    </tr>\n",
              "    <tr>\n",
              "      <th>t_learner</th>\n",
              "      <td>0.060676</td>\n",
              "      <td>0.058424</td>\n",
              "    </tr>\n",
              "  </tbody>\n",
              "</table>\n",
              "</div>\n",
              "      <button class=\"colab-df-convert\" onclick=\"convertToInteractive('df-31bf37b8-5a2c-4df9-8c3a-6343d2f91ac9')\"\n",
              "              title=\"Convert this dataframe to an interactive table.\"\n",
              "              style=\"display:none;\">\n",
              "        \n",
              "  <svg xmlns=\"http://www.w3.org/2000/svg\" height=\"24px\"viewBox=\"0 0 24 24\"\n",
              "       width=\"24px\">\n",
              "    <path d=\"M0 0h24v24H0V0z\" fill=\"none\"/>\n",
              "    <path d=\"M18.56 5.44l.94 2.06.94-2.06 2.06-.94-2.06-.94-.94-2.06-.94 2.06-2.06.94zm-11 1L8.5 8.5l.94-2.06 2.06-.94-2.06-.94L8.5 2.5l-.94 2.06-2.06.94zm10 10l.94 2.06.94-2.06 2.06-.94-2.06-.94-.94-2.06-.94 2.06-2.06.94z\"/><path d=\"M17.41 7.96l-1.37-1.37c-.4-.4-.92-.59-1.43-.59-.52 0-1.04.2-1.43.59L10.3 9.45l-7.72 7.72c-.78.78-.78 2.05 0 2.83L4 21.41c.39.39.9.59 1.41.59.51 0 1.02-.2 1.41-.59l7.78-7.78 2.81-2.81c.8-.78.8-2.07 0-2.86zM5.41 20L4 18.59l7.72-7.72 1.47 1.35L5.41 20z\"/>\n",
              "  </svg>\n",
              "      </button>\n",
              "      \n",
              "  <style>\n",
              "    .colab-df-container {\n",
              "      display:flex;\n",
              "      flex-wrap:wrap;\n",
              "      gap: 12px;\n",
              "    }\n",
              "\n",
              "    .colab-df-convert {\n",
              "      background-color: #E8F0FE;\n",
              "      border: none;\n",
              "      border-radius: 50%;\n",
              "      cursor: pointer;\n",
              "      display: none;\n",
              "      fill: #1967D2;\n",
              "      height: 32px;\n",
              "      padding: 0 0 0 0;\n",
              "      width: 32px;\n",
              "    }\n",
              "\n",
              "    .colab-df-convert:hover {\n",
              "      background-color: #E2EBFA;\n",
              "      box-shadow: 0px 1px 2px rgba(60, 64, 67, 0.3), 0px 1px 3px 1px rgba(60, 64, 67, 0.15);\n",
              "      fill: #174EA6;\n",
              "    }\n",
              "\n",
              "    [theme=dark] .colab-df-convert {\n",
              "      background-color: #3B4455;\n",
              "      fill: #D2E3FC;\n",
              "    }\n",
              "\n",
              "    [theme=dark] .colab-df-convert:hover {\n",
              "      background-color: #434B5C;\n",
              "      box-shadow: 0px 1px 3px 1px rgba(0, 0, 0, 0.15);\n",
              "      filter: drop-shadow(0px 1px 2px rgba(0, 0, 0, 0.3));\n",
              "      fill: #FFFFFF;\n",
              "    }\n",
              "  </style>\n",
              "\n",
              "      <script>\n",
              "        const buttonEl =\n",
              "          document.querySelector('#df-31bf37b8-5a2c-4df9-8c3a-6343d2f91ac9 button.colab-df-convert');\n",
              "        buttonEl.style.display =\n",
              "          google.colab.kernel.accessAllowed ? 'block' : 'none';\n",
              "\n",
              "        async function convertToInteractive(key) {\n",
              "          const element = document.querySelector('#df-31bf37b8-5a2c-4df9-8c3a-6343d2f91ac9');\n",
              "          const dataTable =\n",
              "            await google.colab.kernel.invokeFunction('convertToInteractive',\n",
              "                                                     [key], {});\n",
              "          if (!dataTable) return;\n",
              "\n",
              "          const docLinkHtml = 'Like what you see? Visit the ' +\n",
              "            '<a target=\"_blank\" href=https://colab.research.google.com/notebooks/data_table.ipynb>data table notebook</a>'\n",
              "            + ' to learn more about interactive tables.';\n",
              "          element.innerHTML = '';\n",
              "          dataTable['output_type'] = 'display_data';\n",
              "          await google.colab.output.renderOutput(dataTable, element);\n",
              "          const docLink = document.createElement('div');\n",
              "          docLink.innerHTML = docLinkHtml;\n",
              "          element.appendChild(docLink);\n",
              "        }\n",
              "      </script>\n",
              "    </div>\n",
              "  </div>\n",
              "  "
            ]
          },
          "metadata": {},
          "execution_count": 21
        }
      ],
      "source": [
        "results = dict()\n",
        "\n",
        "for model_name, preds in model_predictions.items():\n",
        "    up_k_best_gr = uplift_at_k(y_true=y_test, uplift=preds, treatment=t_test,\n",
        "                strategy='by_group', k=0.2)\n",
        "\n",
        "    up_k_best_over = uplift_at_k(y_true=y_test, uplift=preds, treatment=t_test,\n",
        "                strategy='overall', k=0.2)\n",
        "\n",
        "    results[model_name] = [up_k_best_gr, up_k_best_over]\n",
        "\n",
        "print(\"uplift@k\")\n",
        "pd.DataFrame(results.values(), index=results.keys(), columns=['up@k_gr', 'up@k_over'])"
      ]
    },
    {
      "cell_type": "markdown",
      "metadata": {
        "id": "cDBPDdz_QHd8"
      },
      "source": [
        "Как видно из таблицы с результатами, на нашем датасете лучше всего себя проявил подход с подменой задачи. Однако так бывает не всегда, и обычно лучшие результаты показывает модель T-learner.\n",
        "\n",
        "# Выводы\n",
        "\n",
        "Мы изучили модели для uplift-моделирования. Основная идея в uplift-моделировании заключается в использовании одной или двух моделей для независимых выборок. Но иногда можно свести задачу к задаче классификации в терминах uplift, что не всегда дает хороший результат.\n",
        "\n",
        "В случаях, когда у нас есть данные о воздействиях на клиентов и совершении ими целевых действий, лучше решать задачу определения, на кого оказывать воздействие в рамках задачи uplift-моделирования. Однако когда подобных данных нет, то можно свести задачу к задаче бинарной классификации, но результат моделирования будет менее точным по сравнению с uplift-подходами."
      ]
    }
  ],
  "metadata": {
    "kernelspec": {
      "display_name": "Python 3",
      "language": "python",
      "name": "python3"
    },
    "language_info": {
      "codemirror_mode": {
        "name": "ipython",
        "version": 3
      },
      "file_extension": ".py",
      "mimetype": "text/x-python",
      "name": "python",
      "nbconvert_exporter": "python",
      "pygments_lexer": "ipython3",
      "version": "3.8.5"
    },
    "colab": {
      "provenance": [],
      "include_colab_link": true
    },
    "widgets": {
      "application/vnd.jupyter.widget-state+json": {
        "151b508f9b814011a8c7f76db160dd7d": {
          "model_module": "@jupyter-widgets/controls",
          "model_name": "HBoxModel",
          "model_module_version": "1.5.0",
          "state": {
            "_dom_classes": [],
            "_model_module": "@jupyter-widgets/controls",
            "_model_module_version": "1.5.0",
            "_model_name": "HBoxModel",
            "_view_count": null,
            "_view_module": "@jupyter-widgets/controls",
            "_view_module_version": "1.5.0",
            "_view_name": "HBoxView",
            "box_style": "",
            "children": [
              "IPY_MODEL_4c8e567f34f04b0a896bc1b67f41f76f",
              "IPY_MODEL_1306af87a66b4440aed62083dfb5c25f",
              "IPY_MODEL_403370668e8e4af6927c4544b89cd11d"
            ],
            "layout": "IPY_MODEL_e2290d4128bc4cceafe001d79553b66e"
          }
        },
        "4c8e567f34f04b0a896bc1b67f41f76f": {
          "model_module": "@jupyter-widgets/controls",
          "model_name": "HTMLModel",
          "model_module_version": "1.5.0",
          "state": {
            "_dom_classes": [],
            "_model_module": "@jupyter-widgets/controls",
            "_model_module_version": "1.5.0",
            "_model_name": "HTMLModel",
            "_view_count": null,
            "_view_module": "@jupyter-widgets/controls",
            "_view_module_version": "1.5.0",
            "_view_name": "HTMLView",
            "description": "",
            "description_tooltip": null,
            "layout": "IPY_MODEL_daf792c09a48463a836199a7c7ed9338",
            "placeholder": "​",
            "style": "IPY_MODEL_82601468c0b74826a32e4033ec31a370",
            "value": "Hillstrom dataset: 100%"
          }
        },
        "1306af87a66b4440aed62083dfb5c25f": {
          "model_module": "@jupyter-widgets/controls",
          "model_name": "FloatProgressModel",
          "model_module_version": "1.5.0",
          "state": {
            "_dom_classes": [],
            "_model_module": "@jupyter-widgets/controls",
            "_model_module_version": "1.5.0",
            "_model_name": "FloatProgressModel",
            "_view_count": null,
            "_view_module": "@jupyter-widgets/controls",
            "_view_module_version": "1.5.0",
            "_view_name": "ProgressView",
            "bar_style": "success",
            "description": "",
            "description_tooltip": null,
            "layout": "IPY_MODEL_e9ca839730104702891be33eaa6c1240",
            "max": 443070,
            "min": 0,
            "orientation": "horizontal",
            "style": "IPY_MODEL_612a6be79f444513a0afdd39e18d8f1d",
            "value": 443070
          }
        },
        "403370668e8e4af6927c4544b89cd11d": {
          "model_module": "@jupyter-widgets/controls",
          "model_name": "HTMLModel",
          "model_module_version": "1.5.0",
          "state": {
            "_dom_classes": [],
            "_model_module": "@jupyter-widgets/controls",
            "_model_module_version": "1.5.0",
            "_model_name": "HTMLModel",
            "_view_count": null,
            "_view_module": "@jupyter-widgets/controls",
            "_view_module_version": "1.5.0",
            "_view_name": "HTMLView",
            "description": "",
            "description_tooltip": null,
            "layout": "IPY_MODEL_b3bb6b3e587f4bdd8124e8e88488f463",
            "placeholder": "​",
            "style": "IPY_MODEL_19bf0dc9c169498bab8e000ca9a6aa81",
            "value": " 443k/443k [00:00&lt;00:00, 1.37MiB/s]"
          }
        },
        "e2290d4128bc4cceafe001d79553b66e": {
          "model_module": "@jupyter-widgets/base",
          "model_name": "LayoutModel",
          "model_module_version": "1.2.0",
          "state": {
            "_model_module": "@jupyter-widgets/base",
            "_model_module_version": "1.2.0",
            "_model_name": "LayoutModel",
            "_view_count": null,
            "_view_module": "@jupyter-widgets/base",
            "_view_module_version": "1.2.0",
            "_view_name": "LayoutView",
            "align_content": null,
            "align_items": null,
            "align_self": null,
            "border": null,
            "bottom": null,
            "display": null,
            "flex": null,
            "flex_flow": null,
            "grid_area": null,
            "grid_auto_columns": null,
            "grid_auto_flow": null,
            "grid_auto_rows": null,
            "grid_column": null,
            "grid_gap": null,
            "grid_row": null,
            "grid_template_areas": null,
            "grid_template_columns": null,
            "grid_template_rows": null,
            "height": null,
            "justify_content": null,
            "justify_items": null,
            "left": null,
            "margin": null,
            "max_height": null,
            "max_width": null,
            "min_height": null,
            "min_width": null,
            "object_fit": null,
            "object_position": null,
            "order": null,
            "overflow": null,
            "overflow_x": null,
            "overflow_y": null,
            "padding": null,
            "right": null,
            "top": null,
            "visibility": null,
            "width": null
          }
        },
        "daf792c09a48463a836199a7c7ed9338": {
          "model_module": "@jupyter-widgets/base",
          "model_name": "LayoutModel",
          "model_module_version": "1.2.0",
          "state": {
            "_model_module": "@jupyter-widgets/base",
            "_model_module_version": "1.2.0",
            "_model_name": "LayoutModel",
            "_view_count": null,
            "_view_module": "@jupyter-widgets/base",
            "_view_module_version": "1.2.0",
            "_view_name": "LayoutView",
            "align_content": null,
            "align_items": null,
            "align_self": null,
            "border": null,
            "bottom": null,
            "display": null,
            "flex": null,
            "flex_flow": null,
            "grid_area": null,
            "grid_auto_columns": null,
            "grid_auto_flow": null,
            "grid_auto_rows": null,
            "grid_column": null,
            "grid_gap": null,
            "grid_row": null,
            "grid_template_areas": null,
            "grid_template_columns": null,
            "grid_template_rows": null,
            "height": null,
            "justify_content": null,
            "justify_items": null,
            "left": null,
            "margin": null,
            "max_height": null,
            "max_width": null,
            "min_height": null,
            "min_width": null,
            "object_fit": null,
            "object_position": null,
            "order": null,
            "overflow": null,
            "overflow_x": null,
            "overflow_y": null,
            "padding": null,
            "right": null,
            "top": null,
            "visibility": null,
            "width": null
          }
        },
        "82601468c0b74826a32e4033ec31a370": {
          "model_module": "@jupyter-widgets/controls",
          "model_name": "DescriptionStyleModel",
          "model_module_version": "1.5.0",
          "state": {
            "_model_module": "@jupyter-widgets/controls",
            "_model_module_version": "1.5.0",
            "_model_name": "DescriptionStyleModel",
            "_view_count": null,
            "_view_module": "@jupyter-widgets/base",
            "_view_module_version": "1.2.0",
            "_view_name": "StyleView",
            "description_width": ""
          }
        },
        "e9ca839730104702891be33eaa6c1240": {
          "model_module": "@jupyter-widgets/base",
          "model_name": "LayoutModel",
          "model_module_version": "1.2.0",
          "state": {
            "_model_module": "@jupyter-widgets/base",
            "_model_module_version": "1.2.0",
            "_model_name": "LayoutModel",
            "_view_count": null,
            "_view_module": "@jupyter-widgets/base",
            "_view_module_version": "1.2.0",
            "_view_name": "LayoutView",
            "align_content": null,
            "align_items": null,
            "align_self": null,
            "border": null,
            "bottom": null,
            "display": null,
            "flex": null,
            "flex_flow": null,
            "grid_area": null,
            "grid_auto_columns": null,
            "grid_auto_flow": null,
            "grid_auto_rows": null,
            "grid_column": null,
            "grid_gap": null,
            "grid_row": null,
            "grid_template_areas": null,
            "grid_template_columns": null,
            "grid_template_rows": null,
            "height": null,
            "justify_content": null,
            "justify_items": null,
            "left": null,
            "margin": null,
            "max_height": null,
            "max_width": null,
            "min_height": null,
            "min_width": null,
            "object_fit": null,
            "object_position": null,
            "order": null,
            "overflow": null,
            "overflow_x": null,
            "overflow_y": null,
            "padding": null,
            "right": null,
            "top": null,
            "visibility": null,
            "width": null
          }
        },
        "612a6be79f444513a0afdd39e18d8f1d": {
          "model_module": "@jupyter-widgets/controls",
          "model_name": "ProgressStyleModel",
          "model_module_version": "1.5.0",
          "state": {
            "_model_module": "@jupyter-widgets/controls",
            "_model_module_version": "1.5.0",
            "_model_name": "ProgressStyleModel",
            "_view_count": null,
            "_view_module": "@jupyter-widgets/base",
            "_view_module_version": "1.2.0",
            "_view_name": "StyleView",
            "bar_color": null,
            "description_width": ""
          }
        },
        "b3bb6b3e587f4bdd8124e8e88488f463": {
          "model_module": "@jupyter-widgets/base",
          "model_name": "LayoutModel",
          "model_module_version": "1.2.0",
          "state": {
            "_model_module": "@jupyter-widgets/base",
            "_model_module_version": "1.2.0",
            "_model_name": "LayoutModel",
            "_view_count": null,
            "_view_module": "@jupyter-widgets/base",
            "_view_module_version": "1.2.0",
            "_view_name": "LayoutView",
            "align_content": null,
            "align_items": null,
            "align_self": null,
            "border": null,
            "bottom": null,
            "display": null,
            "flex": null,
            "flex_flow": null,
            "grid_area": null,
            "grid_auto_columns": null,
            "grid_auto_flow": null,
            "grid_auto_rows": null,
            "grid_column": null,
            "grid_gap": null,
            "grid_row": null,
            "grid_template_areas": null,
            "grid_template_columns": null,
            "grid_template_rows": null,
            "height": null,
            "justify_content": null,
            "justify_items": null,
            "left": null,
            "margin": null,
            "max_height": null,
            "max_width": null,
            "min_height": null,
            "min_width": null,
            "object_fit": null,
            "object_position": null,
            "order": null,
            "overflow": null,
            "overflow_x": null,
            "overflow_y": null,
            "padding": null,
            "right": null,
            "top": null,
            "visibility": null,
            "width": null
          }
        },
        "19bf0dc9c169498bab8e000ca9a6aa81": {
          "model_module": "@jupyter-widgets/controls",
          "model_name": "DescriptionStyleModel",
          "model_module_version": "1.5.0",
          "state": {
            "_model_module": "@jupyter-widgets/controls",
            "_model_module_version": "1.5.0",
            "_model_name": "DescriptionStyleModel",
            "_view_count": null,
            "_view_module": "@jupyter-widgets/base",
            "_view_module_version": "1.2.0",
            "_view_name": "StyleView",
            "description_width": ""
          }
        }
      }
    }
  },
  "nbformat": 4,
  "nbformat_minor": 0
}