{
  "nbformat": 4,
  "nbformat_minor": 0,
  "metadata": {
    "colab": {
      "provenance": [],
      "include_colab_link": true
    },
    "kernelspec": {
      "name": "python3",
      "display_name": "Python 3"
    },
    "language_info": {
      "name": "python"
    }
  },
  "cells": [
    {
      "cell_type": "markdown",
      "metadata": {
        "id": "view-in-github",
        "colab_type": "text"
      },
      "source": [
        "<a href=\"https://colab.research.google.com/github/AlexeyK12/Data_scientist-Sberuniversity/blob/main/%D0%9C%D0%B5%D1%82%D0%BE%D0%B4%D1%8B_%D1%80%D0%B5%D1%88%D0%B5%D0%BD%D0%B8%D1%8F_%D0%B7%D0%B0%D0%B4%D0%B0%D1%87%D0%B8_%D1%80%D0%B5%D0%B3%D1%80%D0%B5%D1%81%D1%81%D0%B8%D0%B8.ipynb\" target=\"_parent\"><img src=\"https://colab.research.google.com/assets/colab-badge.svg\" alt=\"Open In Colab\"/></a>"
      ]
    },
    {
      "cell_type": "markdown",
      "source": [
        "# Регрессия\n",
        "\n"
      ],
      "metadata": {
        "id": "JG1eEYd3hAhI"
      }
    },
    {
      "cell_type": "markdown",
      "source": [
        "## План\n",
        "\n",
        "В данном примере разберем решение задачи регрессии с помощью следующих алгоритмов:\n",
        "* Линейная регрессия (без $L_1$- или $L_2$-регуляризации и с ними)\n",
        "* Метод k-ближайших соседей\n",
        "* Решающее дерево\n",
        "* Случайный лес\n",
        "\n",
        "Для всех алгоритмов при сравнении будем проводить подбор гиперпараметров.  \n",
        "\n"
      ],
      "metadata": {
        "id": "u94dcebmcbMa"
      }
    },
    {
      "cell_type": "markdown",
      "source": [
        "Будем работать с данными с платформы для соревнований по машинному обучению [kaggle](https://www.kaggle.com/). Данные и их описание представлены [здесь](https://www.kaggle.com/datasets/hellbuoy/car-price-prediction?resource=download).\n",
        "\n",
        "Данные можно скачать двумя способами:\n",
        "1. Скачать данные с Kaggle, в Google Colab нажать слева значок папки и перетащить данные туда\n",
        "2. С помощью Kaggle API"
      ],
      "metadata": {
        "id": "iIHRoXrbcYxs"
      }
    },
    {
      "cell_type": "markdown",
      "source": [
        "# Скачивание данных с Kaggle API"
      ],
      "metadata": {
        "id": "8pVUrhInlBmh"
      }
    },
    {
      "cell_type": "markdown",
      "source": [
        "Для этого нужно:\n",
        "  - Зарегистрироваться на [kaggle](https://www.kaggle.com/) (можно используя Google-аккаунт)\n",
        "  - Перейти в `Account` -> `Create New API Token`. Это скачает файл `kaggle.json`\n",
        "  - Перейти в Google Colab"
      ],
      "metadata": {
        "id": "nFIt7WqNlB-b"
      }
    },
    {
      "cell_type": "markdown",
      "source": [
        "- Монтируем диск"
      ],
      "metadata": {
        "id": "oa8A-k_HlTlY"
      }
    },
    {
      "cell_type": "code",
      "source": [
        "from google.colab import drive\n",
        "drive.mount('/content/gdrive')"
      ],
      "metadata": {
        "colab": {
          "base_uri": "https://localhost:8080/"
        },
        "id": "2XqYfifMeeHD",
        "outputId": "51f74947-0f3e-4719-f602-c06c975e9123"
      },
      "execution_count": null,
      "outputs": [
        {
          "output_type": "stream",
          "name": "stdout",
          "text": [
            "Drive already mounted at /content/gdrive; to attempt to forcibly remount, call drive.mount(\"/content/gdrive\", force_remount=True).\n"
          ]
        }
      ]
    },
    {
      "cell_type": "markdown",
      "source": [
        "- Загружаем `kaggle.json`"
      ],
      "metadata": {
        "id": "oSe2YT8FlYTh"
      }
    },
    {
      "cell_type": "code",
      "source": [
        "from google.colab import files\n",
        "files.upload()"
      ],
      "metadata": {
        "colab": {
          "base_uri": "https://localhost:8080/",
          "height": 91
        },
        "id": "-wrAzX5jfwEi",
        "outputId": "31a22c22-21d3-4566-f2a3-89d283a7498b"
      },
      "execution_count": null,
      "outputs": [
        {
          "output_type": "display_data",
          "data": {
            "text/plain": [
              "<IPython.core.display.HTML object>"
            ],
            "text/html": [
              "\n",
              "     <input type=\"file\" id=\"files-20379d3a-584c-4256-8d6a-bede517980f3\" name=\"files[]\" multiple disabled\n",
              "        style=\"border:none\" />\n",
              "     <output id=\"result-20379d3a-584c-4256-8d6a-bede517980f3\">\n",
              "      Upload widget is only available when the cell has been executed in the\n",
              "      current browser session. Please rerun this cell to enable.\n",
              "      </output>\n",
              "      <script>// Copyright 2017 Google LLC\n",
              "//\n",
              "// Licensed under the Apache License, Version 2.0 (the \"License\");\n",
              "// you may not use this file except in compliance with the License.\n",
              "// You may obtain a copy of the License at\n",
              "//\n",
              "//      http://www.apache.org/licenses/LICENSE-2.0\n",
              "//\n",
              "// Unless required by applicable law or agreed to in writing, software\n",
              "// distributed under the License is distributed on an \"AS IS\" BASIS,\n",
              "// WITHOUT WARRANTIES OR CONDITIONS OF ANY KIND, either express or implied.\n",
              "// See the License for the specific language governing permissions and\n",
              "// limitations under the License.\n",
              "\n",
              "/**\n",
              " * @fileoverview Helpers for google.colab Python module.\n",
              " */\n",
              "(function(scope) {\n",
              "function span(text, styleAttributes = {}) {\n",
              "  const element = document.createElement('span');\n",
              "  element.textContent = text;\n",
              "  for (const key of Object.keys(styleAttributes)) {\n",
              "    element.style[key] = styleAttributes[key];\n",
              "  }\n",
              "  return element;\n",
              "}\n",
              "\n",
              "// Max number of bytes which will be uploaded at a time.\n",
              "const MAX_PAYLOAD_SIZE = 100 * 1024;\n",
              "\n",
              "function _uploadFiles(inputId, outputId) {\n",
              "  const steps = uploadFilesStep(inputId, outputId);\n",
              "  const outputElement = document.getElementById(outputId);\n",
              "  // Cache steps on the outputElement to make it available for the next call\n",
              "  // to uploadFilesContinue from Python.\n",
              "  outputElement.steps = steps;\n",
              "\n",
              "  return _uploadFilesContinue(outputId);\n",
              "}\n",
              "\n",
              "// This is roughly an async generator (not supported in the browser yet),\n",
              "// where there are multiple asynchronous steps and the Python side is going\n",
              "// to poll for completion of each step.\n",
              "// This uses a Promise to block the python side on completion of each step,\n",
              "// then passes the result of the previous step as the input to the next step.\n",
              "function _uploadFilesContinue(outputId) {\n",
              "  const outputElement = document.getElementById(outputId);\n",
              "  const steps = outputElement.steps;\n",
              "\n",
              "  const next = steps.next(outputElement.lastPromiseValue);\n",
              "  return Promise.resolve(next.value.promise).then((value) => {\n",
              "    // Cache the last promise value to make it available to the next\n",
              "    // step of the generator.\n",
              "    outputElement.lastPromiseValue = value;\n",
              "    return next.value.response;\n",
              "  });\n",
              "}\n",
              "\n",
              "/**\n",
              " * Generator function which is called between each async step of the upload\n",
              " * process.\n",
              " * @param {string} inputId Element ID of the input file picker element.\n",
              " * @param {string} outputId Element ID of the output display.\n",
              " * @return {!Iterable<!Object>} Iterable of next steps.\n",
              " */\n",
              "function* uploadFilesStep(inputId, outputId) {\n",
              "  const inputElement = document.getElementById(inputId);\n",
              "  inputElement.disabled = false;\n",
              "\n",
              "  const outputElement = document.getElementById(outputId);\n",
              "  outputElement.innerHTML = '';\n",
              "\n",
              "  const pickedPromise = new Promise((resolve) => {\n",
              "    inputElement.addEventListener('change', (e) => {\n",
              "      resolve(e.target.files);\n",
              "    });\n",
              "  });\n",
              "\n",
              "  const cancel = document.createElement('button');\n",
              "  inputElement.parentElement.appendChild(cancel);\n",
              "  cancel.textContent = 'Cancel upload';\n",
              "  const cancelPromise = new Promise((resolve) => {\n",
              "    cancel.onclick = () => {\n",
              "      resolve(null);\n",
              "    };\n",
              "  });\n",
              "\n",
              "  // Wait for the user to pick the files.\n",
              "  const files = yield {\n",
              "    promise: Promise.race([pickedPromise, cancelPromise]),\n",
              "    response: {\n",
              "      action: 'starting',\n",
              "    }\n",
              "  };\n",
              "\n",
              "  cancel.remove();\n",
              "\n",
              "  // Disable the input element since further picks are not allowed.\n",
              "  inputElement.disabled = true;\n",
              "\n",
              "  if (!files) {\n",
              "    return {\n",
              "      response: {\n",
              "        action: 'complete',\n",
              "      }\n",
              "    };\n",
              "  }\n",
              "\n",
              "  for (const file of files) {\n",
              "    const li = document.createElement('li');\n",
              "    li.append(span(file.name, {fontWeight: 'bold'}));\n",
              "    li.append(span(\n",
              "        `(${file.type || 'n/a'}) - ${file.size} bytes, ` +\n",
              "        `last modified: ${\n",
              "            file.lastModifiedDate ? file.lastModifiedDate.toLocaleDateString() :\n",
              "                                    'n/a'} - `));\n",
              "    const percent = span('0% done');\n",
              "    li.appendChild(percent);\n",
              "\n",
              "    outputElement.appendChild(li);\n",
              "\n",
              "    const fileDataPromise = new Promise((resolve) => {\n",
              "      const reader = new FileReader();\n",
              "      reader.onload = (e) => {\n",
              "        resolve(e.target.result);\n",
              "      };\n",
              "      reader.readAsArrayBuffer(file);\n",
              "    });\n",
              "    // Wait for the data to be ready.\n",
              "    let fileData = yield {\n",
              "      promise: fileDataPromise,\n",
              "      response: {\n",
              "        action: 'continue',\n",
              "      }\n",
              "    };\n",
              "\n",
              "    // Use a chunked sending to avoid message size limits. See b/62115660.\n",
              "    let position = 0;\n",
              "    do {\n",
              "      const length = Math.min(fileData.byteLength - position, MAX_PAYLOAD_SIZE);\n",
              "      const chunk = new Uint8Array(fileData, position, length);\n",
              "      position += length;\n",
              "\n",
              "      const base64 = btoa(String.fromCharCode.apply(null, chunk));\n",
              "      yield {\n",
              "        response: {\n",
              "          action: 'append',\n",
              "          file: file.name,\n",
              "          data: base64,\n",
              "        },\n",
              "      };\n",
              "\n",
              "      let percentDone = fileData.byteLength === 0 ?\n",
              "          100 :\n",
              "          Math.round((position / fileData.byteLength) * 100);\n",
              "      percent.textContent = `${percentDone}% done`;\n",
              "\n",
              "    } while (position < fileData.byteLength);\n",
              "  }\n",
              "\n",
              "  // All done.\n",
              "  yield {\n",
              "    response: {\n",
              "      action: 'complete',\n",
              "    }\n",
              "  };\n",
              "}\n",
              "\n",
              "scope.google = scope.google || {};\n",
              "scope.google.colab = scope.google.colab || {};\n",
              "scope.google.colab._files = {\n",
              "  _uploadFiles,\n",
              "  _uploadFilesContinue,\n",
              "};\n",
              "})(self);\n",
              "</script> "
            ]
          },
          "metadata": {}
        },
        {
          "output_type": "stream",
          "name": "stdout",
          "text": [
            "Saving kaggle.json to kaggle (3).json\n"
          ]
        },
        {
          "output_type": "execute_result",
          "data": {
            "text/plain": [
              "{'kaggle.json': b'{\"username\":\"rogulina\",\"key\":\"9cec35de6d210241a0575962c48f98fa\"}'}"
            ]
          },
          "metadata": {},
          "execution_count": 2
        }
      ]
    },
    {
      "cell_type": "markdown",
      "source": [
        "- чтобы убедиться, что файл загрузился, выполните код в ячейке ниже (должен вывестись путь к файлу)"
      ],
      "metadata": {
        "id": "P000HAkhleAy"
      }
    },
    {
      "cell_type": "code",
      "source": [
        "!ls -lha kaggle.json"
      ],
      "metadata": {
        "colab": {
          "base_uri": "https://localhost:8080/"
        },
        "id": "yZZL70cDkV-d",
        "outputId": "83ef6dba-f4fc-4d0c-8ea3-71d1bd1da834"
      },
      "execution_count": null,
      "outputs": [
        {
          "output_type": "stream",
          "name": "stdout",
          "text": [
            "-rw-r--r-- 1 root root 64 Nov  8 13:22 kaggle.json\n"
          ]
        }
      ]
    },
    {
      "cell_type": "markdown",
      "source": [
        "- Установка **Kaggle API client**"
      ],
      "metadata": {
        "id": "_KShT2CxlnVW"
      }
    },
    {
      "cell_type": "code",
      "source": [
        "!pip install -q kaggle"
      ],
      "metadata": {
        "id": "7gj8POO0kV6g"
      },
      "execution_count": null,
      "outputs": []
    },
    {
      "cell_type": "markdown",
      "source": [
        "- **Kaggle API client** ожидает, что файлы с данными будут в `~/.kaggle`. Создадим такую папку и скопируем туда наш файл `kaggle.json`"
      ],
      "metadata": {
        "id": "CDDAJpWxluqb"
      }
    },
    {
      "cell_type": "code",
      "source": [
        "!mkdir -p ~/.kaggle\n",
        "!cp kaggle.json ~/.kaggle/"
      ],
      "metadata": {
        "id": "VPAY6IrAkV4h"
      },
      "execution_count": null,
      "outputs": []
    },
    {
      "cell_type": "markdown",
      "source": [
        "- Предоставим необходимые права (на чтение файла)"
      ],
      "metadata": {
        "id": "_zcslFe_mBlh"
      }
    },
    {
      "cell_type": "code",
      "source": [
        "!chmod 600 /root/.kaggle/kaggle.json"
      ],
      "metadata": {
        "id": "JweK8VAukV25"
      },
      "execution_count": null,
      "outputs": []
    },
    {
      "cell_type": "markdown",
      "source": [
        "- Загрузим данные"
      ],
      "metadata": {
        "id": "yRcl4MuMmJro"
      }
    },
    {
      "cell_type": "code",
      "source": [
        "!kaggle datasets download -d hellbuoy/car-price-prediction"
      ],
      "metadata": {
        "colab": {
          "base_uri": "https://localhost:8080/"
        },
        "id": "131_BhoMfdqH",
        "outputId": "9152e343-4f51-42a7-c353-fd8dfe4892c3"
      },
      "execution_count": null,
      "outputs": [
        {
          "output_type": "stream",
          "name": "stdout",
          "text": [
            "car-price-prediction.zip: Skipping, found more recently modified local copy (use --force to force download)\n"
          ]
        }
      ]
    },
    {
      "cell_type": "markdown",
      "source": [
        "## Вне зависимости от способа скачивания файлов распакуем архив с помощью команды\n",
        "```\n",
        "!unzip <название_архива>.zip\n",
        "```"
      ],
      "metadata": {
        "id": "W7eTJF8_mTLJ"
      }
    },
    {
      "cell_type": "code",
      "source": [
        "# Если данные были скачаны с помощью kaggle API:\n",
        "!unzip car-price-prediction.zip\n",
        "\n",
        "# иначе\n",
        "# !unzip archive.zip"
      ],
      "metadata": {
        "colab": {
          "base_uri": "https://localhost:8080/"
        },
        "id": "k6gIxwXDmitD",
        "outputId": "5abf1bb0-d85c-430d-d2cc-eb20f277d8e1"
      },
      "execution_count": null,
      "outputs": [
        {
          "output_type": "stream",
          "name": "stdout",
          "text": [
            "Archive:  car-price-prediction.zip\n",
            "replace CarPrice_Assignment.csv? [y]es, [n]o, [A]ll, [N]one, [r]ename: A\n",
            "  inflating: CarPrice_Assignment.csv  \n",
            "  inflating: Data Dictionary - carprices.xlsx  \n"
          ]
        }
      ]
    },
    {
      "cell_type": "code",
      "source": [
        "# Уберем предупреждения, чтобы они не загромождали вывод\n",
        "\n",
        "import warnings\n",
        "warnings.filterwarnings('ignore')"
      ],
      "metadata": {
        "id": "iMEb00t73MDD"
      },
      "execution_count": null,
      "outputs": []
    },
    {
      "cell_type": "markdown",
      "source": [
        "# Чтение и анализ данных"
      ],
      "metadata": {
        "id": "djqKtafWsYrT"
      }
    },
    {
      "cell_type": "code",
      "source": [
        "import pandas as pd\n",
        "\n",
        "df = pd.read_csv(\"CarPrice_Assignment.csv\")\n",
        "print(df.shape)\n",
        "df.head()"
      ],
      "metadata": {
        "colab": {
          "base_uri": "https://localhost:8080/",
          "height": 369
        },
        "id": "ecCoYnGenRl0",
        "outputId": "c66e91dd-6f42-487e-b49e-7ef1dcd0ffe5"
      },
      "execution_count": null,
      "outputs": [
        {
          "output_type": "stream",
          "name": "stdout",
          "text": [
            "(205, 26)\n"
          ]
        },
        {
          "output_type": "execute_result",
          "data": {
            "text/plain": [
              "   car_ID  symboling                   CarName fueltype aspiration doornumber  \\\n",
              "0       1          3        alfa-romero giulia      gas        std        two   \n",
              "1       2          3       alfa-romero stelvio      gas        std        two   \n",
              "2       3          1  alfa-romero Quadrifoglio      gas        std        two   \n",
              "3       4          2               audi 100 ls      gas        std       four   \n",
              "4       5          2                audi 100ls      gas        std       four   \n",
              "\n",
              "       carbody drivewheel enginelocation  wheelbase  ...  enginesize  \\\n",
              "0  convertible        rwd          front       88.6  ...         130   \n",
              "1  convertible        rwd          front       88.6  ...         130   \n",
              "2    hatchback        rwd          front       94.5  ...         152   \n",
              "3        sedan        fwd          front       99.8  ...         109   \n",
              "4        sedan        4wd          front       99.4  ...         136   \n",
              "\n",
              "   fuelsystem  boreratio  stroke compressionratio horsepower  peakrpm citympg  \\\n",
              "0        mpfi       3.47    2.68              9.0        111     5000      21   \n",
              "1        mpfi       3.47    2.68              9.0        111     5000      21   \n",
              "2        mpfi       2.68    3.47              9.0        154     5000      19   \n",
              "3        mpfi       3.19    3.40             10.0        102     5500      24   \n",
              "4        mpfi       3.19    3.40              8.0        115     5500      18   \n",
              "\n",
              "   highwaympg    price  \n",
              "0          27  13495.0  \n",
              "1          27  16500.0  \n",
              "2          26  16500.0  \n",
              "3          30  13950.0  \n",
              "4          22  17450.0  \n",
              "\n",
              "[5 rows x 26 columns]"
            ],
            "text/html": [
              "\n",
              "  <div id=\"df-42bf5150-7c47-4f7a-a734-ea8650cd2ca2\">\n",
              "    <div class=\"colab-df-container\">\n",
              "      <div>\n",
              "<style scoped>\n",
              "    .dataframe tbody tr th:only-of-type {\n",
              "        vertical-align: middle;\n",
              "    }\n",
              "\n",
              "    .dataframe tbody tr th {\n",
              "        vertical-align: top;\n",
              "    }\n",
              "\n",
              "    .dataframe thead th {\n",
              "        text-align: right;\n",
              "    }\n",
              "</style>\n",
              "<table border=\"1\" class=\"dataframe\">\n",
              "  <thead>\n",
              "    <tr style=\"text-align: right;\">\n",
              "      <th></th>\n",
              "      <th>car_ID</th>\n",
              "      <th>symboling</th>\n",
              "      <th>CarName</th>\n",
              "      <th>fueltype</th>\n",
              "      <th>aspiration</th>\n",
              "      <th>doornumber</th>\n",
              "      <th>carbody</th>\n",
              "      <th>drivewheel</th>\n",
              "      <th>enginelocation</th>\n",
              "      <th>wheelbase</th>\n",
              "      <th>...</th>\n",
              "      <th>enginesize</th>\n",
              "      <th>fuelsystem</th>\n",
              "      <th>boreratio</th>\n",
              "      <th>stroke</th>\n",
              "      <th>compressionratio</th>\n",
              "      <th>horsepower</th>\n",
              "      <th>peakrpm</th>\n",
              "      <th>citympg</th>\n",
              "      <th>highwaympg</th>\n",
              "      <th>price</th>\n",
              "    </tr>\n",
              "  </thead>\n",
              "  <tbody>\n",
              "    <tr>\n",
              "      <th>0</th>\n",
              "      <td>1</td>\n",
              "      <td>3</td>\n",
              "      <td>alfa-romero giulia</td>\n",
              "      <td>gas</td>\n",
              "      <td>std</td>\n",
              "      <td>two</td>\n",
              "      <td>convertible</td>\n",
              "      <td>rwd</td>\n",
              "      <td>front</td>\n",
              "      <td>88.6</td>\n",
              "      <td>...</td>\n",
              "      <td>130</td>\n",
              "      <td>mpfi</td>\n",
              "      <td>3.47</td>\n",
              "      <td>2.68</td>\n",
              "      <td>9.0</td>\n",
              "      <td>111</td>\n",
              "      <td>5000</td>\n",
              "      <td>21</td>\n",
              "      <td>27</td>\n",
              "      <td>13495.0</td>\n",
              "    </tr>\n",
              "    <tr>\n",
              "      <th>1</th>\n",
              "      <td>2</td>\n",
              "      <td>3</td>\n",
              "      <td>alfa-romero stelvio</td>\n",
              "      <td>gas</td>\n",
              "      <td>std</td>\n",
              "      <td>two</td>\n",
              "      <td>convertible</td>\n",
              "      <td>rwd</td>\n",
              "      <td>front</td>\n",
              "      <td>88.6</td>\n",
              "      <td>...</td>\n",
              "      <td>130</td>\n",
              "      <td>mpfi</td>\n",
              "      <td>3.47</td>\n",
              "      <td>2.68</td>\n",
              "      <td>9.0</td>\n",
              "      <td>111</td>\n",
              "      <td>5000</td>\n",
              "      <td>21</td>\n",
              "      <td>27</td>\n",
              "      <td>16500.0</td>\n",
              "    </tr>\n",
              "    <tr>\n",
              "      <th>2</th>\n",
              "      <td>3</td>\n",
              "      <td>1</td>\n",
              "      <td>alfa-romero Quadrifoglio</td>\n",
              "      <td>gas</td>\n",
              "      <td>std</td>\n",
              "      <td>two</td>\n",
              "      <td>hatchback</td>\n",
              "      <td>rwd</td>\n",
              "      <td>front</td>\n",
              "      <td>94.5</td>\n",
              "      <td>...</td>\n",
              "      <td>152</td>\n",
              "      <td>mpfi</td>\n",
              "      <td>2.68</td>\n",
              "      <td>3.47</td>\n",
              "      <td>9.0</td>\n",
              "      <td>154</td>\n",
              "      <td>5000</td>\n",
              "      <td>19</td>\n",
              "      <td>26</td>\n",
              "      <td>16500.0</td>\n",
              "    </tr>\n",
              "    <tr>\n",
              "      <th>3</th>\n",
              "      <td>4</td>\n",
              "      <td>2</td>\n",
              "      <td>audi 100 ls</td>\n",
              "      <td>gas</td>\n",
              "      <td>std</td>\n",
              "      <td>four</td>\n",
              "      <td>sedan</td>\n",
              "      <td>fwd</td>\n",
              "      <td>front</td>\n",
              "      <td>99.8</td>\n",
              "      <td>...</td>\n",
              "      <td>109</td>\n",
              "      <td>mpfi</td>\n",
              "      <td>3.19</td>\n",
              "      <td>3.40</td>\n",
              "      <td>10.0</td>\n",
              "      <td>102</td>\n",
              "      <td>5500</td>\n",
              "      <td>24</td>\n",
              "      <td>30</td>\n",
              "      <td>13950.0</td>\n",
              "    </tr>\n",
              "    <tr>\n",
              "      <th>4</th>\n",
              "      <td>5</td>\n",
              "      <td>2</td>\n",
              "      <td>audi 100ls</td>\n",
              "      <td>gas</td>\n",
              "      <td>std</td>\n",
              "      <td>four</td>\n",
              "      <td>sedan</td>\n",
              "      <td>4wd</td>\n",
              "      <td>front</td>\n",
              "      <td>99.4</td>\n",
              "      <td>...</td>\n",
              "      <td>136</td>\n",
              "      <td>mpfi</td>\n",
              "      <td>3.19</td>\n",
              "      <td>3.40</td>\n",
              "      <td>8.0</td>\n",
              "      <td>115</td>\n",
              "      <td>5500</td>\n",
              "      <td>18</td>\n",
              "      <td>22</td>\n",
              "      <td>17450.0</td>\n",
              "    </tr>\n",
              "  </tbody>\n",
              "</table>\n",
              "<p>5 rows × 26 columns</p>\n",
              "</div>\n",
              "      <button class=\"colab-df-convert\" onclick=\"convertToInteractive('df-42bf5150-7c47-4f7a-a734-ea8650cd2ca2')\"\n",
              "              title=\"Convert this dataframe to an interactive table.\"\n",
              "              style=\"display:none;\">\n",
              "        \n",
              "  <svg xmlns=\"http://www.w3.org/2000/svg\" height=\"24px\"viewBox=\"0 0 24 24\"\n",
              "       width=\"24px\">\n",
              "    <path d=\"M0 0h24v24H0V0z\" fill=\"none\"/>\n",
              "    <path d=\"M18.56 5.44l.94 2.06.94-2.06 2.06-.94-2.06-.94-.94-2.06-.94 2.06-2.06.94zm-11 1L8.5 8.5l.94-2.06 2.06-.94-2.06-.94L8.5 2.5l-.94 2.06-2.06.94zm10 10l.94 2.06.94-2.06 2.06-.94-2.06-.94-.94-2.06-.94 2.06-2.06.94z\"/><path d=\"M17.41 7.96l-1.37-1.37c-.4-.4-.92-.59-1.43-.59-.52 0-1.04.2-1.43.59L10.3 9.45l-7.72 7.72c-.78.78-.78 2.05 0 2.83L4 21.41c.39.39.9.59 1.41.59.51 0 1.02-.2 1.41-.59l7.78-7.78 2.81-2.81c.8-.78.8-2.07 0-2.86zM5.41 20L4 18.59l7.72-7.72 1.47 1.35L5.41 20z\"/>\n",
              "  </svg>\n",
              "      </button>\n",
              "      \n",
              "  <style>\n",
              "    .colab-df-container {\n",
              "      display:flex;\n",
              "      flex-wrap:wrap;\n",
              "      gap: 12px;\n",
              "    }\n",
              "\n",
              "    .colab-df-convert {\n",
              "      background-color: #E8F0FE;\n",
              "      border: none;\n",
              "      border-radius: 50%;\n",
              "      cursor: pointer;\n",
              "      display: none;\n",
              "      fill: #1967D2;\n",
              "      height: 32px;\n",
              "      padding: 0 0 0 0;\n",
              "      width: 32px;\n",
              "    }\n",
              "\n",
              "    .colab-df-convert:hover {\n",
              "      background-color: #E2EBFA;\n",
              "      box-shadow: 0px 1px 2px rgba(60, 64, 67, 0.3), 0px 1px 3px 1px rgba(60, 64, 67, 0.15);\n",
              "      fill: #174EA6;\n",
              "    }\n",
              "\n",
              "    [theme=dark] .colab-df-convert {\n",
              "      background-color: #3B4455;\n",
              "      fill: #D2E3FC;\n",
              "    }\n",
              "\n",
              "    [theme=dark] .colab-df-convert:hover {\n",
              "      background-color: #434B5C;\n",
              "      box-shadow: 0px 1px 3px 1px rgba(0, 0, 0, 0.15);\n",
              "      filter: drop-shadow(0px 1px 2px rgba(0, 0, 0, 0.3));\n",
              "      fill: #FFFFFF;\n",
              "    }\n",
              "  </style>\n",
              "\n",
              "      <script>\n",
              "        const buttonEl =\n",
              "          document.querySelector('#df-42bf5150-7c47-4f7a-a734-ea8650cd2ca2 button.colab-df-convert');\n",
              "        buttonEl.style.display =\n",
              "          google.colab.kernel.accessAllowed ? 'block' : 'none';\n",
              "\n",
              "        async function convertToInteractive(key) {\n",
              "          const element = document.querySelector('#df-42bf5150-7c47-4f7a-a734-ea8650cd2ca2');\n",
              "          const dataTable =\n",
              "            await google.colab.kernel.invokeFunction('convertToInteractive',\n",
              "                                                     [key], {});\n",
              "          if (!dataTable) return;\n",
              "\n",
              "          const docLinkHtml = 'Like what you see? Visit the ' +\n",
              "            '<a target=\"_blank\" href=https://colab.research.google.com/notebooks/data_table.ipynb>data table notebook</a>'\n",
              "            + ' to learn more about interactive tables.';\n",
              "          element.innerHTML = '';\n",
              "          dataTable['output_type'] = 'display_data';\n",
              "          await google.colab.output.renderOutput(dataTable, element);\n",
              "          const docLink = document.createElement('div');\n",
              "          docLink.innerHTML = docLinkHtml;\n",
              "          element.appendChild(docLink);\n",
              "        }\n",
              "      </script>\n",
              "    </div>\n",
              "  </div>\n",
              "  "
            ]
          },
          "metadata": {},
          "execution_count": 10
        }
      ]
    },
    {
      "cell_type": "code",
      "source": [
        "df.columns"
      ],
      "metadata": {
        "colab": {
          "base_uri": "https://localhost:8080/"
        },
        "id": "2uyX-WRNnPG4",
        "outputId": "b152c3f2-a4f9-46c2-ad22-b6209f3b6bdd"
      },
      "execution_count": null,
      "outputs": [
        {
          "output_type": "execute_result",
          "data": {
            "text/plain": [
              "Index(['car_ID', 'symboling', 'CarName', 'fueltype', 'aspiration',\n",
              "       'doornumber', 'carbody', 'drivewheel', 'enginelocation', 'wheelbase',\n",
              "       'carlength', 'carwidth', 'carheight', 'curbweight', 'enginetype',\n",
              "       'cylindernumber', 'enginesize', 'fuelsystem', 'boreratio', 'stroke',\n",
              "       'compressionratio', 'horsepower', 'peakrpm', 'citympg', 'highwaympg',\n",
              "       'price'],\n",
              "      dtype='object')"
            ]
          },
          "metadata": {},
          "execution_count": 11
        }
      ]
    },
    {
      "cell_type": "markdown",
      "source": [
        "Сразу же видим колонку с идентификационным номером, который является уникальным для каждого автомобиля. Поскольку никакой существенной информации эта колонка модели дать не может, мы ее сразу удалим."
      ],
      "metadata": {
        "id": "-69gyULgouGW"
      }
    },
    {
      "cell_type": "code",
      "source": [
        "df = df.drop(\"car_ID\", axis=1) # можно также использовать df.drop(\"car_ID\", axis=1, inplace=True)\n",
        "df.head(3)"
      ],
      "metadata": {
        "colab": {
          "base_uri": "https://localhost:8080/",
          "height": 289
        },
        "id": "q9h4W3M4nPEo",
        "outputId": "6ac23564-d5ca-4a60-df9a-e28c6a6c5298"
      },
      "execution_count": null,
      "outputs": [
        {
          "output_type": "execute_result",
          "data": {
            "text/plain": [
              "   symboling                   CarName fueltype aspiration doornumber  \\\n",
              "0          3        alfa-romero giulia      gas        std        two   \n",
              "1          3       alfa-romero stelvio      gas        std        two   \n",
              "2          1  alfa-romero Quadrifoglio      gas        std        two   \n",
              "\n",
              "       carbody drivewheel enginelocation  wheelbase  carlength  ...  \\\n",
              "0  convertible        rwd          front       88.6      168.8  ...   \n",
              "1  convertible        rwd          front       88.6      168.8  ...   \n",
              "2    hatchback        rwd          front       94.5      171.2  ...   \n",
              "\n",
              "   enginesize  fuelsystem  boreratio stroke compressionratio  horsepower  \\\n",
              "0         130        mpfi       3.47   2.68              9.0         111   \n",
              "1         130        mpfi       3.47   2.68              9.0         111   \n",
              "2         152        mpfi       2.68   3.47              9.0         154   \n",
              "\n",
              "  peakrpm  citympg  highwaympg    price  \n",
              "0    5000       21          27  13495.0  \n",
              "1    5000       21          27  16500.0  \n",
              "2    5000       19          26  16500.0  \n",
              "\n",
              "[3 rows x 25 columns]"
            ],
            "text/html": [
              "\n",
              "  <div id=\"df-ec256cdb-4e3d-4ce0-94da-40dbf023f9de\">\n",
              "    <div class=\"colab-df-container\">\n",
              "      <div>\n",
              "<style scoped>\n",
              "    .dataframe tbody tr th:only-of-type {\n",
              "        vertical-align: middle;\n",
              "    }\n",
              "\n",
              "    .dataframe tbody tr th {\n",
              "        vertical-align: top;\n",
              "    }\n",
              "\n",
              "    .dataframe thead th {\n",
              "        text-align: right;\n",
              "    }\n",
              "</style>\n",
              "<table border=\"1\" class=\"dataframe\">\n",
              "  <thead>\n",
              "    <tr style=\"text-align: right;\">\n",
              "      <th></th>\n",
              "      <th>symboling</th>\n",
              "      <th>CarName</th>\n",
              "      <th>fueltype</th>\n",
              "      <th>aspiration</th>\n",
              "      <th>doornumber</th>\n",
              "      <th>carbody</th>\n",
              "      <th>drivewheel</th>\n",
              "      <th>enginelocation</th>\n",
              "      <th>wheelbase</th>\n",
              "      <th>carlength</th>\n",
              "      <th>...</th>\n",
              "      <th>enginesize</th>\n",
              "      <th>fuelsystem</th>\n",
              "      <th>boreratio</th>\n",
              "      <th>stroke</th>\n",
              "      <th>compressionratio</th>\n",
              "      <th>horsepower</th>\n",
              "      <th>peakrpm</th>\n",
              "      <th>citympg</th>\n",
              "      <th>highwaympg</th>\n",
              "      <th>price</th>\n",
              "    </tr>\n",
              "  </thead>\n",
              "  <tbody>\n",
              "    <tr>\n",
              "      <th>0</th>\n",
              "      <td>3</td>\n",
              "      <td>alfa-romero giulia</td>\n",
              "      <td>gas</td>\n",
              "      <td>std</td>\n",
              "      <td>two</td>\n",
              "      <td>convertible</td>\n",
              "      <td>rwd</td>\n",
              "      <td>front</td>\n",
              "      <td>88.6</td>\n",
              "      <td>168.8</td>\n",
              "      <td>...</td>\n",
              "      <td>130</td>\n",
              "      <td>mpfi</td>\n",
              "      <td>3.47</td>\n",
              "      <td>2.68</td>\n",
              "      <td>9.0</td>\n",
              "      <td>111</td>\n",
              "      <td>5000</td>\n",
              "      <td>21</td>\n",
              "      <td>27</td>\n",
              "      <td>13495.0</td>\n",
              "    </tr>\n",
              "    <tr>\n",
              "      <th>1</th>\n",
              "      <td>3</td>\n",
              "      <td>alfa-romero stelvio</td>\n",
              "      <td>gas</td>\n",
              "      <td>std</td>\n",
              "      <td>two</td>\n",
              "      <td>convertible</td>\n",
              "      <td>rwd</td>\n",
              "      <td>front</td>\n",
              "      <td>88.6</td>\n",
              "      <td>168.8</td>\n",
              "      <td>...</td>\n",
              "      <td>130</td>\n",
              "      <td>mpfi</td>\n",
              "      <td>3.47</td>\n",
              "      <td>2.68</td>\n",
              "      <td>9.0</td>\n",
              "      <td>111</td>\n",
              "      <td>5000</td>\n",
              "      <td>21</td>\n",
              "      <td>27</td>\n",
              "      <td>16500.0</td>\n",
              "    </tr>\n",
              "    <tr>\n",
              "      <th>2</th>\n",
              "      <td>1</td>\n",
              "      <td>alfa-romero Quadrifoglio</td>\n",
              "      <td>gas</td>\n",
              "      <td>std</td>\n",
              "      <td>two</td>\n",
              "      <td>hatchback</td>\n",
              "      <td>rwd</td>\n",
              "      <td>front</td>\n",
              "      <td>94.5</td>\n",
              "      <td>171.2</td>\n",
              "      <td>...</td>\n",
              "      <td>152</td>\n",
              "      <td>mpfi</td>\n",
              "      <td>2.68</td>\n",
              "      <td>3.47</td>\n",
              "      <td>9.0</td>\n",
              "      <td>154</td>\n",
              "      <td>5000</td>\n",
              "      <td>19</td>\n",
              "      <td>26</td>\n",
              "      <td>16500.0</td>\n",
              "    </tr>\n",
              "  </tbody>\n",
              "</table>\n",
              "<p>3 rows × 25 columns</p>\n",
              "</div>\n",
              "      <button class=\"colab-df-convert\" onclick=\"convertToInteractive('df-ec256cdb-4e3d-4ce0-94da-40dbf023f9de')\"\n",
              "              title=\"Convert this dataframe to an interactive table.\"\n",
              "              style=\"display:none;\">\n",
              "        \n",
              "  <svg xmlns=\"http://www.w3.org/2000/svg\" height=\"24px\"viewBox=\"0 0 24 24\"\n",
              "       width=\"24px\">\n",
              "    <path d=\"M0 0h24v24H0V0z\" fill=\"none\"/>\n",
              "    <path d=\"M18.56 5.44l.94 2.06.94-2.06 2.06-.94-2.06-.94-.94-2.06-.94 2.06-2.06.94zm-11 1L8.5 8.5l.94-2.06 2.06-.94-2.06-.94L8.5 2.5l-.94 2.06-2.06.94zm10 10l.94 2.06.94-2.06 2.06-.94-2.06-.94-.94-2.06-.94 2.06-2.06.94z\"/><path d=\"M17.41 7.96l-1.37-1.37c-.4-.4-.92-.59-1.43-.59-.52 0-1.04.2-1.43.59L10.3 9.45l-7.72 7.72c-.78.78-.78 2.05 0 2.83L4 21.41c.39.39.9.59 1.41.59.51 0 1.02-.2 1.41-.59l7.78-7.78 2.81-2.81c.8-.78.8-2.07 0-2.86zM5.41 20L4 18.59l7.72-7.72 1.47 1.35L5.41 20z\"/>\n",
              "  </svg>\n",
              "      </button>\n",
              "      \n",
              "  <style>\n",
              "    .colab-df-container {\n",
              "      display:flex;\n",
              "      flex-wrap:wrap;\n",
              "      gap: 12px;\n",
              "    }\n",
              "\n",
              "    .colab-df-convert {\n",
              "      background-color: #E8F0FE;\n",
              "      border: none;\n",
              "      border-radius: 50%;\n",
              "      cursor: pointer;\n",
              "      display: none;\n",
              "      fill: #1967D2;\n",
              "      height: 32px;\n",
              "      padding: 0 0 0 0;\n",
              "      width: 32px;\n",
              "    }\n",
              "\n",
              "    .colab-df-convert:hover {\n",
              "      background-color: #E2EBFA;\n",
              "      box-shadow: 0px 1px 2px rgba(60, 64, 67, 0.3), 0px 1px 3px 1px rgba(60, 64, 67, 0.15);\n",
              "      fill: #174EA6;\n",
              "    }\n",
              "\n",
              "    [theme=dark] .colab-df-convert {\n",
              "      background-color: #3B4455;\n",
              "      fill: #D2E3FC;\n",
              "    }\n",
              "\n",
              "    [theme=dark] .colab-df-convert:hover {\n",
              "      background-color: #434B5C;\n",
              "      box-shadow: 0px 1px 3px 1px rgba(0, 0, 0, 0.15);\n",
              "      filter: drop-shadow(0px 1px 2px rgba(0, 0, 0, 0.3));\n",
              "      fill: #FFFFFF;\n",
              "    }\n",
              "  </style>\n",
              "\n",
              "      <script>\n",
              "        const buttonEl =\n",
              "          document.querySelector('#df-ec256cdb-4e3d-4ce0-94da-40dbf023f9de button.colab-df-convert');\n",
              "        buttonEl.style.display =\n",
              "          google.colab.kernel.accessAllowed ? 'block' : 'none';\n",
              "\n",
              "        async function convertToInteractive(key) {\n",
              "          const element = document.querySelector('#df-ec256cdb-4e3d-4ce0-94da-40dbf023f9de');\n",
              "          const dataTable =\n",
              "            await google.colab.kernel.invokeFunction('convertToInteractive',\n",
              "                                                     [key], {});\n",
              "          if (!dataTable) return;\n",
              "\n",
              "          const docLinkHtml = 'Like what you see? Visit the ' +\n",
              "            '<a target=\"_blank\" href=https://colab.research.google.com/notebooks/data_table.ipynb>data table notebook</a>'\n",
              "            + ' to learn more about interactive tables.';\n",
              "          element.innerHTML = '';\n",
              "          dataTable['output_type'] = 'display_data';\n",
              "          await google.colab.output.renderOutput(dataTable, element);\n",
              "          const docLink = document.createElement('div');\n",
              "          docLink.innerHTML = docLinkHtml;\n",
              "          element.appendChild(docLink);\n",
              "        }\n",
              "      </script>\n",
              "    </div>\n",
              "  </div>\n",
              "  "
            ]
          },
          "metadata": {},
          "execution_count": 12
        }
      ]
    },
    {
      "cell_type": "markdown",
      "source": [
        "Выделим два типа признаков: категориальные и числовые."
      ],
      "metadata": {
        "id": "xRlYGcd0pCK_"
      }
    },
    {
      "cell_type": "code",
      "source": [
        "categorical_cols = df.select_dtypes(include=[\"object\"]).columns.tolist()\n",
        "len(categorical_cols), categorical_cols"
      ],
      "metadata": {
        "colab": {
          "base_uri": "https://localhost:8080/"
        },
        "id": "aDhsoCWEnPC5",
        "outputId": "6166fb80-2f2d-41e4-b28c-85d4c7851993"
      },
      "execution_count": null,
      "outputs": [
        {
          "output_type": "execute_result",
          "data": {
            "text/plain": [
              "(10,\n",
              " ['CarName',\n",
              "  'fueltype',\n",
              "  'aspiration',\n",
              "  'doornumber',\n",
              "  'carbody',\n",
              "  'drivewheel',\n",
              "  'enginelocation',\n",
              "  'enginetype',\n",
              "  'cylindernumber',\n",
              "  'fuelsystem'])"
            ]
          },
          "metadata": {},
          "execution_count": 13
        }
      ]
    },
    {
      "cell_type": "code",
      "source": [
        "numerical_cols = df.select_dtypes(exclude=[\"object\"]).columns.tolist()\n",
        "len(numerical_cols), numerical_cols"
      ],
      "metadata": {
        "colab": {
          "base_uri": "https://localhost:8080/"
        },
        "id": "ClSdNygvrJqK",
        "outputId": "8f255e03-cd5e-41ac-9899-f2b4d3f99fd3"
      },
      "execution_count": null,
      "outputs": [
        {
          "output_type": "execute_result",
          "data": {
            "text/plain": [
              "(15,\n",
              " ['symboling',\n",
              "  'wheelbase',\n",
              "  'carlength',\n",
              "  'carwidth',\n",
              "  'carheight',\n",
              "  'curbweight',\n",
              "  'enginesize',\n",
              "  'boreratio',\n",
              "  'stroke',\n",
              "  'compressionratio',\n",
              "  'horsepower',\n",
              "  'peakrpm',\n",
              "  'citympg',\n",
              "  'highwaympg',\n",
              "  'price'])"
            ]
          },
          "metadata": {},
          "execution_count": 14
        }
      ]
    },
    {
      "cell_type": "code",
      "source": [
        "df[\"symboling\"].value_counts()"
      ],
      "metadata": {
        "colab": {
          "base_uri": "https://localhost:8080/"
        },
        "id": "cfTBu_R8sSOc",
        "outputId": "20212992-8d4c-4792-a213-3f470a13d727"
      },
      "execution_count": null,
      "outputs": [
        {
          "output_type": "execute_result",
          "data": {
            "text/plain": [
              " 0    67\n",
              " 1    54\n",
              " 2    32\n",
              " 3    27\n",
              "-1    22\n",
              "-2     3\n",
              "Name: symboling, dtype: int64"
            ]
          },
          "metadata": {},
          "execution_count": 15
        }
      ]
    },
    {
      "cell_type": "markdown",
      "source": [
        "Колонка `symboling` больше похожа на категориальную, поэтому мы ее переместим."
      ],
      "metadata": {
        "id": "mJUuu6mfsflO"
      }
    },
    {
      "cell_type": "code",
      "source": [
        "categorical_cols.append(\"symboling\")\n",
        "len(categorical_cols), categorical_cols"
      ],
      "metadata": {
        "colab": {
          "base_uri": "https://localhost:8080/"
        },
        "id": "AA5ddhRPsWze",
        "outputId": "107b0c86-2daa-46de-a474-caf2a4ade67a"
      },
      "execution_count": null,
      "outputs": [
        {
          "output_type": "execute_result",
          "data": {
            "text/plain": [
              "(11,\n",
              " ['CarName',\n",
              "  'fueltype',\n",
              "  'aspiration',\n",
              "  'doornumber',\n",
              "  'carbody',\n",
              "  'drivewheel',\n",
              "  'enginelocation',\n",
              "  'enginetype',\n",
              "  'cylindernumber',\n",
              "  'fuelsystem',\n",
              "  'symboling'])"
            ]
          },
          "metadata": {},
          "execution_count": 16
        }
      ]
    },
    {
      "cell_type": "code",
      "source": [
        "numerical_cols.remove(\"symboling\")\n",
        "len(numerical_cols), numerical_cols"
      ],
      "metadata": {
        "colab": {
          "base_uri": "https://localhost:8080/"
        },
        "id": "HA61i3MHslwn",
        "outputId": "d2b9447a-4024-45c6-a191-968774a22803"
      },
      "execution_count": null,
      "outputs": [
        {
          "output_type": "execute_result",
          "data": {
            "text/plain": [
              "(14,\n",
              " ['wheelbase',\n",
              "  'carlength',\n",
              "  'carwidth',\n",
              "  'carheight',\n",
              "  'curbweight',\n",
              "  'enginesize',\n",
              "  'boreratio',\n",
              "  'stroke',\n",
              "  'compressionratio',\n",
              "  'horsepower',\n",
              "  'peakrpm',\n",
              "  'citympg',\n",
              "  'highwaympg',\n",
              "  'price'])"
            ]
          },
          "metadata": {},
          "execution_count": 17
        }
      ]
    },
    {
      "cell_type": "code",
      "source": [
        "# Также удалим колонку с ценой, это будет наша целевая переменная\n",
        "\n",
        "target_col = \"price\"\n",
        "numerical_cols.remove(\"price\")\n",
        "len(numerical_cols), numerical_cols"
      ],
      "metadata": {
        "colab": {
          "base_uri": "https://localhost:8080/"
        },
        "id": "2bavPcxCyxZs",
        "outputId": "52ea835a-2323-4592-ed81-e4472ee9692b"
      },
      "execution_count": null,
      "outputs": [
        {
          "output_type": "execute_result",
          "data": {
            "text/plain": [
              "(13,\n",
              " ['wheelbase',\n",
              "  'carlength',\n",
              "  'carwidth',\n",
              "  'carheight',\n",
              "  'curbweight',\n",
              "  'enginesize',\n",
              "  'boreratio',\n",
              "  'stroke',\n",
              "  'compressionratio',\n",
              "  'horsepower',\n",
              "  'peakrpm',\n",
              "  'citympg',\n",
              "  'highwaympg'])"
            ]
          },
          "metadata": {},
          "execution_count": 18
        }
      ]
    },
    {
      "cell_type": "code",
      "source": [
        "# Проверим, что никакие колонки не потерялись\n",
        "\n",
        "df.shape[1] - 1 == len(categorical_cols) + len(numerical_cols)"
      ],
      "metadata": {
        "colab": {
          "base_uri": "https://localhost:8080/"
        },
        "id": "3JW6xcecnPBG",
        "outputId": "6fe311d4-9516-4c13-de24-3f6b93a542ce"
      },
      "execution_count": null,
      "outputs": [
        {
          "output_type": "execute_result",
          "data": {
            "text/plain": [
              "True"
            ]
          },
          "metadata": {},
          "execution_count": 19
        }
      ]
    },
    {
      "cell_type": "markdown",
      "source": [
        "Колонка с названиями автомобилей представлена в формате `производитель + модель автомобиля`, поэтому поделим эту колонку на 2 составные."
      ],
      "metadata": {
        "id": "mYBns-uktMSL"
      }
    },
    {
      "cell_type": "code",
      "source": [
        "car_names = df['CarName'].str.split(' ', expand=True)\n",
        "df[\"car_company\"] = car_names[0]\n",
        "\n",
        "for i in range(1, car_names.shape[1] - 1):\n",
        "  df[\"car_model_{}\". format(i)] = car_names[i].fillna(\"-\") # сразу заполним пропущенные значения прочерком\n",
        "\n",
        "df[[\"car_company\"] + [\"car_model_{}\". format(i) for i in range(1, car_names.shape[1] - 1)]]"
      ],
      "metadata": {
        "colab": {
          "base_uri": "https://localhost:8080/",
          "height": 424
        },
        "id": "gnxm8cDsrFEf",
        "outputId": "ec0a46c3-b870-4142-c174-a8c17935ce2c"
      },
      "execution_count": null,
      "outputs": [
        {
          "output_type": "execute_result",
          "data": {
            "text/plain": [
              "     car_company   car_model_1 car_model_2 car_model_3\n",
              "0    alfa-romero        giulia           -           -\n",
              "1    alfa-romero       stelvio           -           -\n",
              "2    alfa-romero  Quadrifoglio           -           -\n",
              "3           audi           100          ls           -\n",
              "4           audi         100ls           -           -\n",
              "..           ...           ...         ...         ...\n",
              "200        volvo          145e        (sw)           -\n",
              "201        volvo         144ea           -           -\n",
              "202        volvo         244dl           -           -\n",
              "203        volvo           246           -           -\n",
              "204        volvo         264gl           -           -\n",
              "\n",
              "[205 rows x 4 columns]"
            ],
            "text/html": [
              "\n",
              "  <div id=\"df-e443f893-8cdc-4db3-9de4-85a78f67517a\">\n",
              "    <div class=\"colab-df-container\">\n",
              "      <div>\n",
              "<style scoped>\n",
              "    .dataframe tbody tr th:only-of-type {\n",
              "        vertical-align: middle;\n",
              "    }\n",
              "\n",
              "    .dataframe tbody tr th {\n",
              "        vertical-align: top;\n",
              "    }\n",
              "\n",
              "    .dataframe thead th {\n",
              "        text-align: right;\n",
              "    }\n",
              "</style>\n",
              "<table border=\"1\" class=\"dataframe\">\n",
              "  <thead>\n",
              "    <tr style=\"text-align: right;\">\n",
              "      <th></th>\n",
              "      <th>car_company</th>\n",
              "      <th>car_model_1</th>\n",
              "      <th>car_model_2</th>\n",
              "      <th>car_model_3</th>\n",
              "    </tr>\n",
              "  </thead>\n",
              "  <tbody>\n",
              "    <tr>\n",
              "      <th>0</th>\n",
              "      <td>alfa-romero</td>\n",
              "      <td>giulia</td>\n",
              "      <td>-</td>\n",
              "      <td>-</td>\n",
              "    </tr>\n",
              "    <tr>\n",
              "      <th>1</th>\n",
              "      <td>alfa-romero</td>\n",
              "      <td>stelvio</td>\n",
              "      <td>-</td>\n",
              "      <td>-</td>\n",
              "    </tr>\n",
              "    <tr>\n",
              "      <th>2</th>\n",
              "      <td>alfa-romero</td>\n",
              "      <td>Quadrifoglio</td>\n",
              "      <td>-</td>\n",
              "      <td>-</td>\n",
              "    </tr>\n",
              "    <tr>\n",
              "      <th>3</th>\n",
              "      <td>audi</td>\n",
              "      <td>100</td>\n",
              "      <td>ls</td>\n",
              "      <td>-</td>\n",
              "    </tr>\n",
              "    <tr>\n",
              "      <th>4</th>\n",
              "      <td>audi</td>\n",
              "      <td>100ls</td>\n",
              "      <td>-</td>\n",
              "      <td>-</td>\n",
              "    </tr>\n",
              "    <tr>\n",
              "      <th>...</th>\n",
              "      <td>...</td>\n",
              "      <td>...</td>\n",
              "      <td>...</td>\n",
              "      <td>...</td>\n",
              "    </tr>\n",
              "    <tr>\n",
              "      <th>200</th>\n",
              "      <td>volvo</td>\n",
              "      <td>145e</td>\n",
              "      <td>(sw)</td>\n",
              "      <td>-</td>\n",
              "    </tr>\n",
              "    <tr>\n",
              "      <th>201</th>\n",
              "      <td>volvo</td>\n",
              "      <td>144ea</td>\n",
              "      <td>-</td>\n",
              "      <td>-</td>\n",
              "    </tr>\n",
              "    <tr>\n",
              "      <th>202</th>\n",
              "      <td>volvo</td>\n",
              "      <td>244dl</td>\n",
              "      <td>-</td>\n",
              "      <td>-</td>\n",
              "    </tr>\n",
              "    <tr>\n",
              "      <th>203</th>\n",
              "      <td>volvo</td>\n",
              "      <td>246</td>\n",
              "      <td>-</td>\n",
              "      <td>-</td>\n",
              "    </tr>\n",
              "    <tr>\n",
              "      <th>204</th>\n",
              "      <td>volvo</td>\n",
              "      <td>264gl</td>\n",
              "      <td>-</td>\n",
              "      <td>-</td>\n",
              "    </tr>\n",
              "  </tbody>\n",
              "</table>\n",
              "<p>205 rows × 4 columns</p>\n",
              "</div>\n",
              "      <button class=\"colab-df-convert\" onclick=\"convertToInteractive('df-e443f893-8cdc-4db3-9de4-85a78f67517a')\"\n",
              "              title=\"Convert this dataframe to an interactive table.\"\n",
              "              style=\"display:none;\">\n",
              "        \n",
              "  <svg xmlns=\"http://www.w3.org/2000/svg\" height=\"24px\"viewBox=\"0 0 24 24\"\n",
              "       width=\"24px\">\n",
              "    <path d=\"M0 0h24v24H0V0z\" fill=\"none\"/>\n",
              "    <path d=\"M18.56 5.44l.94 2.06.94-2.06 2.06-.94-2.06-.94-.94-2.06-.94 2.06-2.06.94zm-11 1L8.5 8.5l.94-2.06 2.06-.94-2.06-.94L8.5 2.5l-.94 2.06-2.06.94zm10 10l.94 2.06.94-2.06 2.06-.94-2.06-.94-.94-2.06-.94 2.06-2.06.94z\"/><path d=\"M17.41 7.96l-1.37-1.37c-.4-.4-.92-.59-1.43-.59-.52 0-1.04.2-1.43.59L10.3 9.45l-7.72 7.72c-.78.78-.78 2.05 0 2.83L4 21.41c.39.39.9.59 1.41.59.51 0 1.02-.2 1.41-.59l7.78-7.78 2.81-2.81c.8-.78.8-2.07 0-2.86zM5.41 20L4 18.59l7.72-7.72 1.47 1.35L5.41 20z\"/>\n",
              "  </svg>\n",
              "      </button>\n",
              "      \n",
              "  <style>\n",
              "    .colab-df-container {\n",
              "      display:flex;\n",
              "      flex-wrap:wrap;\n",
              "      gap: 12px;\n",
              "    }\n",
              "\n",
              "    .colab-df-convert {\n",
              "      background-color: #E8F0FE;\n",
              "      border: none;\n",
              "      border-radius: 50%;\n",
              "      cursor: pointer;\n",
              "      display: none;\n",
              "      fill: #1967D2;\n",
              "      height: 32px;\n",
              "      padding: 0 0 0 0;\n",
              "      width: 32px;\n",
              "    }\n",
              "\n",
              "    .colab-df-convert:hover {\n",
              "      background-color: #E2EBFA;\n",
              "      box-shadow: 0px 1px 2px rgba(60, 64, 67, 0.3), 0px 1px 3px 1px rgba(60, 64, 67, 0.15);\n",
              "      fill: #174EA6;\n",
              "    }\n",
              "\n",
              "    [theme=dark] .colab-df-convert {\n",
              "      background-color: #3B4455;\n",
              "      fill: #D2E3FC;\n",
              "    }\n",
              "\n",
              "    [theme=dark] .colab-df-convert:hover {\n",
              "      background-color: #434B5C;\n",
              "      box-shadow: 0px 1px 3px 1px rgba(0, 0, 0, 0.15);\n",
              "      filter: drop-shadow(0px 1px 2px rgba(0, 0, 0, 0.3));\n",
              "      fill: #FFFFFF;\n",
              "    }\n",
              "  </style>\n",
              "\n",
              "      <script>\n",
              "        const buttonEl =\n",
              "          document.querySelector('#df-e443f893-8cdc-4db3-9de4-85a78f67517a button.colab-df-convert');\n",
              "        buttonEl.style.display =\n",
              "          google.colab.kernel.accessAllowed ? 'block' : 'none';\n",
              "\n",
              "        async function convertToInteractive(key) {\n",
              "          const element = document.querySelector('#df-e443f893-8cdc-4db3-9de4-85a78f67517a');\n",
              "          const dataTable =\n",
              "            await google.colab.kernel.invokeFunction('convertToInteractive',\n",
              "                                                     [key], {});\n",
              "          if (!dataTable) return;\n",
              "\n",
              "          const docLinkHtml = 'Like what you see? Visit the ' +\n",
              "            '<a target=\"_blank\" href=https://colab.research.google.com/notebooks/data_table.ipynb>data table notebook</a>'\n",
              "            + ' to learn more about interactive tables.';\n",
              "          element.innerHTML = '';\n",
              "          dataTable['output_type'] = 'display_data';\n",
              "          await google.colab.output.renderOutput(dataTable, element);\n",
              "          const docLink = document.createElement('div');\n",
              "          docLink.innerHTML = docLinkHtml;\n",
              "          element.appendChild(docLink);\n",
              "        }\n",
              "      </script>\n",
              "    </div>\n",
              "  </div>\n",
              "  "
            ]
          },
          "metadata": {},
          "execution_count": 20
        }
      ]
    },
    {
      "cell_type": "code",
      "source": [
        "# Удалим старую колонку с объединенными названиями\n",
        "\n",
        "df = df.drop(\"CarName\", axis=1) # можно также использовать df.drop(\"CarName\", axis=1, inplace=True)\n",
        "df.head(3)"
      ],
      "metadata": {
        "colab": {
          "base_uri": "https://localhost:8080/",
          "height": 237
        },
        "id": "07-noWLGrFBE",
        "outputId": "b4aefe2f-29ca-416a-a62d-dbfb3699f05c"
      },
      "execution_count": null,
      "outputs": [
        {
          "output_type": "execute_result",
          "data": {
            "text/plain": [
              "   symboling fueltype aspiration doornumber      carbody drivewheel  \\\n",
              "0          3      gas        std        two  convertible        rwd   \n",
              "1          3      gas        std        two  convertible        rwd   \n",
              "2          1      gas        std        two    hatchback        rwd   \n",
              "\n",
              "  enginelocation  wheelbase  carlength  carwidth  ...  compressionratio  \\\n",
              "0          front       88.6      168.8      64.1  ...               9.0   \n",
              "1          front       88.6      168.8      64.1  ...               9.0   \n",
              "2          front       94.5      171.2      65.5  ...               9.0   \n",
              "\n",
              "   horsepower peakrpm citympg  highwaympg    price  car_company   car_model_1  \\\n",
              "0         111    5000      21          27  13495.0  alfa-romero        giulia   \n",
              "1         111    5000      21          27  16500.0  alfa-romero       stelvio   \n",
              "2         154    5000      19          26  16500.0  alfa-romero  Quadrifoglio   \n",
              "\n",
              "   car_model_2  car_model_3  \n",
              "0            -            -  \n",
              "1            -            -  \n",
              "2            -            -  \n",
              "\n",
              "[3 rows x 28 columns]"
            ],
            "text/html": [
              "\n",
              "  <div id=\"df-b99f63f8-4a42-469d-988a-b3ee933bf538\">\n",
              "    <div class=\"colab-df-container\">\n",
              "      <div>\n",
              "<style scoped>\n",
              "    .dataframe tbody tr th:only-of-type {\n",
              "        vertical-align: middle;\n",
              "    }\n",
              "\n",
              "    .dataframe tbody tr th {\n",
              "        vertical-align: top;\n",
              "    }\n",
              "\n",
              "    .dataframe thead th {\n",
              "        text-align: right;\n",
              "    }\n",
              "</style>\n",
              "<table border=\"1\" class=\"dataframe\">\n",
              "  <thead>\n",
              "    <tr style=\"text-align: right;\">\n",
              "      <th></th>\n",
              "      <th>symboling</th>\n",
              "      <th>fueltype</th>\n",
              "      <th>aspiration</th>\n",
              "      <th>doornumber</th>\n",
              "      <th>carbody</th>\n",
              "      <th>drivewheel</th>\n",
              "      <th>enginelocation</th>\n",
              "      <th>wheelbase</th>\n",
              "      <th>carlength</th>\n",
              "      <th>carwidth</th>\n",
              "      <th>...</th>\n",
              "      <th>compressionratio</th>\n",
              "      <th>horsepower</th>\n",
              "      <th>peakrpm</th>\n",
              "      <th>citympg</th>\n",
              "      <th>highwaympg</th>\n",
              "      <th>price</th>\n",
              "      <th>car_company</th>\n",
              "      <th>car_model_1</th>\n",
              "      <th>car_model_2</th>\n",
              "      <th>car_model_3</th>\n",
              "    </tr>\n",
              "  </thead>\n",
              "  <tbody>\n",
              "    <tr>\n",
              "      <th>0</th>\n",
              "      <td>3</td>\n",
              "      <td>gas</td>\n",
              "      <td>std</td>\n",
              "      <td>two</td>\n",
              "      <td>convertible</td>\n",
              "      <td>rwd</td>\n",
              "      <td>front</td>\n",
              "      <td>88.6</td>\n",
              "      <td>168.8</td>\n",
              "      <td>64.1</td>\n",
              "      <td>...</td>\n",
              "      <td>9.0</td>\n",
              "      <td>111</td>\n",
              "      <td>5000</td>\n",
              "      <td>21</td>\n",
              "      <td>27</td>\n",
              "      <td>13495.0</td>\n",
              "      <td>alfa-romero</td>\n",
              "      <td>giulia</td>\n",
              "      <td>-</td>\n",
              "      <td>-</td>\n",
              "    </tr>\n",
              "    <tr>\n",
              "      <th>1</th>\n",
              "      <td>3</td>\n",
              "      <td>gas</td>\n",
              "      <td>std</td>\n",
              "      <td>two</td>\n",
              "      <td>convertible</td>\n",
              "      <td>rwd</td>\n",
              "      <td>front</td>\n",
              "      <td>88.6</td>\n",
              "      <td>168.8</td>\n",
              "      <td>64.1</td>\n",
              "      <td>...</td>\n",
              "      <td>9.0</td>\n",
              "      <td>111</td>\n",
              "      <td>5000</td>\n",
              "      <td>21</td>\n",
              "      <td>27</td>\n",
              "      <td>16500.0</td>\n",
              "      <td>alfa-romero</td>\n",
              "      <td>stelvio</td>\n",
              "      <td>-</td>\n",
              "      <td>-</td>\n",
              "    </tr>\n",
              "    <tr>\n",
              "      <th>2</th>\n",
              "      <td>1</td>\n",
              "      <td>gas</td>\n",
              "      <td>std</td>\n",
              "      <td>two</td>\n",
              "      <td>hatchback</td>\n",
              "      <td>rwd</td>\n",
              "      <td>front</td>\n",
              "      <td>94.5</td>\n",
              "      <td>171.2</td>\n",
              "      <td>65.5</td>\n",
              "      <td>...</td>\n",
              "      <td>9.0</td>\n",
              "      <td>154</td>\n",
              "      <td>5000</td>\n",
              "      <td>19</td>\n",
              "      <td>26</td>\n",
              "      <td>16500.0</td>\n",
              "      <td>alfa-romero</td>\n",
              "      <td>Quadrifoglio</td>\n",
              "      <td>-</td>\n",
              "      <td>-</td>\n",
              "    </tr>\n",
              "  </tbody>\n",
              "</table>\n",
              "<p>3 rows × 28 columns</p>\n",
              "</div>\n",
              "      <button class=\"colab-df-convert\" onclick=\"convertToInteractive('df-b99f63f8-4a42-469d-988a-b3ee933bf538')\"\n",
              "              title=\"Convert this dataframe to an interactive table.\"\n",
              "              style=\"display:none;\">\n",
              "        \n",
              "  <svg xmlns=\"http://www.w3.org/2000/svg\" height=\"24px\"viewBox=\"0 0 24 24\"\n",
              "       width=\"24px\">\n",
              "    <path d=\"M0 0h24v24H0V0z\" fill=\"none\"/>\n",
              "    <path d=\"M18.56 5.44l.94 2.06.94-2.06 2.06-.94-2.06-.94-.94-2.06-.94 2.06-2.06.94zm-11 1L8.5 8.5l.94-2.06 2.06-.94-2.06-.94L8.5 2.5l-.94 2.06-2.06.94zm10 10l.94 2.06.94-2.06 2.06-.94-2.06-.94-.94-2.06-.94 2.06-2.06.94z\"/><path d=\"M17.41 7.96l-1.37-1.37c-.4-.4-.92-.59-1.43-.59-.52 0-1.04.2-1.43.59L10.3 9.45l-7.72 7.72c-.78.78-.78 2.05 0 2.83L4 21.41c.39.39.9.59 1.41.59.51 0 1.02-.2 1.41-.59l7.78-7.78 2.81-2.81c.8-.78.8-2.07 0-2.86zM5.41 20L4 18.59l7.72-7.72 1.47 1.35L5.41 20z\"/>\n",
              "  </svg>\n",
              "      </button>\n",
              "      \n",
              "  <style>\n",
              "    .colab-df-container {\n",
              "      display:flex;\n",
              "      flex-wrap:wrap;\n",
              "      gap: 12px;\n",
              "    }\n",
              "\n",
              "    .colab-df-convert {\n",
              "      background-color: #E8F0FE;\n",
              "      border: none;\n",
              "      border-radius: 50%;\n",
              "      cursor: pointer;\n",
              "      display: none;\n",
              "      fill: #1967D2;\n",
              "      height: 32px;\n",
              "      padding: 0 0 0 0;\n",
              "      width: 32px;\n",
              "    }\n",
              "\n",
              "    .colab-df-convert:hover {\n",
              "      background-color: #E2EBFA;\n",
              "      box-shadow: 0px 1px 2px rgba(60, 64, 67, 0.3), 0px 1px 3px 1px rgba(60, 64, 67, 0.15);\n",
              "      fill: #174EA6;\n",
              "    }\n",
              "\n",
              "    [theme=dark] .colab-df-convert {\n",
              "      background-color: #3B4455;\n",
              "      fill: #D2E3FC;\n",
              "    }\n",
              "\n",
              "    [theme=dark] .colab-df-convert:hover {\n",
              "      background-color: #434B5C;\n",
              "      box-shadow: 0px 1px 3px 1px rgba(0, 0, 0, 0.15);\n",
              "      filter: drop-shadow(0px 1px 2px rgba(0, 0, 0, 0.3));\n",
              "      fill: #FFFFFF;\n",
              "    }\n",
              "  </style>\n",
              "\n",
              "      <script>\n",
              "        const buttonEl =\n",
              "          document.querySelector('#df-b99f63f8-4a42-469d-988a-b3ee933bf538 button.colab-df-convert');\n",
              "        buttonEl.style.display =\n",
              "          google.colab.kernel.accessAllowed ? 'block' : 'none';\n",
              "\n",
              "        async function convertToInteractive(key) {\n",
              "          const element = document.querySelector('#df-b99f63f8-4a42-469d-988a-b3ee933bf538');\n",
              "          const dataTable =\n",
              "            await google.colab.kernel.invokeFunction('convertToInteractive',\n",
              "                                                     [key], {});\n",
              "          if (!dataTable) return;\n",
              "\n",
              "          const docLinkHtml = 'Like what you see? Visit the ' +\n",
              "            '<a target=\"_blank\" href=https://colab.research.google.com/notebooks/data_table.ipynb>data table notebook</a>'\n",
              "            + ' to learn more about interactive tables.';\n",
              "          element.innerHTML = '';\n",
              "          dataTable['output_type'] = 'display_data';\n",
              "          await google.colab.output.renderOutput(dataTable, element);\n",
              "          const docLink = document.createElement('div');\n",
              "          docLink.innerHTML = docLinkHtml;\n",
              "          element.appendChild(docLink);\n",
              "        }\n",
              "      </script>\n",
              "    </div>\n",
              "  </div>\n",
              "  "
            ]
          },
          "metadata": {},
          "execution_count": 21
        }
      ]
    },
    {
      "cell_type": "code",
      "source": [
        "# Удалим колонку CarName из списка категориальных колонок и добавим туда наши новые колонки\n",
        "\n",
        "categorical_cols.remove(\"CarName\")\n",
        "categorical_cols.extend([\"car_company\"] + [\"car_model_{}\". format(i) for i in range(1, car_names.shape[1] - 1)])\n",
        "len(categorical_cols), categorical_cols"
      ],
      "metadata": {
        "colab": {
          "base_uri": "https://localhost:8080/"
        },
        "id": "V1mlKmT1zEaB",
        "outputId": "64986fb4-7c10-4f75-b43e-cc6402d55466"
      },
      "execution_count": null,
      "outputs": [
        {
          "output_type": "execute_result",
          "data": {
            "text/plain": [
              "(14,\n",
              " ['fueltype',\n",
              "  'aspiration',\n",
              "  'doornumber',\n",
              "  'carbody',\n",
              "  'drivewheel',\n",
              "  'enginelocation',\n",
              "  'enginetype',\n",
              "  'cylindernumber',\n",
              "  'fuelsystem',\n",
              "  'symboling',\n",
              "  'car_company',\n",
              "  'car_model_1',\n",
              "  'car_model_2',\n",
              "  'car_model_3'])"
            ]
          },
          "metadata": {},
          "execution_count": 22
        }
      ]
    },
    {
      "cell_type": "code",
      "source": [
        "# Проверим, что никакие колонки не потерялись\n",
        "\n",
        "df.shape[1] - 1 == len(categorical_cols) + len(numerical_cols)"
      ],
      "metadata": {
        "colab": {
          "base_uri": "https://localhost:8080/"
        },
        "id": "wbOXv-plzMhW",
        "outputId": "89c8f2c1-3041-4e1a-e614-a852ccea18a1"
      },
      "execution_count": null,
      "outputs": [
        {
          "output_type": "execute_result",
          "data": {
            "text/plain": [
              "True"
            ]
          },
          "metadata": {},
          "execution_count": 23
        }
      ]
    },
    {
      "cell_type": "markdown",
      "source": [
        "Проверим, что в названии компаний — производителей автомобилей нет разных обозначений одной и той же компании."
      ],
      "metadata": {
        "id": "NwLfxi-MvI0U"
      }
    },
    {
      "cell_type": "code",
      "source": [
        "df[\"car_company\"].value_counts()"
      ],
      "metadata": {
        "colab": {
          "base_uri": "https://localhost:8080/"
        },
        "id": "PAC10J7grE-c",
        "outputId": "9567fd31-a761-46a1-fe59-58283e8a9709"
      },
      "execution_count": null,
      "outputs": [
        {
          "output_type": "execute_result",
          "data": {
            "text/plain": [
              "toyota         31\n",
              "nissan         17\n",
              "mazda          15\n",
              "honda          13\n",
              "mitsubishi     13\n",
              "subaru         12\n",
              "peugeot        11\n",
              "volvo          11\n",
              "volkswagen      9\n",
              "dodge           9\n",
              "buick           8\n",
              "bmw             8\n",
              "audi            7\n",
              "plymouth        7\n",
              "saab            6\n",
              "isuzu           4\n",
              "porsche         4\n",
              "alfa-romero     3\n",
              "chevrolet       3\n",
              "jaguar          3\n",
              "vw              2\n",
              "maxda           2\n",
              "renault         2\n",
              "toyouta         1\n",
              "vokswagen       1\n",
              "Nissan          1\n",
              "mercury         1\n",
              "porcshce        1\n",
              "Name: car_company, dtype: int64"
            ]
          },
          "metadata": {},
          "execution_count": 24
        }
      ]
    },
    {
      "cell_type": "markdown",
      "source": [
        "Приведем названия к единообразию."
      ],
      "metadata": {
        "id": "Rf_mbnixv7Mb"
      }
    },
    {
      "cell_type": "code",
      "source": [
        "df[\"car_company\"] = df[\"car_company\"].replace(\n",
        "    {\n",
        "        \"maxda\": \"mazda\",\n",
        "        \"porcshce\": \"porsche\",\n",
        "        \"Nissan\": \"nissan\",\n",
        "        \"vokswagen\": \"volkswagen\",\n",
        "        \"vw\": \"volkswagen\",\n",
        "        \"toyouta\": \"toyota\",\n",
        "      }\n",
        ")\n",
        "df[\"car_company\"].value_counts()"
      ],
      "metadata": {
        "colab": {
          "base_uri": "https://localhost:8080/"
        },
        "id": "F8BCKYZuv6h1",
        "outputId": "caae6737-96a4-4e32-de22-ca7d450eacd2"
      },
      "execution_count": null,
      "outputs": [
        {
          "output_type": "execute_result",
          "data": {
            "text/plain": [
              "toyota         32\n",
              "nissan         18\n",
              "mazda          17\n",
              "mitsubishi     13\n",
              "honda          13\n",
              "volkswagen     12\n",
              "subaru         12\n",
              "peugeot        11\n",
              "volvo          11\n",
              "dodge           9\n",
              "buick           8\n",
              "bmw             8\n",
              "audi            7\n",
              "plymouth        7\n",
              "saab            6\n",
              "porsche         5\n",
              "isuzu           4\n",
              "jaguar          3\n",
              "chevrolet       3\n",
              "alfa-romero     3\n",
              "renault         2\n",
              "mercury         1\n",
              "Name: car_company, dtype: int64"
            ]
          },
          "metadata": {},
          "execution_count": 25
        }
      ]
    },
    {
      "cell_type": "markdown",
      "source": [
        "# Визуализируем нашу целевую переменную"
      ],
      "metadata": {
        "id": "jfQjwQ9gmM8i"
      }
    },
    {
      "cell_type": "code",
      "source": [
        "import matplotlib.pyplot as plt\n",
        "import seaborn as sns\n",
        "\n",
        "plt.figure(figsize=(24, 8))\n",
        "\n",
        "plt.subplot(1, 2, 1)\n",
        "plt.xticks(rotation=45)\n",
        "sns.histplot(df[target_col], bins=100);\n",
        "\n",
        "plt.subplot(1, 2, 2)\n",
        "plt.xticks(rotation=45)\n",
        "sns.boxplot(df[target_col]);"
      ],
      "metadata": {
        "colab": {
          "base_uri": "https://localhost:8080/",
          "height": 388
        },
        "id": "LqvCk1oWlPhS",
        "outputId": "b2be2687-905e-47f3-c7fa-79f2dc15867c"
      },
      "execution_count": null,
      "outputs": [
        {
          "output_type": "display_data",
          "data": {
            "text/plain": [
              "<Figure size 1728x576 with 2 Axes>"
            ],
            "image/png": "[encoded data removed]"
          },
          "metadata": {
            "needs_background": "light"
          }
        }
      ]
    },
    {
      "cell_type": "markdown",
      "source": [
        "# Предобработка данных"
      ],
      "metadata": {
        "id": "GlyhmfjYw8ms"
      }
    },
    {
      "cell_type": "code",
      "source": [
        "from sklearn.model_selection import train_test_split\n",
        "\n",
        "X_train, X_test, y_train, y_test = train_test_split(\n",
        "    df.drop(\"price\", axis=1),\n",
        "    df[\"price\"],\n",
        "    test_size=0.33,\n",
        "    random_state=42\n",
        ")"
      ],
      "metadata": {
        "id": "vfz2lXJZw8dY"
      },
      "execution_count": null,
      "outputs": []
    },
    {
      "cell_type": "code",
      "source": [
        "df.isna().sum()"
      ],
      "metadata": {
        "colab": {
          "base_uri": "https://localhost:8080/"
        },
        "id": "6zT8sx_lx3lk",
        "outputId": "d7f7a140-d2a9-4636-fc33-896a24634ce2"
      },
      "execution_count": null,
      "outputs": [
        {
          "output_type": "execute_result",
          "data": {
            "text/plain": [
              "symboling           0\n",
              "fueltype            0\n",
              "aspiration          0\n",
              "doornumber          0\n",
              "carbody             0\n",
              "drivewheel          0\n",
              "enginelocation      0\n",
              "wheelbase           0\n",
              "carlength           0\n",
              "carwidth            0\n",
              "carheight           0\n",
              "curbweight          0\n",
              "enginetype          0\n",
              "cylindernumber      0\n",
              "enginesize          0\n",
              "fuelsystem          0\n",
              "boreratio           0\n",
              "stroke              0\n",
              "compressionratio    0\n",
              "horsepower          0\n",
              "peakrpm             0\n",
              "citympg             0\n",
              "highwaympg          0\n",
              "price               0\n",
              "car_company         0\n",
              "car_model_1         0\n",
              "car_model_2         0\n",
              "car_model_3         0\n",
              "dtype: int64"
            ]
          },
          "metadata": {},
          "execution_count": 28
        }
      ]
    },
    {
      "cell_type": "markdown",
      "source": [
        "В наших данных пропусков нет, поэтому этап их заполнения пропускаем (иначе нужно было бы заполнить их после того, как выборка поделена на обучающую и тестовую)."
      ],
      "metadata": {
        "id": "CKQxymxsxxL8"
      }
    },
    {
      "cell_type": "markdown",
      "source": [
        "Поскольку части моделей необходимы нормализованные признаки (линейная регрессия, метод k-ближайших соседей), создадим несколько видов выборок: с нормализованными численными признаками и с ненормализованными численными признаками."
      ],
      "metadata": {
        "id": "4bVxzM1dXWr3"
      }
    },
    {
      "cell_type": "code",
      "source": [],
      "metadata": {
        "id": "FtC3KhJXguMm"
      },
      "execution_count": null,
      "outputs": []
    },
    {
      "cell_type": "code",
      "source": [
        "# Нормализация численных признаков\n",
        "\n",
        "from sklearn.preprocessing import StandardScaler\n",
        "\n",
        "X_train_num = X_train[numerical_cols]\n",
        "X_test_num = X_test[numerical_cols]\n",
        "\n",
        "scaler = StandardScaler()\n",
        "X_train_num_scaled = scaler.fit_transform(X_train_num)\n",
        "X_test_num_scaled = scaler.transform(X_test_num)\n",
        "\n",
        "X_train_num.shape, X_test_num.shape, X_train_num_scaled.shape, X_test_num_scaled.shape, len(numerical_cols)"
      ],
      "metadata": {
        "colab": {
          "base_uri": "https://localhost:8080/"
        },
        "id": "UlyJlvp8w8aw",
        "outputId": "6dd03907-90e9-405e-c5aa-190e586f3ef3"
      },
      "execution_count": null,
      "outputs": [
        {
          "output_type": "execute_result",
          "data": {
            "text/plain": [
              "((137, 13), (68, 13), (137, 13), (68, 13), 13)"
            ]
          },
          "metadata": {},
          "execution_count": 29
        }
      ]
    },
    {
      "cell_type": "markdown",
      "source": [
        "Категориальные переменные необходимо закодировать. Существует множество вариантов кодирования, среди которых наиболее распространенными являются:\n",
        "1. [Порядковая кодировка](https://scikit-learn.org/stable/modules/generated/sklearn.preprocessing.OrdinalEncoder.html). Каждому новому значению признака присваивается новая метка. Обычно метки представляют собой числа от $0$ до $N –1$, где $N$ — количество уникальных значений признака. Поскольку принято обучать кодировщик на обучающей выборке, а тестовую выборку только изменять, может возникнуть ситуация, когда в тестовой выборке окажутся невстречающиеся ранее значения. Им присваивается новая переменная, например –1\n",
        "2. [Кодирование One-hot ](https://scikit-learn.org/stable/modules/generated/sklearn.preprocessing.OneHotEncoder.html?highlight=one+hot#sklearn.preprocessing.OneHotEncoder). Для каждого значения признака задается колонка, в которую проставляются $1$, если этот признак характерен для объекта, и $0$ в противном случае. Если поменять местами $1$ и $0$, то данный метод превратится кодирование в One-cold. Не подходит для признаков, которые имеют много уникальных значений\n",
        "\n",
        "В данной задаче будет использоваться порядковый кодировщик."
      ],
      "metadata": {
        "id": "wYdkn7ZZzmsF"
      }
    },
    {
      "cell_type": "code",
      "source": [
        "# Кодирование категориальных признаков\n",
        "\n",
        "from sklearn.preprocessing import OrdinalEncoder\n",
        "import numpy as np\n",
        "\n",
        "encoder = OrdinalEncoder(handle_unknown='use_encoded_value', unknown_value=-1)\n",
        "X_train_cat = np.empty(X_train[categorical_cols].shape, int)\n",
        "X_test_cat = np.empty(X_test[categorical_cols].shape, int)\n",
        "\n",
        "for j, col in enumerate(categorical_cols):\n",
        "  X_train_cat[:, j] = encoder.fit_transform(X_train[col].values.reshape(-1, 1))[:, 0]\n",
        "  X_test_cat[:, j] = encoder.transform(X_test[col].values.reshape(-1, 1))[:, 0]\n",
        "\n",
        "X_train_cat.shape, X_test_cat.shape, len(categorical_cols)"
      ],
      "metadata": {
        "colab": {
          "base_uri": "https://localhost:8080/"
        },
        "id": "B4eOjP9Vw8Xz",
        "outputId": "cf0381f4-90e3-4ff7-8bba-d6b625f9309e"
      },
      "execution_count": null,
      "outputs": [
        {
          "output_type": "execute_result",
          "data": {
            "text/plain": [
              "((137, 14), (68, 14), 14)"
            ]
          },
          "metadata": {},
          "execution_count": 30
        }
      ]
    },
    {
      "cell_type": "code",
      "source": [
        "X_train_new = np.hstack((X_train_num, X_train_cat))\n",
        "X_test_new = np.hstack((X_test_num, X_test_cat))\n",
        "X_train_new.shape, X_test_new.shape"
      ],
      "metadata": {
        "colab": {
          "base_uri": "https://localhost:8080/"
        },
        "id": "6TWTCaugw8VV",
        "outputId": "3435dae8-7aef-460b-8cad-4a35af4ad1cd"
      },
      "execution_count": null,
      "outputs": [
        {
          "output_type": "execute_result",
          "data": {
            "text/plain": [
              "((137, 27), (68, 27))"
            ]
          },
          "metadata": {},
          "execution_count": 31
        }
      ]
    },
    {
      "cell_type": "code",
      "source": [
        "X_train_new_scaled = np.hstack((X_train_num_scaled, X_train_cat))\n",
        "X_test_new_scaled = np.hstack((X_test_num_scaled, X_test_cat))\n",
        "X_train_new_scaled.shape, X_test_new_scaled.shape"
      ],
      "metadata": {
        "id": "4r5_sEw2rEzT",
        "colab": {
          "base_uri": "https://localhost:8080/"
        },
        "outputId": "7d72738c-c347-4aff-9536-18da4822de63"
      },
      "execution_count": null,
      "outputs": [
        {
          "output_type": "execute_result",
          "data": {
            "text/plain": [
              "((137, 27), (68, 27))"
            ]
          },
          "metadata": {},
          "execution_count": 32
        }
      ]
    },
    {
      "cell_type": "markdown",
      "source": [
        "# Линейная регрессия\n",
        "\n",
        "Данная модель представляет собой линейную комбинацию векторов признаков и весов:\n",
        "$$\\hat{y} = a(x) = \\sum_{i = 1}^{d}{w_ix_i+w_0},$$\n",
        "где $\\hat{y}$ — предсказания модели, $a$ — модель, $x = (x_1, ..., x_d)$ — вектор признаков, $w = (w_1, ..., w_d)$ — вектор весов, $w_0$ — смещение. Обучить линейную регрессию -- значит найти $w$ и $w_0$.  \n",
        "\n",
        "Данная задача имеет аналитическое решение. Пусть $X$ — матрица признаков (размера $(n, k)$), $\\omega = (\\omega_1, ..., \\omega_k)$ — вектор весов модели, $Y$ — матрица ответов (размерностью $(1, n)$). Поскольку наша модель должна наиболее точно аппроксимировать значения, будем минимизировать норму:\n",
        "$$\\min_w {||Y - X \\omega|| ^ 2_2} \\rightarrow 0$$\n",
        "Возьмем производную и приравняем к 0:   \n",
        "$$2X^T(Y - X \\omega) = 0 \\implies X \\omega = Y$$\n",
        "Так как матрица признаков не обязательно является квадратной, то домножим обе части справа на $X^T$:\n",
        "$$X^TX \\omega = X^TY,$$ обе части имеют размер $(n, n)$  \n",
        "$$\\implies \\omega = (X^TX)^{-1} X^TY.$$"
      ],
      "metadata": {
        "id": "dGyGpGPfsHiU"
      }
    },
    {
      "cell_type": "markdown",
      "source": [
        "## Инициализация модели\n",
        "\n",
        "Будем использовать готовую реализацию линейной регрессии из `sklearn`."
      ],
      "metadata": {
        "id": "yC48ssPtwUaF"
      }
    },
    {
      "cell_type": "code",
      "source": [
        "import numpy as np\n",
        "\n",
        "np.random.seed(42) # зафиксируем состояние для воспроизводимости результатов"
      ],
      "metadata": {
        "id": "B3PCtKybQVQl"
      },
      "execution_count": null,
      "outputs": []
    },
    {
      "cell_type": "code",
      "source": [
        "from sklearn.linear_model import LinearRegression"
      ],
      "metadata": {
        "id": "s20JEB6xnRfE"
      },
      "execution_count": null,
      "outputs": []
    },
    {
      "cell_type": "code",
      "source": [
        "lr = LinearRegression()"
      ],
      "metadata": {
        "id": "KW2vS0lZnRcC"
      },
      "execution_count": null,
      "outputs": []
    },
    {
      "cell_type": "markdown",
      "source": [
        "## Обучение и тестирование модели"
      ],
      "metadata": {
        "id": "MO-rZacwyKDf"
      }
    },
    {
      "cell_type": "code",
      "source": [
        "lr.fit(X_train_new_scaled, y_train)"
      ],
      "metadata": {
        "colab": {
          "base_uri": "https://localhost:8080/"
        },
        "id": "Ii36mmKTyJjF",
        "outputId": "688b2c84-b794-4d70-967f-847cfd474fd3"
      },
      "execution_count": null,
      "outputs": [
        {
          "output_type": "execute_result",
          "data": {
            "text/plain": [
              "LinearRegression()"
            ]
          },
          "metadata": {},
          "execution_count": 36
        }
      ]
    },
    {
      "cell_type": "markdown",
      "source": [
        "Для оценки качества модели будем использовать среднеквадратичную ошибку и $R^2$-метрику."
      ],
      "metadata": {
        "id": "Y5KGFtEY6Mqu"
      }
    },
    {
      "cell_type": "code",
      "source": [
        "from sklearn.metrics import mean_squared_error, r2_score"
      ],
      "metadata": {
        "id": "mefA_c__nRVy"
      },
      "execution_count": null,
      "outputs": []
    },
    {
      "cell_type": "code",
      "source": [
        "pred_lr = lr.predict(X_test_new_scaled) # получение предсказаний\n",
        "mse = mean_squared_error(y_test, pred_lr)\n",
        "r2 = r2_score(y_test, pred_lr)\n",
        "print(\"MSE = {}; R2 = {}\".format(round(mse, 3), round(r2, 3)))"
      ],
      "metadata": {
        "id": "6Q-lqxjYnRTK",
        "colab": {
          "base_uri": "https://localhost:8080/"
        },
        "outputId": "8f58642f-8779-4e78-c0a2-9815c5b9f5d0"
      },
      "execution_count": null,
      "outputs": [
        {
          "output_type": "stream",
          "name": "stdout",
          "text": [
            "MSE = 13769282.285; R2 = 0.79\n"
          ]
        }
      ]
    },
    {
      "cell_type": "markdown",
      "source": [
        "## Подбор гиперпараметров\n",
        "\n",
        "Гиперпараметры играют важную роль в машинном обучении. Иногда бывает так, что гиперпараметры по умолчанию не позволяют модели обучаться, в то время как при определенной их комбинации качество модели значительно улучшается. Гиперпараметры линейной регрессии можно посмотреть [здесь](https://scikit-learn.org/stable/modules/generated/sklearn.linear_model.LinearRegression.html#sklearn.linear_model.LinearRegression).\n",
        "\n",
        "\n"
      ],
      "metadata": {
        "id": "nXrFnq5_ggoh"
      }
    },
    {
      "cell_type": "code",
      "source": [
        "from sklearn.model_selection import GridSearchCV\n",
        "\n",
        "def gridsearch(X_train, y_train, model, params, scoring=\"neg_mean_squared_error\", cv=5):\n",
        "  \"\"\"Перебор всевозможных гиперпараметров.\n",
        "\n",
        "  :param X_train: объекты обучающей выборки\n",
        "  :param y_train: значения целевой переменной обучающей выборки\n",
        "  :param model: модель, для которой производится подбор гиперпараметров\n",
        "  :param params: словарь с названиями гиперпараметрамов и всеми наборами значений\n",
        "  :param scoring: функция, которая будет минимизироваться в ходе кросс-валидации\n",
        "  :param cv: количество частей, на которые будет поделена выборка\n",
        "\n",
        "  :return: наилучшие гиперпараметры\n",
        "  \"\"\"\n",
        "  searcher = GridSearchCV(\n",
        "      model,\n",
        "      params,\n",
        "      scoring=scoring,\n",
        "      cv=cv\n",
        "  )\n",
        "  searcher.fit(X_train, y_train)\n",
        "  best_params = searcher.best_params_\n",
        "\n",
        "  print(\"Best hyperparameters:\", best_params)\n",
        "  return best_params"
      ],
      "metadata": {
        "id": "rIfFQ0LyTutM"
      },
      "execution_count": null,
      "outputs": []
    },
    {
      "cell_type": "code",
      "source": [
        "best_params_lr = gridsearch(\n",
        "    X_train_new_scaled, y_train,\n",
        "    LinearRegression(),\n",
        "    {\n",
        "        \"fit_intercept\": [True, False], # default = True\n",
        "        \"positive\": [True, False], # default = False\n",
        "    }\n",
        ")"
      ],
      "metadata": {
        "colab": {
          "base_uri": "https://localhost:8080/"
        },
        "id": "JZDY_sBSREnP",
        "outputId": "4eeaf993-f2a3-4a8a-e1fa-f880bc11d951"
      },
      "execution_count": null,
      "outputs": [
        {
          "output_type": "stream",
          "name": "stdout",
          "text": [
            "Best hyperparameters: {'fit_intercept': False, 'positive': False}\n"
          ]
        }
      ]
    },
    {
      "cell_type": "markdown",
      "source": [
        "В данном случае наилучшими получились гиперпараметры по умолчанию. Ниже приведем функцию для обучения и тестирования модели. Эта функция понадобится нам для дальнейших экспериментов."
      ],
      "metadata": {
        "id": "9JoUJkvsRwcC"
      }
    },
    {
      "cell_type": "code",
      "source": [
        "def model_train_test(X_train, y_train, X_test, y_test, model):\n",
        "  \"\"\"Обучение и тестирование модели на обучающей и тестовой выборке соответственно.\n",
        "\n",
        "  :param X_train: объекты обучающей выборки\n",
        "  :param y_train: значения целевой переменной обучающей выборки\n",
        "  :param X_test: объекты тестовой выборки\n",
        "  :param y_test: значения целевой переменной тестовой выборки\n",
        "  :param model: модель, которая обучается и тестируется\n",
        "  \"\"\"\n",
        "  model.fit(X_train, y_train)\n",
        "  pred = model.predict(X_test)\n",
        "  mse = mean_squared_error(y_test, pred)\n",
        "  r2 = r2_score(y_test, pred)\n",
        "  print(\"MSE = {}; R2 = {}\".format(round(mse, 3), round(r2, 3)))\n",
        "\n",
        "  return pred, mse, r2"
      ],
      "metadata": {
        "id": "WFG6gBEXVN-Y"
      },
      "execution_count": null,
      "outputs": []
    },
    {
      "cell_type": "code",
      "source": [
        "pred_lr, mse_lr, r2_lr = model_train_test(\n",
        "    X_train_new_scaled,\n",
        "    y_train,\n",
        "    X_test_new_scaled,\n",
        "    y_test,\n",
        "    LinearRegression(**best_params_lr)\n",
        ")"
      ],
      "metadata": {
        "colab": {
          "base_uri": "https://localhost:8080/"
        },
        "id": "-BbcRyHZWNXQ",
        "outputId": "0d4e12f7-d4f0-41ea-ba07-67ee4dd37139"
      },
      "execution_count": null,
      "outputs": [
        {
          "output_type": "stream",
          "name": "stdout",
          "text": [
            "MSE = 13902047.68; R2 = 0.788\n"
          ]
        }
      ]
    },
    {
      "cell_type": "markdown",
      "source": [
        "## Модели с $L_1-$ и $L_2-$регуляризацией\n",
        "\n",
        "При использовании какой-либо регуляризации в формулу добавляется еще одно слагаемое. Пусть $\\hat{y}$ — предсказания модели, $a$ — модель, $x = (x_1,... , x_d)$ — вектор признаков, $w = (w_1, ..., w_d)$ — вектор весов. Тогда:\n",
        "* $L_1-$регуляризация:  \n",
        "$$\\hat{y} = a(x) = \\sum_{i = 1}^{d}{w_ix_i+ \\lambda ||w||_1}$$\n",
        "\n",
        "* $L_2-$регуляризация:\n",
        "$$\\hat{y} = a(x) = \\sum_{i = 1}^{d}{w_ix_i+ \\lambda ||w||_2^2}$$"
      ],
      "metadata": {
        "id": "hNEBGz2nNio5"
      }
    },
    {
      "cell_type": "markdown",
      "source": [
        "Для этих моделей будем подбирать гиперпараметры и сравнивать модели с наилучшими гиперпараметрами с классической линейной регрессией."
      ],
      "metadata": {
        "id": "a71nRkzdR86n"
      }
    },
    {
      "cell_type": "code",
      "source": [
        "from sklearn.linear_model import Ridge, Lasso"
      ],
      "metadata": {
        "id": "czfC5GXXi2Y4"
      },
      "execution_count": null,
      "outputs": []
    },
    {
      "cell_type": "code",
      "source": [
        "best_params_ridge = gridsearch(\n",
        "    X_train_new_scaled, y_train,\n",
        "    Ridge(),\n",
        "    {\n",
        "        \"alpha\": np.logspace(-2, 3, 21), # default = 1.0\n",
        "        \"tol\": np.logspace(-5, 0, 21), # default=1e-3\n",
        "    }\n",
        ")\n",
        "\n",
        "pred_ridge, mse_ridge, r2_ridge = model_train_test(\n",
        "    X_train_new_scaled,\n",
        "    y_train,\n",
        "    X_test_new_scaled,\n",
        "    y_test,\n",
        "    Ridge(**best_params_ridge)\n",
        ")"
      ],
      "metadata": {
        "colab": {
          "base_uri": "https://localhost:8080/"
        },
        "id": "GbBLxbskW1zI",
        "outputId": "b720a0bf-bbf1-4f82-c597-503d7edfff0c"
      },
      "execution_count": null,
      "outputs": [
        {
          "output_type": "stream",
          "name": "stdout",
          "text": [
            "Best hyperparameters: {'alpha': 5.623413251903491, 'tol': 1e-05}\n",
            "MSE = 12796307.539; R2 = 0.804\n"
          ]
        }
      ]
    },
    {
      "cell_type": "code",
      "source": [
        "best_params_lasso = gridsearch(\n",
        "    X_train_new_scaled, y_train,\n",
        "    Lasso(),\n",
        "    {\n",
        "        \"alpha\": np.logspace(-2, 3, 21), # default = 1.0\n",
        "        \"tol\": np.logspace(-5, 0, 21), # default=1e-4\n",
        "\n",
        "    }\n",
        ")\n",
        "\n",
        "pred_lasso, mse_lasso, r2_lasso = model_train_test(\n",
        "    X_train_new_scaled,\n",
        "    y_train,\n",
        "    X_test_new_scaled,\n",
        "    y_test,\n",
        "    Lasso(**best_params_lasso)\n",
        ")"
      ],
      "metadata": {
        "colab": {
          "base_uri": "https://localhost:8080/"
        },
        "id": "im-hhjSoSIOE",
        "outputId": "bc394ebc-19fc-4e5b-8f0a-9a5bb0ac16aa"
      },
      "execution_count": null,
      "outputs": [
        {
          "output_type": "stream",
          "name": "stdout",
          "text": [
            "Best hyperparameters: {'alpha': 31.622776601683793, 'tol': 0.01}\n",
            "MSE = 11820921.208; R2 = 0.819\n"
          ]
        }
      ]
    },
    {
      "cell_type": "markdown",
      "source": [
        "Судя по MSE, Ridge-регрессия (регрессия с $L2-$регуляризацией) работает немного лучше классической линейной регрессии и чуть-чуть уступает Lasso-регрессии ($L1-$регуляризацией)."
      ],
      "metadata": {
        "id": "GOEOUWHLZnx6"
      }
    },
    {
      "cell_type": "markdown",
      "source": [
        "## Визуализация предсказаний"
      ],
      "metadata": {
        "id": "UHdM5k-i7zVA"
      }
    },
    {
      "cell_type": "code",
      "source": [
        "# Отсортируем значения целевой переменной и предсказания\n",
        "\n",
        "order = np.argsort(y_test.values)\n",
        "y_test_ordered = y_test.values[order]\n",
        "pred_lr_ordered = pred_lr[order]\n",
        "pred_ridge_ordered = pred_ridge[order]\n",
        "pred_lasso_ordered = pred_lasso[order]"
      ],
      "metadata": {
        "id": "gotlsu3AK5JC"
      },
      "execution_count": null,
      "outputs": []
    },
    {
      "cell_type": "code",
      "source": [
        "plt.rc('font', size=22) # далее во всех графиках будет использоваться такой же размер шрифта\n",
        "\n",
        "plt.figure(figsize=(10, 8))\n",
        "\n",
        "plt.scatter(y_test_ordered, pred_lr_ordered, label=\"Linear Regression\")\n",
        "plt.scatter(y_test_ordered, pred_ridge_ordered, label=\"Ridge\")\n",
        "plt.scatter(y_test_ordered, pred_lasso_ordered, label=\"Lasso\")\n",
        "\n",
        "plt.plot(y_test_ordered, y_test_ordered, label=\"True values\", color=\"red\")\n",
        "plt.legend();\n",
        "\n",
        "plt.xlabel(\"True values\");\n",
        "plt.ylabel(\"Predicted values\");"
      ],
      "metadata": {
        "colab": {
          "base_uri": "https://localhost:8080/",
          "height": 517
        },
        "id": "lgtzq97xBSj4",
        "outputId": "0a2d82e9-1497-4342-fd71-1ccb22e841b5"
      },
      "execution_count": null,
      "outputs": [
        {
          "output_type": "display_data",
          "data": {
            "text/plain": [
              "<Figure size 720x576 with 1 Axes>"
            ],
            "image/png": "[encoded data removed]"
          },
          "metadata": {
            "needs_background": "light"
          }
        }
      ]
    },
    {
      "cell_type": "markdown",
      "source": [
        "# Метод k-ближайших соседей\n",
        "\n",
        "Предсказания модели выглядят следующим образом:\n",
        "\n",
        "$$\\hat{y} = a(x) = \\frac{\\sum_{k = 1}^K y_k}{K},$$ где $x$ — новый объект, для которого требуется построить прогноз, $K$ — число ближайших соседей, которых нужно рассматривать."
      ],
      "metadata": {
        "id": "c2TQoK1Bu9jE"
      }
    },
    {
      "cell_type": "code",
      "source": [
        "from sklearn.neighbors import KNeighborsRegressor"
      ],
      "metadata": {
        "id": "gnwA3Sb9Xg0j"
      },
      "execution_count": null,
      "outputs": []
    },
    {
      "cell_type": "code",
      "source": [
        "best_params_knn = gridsearch(\n",
        "    X_train_new_scaled, y_train,\n",
        "    KNeighborsRegressor(),\n",
        "    {\n",
        "        \"n_neighbors\": np.arange(1, 21), # default = 5\n",
        "        \"p\": [1, 2], # default = 2\n",
        "        \"algorithm\": [\"auto\", \"ball_tree\", \"kd_tree\", \"brute\"], # default = \"auto\"\n",
        "    }\n",
        ")\n",
        "\n",
        "pred_knn, mse_knn, r2_knn = model_train_test(\n",
        "    X_train_new_scaled,\n",
        "    y_train,\n",
        "    X_test_new_scaled,\n",
        "    y_test,\n",
        "    KNeighborsRegressor(**best_params_knn)\n",
        ")"
      ],
      "metadata": {
        "colab": {
          "base_uri": "https://localhost:8080/"
        },
        "id": "tgttIzXTDvhO",
        "outputId": "499a7ecb-d753-44c5-94de-707254b9ff79"
      },
      "execution_count": null,
      "outputs": [
        {
          "output_type": "stream",
          "name": "stdout",
          "text": [
            "Best hyperparameters: {'algorithm': 'auto', 'n_neighbors': 3, 'p': 1}\n",
            "MSE = 34883609.637; R2 = 0.467\n"
          ]
        }
      ]
    },
    {
      "cell_type": "code",
      "source": [
        "plt.figure(figsize=(10, 8))\n",
        "\n",
        "plt.scatter(y_test_ordered, pred_knn[order], label=\"kNN\")\n",
        "plt.scatter(y_test_ordered, pred_lasso_ordered, label=\"Linear Regression\")\n",
        "\n",
        "plt.plot(y_test_ordered, y_test_ordered, label=\"True values\", color=\"red\")\n",
        "plt.legend();\n",
        "\n",
        "plt.xlabel(\"True values\");\n",
        "plt.ylabel(\"Predicted values\");"
      ],
      "metadata": {
        "colab": {
          "base_uri": "https://localhost:8080/",
          "height": 517
        },
        "id": "4HPA81CAFXKE",
        "outputId": "ec934a58-b95a-4251-d2c8-541d9b32b4b3"
      },
      "execution_count": null,
      "outputs": [
        {
          "output_type": "display_data",
          "data": {
            "text/plain": [
              "<Figure size 720x576 with 1 Axes>"
            ],
            "image/png": "[encoded data removed]"
          },
          "metadata": {
            "needs_background": "light"
          }
        }
      ]
    },
    {
      "cell_type": "markdown",
      "source": [
        "# Решающие деревья\n",
        "Структура решающего дерева представляет собой бинарное дерево с ответами в листьях и условиями в узлах.\n",
        "\n",
        "Существует несколько алгоритмов построения дерева решений:\n",
        "* Алгоритм ID3, где выбор признака происходит на основании критерия Джини\n",
        "* Алгоритм C4.5 (улучшенная версия ID3) и его модификации: IndCART, DB-CART. Выбор признака происходит на основании нормализованного прироста информации (Gain Ratio)\n",
        "* Автоматический детектор взаимодействия хи-квадрат\n",
        "* MARS: расширяет деревья решений для улучшения обработки цифровых данных  \n",
        "\n",
        "\n",
        "На практике в результате работы этих алгоритмов часто получаются слишком глубокие деревья, т. е. данная модель переобучается, поэтому рекомендуется контролировать и тщательно подбирать данный гиперпараметр."
      ],
      "metadata": {
        "id": "3XIv8tuIYTrr"
      }
    },
    {
      "cell_type": "code",
      "source": [
        "from sklearn.tree import DecisionTreeRegressor"
      ],
      "metadata": {
        "id": "Y58hFtvqF8t8"
      },
      "execution_count": null,
      "outputs": []
    },
    {
      "cell_type": "code",
      "source": [
        "best_params_dt = gridsearch(\n",
        "    X_train_new, y_train,\n",
        "    DecisionTreeRegressor(),\n",
        "    {\n",
        "        \"max_depth\": [None, 10] + [i for i in range(50, 351, 50)], # default = None\n",
        "        \"min_samples_leaf\": [i for i in range(1, 41)], # default = 1\n",
        "        \"max_features\": [None, \"auto\", \"sqrt\", \"log2\"] # default = None\n",
        "    }\n",
        ")\n",
        "\n",
        "pred_dt, mse_dt, r2_dt = model_train_test(\n",
        "    X_train_new,\n",
        "    y_train,\n",
        "    X_test_new,\n",
        "    y_test,\n",
        "    DecisionTreeRegressor(**best_params_dt)\n",
        ")"
      ],
      "metadata": {
        "colab": {
          "base_uri": "https://localhost:8080/"
        },
        "id": "MSyqZWp6Yasq",
        "outputId": "181961ef-d4bd-4b01-f508-e173764be597"
      },
      "execution_count": null,
      "outputs": [
        {
          "output_type": "stream",
          "name": "stdout",
          "text": [
            "Best hyperparameters: {'max_depth': 350, 'max_features': 'auto', 'min_samples_leaf': 2}\n",
            "MSE = 8414297.826; R2 = 0.871\n"
          ]
        }
      ]
    },
    {
      "cell_type": "code",
      "source": [
        "plt.figure(figsize=(10, 8))\n",
        "\n",
        "plt.scatter(y_test_ordered, pred_dt[order], label=\"Decision Tree\")\n",
        "plt.scatter(y_test_ordered, pred_lasso_ordered, label=\"Linear Regression\")\n",
        "\n",
        "plt.plot(y_test_ordered, y_test_ordered, label=\"True values\", color=\"red\")\n",
        "plt.legend();\n",
        "\n",
        "plt.xlabel(\"True values\");\n",
        "plt.ylabel(\"Predicted values\");"
      ],
      "metadata": {
        "colab": {
          "base_uri": "https://localhost:8080/",
          "height": 517
        },
        "id": "emBEys4JZAe8",
        "outputId": "a5c39593-08d1-4388-9896-ddc332059f17"
      },
      "execution_count": null,
      "outputs": [
        {
          "output_type": "display_data",
          "data": {
            "text/plain": [
              "<Figure size 720x576 with 1 Axes>"
            ],
            "image/png": "[encoded data removed]"
          },
          "metadata": {
            "needs_background": "light"
          }
        }
      ]
    },
    {
      "cell_type": "markdown",
      "source": [
        "# Ансамбли моделей\n",
        "В данном примере рассмотрим случайный лес, в основе которого лежит бэггинг. Идея бэггинга состоит в том, что базовые модели обучаются независимо, что может достигаться двумя путями:\n",
        "\n",
        "1. Одинаковые базовые модели обучаются на разных (независимых) подвыборках\n",
        "\n",
        "2. Разные базовые модели обучаются на одной выборке. Случайный лес придерживается первого пути, в качестве базовых моделей в нем используются решающие деревья"
      ],
      "metadata": {
        "id": "cEWrEpFukOr8"
      }
    },
    {
      "cell_type": "code",
      "source": [
        "from sklearn.ensemble import RandomForestRegressor"
      ],
      "metadata": {
        "id": "NFVNbZfckPA1"
      },
      "execution_count": null,
      "outputs": []
    },
    {
      "cell_type": "code",
      "source": [
        "best_params_rf = gridsearch(\n",
        "    X_train_new, y_train,\n",
        "    RandomForestRegressor(),\n",
        "    {\n",
        "        \"max_depth\": [None, 10] + [i for i in range(50, 351, 50)], # default = None\n",
        "        \"n_estimators\": [i for i in range(50, 351, 50)], # default = 100\n",
        "    }\n",
        ")\n",
        "\n",
        "pred_rf, mse_rf, r2_rf = model_train_test(\n",
        "    X_train_new,\n",
        "    y_train,\n",
        "    X_test_new,\n",
        "    y_test,\n",
        "    RandomForestRegressor(**best_params_rf)\n",
        ")"
      ],
      "metadata": {
        "colab": {
          "base_uri": "https://localhost:8080/"
        },
        "id": "vVEgksn6kWMB",
        "outputId": "2022b41d-1672-4a18-e6b5-467075e8d0ca"
      },
      "execution_count": null,
      "outputs": [
        {
          "output_type": "stream",
          "name": "stdout",
          "text": [
            "Best hyperparameters: {'max_depth': 150, 'n_estimators': 100}\n",
            "MSE = 4206115.792; R2 = 0.936\n"
          ]
        }
      ]
    },
    {
      "cell_type": "code",
      "source": [
        "plt.figure(figsize=(10, 8))\n",
        "\n",
        "plt.scatter(y_test_ordered, pred_rf[order], label=\"Random Forest\")\n",
        "plt.scatter(y_test_ordered, pred_lasso_ordered, label=\"Linear Regression\")\n",
        "\n",
        "plt.plot(y_test_ordered, y_test_ordered, label=\"True values\", color=\"red\")\n",
        "plt.legend();\n",
        "\n",
        "plt.xlabel(\"True values\");\n",
        "plt.ylabel(\"Predicted values\");"
      ],
      "metadata": {
        "colab": {
          "base_uri": "https://localhost:8080/",
          "height": 517
        },
        "id": "W0sNiR0SktCZ",
        "outputId": "ab6b9b72-ebb0-4e28-ee1f-345ada49dc2b"
      },
      "execution_count": null,
      "outputs": [
        {
          "output_type": "display_data",
          "data": {
            "text/plain": [
              "<Figure size 720x576 with 1 Axes>"
            ],
            "image/png": "[encoded data removed]"
          },
          "metadata": {
            "needs_background": "light"
          }
        }
      ]
    },
    {
      "cell_type": "markdown",
      "source": [
        "# Подведение итогов"
      ],
      "metadata": {
        "id": "v-V937n6lcms"
      }
    },
    {
      "cell_type": "code",
      "source": [
        "ans_df = pd.DataFrame()\n",
        "ans_df[\"Model\"] = [\"Linear Regression\", \"Ridge\", \"Lasso\", \"kNN\", \"Decision Tree\", \"Random Forest\"]\n",
        "ans_df[\"MSE\"] = [mse_lr, mse_ridge, mse_lasso, mse_knn, mse_dt, mse_rf]\n",
        "ans_df[\"R2\"] = [r2_lr, r2_ridge, r2_lasso, r2_knn, r2_dt, r2_rf]"
      ],
      "metadata": {
        "id": "BEq-LHyElfPa"
      },
      "execution_count": null,
      "outputs": []
    },
    {
      "cell_type": "code",
      "source": [
        "ans_df.sort_values(by=[\"MSE\"], ascending=True).sort_values(by=[\"R2\"], ascending=False)"
      ],
      "metadata": {
        "colab": {
          "base_uri": "https://localhost:8080/",
          "height": 237
        },
        "id": "51vuCyoel8xA",
        "outputId": "a895ca2e-28bd-4cb0-b632-38241df3bf33"
      },
      "execution_count": null,
      "outputs": [
        {
          "output_type": "execute_result",
          "data": {
            "text/plain": [
              "               Model           MSE        R2\n",
              "5      Random Forest  4.206116e+06  0.935721\n",
              "4      Decision Tree  8.414298e+06  0.871410\n",
              "2              Lasso  1.182092e+07  0.819349\n",
              "1              Ridge  1.279631e+07  0.804443\n",
              "0  Linear Regression  1.390205e+07  0.787545\n",
              "3                kNN  3.488361e+07  0.466899"
            ],
            "text/html": [
              "\n",
              "  <div id=\"df-c07262c3-9895-416a-aede-d6df460ea02f\">\n",
              "    <div class=\"colab-df-container\">\n",
              "      <div>\n",
              "<style scoped>\n",
              "    .dataframe tbody tr th:only-of-type {\n",
              "        vertical-align: middle;\n",
              "    }\n",
              "\n",
              "    .dataframe tbody tr th {\n",
              "        vertical-align: top;\n",
              "    }\n",
              "\n",
              "    .dataframe thead th {\n",
              "        text-align: right;\n",
              "    }\n",
              "</style>\n",
              "<table border=\"1\" class=\"dataframe\">\n",
              "  <thead>\n",
              "    <tr style=\"text-align: right;\">\n",
              "      <th></th>\n",
              "      <th>Model</th>\n",
              "      <th>MSE</th>\n",
              "      <th>R2</th>\n",
              "    </tr>\n",
              "  </thead>\n",
              "  <tbody>\n",
              "    <tr>\n",
              "      <th>5</th>\n",
              "      <td>Random Forest</td>\n",
              "      <td>4.206116e+06</td>\n",
              "      <td>0.935721</td>\n",
              "    </tr>\n",
              "    <tr>\n",
              "      <th>4</th>\n",
              "      <td>Decision Tree</td>\n",
              "      <td>8.414298e+06</td>\n",
              "      <td>0.871410</td>\n",
              "    </tr>\n",
              "    <tr>\n",
              "      <th>2</th>\n",
              "      <td>Lasso</td>\n",
              "      <td>1.182092e+07</td>\n",
              "      <td>0.819349</td>\n",
              "    </tr>\n",
              "    <tr>\n",
              "      <th>1</th>\n",
              "      <td>Ridge</td>\n",
              "      <td>1.279631e+07</td>\n",
              "      <td>0.804443</td>\n",
              "    </tr>\n",
              "    <tr>\n",
              "      <th>0</th>\n",
              "      <td>Linear Regression</td>\n",
              "      <td>1.390205e+07</td>\n",
              "      <td>0.787545</td>\n",
              "    </tr>\n",
              "    <tr>\n",
              "      <th>3</th>\n",
              "      <td>kNN</td>\n",
              "      <td>3.488361e+07</td>\n",
              "      <td>0.466899</td>\n",
              "    </tr>\n",
              "  </tbody>\n",
              "</table>\n",
              "</div>\n",
              "      <button class=\"colab-df-convert\" onclick=\"convertToInteractive('df-c07262c3-9895-416a-aede-d6df460ea02f')\"\n",
              "              title=\"Convert this dataframe to an interactive table.\"\n",
              "              style=\"display:none;\">\n",
              "        \n",
              "  <svg xmlns=\"http://www.w3.org/2000/svg\" height=\"24px\"viewBox=\"0 0 24 24\"\n",
              "       width=\"24px\">\n",
              "    <path d=\"M0 0h24v24H0V0z\" fill=\"none\"/>\n",
              "    <path d=\"M18.56 5.44l.94 2.06.94-2.06 2.06-.94-2.06-.94-.94-2.06-.94 2.06-2.06.94zm-11 1L8.5 8.5l.94-2.06 2.06-.94-2.06-.94L8.5 2.5l-.94 2.06-2.06.94zm10 10l.94 2.06.94-2.06 2.06-.94-2.06-.94-.94-2.06-.94 2.06-2.06.94z\"/><path d=\"M17.41 7.96l-1.37-1.37c-.4-.4-.92-.59-1.43-.59-.52 0-1.04.2-1.43.59L10.3 9.45l-7.72 7.72c-.78.78-.78 2.05 0 2.83L4 21.41c.39.39.9.59 1.41.59.51 0 1.02-.2 1.41-.59l7.78-7.78 2.81-2.81c.8-.78.8-2.07 0-2.86zM5.41 20L4 18.59l7.72-7.72 1.47 1.35L5.41 20z\"/>\n",
              "  </svg>\n",
              "      </button>\n",
              "      \n",
              "  <style>\n",
              "    .colab-df-container {\n",
              "      display:flex;\n",
              "      flex-wrap:wrap;\n",
              "      gap: 12px;\n",
              "    }\n",
              "\n",
              "    .colab-df-convert {\n",
              "      background-color: #E8F0FE;\n",
              "      border: none;\n",
              "      border-radius: 50%;\n",
              "      cursor: pointer;\n",
              "      display: none;\n",
              "      fill: #1967D2;\n",
              "      height: 32px;\n",
              "      padding: 0 0 0 0;\n",
              "      width: 32px;\n",
              "    }\n",
              "\n",
              "    .colab-df-convert:hover {\n",
              "      background-color: #E2EBFA;\n",
              "      box-shadow: 0px 1px 2px rgba(60, 64, 67, 0.3), 0px 1px 3px 1px rgba(60, 64, 67, 0.15);\n",
              "      fill: #174EA6;\n",
              "    }\n",
              "\n",
              "    [theme=dark] .colab-df-convert {\n",
              "      background-color: #3B4455;\n",
              "      fill: #D2E3FC;\n",
              "    }\n",
              "\n",
              "    [theme=dark] .colab-df-convert:hover {\n",
              "      background-color: #434B5C;\n",
              "      box-shadow: 0px 1px 3px 1px rgba(0, 0, 0, 0.15);\n",
              "      filter: drop-shadow(0px 1px 2px rgba(0, 0, 0, 0.3));\n",
              "      fill: #FFFFFF;\n",
              "    }\n",
              "  </style>\n",
              "\n",
              "      <script>\n",
              "        const buttonEl =\n",
              "          document.querySelector('#df-c07262c3-9895-416a-aede-d6df460ea02f button.colab-df-convert');\n",
              "        buttonEl.style.display =\n",
              "          google.colab.kernel.accessAllowed ? 'block' : 'none';\n",
              "\n",
              "        async function convertToInteractive(key) {\n",
              "          const element = document.querySelector('#df-c07262c3-9895-416a-aede-d6df460ea02f');\n",
              "          const dataTable =\n",
              "            await google.colab.kernel.invokeFunction('convertToInteractive',\n",
              "                                                     [key], {});\n",
              "          if (!dataTable) return;\n",
              "\n",
              "          const docLinkHtml = 'Like what you see? Visit the ' +\n",
              "            '<a target=\"_blank\" href=https://colab.research.google.com/notebooks/data_table.ipynb>data table notebook</a>'\n",
              "            + ' to learn more about interactive tables.';\n",
              "          element.innerHTML = '';\n",
              "          dataTable['output_type'] = 'display_data';\n",
              "          await google.colab.output.renderOutput(dataTable, element);\n",
              "          const docLink = document.createElement('div');\n",
              "          docLink.innerHTML = docLinkHtml;\n",
              "          element.appendChild(docLink);\n",
              "        }\n",
              "      </script>\n",
              "    </div>\n",
              "  </div>\n",
              "  "
            ]
          },
          "metadata": {},
          "execution_count": 58
        }
      ]
    },
    {
      "cell_type": "markdown",
      "source": [
        "Таким образом, судя по $R^2$, почти все модели демонстрируют неплохое качество, но в данном случае наиболее хорошо себя проявил случайный лес."
      ],
      "metadata": {
        "id": "2UyTJ_mbjepF"
      }
    },
    {
      "cell_type": "code",
      "source": [],
      "metadata": {
        "id": "nbfK6sMkmDGJ"
      },
      "execution_count": null,
      "outputs": []
    }
  ]
}