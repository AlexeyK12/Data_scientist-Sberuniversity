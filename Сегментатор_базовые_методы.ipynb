{
  "cells": [
    {
      "cell_type": "markdown",
      "metadata": {
        "id": "view-in-github",
        "colab_type": "text"
      },
      "source": [
        "<a href=\"https://colab.research.google.com/github/AlexeyK12/Data_scientist-Sberuniversity/blob/main/%D0%A1%D0%B5%D0%B3%D0%BC%D0%B5%D0%BD%D1%82%D0%B0%D1%82%D0%BE%D1%80_%D0%B1%D0%B0%D0%B7%D0%BE%D0%B2%D1%8B%D0%B5_%D0%BC%D0%B5%D1%82%D0%BE%D0%B4%D1%8B.ipynb\" target=\"_parent\"><img src=\"https://colab.research.google.com/assets/colab-badge.svg\" alt=\"Open In Colab\"/></a>"
      ]
    },
    {
      "cell_type": "code",
      "execution_count": null,
      "metadata": {
        "id": "lVYRHt4bYAmO",
        "colab": {
          "base_uri": "https://localhost:8080/",
          "height": 338
        },
        "outputId": "426dcb87-0ea5-4d3d-f524-3e3ab48a0f82"
      },
      "outputs": [
        {
          "output_type": "error",
          "ename": "MessageError",
          "evalue": "ignored",
          "traceback": [
            "\u001b[0;31m---------------------------------------------------------------------------\u001b[0m",
            "\u001b[0;31mMessageError\u001b[0m                              Traceback (most recent call last)",
            "\u001b[0;32m<ipython-input-1-d5df0069828e>\u001b[0m in \u001b[0;36m<cell line: 2>\u001b[0;34m()\u001b[0m\n\u001b[1;32m      1\u001b[0m \u001b[0;32mfrom\u001b[0m \u001b[0mgoogle\u001b[0m\u001b[0;34m.\u001b[0m\u001b[0mcolab\u001b[0m \u001b[0;32mimport\u001b[0m \u001b[0mdrive\u001b[0m\u001b[0;34m\u001b[0m\u001b[0;34m\u001b[0m\u001b[0m\n\u001b[0;32m----> 2\u001b[0;31m \u001b[0mdrive\u001b[0m\u001b[0;34m.\u001b[0m\u001b[0mmount\u001b[0m\u001b[0;34m(\u001b[0m\u001b[0;34m'/content/drive'\u001b[0m\u001b[0;34m)\u001b[0m\u001b[0;34m\u001b[0m\u001b[0;34m\u001b[0m\u001b[0m\n\u001b[0m",
            "\u001b[0;32m/usr/local/lib/python3.10/dist-packages/google/colab/drive.py\u001b[0m in \u001b[0;36mmount\u001b[0;34m(mountpoint, force_remount, timeout_ms, readonly)\u001b[0m\n\u001b[1;32m    101\u001b[0m \u001b[0;32mdef\u001b[0m \u001b[0mmount\u001b[0m\u001b[0;34m(\u001b[0m\u001b[0mmountpoint\u001b[0m\u001b[0;34m,\u001b[0m \u001b[0mforce_remount\u001b[0m\u001b[0;34m=\u001b[0m\u001b[0;32mFalse\u001b[0m\u001b[0;34m,\u001b[0m \u001b[0mtimeout_ms\u001b[0m\u001b[0;34m=\u001b[0m\u001b[0;36m120000\u001b[0m\u001b[0;34m,\u001b[0m \u001b[0mreadonly\u001b[0m\u001b[0;34m=\u001b[0m\u001b[0;32mFalse\u001b[0m\u001b[0;34m)\u001b[0m\u001b[0;34m:\u001b[0m\u001b[0;34m\u001b[0m\u001b[0;34m\u001b[0m\u001b[0m\n\u001b[1;32m    102\u001b[0m   \u001b[0;34m\"\"\"Mount your Google Drive at the specified mountpoint path.\"\"\"\u001b[0m\u001b[0;34m\u001b[0m\u001b[0;34m\u001b[0m\u001b[0m\n\u001b[0;32m--> 103\u001b[0;31m   return _mount(\n\u001b[0m\u001b[1;32m    104\u001b[0m       \u001b[0mmountpoint\u001b[0m\u001b[0;34m,\u001b[0m\u001b[0;34m\u001b[0m\u001b[0;34m\u001b[0m\u001b[0m\n\u001b[1;32m    105\u001b[0m       \u001b[0mforce_remount\u001b[0m\u001b[0;34m=\u001b[0m\u001b[0mforce_remount\u001b[0m\u001b[0;34m,\u001b[0m\u001b[0;34m\u001b[0m\u001b[0;34m\u001b[0m\u001b[0m\n",
            "\u001b[0;32m/usr/local/lib/python3.10/dist-packages/google/colab/drive.py\u001b[0m in \u001b[0;36m_mount\u001b[0;34m(mountpoint, force_remount, timeout_ms, ephemeral, readonly)\u001b[0m\n\u001b[1;32m    130\u001b[0m   )\n\u001b[1;32m    131\u001b[0m   \u001b[0;32mif\u001b[0m \u001b[0mephemeral\u001b[0m\u001b[0;34m:\u001b[0m\u001b[0;34m\u001b[0m\u001b[0;34m\u001b[0m\u001b[0m\n\u001b[0;32m--> 132\u001b[0;31m     _message.blocking_request(\n\u001b[0m\u001b[1;32m    133\u001b[0m         \u001b[0;34m'request_auth'\u001b[0m\u001b[0;34m,\u001b[0m \u001b[0mrequest\u001b[0m\u001b[0;34m=\u001b[0m\u001b[0;34m{\u001b[0m\u001b[0;34m'authType'\u001b[0m\u001b[0;34m:\u001b[0m \u001b[0;34m'dfs_ephemeral'\u001b[0m\u001b[0;34m}\u001b[0m\u001b[0;34m,\u001b[0m \u001b[0mtimeout_sec\u001b[0m\u001b[0;34m=\u001b[0m\u001b[0;32mNone\u001b[0m\u001b[0;34m\u001b[0m\u001b[0;34m\u001b[0m\u001b[0m\n\u001b[1;32m    134\u001b[0m     )\n",
            "\u001b[0;32m/usr/local/lib/python3.10/dist-packages/google/colab/_message.py\u001b[0m in \u001b[0;36mblocking_request\u001b[0;34m(request_type, request, timeout_sec, parent)\u001b[0m\n\u001b[1;32m    174\u001b[0m       \u001b[0mrequest_type\u001b[0m\u001b[0;34m,\u001b[0m \u001b[0mrequest\u001b[0m\u001b[0;34m,\u001b[0m \u001b[0mparent\u001b[0m\u001b[0;34m=\u001b[0m\u001b[0mparent\u001b[0m\u001b[0;34m,\u001b[0m \u001b[0mexpect_reply\u001b[0m\u001b[0;34m=\u001b[0m\u001b[0;32mTrue\u001b[0m\u001b[0;34m\u001b[0m\u001b[0;34m\u001b[0m\u001b[0m\n\u001b[1;32m    175\u001b[0m   )\n\u001b[0;32m--> 176\u001b[0;31m   \u001b[0;32mreturn\u001b[0m \u001b[0mread_reply_from_input\u001b[0m\u001b[0;34m(\u001b[0m\u001b[0mrequest_id\u001b[0m\u001b[0;34m,\u001b[0m \u001b[0mtimeout_sec\u001b[0m\u001b[0;34m)\u001b[0m\u001b[0;34m\u001b[0m\u001b[0;34m\u001b[0m\u001b[0m\n\u001b[0m",
            "\u001b[0;32m/usr/local/lib/python3.10/dist-packages/google/colab/_message.py\u001b[0m in \u001b[0;36mread_reply_from_input\u001b[0;34m(message_id, timeout_sec)\u001b[0m\n\u001b[1;32m    101\u001b[0m     ):\n\u001b[1;32m    102\u001b[0m       \u001b[0;32mif\u001b[0m \u001b[0;34m'error'\u001b[0m \u001b[0;32min\u001b[0m \u001b[0mreply\u001b[0m\u001b[0;34m:\u001b[0m\u001b[0;34m\u001b[0m\u001b[0;34m\u001b[0m\u001b[0m\n\u001b[0;32m--> 103\u001b[0;31m         \u001b[0;32mraise\u001b[0m \u001b[0mMessageError\u001b[0m\u001b[0;34m(\u001b[0m\u001b[0mreply\u001b[0m\u001b[0;34m[\u001b[0m\u001b[0;34m'error'\u001b[0m\u001b[0;34m]\u001b[0m\u001b[0;34m)\u001b[0m\u001b[0;34m\u001b[0m\u001b[0;34m\u001b[0m\u001b[0m\n\u001b[0m\u001b[1;32m    104\u001b[0m       \u001b[0;32mreturn\u001b[0m \u001b[0mreply\u001b[0m\u001b[0;34m.\u001b[0m\u001b[0mget\u001b[0m\u001b[0;34m(\u001b[0m\u001b[0;34m'data'\u001b[0m\u001b[0;34m,\u001b[0m \u001b[0;32mNone\u001b[0m\u001b[0;34m)\u001b[0m\u001b[0;34m\u001b[0m\u001b[0;34m\u001b[0m\u001b[0m\n\u001b[1;32m    105\u001b[0m \u001b[0;34m\u001b[0m\u001b[0m\n",
            "\u001b[0;31mMessageError\u001b[0m: Error: credential propagation was unsuccessful"
          ]
        }
      ],
      "source": [
        "from google.colab import drive\n",
        "drive.mount('/content/drive')"
      ]
    },
    {
      "cell_type": "markdown",
      "source": [
        "# Новый раздел"
      ],
      "metadata": {
        "id": "bg0o6OtbnbE-"
      }
    },
    {
      "cell_type": "code",
      "execution_count": null,
      "metadata": {
        "id": "Mfr0p0AnGVAV"
      },
      "outputs": [],
      "source": [
        "import nltk\n",
        "nltk.download('punkt')\n",
        "nltk.download('stopwords')\n",
        "nltk.download('wordnet')\n",
        "nltk.download('omw-1.4')\n"
      ]
    },
    {
      "cell_type": "code",
      "execution_count": null,
      "metadata": {
        "id": "EpzkOwO8LhSs"
      },
      "outputs": [],
      "source": [
        "! pip install razdel"
      ]
    },
    {
      "cell_type": "code",
      "execution_count": null,
      "metadata": {
        "id": "gEtGE2IftBTl"
      },
      "outputs": [],
      "source": [
        "from IPython.display import Image"
      ]
    },
    {
      "cell_type": "markdown",
      "metadata": {
        "id": "BU4ycfs1Kyef"
      },
      "source": [
        "# Методы решения"
      ]
    },
    {
      "cell_type": "markdown",
      "metadata": {
        "id": "o_WdBoZEtBTx"
      },
      "source": [
        "##Метод ближайшего соседа  [Nearest neighbor classifier]\n",
        "\n",
        "Найдем $k$-ближайших соседей (самых близких документов) для документа $d$. Посмотрим на то, к каким классам относятся документы: выберем модальный класс — будем считать его классом $d$.\n",
        "\n",
        "\n",
        "\n"
      ]
    },
    {
      "cell_type": "code",
      "execution_count": null,
      "metadata": {
        "id": "kFu2kAdA2tzD"
      },
      "outputs": [],
      "source": [
        "import pandas as pd\n",
        "\n",
        "X_train = pd.read_csv('/content/drive/MyDrive/train_cleen.csv')\n",
        "X_test = pd.read_csv('/content/drive/MyDrive/test_cleen.csv')"
      ]
    },
    {
      "cell_type": "code",
      "execution_count": null,
      "metadata": {
        "id": "GO-vITCr6KFW"
      },
      "outputs": [],
      "source": [
        "X_test.counts.value_counts()"
      ]
    },
    {
      "cell_type": "code",
      "execution_count": null,
      "metadata": {
        "id": "NTL4_NOvZ2Vi"
      },
      "outputs": [],
      "source": [
        "X_train.counts.value_counts()"
      ]
    },
    {
      "cell_type": "code",
      "execution_count": null,
      "metadata": {
        "id": "_Z5IqW2p3FbP"
      },
      "outputs": [],
      "source": [
        "X_test.head()"
      ]
    },
    {
      "cell_type": "code",
      "execution_count": null,
      "metadata": {
        "id": "fl3eW8nNtBT1"
      },
      "outputs": [],
      "source": [
        "from sklearn.feature_extraction.text import CountVectorizer,TfidfVectorizer\n",
        "count_vect = TfidfVectorizer()\n",
        "X_train_counts = count_vect.fit_transform(X_train['paragraphs'].values.astype('U'))\n",
        "X_train_counts.shape"
      ]
    },
    {
      "cell_type": "code",
      "execution_count": null,
      "metadata": {
        "id": "7T6o13agtBT3"
      },
      "outputs": [],
      "source": [
        "from sklearn.neighbors import KNeighborsClassifier\n",
        "clf = KNeighborsClassifier().fit(X_train_counts, X_train['counts'])"
      ]
    },
    {
      "cell_type": "code",
      "execution_count": null,
      "metadata": {
        "id": "ELZOCmkmtBT4"
      },
      "outputs": [],
      "source": [
        "import numpy as np\n",
        "from sklearn.metrics import *\n",
        "\n",
        "X_test_ = count_vect.transform(X_test['paragraphs'].values.astype('U'))\n",
        "print(X_test_.shape)\n",
        "predicted = clf.predict(X_test_)"
      ]
    },
    {
      "cell_type": "code",
      "execution_count": null,
      "metadata": {
        "id": "lT8YgH84tBT8"
      },
      "outputs": [],
      "source": [
        "acc = recall_score(predicted, X_test['counts'])\n",
        "micro_f1 = f1_score(predicted, X_test['counts'], average = 'micro')\n",
        "micro_p = precision_score(predicted, X_test['counts'], average = 'micro')\n",
        "micro_r = recall_score(predicted, X_test['counts'], average = 'micro')\n",
        "macro_f1 = f1_score(predicted, X_test['counts'], average = 'macro')\n",
        "macro_p = precision_score(predicted, X_test['counts'], average = 'macro')\n",
        "macro_r = recall_score(predicted, X_test['counts'], average = 'macro')\n",
        "print('acc={0:1.4f}'.format(acc))\n",
        "print('micro F1={0:1.4f}, micro P={1:1.4f}, micro R={2:1.4f}'.format(micro_f1, micro_p, micro_r))\n",
        "print('macro F1={0:1.4f}, macro P={1:1.4f}, macro R={2:1.4f}\\n'.format(macro_f1, macro_p, macro_r))"
      ]
    },
    {
      "cell_type": "code",
      "execution_count": null,
      "metadata": {
        "id": "B7SQcH_EtBT-"
      },
      "outputs": [],
      "source": [
        "import seaborn as sns\n",
        "import matplotlib.pyplot as plt\n",
        "%matplotlib inline\n",
        "\n",
        "\n",
        "sns.heatmap(data=confusion_matrix(X_test['counts'], predicted), annot=True, fmt=\"d\", cbar=False)\n",
        "plt.title(\"Confusion matrix\")\n",
        "plt.show()"
      ]
    },
    {
      "cell_type": "markdown",
      "metadata": {
        "id": "hZoukLz3tBUB"
      },
      "source": [
        "## Метод наивного Байеса  [Multinomial naive Bayes classifier]\n",
        "\n",
        "Требуется оценить вероятность принадлежности документа $d \\in D$ классу $c \\in C$: $p(c|d)$. Каждый документ — мешок слов, всего слов $|V|$.\n",
        "\n",
        "$p(c)$ — априорная вероятность класса $c$\n",
        "   \n",
        "$p(c|d)$ — апостериорная вероятность класса $c$\n",
        "\n",
        "\n",
        "\n",
        "\n"
      ]
    },
    {
      "cell_type": "markdown",
      "metadata": {
        "id": "I3bqjM6PtBUC"
      },
      "source": [
        "$ p(c|d) = \\frac{p(d|c)p(c)}{p(d)} $"
      ]
    },
    {
      "cell_type": "markdown",
      "metadata": {
        "id": "539LYkn3tBUC"
      },
      "source": [
        "Пусть документ $d$ описан признаками $f_1, \\dots, f_N$.\n",
        "\n",
        "$ c_{NB} = \\arg \\max _{c \\in C} p (c|d) = \\arg \\max_{c \\in C}  \\frac{p(d|c)p(c)}{p(d)} \\propto $\n",
        "\n",
        "$ \\propto \\arg \\max_{c \\in C} p(d|c)p(c)  = \\arg \\max_{c \\in C} p(f_1, f_2, \\dots, f_{N} | c)p(c)$"
      ]
    },
    {
      "cell_type": "markdown",
      "metadata": {
        "id": "h1sp6miEtBUD"
      },
      "source": [
        "### Предположение о независимости\n",
        "\n",
        "* Мешок слов: порядок слов не имеет значения\n",
        "* Условная независимость (наивное предположение): вероятности признаков $p(f_i|c_j)$ внутри класса $c_j$ независимы\n",
        "\n",
        "$p(f_1, f_2, \\dots, f_{N} | c) \\times  p(c) =   p(f_1|c) \\times p(f_2|c) \\times \\dots \\times p(f_{N}|c)  \\times p(c)$\n",
        "\n"
      ]
    },
    {
      "cell_type": "markdown",
      "metadata": {
        "id": "Nsk7_kl8tBUD"
      },
      "source": [
        "$C_{NB}=\\arg \\max_{c \\in C} p(c) \\times \\prod_{1 \\le i \\le N} p(f_i|c) $"
      ]
    },
    {
      "cell_type": "markdown",
      "metadata": {
        "id": "rBDZtlZ1tBUE"
      },
      "source": [
        "Допустим, что признаки $f_i$ — слова $w_i$, а $\\texttt{positions}$ — все позиции слов в документе.\n",
        "\n",
        "\n",
        "$C_{NB} = p(c) \\times \\prod_{i \\in \\texttt{positions}} p(w_i|c) $"
      ]
    },
    {
      "cell_type": "markdown",
      "metadata": {
        "id": "UDSipkjUtBUF"
      },
      "source": [
        "<img src=\"https://raw.githubusercontent.com/echernyak/ML-for-compling/d6b4f82e788cd7b365ea711db2ac4b0fc7a361d0/img/bow.png\" width=\"600\">"
      ]
    },
    {
      "cell_type": "markdown",
      "metadata": {
        "id": "FwA9l32KtBUG"
      },
      "source": [
        "### Обучение наивного байесовского классификатора\n",
        "\n",
        "#### ММП оценки вероятностей:\n",
        "\n",
        "$ \\widehat{p_(c_j)} = \\frac{| \\{d| d \\in c_j\\} |}{|D|} $\n",
        "\n",
        "$ \\widehat{p(w_i | c_j)} = \\frac{\\texttt{count}(w_i, c_j)}{\\sum_{w \\in V} \\texttt{count}(w, c_j)} $\n",
        "\n",
        "Создаем $|C|$ мегадокументов: каждый документ = все документы в одном классе, склеенные в один мегадокумент, и вычисляем частоты $w$ в мегадокументах.\n",
        "\n"
      ]
    },
    {
      "cell_type": "markdown",
      "metadata": {
        "id": "ESMDHrfstBUG"
      },
      "source": [
        "#### Проблема нулевых вероятностей:  \n",
        "\n",
        "$\\texttt{count}(w_i, c_j)$ может быть равно нулю.\n",
        "\n",
        "Допустим, что каждое слово встречается как минимум $\\alpha$ раз в мешке слов.\n",
        "\n",
        "Преобразование Лапласа: $ \\frac{+\\alpha}{+\\alpha |V|}$\n",
        "\n",
        "$ \\widehat{p(w_i | c_j)} = \\frac{\\texttt{count}(w_i, c_j) + \\alpha}{(\\sum_{w \\in V} \\texttt{count}(w, c_j)) + \\alpha |V| } $"
      ]
    },
    {
      "cell_type": "markdown",
      "metadata": {
        "id": "QPkCYe1StBUH"
      },
      "source": [
        "### Пример. Тематическая классификация\n",
        "\n",
        "    \n",
        "\n",
        "\n",
        "<table>\n",
        "  <tr>\n",
        "    <th></th>\n",
        "    <th>документ</th>\n",
        "    <th>класс</th>\n",
        "  </tr>\n",
        "  <tr>\n",
        "    <td rowspan=\"4\">обучающее<br>множество</td>\n",
        "    <td>Chinese Beijing Chinese</td>\n",
        "    <td>c</td>\n",
        "  </tr>\n",
        "  <tr>\n",
        "    <td>Chinese Chinese Shanghai</td>\n",
        "    <td>c</td>\n",
        "  </tr>\n",
        "  <tr>\n",
        "    <td>Chinese Macao</td>\n",
        "    <td>c</td>\n",
        "  </tr>\n",
        "  <tr>\n",
        "    <td>Tokyo Japan Chinese</td>\n",
        "    <td>j</td>\n",
        "  </tr>\n",
        "  <tr>\n",
        "    <td>тестовое<br>множество</td>\n",
        "    <td>Chinese Chinese Chinese Tokyo Japan</td>\n",
        "    <td>?</td>\n",
        "  </tr>\n",
        "</table>\n",
        "\n"
      ]
    },
    {
      "cell_type": "markdown",
      "metadata": {
        "id": "-Hwtqv7dtBUI"
      },
      "source": [
        "\n",
        "$p(c) =\\frac{3}{4}$,$p(j) = \\frac{1}{4}$\n",
        "\n",
        "$p(\\texttt{Chinese|c)}= (5+1)/(8+6)=6/14=3/7$  \n",
        "\n",
        "$p(\\texttt{Chinese|j)}= (1+1)/(3+6)=2/9$  \n",
        "\n",
        "$p(\\texttt{Tokyo|c)}= (0+1)/(8+6)=1/14$  \n",
        "\n",
        "$p(\\texttt{Tokyo|j)}= (1+1)/(3+6)=2/9$  \n",
        "\n",
        "$p(\\texttt{Japan|c)}= (0+1)/(8+6)=1/14$  \n",
        "\n",
        "$p(\\texttt{Japan|j)}= (1+1)/(3+6)=2/9$\n"
      ]
    },
    {
      "cell_type": "markdown",
      "metadata": {
        "id": "2eISnqz-tBUI"
      },
      "source": [
        "$p(c|d_5) = 3/4 \\times (3/7)^3 \\times 1/14 \\times 1/14 \\approx 0.0003$\n",
        "\n",
        "$p(j|d_5) = 1/4 \\times (2/9)^3 \\times 2/9 \\times 2/9 \\approx 0.0001$"
      ]
    },
    {
      "cell_type": "markdown",
      "metadata": {
        "id": "s8iClw2qtBUJ"
      },
      "source": [
        "### Мультиномиальный наивный байсовский классификатор\n",
        "\n"
      ]
    },
    {
      "cell_type": "code",
      "execution_count": null,
      "metadata": {
        "id": "tvksPrcZtBUJ"
      },
      "outputs": [],
      "source": [
        "from sklearn.naive_bayes import MultinomialNB\n",
        "clf = MultinomialNB().fit(X_train_counts, X_train['counts'])\n",
        "predicted = clf.predict(X_test_)"
      ]
    },
    {
      "cell_type": "code",
      "execution_count": null,
      "metadata": {
        "id": "QSSrgdfstBUL"
      },
      "outputs": [],
      "source": [
        "acc = accuracy_score(predicted, X_test['counts'])\n",
        "micro_f1 = f1_score(predicted, X_test['counts'], average = 'micro')\n",
        "micro_p = precision_score(predicted, X_test['counts'], average = 'micro')\n",
        "micro_r = recall_score(predicted, X_test['counts'], average = 'micro')\n",
        "macro_f1 = f1_score(predicted, X_test['counts'], average = 'macro')\n",
        "macro_p = precision_score(predicted, X_test['counts'], average = 'macro')\n",
        "macro_r = recall_score(predicted, X_test['counts'], average = 'macro')\n",
        "print('acc={0:1.4f}'.format(acc))\n",
        "print('micro F1={0:1.4f}, micro P={1:1.4f}, micro R={2:1.4f}'.format(micro_f1, micro_p, micro_r))\n",
        "print('macro F1={0:1.4f}, macro P={1:1.4f}, macro R={2:1.4f}\\n'.format(macro_f1, macro_p, macro_r))"
      ]
    },
    {
      "cell_type": "code",
      "execution_count": null,
      "metadata": {
        "id": "fy7d47QbtBUM"
      },
      "outputs": [],
      "source": [
        "sns.heatmap(data=confusion_matrix(X_test['counts'], predicted), annot=True, fmt=\"d\", cbar=False)\n",
        "plt.title(\"Confusion matrix\")\n",
        "plt.show()"
      ]
    },
    {
      "cell_type": "markdown",
      "metadata": {
        "id": "uAL5U2uPtBUS"
      },
      "source": [
        "## Логистическая регрессия (метод максимальной энтропии [MaxEnt])\n",
        "\n",
        "Требуется оценить вероятность принадлежности документа $d \\in D$ классу $c \\in C$: $p(c|d)$. Пусть заданы признаки  $f_i \\in F$ — множество признаков и  $w_i$ — их веса.\n",
        "\n",
        "Признаки могут зависеть от классов: $f_i(c,d).$  \n",
        "\n",
        "Линейная комбинация этих признаков: $\\sum_{i=1}^k w_i f_i(c,d)$.  "
      ]
    },
    {
      "cell_type": "markdown",
      "metadata": {
        "id": "8Vy4ri00tBUS"
      },
      "source": [
        "Как связана $\\sum_{i=1}^k w_i f_i(c,x)$ и $p(c|d)$?\n",
        "\n",
        "$p(c|d) = \\frac{1}{Z} e^{\\sum_{i=1}^k w_i f_i(c,d)},$\n",
        "\n",
        "где $\\frac{1}{Z} = \\frac{1}{\\sum_{c' \\in C} e^{\\sum_{i=1}^k w_i f_i(c',d)} }.$"
      ]
    },
    {
      "cell_type": "markdown",
      "metadata": {
        "id": "2wXllIaBtBUT"
      },
      "source": [
        "$ \\widehat{c} = \\texttt{argmax}_{c \\in C} p (c|d) = \\texttt{argmax}_{c \\in C} \\frac{e^{\\sum_{i=1}^k w_i f_i(c,d)}}{\\sum_{c' \\in C} e^{\\sum_{i=1}^k w_i f_i(c',d)}}  \\propto  \\texttt{argmax}_{c \\in C} e^{\\sum_{i=1}^k w_i f_i(c,d)}   \\propto  \\texttt{argmax}_{c \\in C} \\sum_{i=1}^k w_i f_i(c,d).  $\n"
      ]
    },
    {
      "cell_type": "markdown",
      "metadata": {
        "id": "qOVfWJjZtBUU"
      },
      "source": [
        "### Пример. Классификация по тональности на $C = <+,->$\n",
        "\n",
        "Используем индикаторные признаки:\n",
        "\n",
        "\n",
        "*...there are virtually no surprises, and the writing is second-rate. So why did I enjoy it so much? For one thing, the cast is great...*\n",
        "\n",
        "\n",
        "<table>\n",
        "  <tr>\n",
        "    <th>признак</th>\n",
        "    <th>значение</th>\n",
        "    <th></th>\n",
        "    <th>вес</th>\n",
        "  </tr>\n",
        "  <tr>\n",
        "    <td>$f_1$</td>\n",
        "    <td>1</td>\n",
        "    <td> \"great\" $\\in d$ и $c=+$</td>\n",
        "    <td rowspan=\"2\">1.9</td>\n",
        "  </tr>\n",
        "  <tr>\n",
        "    <td></td>\n",
        "    <td>0</td>\n",
        "    <td>иначе</td>\n",
        "  </tr>\n",
        "  \n",
        "   <tr>\n",
        "    <td>$f_2$</td>\n",
        "    <td>1</td>\n",
        "    <td>\"second-rate\" $\\in d$ и $c=-$</td>\n",
        "    <td rowspan=\"2\">0.9</td>\n",
        "  </tr>\n",
        "  <tr>\n",
        "    <td></td>\n",
        "    <td>0</td>\n",
        "    <td>иначе</td>\n",
        "  </tr>\n",
        "\n",
        "   <tr>\n",
        "    <td>$f_3$</td>\n",
        "    <td>1</td>\n",
        "    <td>\"no\" $\\in d$ и $c=-$ </td>\n",
        "    <td rowspan=\"2\">0.7</td>\n",
        "  </tr>\n",
        "  <tr>\n",
        "    <td></td>\n",
        "    <td>0</td>\n",
        "    <td>иначе</td>\n",
        "  </tr>\n",
        "  \n",
        "   <tr>\n",
        "    <td>$f_4$</td>\n",
        "    <td>1</td>\n",
        "    <td>\"enjoy\" $\\in d$ и $c=-$ </td>\n",
        "    <td rowspan=\"2\">-0.8</td>\n",
        "  </tr>\n",
        "  <tr>\n",
        "    <td></td>\n",
        "    <td>0</td>\n",
        "    <td>иначе</td>\n",
        "  </tr>\n",
        "\n",
        "   <tr>\n",
        "    <td>$f_4$</td>\n",
        "    <td>1</td>\n",
        "    <td>\"great\" $\\in d$ и $c=-$ </td>\n",
        "    <td rowspan=\"2\">-0.6</td>\n",
        "  </tr>\n",
        "  <tr>\n",
        "    <td></td>\n",
        "    <td>0</td>\n",
        "    <td>иначе</td>\n",
        "  </tr>\n",
        "\n",
        "\n",
        "\n",
        "\n",
        "</table>\n",
        "\n",
        "\n",
        "\n",
        "\n",
        "\n"
      ]
    },
    {
      "cell_type": "markdown",
      "metadata": {
        "id": "PcmbU0RFtBUU"
      },
      "source": [
        "Класс $+$:  $1,9 + 0 + 0 + 0 + 0 = 1,9.$\n",
        "\n",
        "Класс $-$: $0 + 0,9 + 0,7 - 0,8 - 0,6 =0,2.$"
      ]
    },
    {
      "cell_type": "markdown",
      "metadata": {
        "id": "JXucgjkdtBUV"
      },
      "source": [
        "$p(+|d) = \\frac{e^{1.9}}{e^{1.9}+e^{0.2}}$\n",
        "\n",
        "$p(-|d) = \\frac{e^{0.2}}{e^{1.9}+e^{0.2}}$"
      ]
    },
    {
      "cell_type": "markdown",
      "metadata": {
        "id": "VWOUbbnytBUW"
      },
      "source": [
        "### Поиск весов логистической регрессии\n",
        "\n",
        "Для каждой пары $(c,d)$: $ \\widehat{w} = \\texttt{argmax}_{w} \\log p(c|d). $\n",
        "\n",
        "Максимизация логарифмического правдоподобия: $L(w) =  \\sum_{j} \\log p(c_{j}|d). $\n",
        "\n",
        "При использовании индикаторных признаков методы выпуклой оптимизации позволяют выбрать модель с максимальной энтропией."
      ]
    },
    {
      "cell_type": "code",
      "execution_count": null,
      "metadata": {
        "id": "-wAmHq1MtBUW"
      },
      "outputs": [],
      "source": [
        "from sklearn.linear_model import LogisticRegression\n",
        "clf = LogisticRegression().fit(X_train_counts, X_train['counts'])\n",
        "predicted = clf.predict(X_test_)"
      ]
    },
    {
      "cell_type": "code",
      "execution_count": null,
      "metadata": {
        "id": "ZgCIqD9qtBUY"
      },
      "outputs": [],
      "source": [
        "acc = accuracy_score(predicted, X_test['counts'])\n",
        "micro_f1 = f1_score(predicted, X_test['counts'], average = 'micro')\n",
        "micro_p = precision_score(predicted, X_test['counts'], average = 'micro')\n",
        "micro_r = recall_score(predicted, X_test['counts'], average = 'micro')\n",
        "macro_f1 = f1_score(predicted, X_test['counts'], average = 'macro')\n",
        "macro_p = precision_score(predicted, X_test['counts'], average = 'macro')\n",
        "macro_r = recall_score(predicted, X_test['counts'], average = 'macro')\n",
        "print('acc={0:1.4f}'.format(acc))\n",
        "print('micro F1={0:1.4f}, micro P={1:1.4f}, micro R={2:1.4f}'.format(micro_f1, micro_p, micro_r))\n",
        "print('macro F1={0:1.4f}, macro P={1:1.4f}, macro R={2:1.4f}\\n'.format(macro_f1, macro_p, macro_r))"
      ]
    },
    {
      "cell_type": "code",
      "execution_count": null,
      "metadata": {
        "id": "Vr5U-NMDtBUa"
      },
      "outputs": [],
      "source": [
        "\n",
        "sns.heatmap(data=confusion_matrix(X_test['counts'], predicted), annot=True, fmt=\"d\", cbar=False)\n",
        "plt.title(\"Confusion matrix\")\n",
        "plt.show()"
      ]
    },
    {
      "cell_type": "markdown",
      "metadata": {
        "id": "pQV28tkQtBUd"
      },
      "source": [
        "## Метод опорных векторов [Support vector machine, SVM]\n",
        "\n",
        "\n",
        "<img src=\"https://raw.githubusercontent.com/echernyak/ML-for-compling/d6b4f82e788cd7b365ea711db2ac4b0fc7a361d0/img/svm_1.png\" width=\"200\" align='right'>\n",
        "\n",
        "\n",
        "$a(x) = sign(<w,x>+b)$ — классификатор, задающий разделяющую гиперплоскость\n",
        "\n",
        "$ \\min_{x \\in X} |<w,x>+b| = 1$ — нормировка параметров\n",
        "\n",
        "Требуется построить разделяющую гиперплоскость шириной $ \\frac{2}{||w||}$ (т. е. $2 ~ \\times $ расстояние от разделяющей гиперплоскости до ближайшего объекта обучающего множества, иначе отступ).\n",
        "\n",
        "\n",
        "Оптимизационная задача (если выборка линейно разделима):\n",
        "\n",
        "$ \\frac{1}{2} ||w||^2 \\rightarrow \\min_{w,b} $\n",
        "\n",
        "$ y_i(<w_i, x_i> + b) \\geq 1 $\n",
        "\n",
        "\n",
        "\n",
        "Kernel trick: $k(x ,x')=\\langle  x ,x' \\rangle $.\n",
        "\n",
        "\n",
        "\n",
        "Конспекты Е. Соколова: https://github.com/esokolov/ml-course-hse/blob/master/2016-fall/lecture-notes/lecture05-linclass.pdf.\n",
        "\n",
        "Multi-class SVM: https://nlp.stanford.edu/IR-book/html/htmledition/multiclass-svms-1.html."
      ]
    },
    {
      "cell_type": "code",
      "execution_count": null,
      "metadata": {
        "id": "ZhP4gAvgtBUd"
      },
      "outputs": [],
      "source": [
        "from sklearn.svm import LinearSVC\n",
        "clf = LinearSVC().fit(X_train_counts, X_train['counts'])\n",
        "predicted = clf.predict(X_test_)"
      ]
    },
    {
      "cell_type": "code",
      "execution_count": null,
      "metadata": {
        "id": "w4i8D2UNtBUf"
      },
      "outputs": [],
      "source": [
        "acc = accuracy_score(predicted, X_test['counts'])\n",
        "micro_f1 = f1_score(predicted, X_test['counts'], average = 'micro')\n",
        "micro_p = precision_score(predicted, X_test['counts'], average = 'micro')\n",
        "micro_r = recall_score(predicted, X_test['counts'], average = 'micro')\n",
        "macro_f1 = f1_score(predicted, X_test['counts'], average = 'macro')\n",
        "macro_p = precision_score(predicted, X_test['counts'], average = 'macro')\n",
        "macro_r = recall_score(predicted, X_test['counts'], average = 'macro')\n",
        "print('acc={0:1.4f}'.format(acc))\n",
        "print('micro F1={0:1.4f}, micro P={1:1.4f}, micro R={2:1.4f}'.format(micro_f1, micro_p, micro_r))\n",
        "print('macro F1={0:1.4f}, macro P={1:1.4f}, macro R={2:1.4f}\\n'.format(macro_f1, macro_p, macro_r))"
      ]
    },
    {
      "cell_type": "code",
      "execution_count": null,
      "metadata": {
        "id": "eovHXFpptBUg"
      },
      "outputs": [],
      "source": [
        "sns.heatmap(data=confusion_matrix(X_test['counts'], predicted), annot=True, fmt=\"d\", cbar=False)\n",
        "plt.title(\"Confusion matrix\")\n",
        "plt.show()"
      ]
    },
    {
      "cell_type": "markdown",
      "metadata": {
        "id": "WCruOLwftBUl"
      },
      "source": [
        "## Деревья решений\n",
        "\n",
        "\n",
        "\n",
        "<img src=\"https://raw.githubusercontent.com/echernyak/ML-for-compling/d6b4f82e788cd7b365ea711db2ac4b0fc7a361d0/img/decision-tree.png\" width=\"300\" align='center'>"
      ]
    },
    {
      "cell_type": "code",
      "execution_count": null,
      "metadata": {
        "id": "x9dRWKVctBUl"
      },
      "outputs": [],
      "source": [
        "from sklearn.tree import DecisionTreeClassifier\n",
        "clf = DecisionTreeClassifier().fit(X_train_counts, X_train['counts'])\n",
        "predicted = clf.predict(X_test_)"
      ]
    },
    {
      "cell_type": "code",
      "execution_count": null,
      "metadata": {
        "id": "bcIeFRiGtBUn"
      },
      "outputs": [],
      "source": [
        "acc = accuracy_score(predicted, X_test['counts'])\n",
        "micro_f1 = f1_score(predicted, X_test['counts'], average = 'micro')\n",
        "micro_p = precision_score(predicted, X_test['counts'], average = 'micro')\n",
        "micro_r = recall_score(predicted, X_test['counts'], average = 'micro')\n",
        "macro_f1 = f1_score(predicted, X_test['counts'], average = 'macro')\n",
        "macro_p = precision_score(predicted, X_test['counts'], average = 'macro')\n",
        "macro_r = recall_score(predicted, X_test['counts'], average = 'macro')\n",
        "print('acc={0:1.4f}'.format(acc))\n",
        "print('micro F1={0:1.4f}, micro P={1:1.4f}, micro R={2:1.4f}'.format(micro_f1, micro_p, micro_r))\n",
        "print('macro F1={0:1.4f}, macro P={1:1.4f}, macro R={2:1.4f}\\n'.format(macro_f1, macro_p, macro_r))"
      ]
    },
    {
      "cell_type": "code",
      "execution_count": null,
      "metadata": {
        "id": "MCxKPzRWtBUp"
      },
      "outputs": [],
      "source": [
        "sns.heatmap(data=confusion_matrix(X_test['counts'], predicted), annot=True, fmt=\"d\", cbar=False)\n",
        "plt.title(\"Confusion matrix\")\n",
        "plt.show()"
      ]
    },
    {
      "cell_type": "markdown",
      "metadata": {
        "id": "Tb1kOU4XzY-y"
      },
      "source": [
        "## RandomForestClassifier"
      ]
    },
    {
      "cell_type": "code",
      "execution_count": null,
      "metadata": {
        "id": "Vko_mgiW_uQ4"
      },
      "outputs": [],
      "source": [
        "from sklearn.ensemble import RandomForestClassifier\n",
        "\n",
        "clf = RandomForestClassifier().fit(X_train_counts, X_train['counts'])\n",
        "predicted = clf.predict(X_test_)"
      ]
    },
    {
      "cell_type": "code",
      "execution_count": null,
      "metadata": {
        "id": "LNiiDrtr_3AP"
      },
      "outputs": [],
      "source": [
        "acc = accuracy_score(predicted, X_test['counts'])\n",
        "micro_f1 = f1_score(predicted, X_test['counts'], average = 'micro')\n",
        "micro_p = precision_score(predicted, X_test['counts'], average = 'micro')\n",
        "micro_r = recall_score(predicted, X_test['counts'], average = 'micro')\n",
        "macro_f1 = f1_score(predicted, X_test['counts'], average = 'macro')\n",
        "macro_p = precision_score(predicted, X_test['counts'], average = 'macro')\n",
        "macro_r = recall_score(predicted, X_test['counts'], average = 'macro')\n",
        "print('acc={0:1.4f}'.format(acc))\n",
        "print('micro F1={0:1.4f}, micro P={1:1.4f}, micro R={2:1.4f}'.format(micro_f1, micro_p, micro_r))\n",
        "print('macro F1={0:1.4f}, macro P={1:1.4f}, macro R={2:1.4f}\\n'.format(macro_f1, macro_p, macro_r))"
      ]
    },
    {
      "cell_type": "code",
      "execution_count": null,
      "metadata": {
        "id": "8m3pkn2z_3wq"
      },
      "outputs": [],
      "source": [
        "sns.heatmap(data=confusion_matrix(X_test['counts'], predicted), annot=True, fmt=\"d\", cbar=False)\n",
        "plt.title(\"Confusion matrix\")\n",
        "plt.show()"
      ]
    },
    {
      "cell_type": "markdown",
      "metadata": {
        "id": "h0j8hiSDzNRV"
      },
      "source": [
        "## CatBoost"
      ]
    },
    {
      "cell_type": "code",
      "execution_count": null,
      "metadata": {
        "id": "rsYT-rpPE2h7"
      },
      "outputs": [],
      "source": [
        "!pip install catboost"
      ]
    },
    {
      "cell_type": "code",
      "execution_count": null,
      "metadata": {
        "id": "xF0X2gEOFMy6"
      },
      "outputs": [],
      "source": [
        "from catboost import CatBoostClassifier, Pool, metrics, cv\n",
        "from sklearn.metrics import accuracy_score"
      ]
    },
    {
      "cell_type": "code",
      "execution_count": null,
      "metadata": {
        "id": "Rb62ShvQFT9S"
      },
      "outputs": [],
      "source": [
        "model = CatBoostClassifier(\n",
        "    custom_loss=[metrics.Accuracy()],\n",
        "    random_seed=42,\n",
        "    logging_level='Silent'\n",
        ")"
      ]
    },
    {
      "cell_type": "code",
      "execution_count": null,
      "metadata": {
        "id": "2sNK8RVDFXzo"
      },
      "outputs": [],
      "source": [
        "model.fit(\n",
        "    X_train_counts, X_train['counts'],\n",
        "#     logging_level='Verbose',  # you can uncomment this for text output\n",
        "    plot=True\n",
        ");"
      ]
    },
    {
      "cell_type": "code",
      "execution_count": null,
      "metadata": {
        "id": "yeK77I93FifN"
      },
      "outputs": [],
      "source": [
        "predicted= model.predict(X_test_)"
      ]
    },
    {
      "cell_type": "code",
      "execution_count": null,
      "metadata": {
        "id": "LyDlFFjFFskk"
      },
      "outputs": [],
      "source": [
        "acc = accuracy_score(predicted, X_test['counts'])\n",
        "micro_f1 = f1_score(predicted, X_test['counts'], average = 'micro')\n",
        "micro_p = precision_score(predicted, X_test['counts'], average = 'micro')\n",
        "micro_r = recall_score(predicted, X_test['counts'], average = 'micro')\n",
        "macro_f1 = f1_score(predicted, X_test['counts'], average = 'macro')\n",
        "macro_p = precision_score(predicted, X_test['counts'], average = 'macro')\n",
        "macro_r = recall_score(predicted, X_test['counts'], average = 'macro')\n",
        "print('acc={0:1.4f}'.format(acc))\n",
        "print('micro F1={0:1.4f}, micro P={1:1.4f}, micro R={2:1.4f}'.format(micro_f1, micro_p, micro_r))\n",
        "print('macro F1={0:1.4f}, macro P={1:1.4f}, macro R={2:1.4f}\\n'.format(macro_f1, macro_p, macro_r))"
      ]
    },
    {
      "cell_type": "code",
      "execution_count": null,
      "metadata": {
        "id": "E4PFNHBXGIaf"
      },
      "outputs": [],
      "source": [
        "sns.heatmap(data=confusion_matrix(X_test['counts'], predicted), annot=True, fmt=\"d\", cbar=False)\n",
        "plt.title(\"Confusion matrix\")\n",
        "plt.show()"
      ]
    },
    {
      "cell_type": "markdown",
      "metadata": {
        "id": "KnVgWI1HL4LH"
      },
      "source": [
        "## XGBClassifier"
      ]
    },
    {
      "cell_type": "code",
      "execution_count": null,
      "metadata": {
        "id": "FY2UABtiL3Ic"
      },
      "outputs": [],
      "source": [
        "from xgboost import XGBClassifier\n",
        "# read data\n",
        "from sklearn.datasets import load_iris\n",
        "from sklearn.model_selection import train_test_split\n",
        "#data = load_iris()\n",
        "#X_train, X_test, y_train, y_test = train_test_split(data['data'], data['target'], test_size=.2)\n",
        "# create model instance\n",
        "\n",
        "bst = XGBClassifier(n_estimators=2, max_depth=2, learning_rate=1, objective='binary:logistic')\n",
        "# fit model\n",
        "bst.fit(X_train_counts, X_train['counts'])\n",
        "# make predictions\n",
        "predicted = bst.predict(X_test_)"
      ]
    },
    {
      "cell_type": "code",
      "execution_count": null,
      "metadata": {
        "id": "6klBwCBhNgQX"
      },
      "outputs": [],
      "source": [
        "acc = accuracy_score(predicted, X_test['counts'])\n",
        "micro_f1 = f1_score(predicted, X_test['counts'], average = 'micro')\n",
        "micro_p = precision_score(predicted, X_test['counts'], average = 'micro')\n",
        "micro_r = recall_score(predicted, X_test['counts'], average = 'micro')\n",
        "macro_f1 = f1_score(predicted, X_test['counts'], average = 'macro')\n",
        "macro_p = precision_score(predicted, X_test['counts'], average = 'macro')\n",
        "macro_r = recall_score(predicted, X_test['counts'], average = 'macro')\n",
        "print('acc={0:1.4f}'.format(acc))\n",
        "print('micro F1={0:1.4f}, micro P={1:1.4f}, micro R={2:1.4f}'.format(micro_f1, micro_p, micro_r))\n",
        "print('macro F1={0:1.4f}, macro P={1:1.4f}, macro R={2:1.4f}\\n'.format(macro_f1, macro_p, macro_r))"
      ]
    },
    {
      "cell_type": "code",
      "execution_count": null,
      "metadata": {
        "id": "eOMQqsnZNzUG"
      },
      "outputs": [],
      "source": [
        "import seaborn as sns\n",
        "import matplotlib.pyplot as plt\n",
        "%matplotlib inline\n",
        "\n",
        "\n",
        "sns.heatmap(data=confusion_matrix(X_test['counts'], predicted), annot=True, fmt=\"d\", cbar=False)\n",
        "plt.title(\"Confusion matrix\")\n",
        "plt.show()"
      ]
    },
    {
      "cell_type": "markdown",
      "metadata": {
        "id": "ExjpwVSftBUq"
      },
      "source": [
        "# Другие методы классификации\n",
        "\n",
        "**Линейные методы**\n",
        "\n",
        "\n",
        "**Деревья решений**:\n",
        "\n",
        "* Градиентный бустинг [Xgboost]\n",
        "* Случайный лес [Random forest]\n",
        "\n",
        "\n",
        "\n",
        "**Ансамбли классификаторов**\n",
        "\n",
        "Общая идея: слова или $n$-грамы (термы) — это признаки, тексты — объекты, т. е. матрица терм-документ.\n",
        "\n"
      ]
    },
    {
      "cell_type": "markdown",
      "metadata": {
        "id": "khpq7YDftBUv"
      },
      "source": [
        "# Конвейер в sklearn"
      ]
    },
    {
      "cell_type": "code",
      "execution_count": null,
      "metadata": {
        "id": "2clXLgi3tBUw"
      },
      "outputs": [],
      "source": [
        "from sklearn.pipeline import Pipeline\n",
        "from sklearn.feature_extraction.text import TfidfTransformer\n",
        "\n",
        "text_clf = Pipeline([('vect', CountVectorizer(ngram_range = (2,3))),\n",
        "                     ('tfidf', TfidfTransformer()),\n",
        "                     ('clf', MultinomialNB())])\n",
        "text_clf"
      ]
    },
    {
      "cell_type": "code",
      "execution_count": null,
      "metadata": {
        "id": "YXTM3MO6tBUy"
      },
      "outputs": [],
      "source": [
        "text_clf.fit(twenty_train.data, twenty_train.target)\n",
        "predicted = text_clf.predict(twenty_test.data)"
      ]
    },
    {
      "cell_type": "code",
      "execution_count": null,
      "metadata": {
        "id": "dblaEg44tBUz"
      },
      "outputs": [],
      "source": [
        "acc = accuracy_score(predicted, twenty_test.target)\n",
        "micro_f1 = f1_score(predicted, twenty_test.target, average = 'micro')\n",
        "micro_p = precision_score(predicted, twenty_test.target, average = 'micro')\n",
        "micro_r = recall_score(predicted, twenty_test.target, average = 'micro')\n",
        "macro_f1 = f1_score(predicted, twenty_test.target, average = 'macro')\n",
        "macro_p = precision_score(predicted, twenty_test.target, average = 'macro')\n",
        "macro_r = recall_score(predicted, twenty_test.target, average = 'macro')\n",
        "print('acc={0:1.4f}'.format(acc))\n",
        "print('micro F1={0:1.4f}, micro P={1:1.4f}, micro R={2:1.4f}'.format(micro_f1, micro_p, micro_r))\n",
        "print('macro F1={0:1.4f}, macro P={1:1.4f}, macro R={2:1.4f}\\n'.format(macro_f1, macro_p, macro_r))"
      ]
    },
    {
      "cell_type": "code",
      "execution_count": null,
      "metadata": {
        "id": "AWPqKllFtBU0"
      },
      "outputs": [],
      "source": [
        "predicted = clf.predict(X_new_counts)\n",
        "\n",
        "for doc, category in zip(docs_new, predicted):\n",
        "    print('{} => {}'.format(doc, twenty_train.target_names[category]))"
      ]
    }
  ],
  "metadata": {
    "anaconda-cloud": {},
    "colab": {
      "collapsed_sections": [
        "ESMDHrfstBUG"
      ],
      "provenance": [],
      "include_colab_link": true
    },
    "kernelspec": {
      "display_name": "Python (36-64)",
      "language": "python",
      "name": "python3"
    },
    "language_info": {
      "codemirror_mode": {
        "name": "ipython",
        "version": 3
      },
      "file_extension": ".py",
      "mimetype": "text/x-python",
      "name": "python",
      "nbconvert_exporter": "python",
      "pygments_lexer": "ipython3",
      "version": "3.6.7"
    },
    "nbpresent": {
      "slides": {
        "00372d3b-15f3-4e74-b24c-1a130beba28f": {
          "id": "00372d3b-15f3-4e74-b24c-1a130beba28f",
          "prev": "b723c1ab-e26c-4b5c-bb94-0c0ebe5934b2",
          "regions": {
            "73eefab1-498f-4c0a-8945-c3985199d3df": {
              "attrs": {
                "height": 0.8,
                "width": 0.8,
                "x": 0.1,
                "y": 0.1
              },
              "content": {
                "cell": "b97b5e2f-fdad-43f5-abe7-a6715c42522e",
                "part": "whole"
              },
              "id": "73eefab1-498f-4c0a-8945-c3985199d3df"
            }
          }
        },
        "00eacb86-9392-4b45-a4f9-a8388f7ddc3a": {
          "id": "00eacb86-9392-4b45-a4f9-a8388f7ddc3a",
          "prev": "f8fecfcd-1165-4c8d-82f7-eb1dff045319",
          "regions": {
            "4ed7d6f9-9c33-45ae-b6fb-43d6df504d08": {
              "attrs": {
                "height": 0.8,
                "width": 0.8,
                "x": 0.1,
                "y": 0.1
              },
              "content": {
                "cell": "06f23774-9fe8-4692-9e28-f9c13fe5c9de",
                "part": "whole"
              },
              "id": "4ed7d6f9-9c33-45ae-b6fb-43d6df504d08"
            }
          }
        },
        "03d508a5-6df0-41c5-852c-f2d2c4ae978d": {
          "id": "03d508a5-6df0-41c5-852c-f2d2c4ae978d",
          "prev": "49d05ed2-2ae7-440c-bb7b-6d1b4355a663",
          "regions": {
            "a4fcf739-d162-428f-bc4c-54913a233c21": {
              "attrs": {
                "height": 0.8,
                "width": 0.8,
                "x": 0.1,
                "y": 0.1
              },
              "content": {
                "cell": "78bf75d7-dd04-4fb3-a265-5194ec6a7d7e",
                "part": "whole"
              },
              "id": "a4fcf739-d162-428f-bc4c-54913a233c21"
            }
          }
        },
        "08417df0-8a8b-48d5-88a7-26fbf7b8c716": {
          "id": "08417df0-8a8b-48d5-88a7-26fbf7b8c716",
          "prev": "a6e661fd-5a75-4b7a-b05c-fccf27f3ff50",
          "regions": {
            "5259ee7a-0921-4dee-8f20-bc90df0fbd29": {
              "attrs": {
                "height": 0.8,
                "width": 0.8,
                "x": 0.1,
                "y": 0.1
              },
              "content": {
                "cell": "054d7362-44ff-472c-980f-f35d23ec4105",
                "part": "whole"
              },
              "id": "5259ee7a-0921-4dee-8f20-bc90df0fbd29"
            }
          }
        },
        "0c3cbdda-ef5d-409e-b577-21b1075ab616": {
          "id": "0c3cbdda-ef5d-409e-b577-21b1075ab616",
          "prev": "6196b3a7-732b-490a-aaf5-eb2ad9b8bec7",
          "regions": {
            "177d902f-906b-4a95-8470-089ccb155476": {
              "attrs": {
                "height": 0.8,
                "width": 0.8,
                "x": 0.1,
                "y": 0.1
              },
              "content": {
                "cell": "9aec7311-fc8c-4b5c-a911-3e2a1c003ad2",
                "part": "whole"
              },
              "id": "177d902f-906b-4a95-8470-089ccb155476"
            },
            "30f4a7fb-5c69-485e-b64e-e5ddde20d2e1": {
              "attrs": {
                "height": 0.4,
                "width": 0.8,
                "x": 0.1,
                "y": 0.5
              },
              "content": {
                "cell": "5bdfab32-a273-4146-8ec5-efab1d30714b",
                "part": "whole"
              },
              "id": "30f4a7fb-5c69-485e-b64e-e5ddde20d2e1"
            }
          }
        },
        "0d82c21c-a1d6-44d3-86ad-6522137234b9": {
          "id": "0d82c21c-a1d6-44d3-86ad-6522137234b9",
          "prev": "42f5aa21-c243-4c8c-bfac-0ca4b66a547a",
          "regions": {
            "d97efb98-571a-4e8d-b844-13b4b36072ab": {
              "attrs": {
                "height": 0.8,
                "width": 0.8,
                "x": 0.1,
                "y": 0.1
              },
              "content": {
                "cell": "98a6b75c-c890-4f8d-96fd-2fac84d824b8",
                "part": "whole"
              },
              "id": "d97efb98-571a-4e8d-b844-13b4b36072ab"
            }
          }
        },
        "1374c36c-32b2-4a58-8683-20c29b604ad3": {
          "id": "1374c36c-32b2-4a58-8683-20c29b604ad3",
          "prev": "4fa8b482-0865-496a-8093-3c3ce689ed54",
          "regions": {
            "669d4cc9-bf04-43c2-8757-27eb04aaa1b1": {
              "attrs": {
                "height": 0.8,
                "width": 0.8,
                "x": 0.1,
                "y": 0.1
              },
              "content": {
                "cell": "c7e27488-3904-48e5-83df-18e0b9cd395d",
                "part": "whole"
              },
              "id": "669d4cc9-bf04-43c2-8757-27eb04aaa1b1"
            }
          }
        },
        "188c1830-2747-4d60-9d46-03fee3e7637e": {
          "id": "188c1830-2747-4d60-9d46-03fee3e7637e",
          "prev": "00372d3b-15f3-4e74-b24c-1a130beba28f",
          "regions": {
            "665abb49-9efa-4686-887c-8ed2c833165b": {
              "attrs": {
                "height": 0.8,
                "width": 0.8,
                "x": 0.1,
                "y": 0.1
              },
              "content": {
                "cell": "97f22335-4ecc-4c07-bf05-ec26675e09c4",
                "part": "whole"
              },
              "id": "665abb49-9efa-4686-887c-8ed2c833165b"
            }
          }
        },
        "1ae2049c-0fa1-4469-8759-beef0cdf7ab6": {
          "id": "1ae2049c-0fa1-4469-8759-beef0cdf7ab6",
          "prev": "08417df0-8a8b-48d5-88a7-26fbf7b8c716",
          "regions": {
            "9fc237e9-4c5d-4cc4-a801-57d51f0a664f": {
              "attrs": {
                "height": 0.8,
                "width": 0.8,
                "x": 0.1,
                "y": 0.1
              },
              "content": {
                "cell": "4de51889-b6d1-4c6b-8a00-b84503175c9a",
                "part": "whole"
              },
              "id": "9fc237e9-4c5d-4cc4-a801-57d51f0a664f"
            }
          }
        },
        "1b8fc7d2-c518-4e48-9921-d8dcf68cff12": {
          "id": "1b8fc7d2-c518-4e48-9921-d8dcf68cff12",
          "prev": "ef464012-e950-4ef0-b305-b9e1bd84d053",
          "regions": {
            "3951eb60-cff3-4155-b966-cae7b7e9bea2": {
              "attrs": {
                "height": 0.8,
                "width": 0.8,
                "x": 0.1,
                "y": 0.1
              },
              "content": {
                "cell": "f554fe06-a094-4366-9dfe-4ddae5469f49",
                "part": "whole"
              },
              "id": "3951eb60-cff3-4155-b966-cae7b7e9bea2"
            }
          }
        },
        "21cd57a7-2aa2-4983-8426-068dd04b8619": {
          "id": "21cd57a7-2aa2-4983-8426-068dd04b8619",
          "prev": "eb9c1d10-f95d-4ef6-bc96-92ee41ac66c5",
          "regions": {
            "8cd85f24-f23d-474e-8cb9-e593d4d05c3d": {
              "attrs": {
                "height": 0.8,
                "width": 0.8,
                "x": 0.1,
                "y": 0.1
              },
              "content": {
                "cell": "4b8a69d2-3214-4822-b254-f133d6493d96",
                "part": "whole"
              },
              "id": "8cd85f24-f23d-474e-8cb9-e593d4d05c3d"
            }
          }
        },
        "25c6d45e-ca08-4620-a635-7302c24ba213": {
          "id": "25c6d45e-ca08-4620-a635-7302c24ba213",
          "prev": "484b715d-7c91-436f-8c8c-28263463565b",
          "regions": {
            "6440f1e1-9d9a-44e4-a670-a5b33df77892": {
              "attrs": {
                "height": 0.8,
                "width": 0.8,
                "x": 0.1,
                "y": 0.1
              },
              "content": {
                "cell": "2d544fab-6a78-4351-ab03-d6c1d2177805",
                "part": "whole"
              },
              "id": "6440f1e1-9d9a-44e4-a670-a5b33df77892"
            }
          }
        },
        "408e3fdb-6210-47bd-9170-8777fc8e3e06": {
          "id": "408e3fdb-6210-47bd-9170-8777fc8e3e06",
          "prev": "a42d23f1-5a8b-4fb5-802b-2fa0fc52d5e2",
          "regions": {
            "c812e4bf-f8bd-462d-ace3-0d2b3fde2be1": {
              "attrs": {
                "height": 0.8,
                "width": 0.8,
                "x": 0.1,
                "y": 0.1
              },
              "content": {
                "cell": "a57a22b2-3622-4645-88d6-397755d86f94",
                "part": "whole"
              },
              "id": "c812e4bf-f8bd-462d-ace3-0d2b3fde2be1"
            },
            "db7eb941-091f-444c-bffc-a4c295b1c04b": {
              "attrs": {
                "height": 0.4,
                "width": 0.8,
                "x": 0.1,
                "y": 0.5
              },
              "content": {
                "cell": "e010b0dd-4e80-4e8c-8cab-8bfe7527d5f8",
                "part": "whole"
              },
              "id": "db7eb941-091f-444c-bffc-a4c295b1c04b"
            },
            "f3ce1eb0-60bd-4cad-b623-59383f52538b": {
              "attrs": {
                "height": 0.4,
                "width": 0.8,
                "x": 0.1,
                "y": 0.5
              },
              "content": {
                "cell": "41be767d-2bc0-4dcf-be7b-ee201f62f957",
                "part": "whole"
              },
              "id": "f3ce1eb0-60bd-4cad-b623-59383f52538b"
            }
          }
        },
        "40aba7de-93ba-4f60-a356-cc1c88ce5539": {
          "id": "40aba7de-93ba-4f60-a356-cc1c88ce5539",
          "prev": "b236a087-6e9d-4fa8-b967-f49a53686eb2",
          "regions": {
            "7f619243-aca2-4794-8f82-24d5c4dad7a0": {
              "attrs": {
                "height": 0.8,
                "width": 0.8,
                "x": 0.1,
                "y": 0.1
              },
              "content": {
                "cell": "1d8f2299-66c7-4d3d-8daf-aebcf63f2ec9",
                "part": "whole"
              },
              "id": "7f619243-aca2-4794-8f82-24d5c4dad7a0"
            }
          }
        },
        "4248d3d2-ef53-483d-a659-28ecf8707ddb": {
          "id": "4248d3d2-ef53-483d-a659-28ecf8707ddb",
          "prev": "0c3cbdda-ef5d-409e-b577-21b1075ab616",
          "regions": {
            "fa5dff3a-9489-43c7-8013-ba8e7b348a7f": {
              "attrs": {
                "height": 0.8,
                "width": 0.8,
                "x": 0.1,
                "y": 0.1
              },
              "content": {
                "cell": "6a6e191c-0beb-4e11-8ded-e285cbfa17c0",
                "part": "whole"
              },
              "id": "fa5dff3a-9489-43c7-8013-ba8e7b348a7f"
            }
          }
        },
        "42f5aa21-c243-4c8c-bfac-0ca4b66a547a": {
          "id": "42f5aa21-c243-4c8c-bfac-0ca4b66a547a",
          "prev": "74511773-e5ef-4a8d-a6b7-108db8fc0b65",
          "regions": {
            "a085cbed-f83b-4ca2-b32c-210b0a460285": {
              "attrs": {
                "height": 0.8,
                "width": 0.8,
                "x": 0.1,
                "y": 0.1
              },
              "content": {
                "cell": "94e77975-2978-4bdc-a96b-2715d4c83194",
                "part": "whole"
              },
              "id": "a085cbed-f83b-4ca2-b32c-210b0a460285"
            }
          }
        },
        "43a93456-d677-4147-bf78-cc80a45ceddd": {
          "id": "43a93456-d677-4147-bf78-cc80a45ceddd",
          "prev": "fe7f361d-4ec4-4296-a7ab-0d78e5c2133d",
          "regions": {
            "663487ce-05de-48c9-a6cb-dfc7277b1609": {
              "attrs": {
                "height": 0.8,
                "width": 0.8,
                "x": 0.1,
                "y": 0.1
              },
              "content": {
                "cell": "656dccbb-0b99-4c3c-b16e-6df9d3515bb9",
                "part": "whole"
              },
              "id": "663487ce-05de-48c9-a6cb-dfc7277b1609"
            }
          }
        },
        "44f91be3-d46e-434a-b00f-95a536631899": {
          "id": "44f91be3-d46e-434a-b00f-95a536631899",
          "prev": "67d8be0a-c9cb-4f15-855d-b28392e2590a",
          "regions": {
            "ee4c8336-c2b2-4b43-82d2-89b8d3e58255": {
              "attrs": {
                "height": 0.8,
                "width": 0.8,
                "x": 0.1,
                "y": 0.1
              },
              "content": {
                "cell": "c299e1d2-b14f-4cd9-89af-9ad4c3374247",
                "part": "whole"
              },
              "id": "ee4c8336-c2b2-4b43-82d2-89b8d3e58255"
            }
          }
        },
        "46f352ec-02ad-4f8c-adc4-caa1368fdbaf": {
          "id": "46f352ec-02ad-4f8c-adc4-caa1368fdbaf",
          "prev": "1374c36c-32b2-4a58-8683-20c29b604ad3",
          "regions": {
            "5545585a-9300-488c-9404-5250b9a9bcf5": {
              "attrs": {
                "height": 0.8,
                "width": 0.8,
                "x": 0.1,
                "y": 0.1
              },
              "content": {
                "cell": "34ea7bb9-e861-4325-9a47-084359024ead",
                "part": "whole"
              },
              "id": "5545585a-9300-488c-9404-5250b9a9bcf5"
            }
          }
        },
        "484b715d-7c91-436f-8c8c-28263463565b": {
          "id": "484b715d-7c91-436f-8c8c-28263463565b",
          "prev": "7f4d8c30-9da9-4278-8090-31adfe77e953",
          "regions": {
            "3f0cec22-026b-4bd4-beaf-61f7e5ae18d2": {
              "attrs": {
                "height": 0.8,
                "width": 0.8,
                "x": 0.1,
                "y": 0.1
              },
              "content": {
                "cell": "0d46eda8-dd57-453c-bdb4-11d4ae4fc843",
                "part": "whole"
              },
              "id": "3f0cec22-026b-4bd4-beaf-61f7e5ae18d2"
            }
          }
        },
        "49d05ed2-2ae7-440c-bb7b-6d1b4355a663": {
          "id": "49d05ed2-2ae7-440c-bb7b-6d1b4355a663",
          "prev": "759a79c0-469f-4d2f-8fd4-b6676723bf59",
          "regions": {
            "647346cf-a4cd-4ec4-ac28-06956b1626d9": {
              "attrs": {
                "height": 0.8,
                "width": 0.8,
                "x": 0.1,
                "y": 0.1
              },
              "content": {
                "cell": "7cea36a3-6ea2-429e-9c00-67c753ce9251",
                "part": "whole"
              },
              "id": "647346cf-a4cd-4ec4-ac28-06956b1626d9"
            },
            "7bc338bb-5c94-42f5-b20a-999fcba9204d": {
              "attrs": {
                "height": 0.4,
                "width": 0.8,
                "x": 0.1,
                "y": 0.5
              },
              "content": {
                "cell": "eac454c4-e426-4dd3-9a4a-f6db2d8ddd01",
                "part": "whole"
              },
              "id": "7bc338bb-5c94-42f5-b20a-999fcba9204d"
            }
          }
        },
        "4cc41305-949a-4cfe-9452-3f572c549bef": {
          "id": "4cc41305-949a-4cfe-9452-3f572c549bef",
          "prev": "9cf441b1-acc9-4d8f-8a61-90ec991b9972",
          "regions": {
            "b9091220-ddfb-4a48-a87f-f599a89fd424": {
              "attrs": {
                "height": 0.8,
                "width": 0.8,
                "x": 0.1,
                "y": 0.1
              },
              "content": {
                "cell": "42ea0abb-e720-41f8-a400-b8ae4187d390",
                "part": "whole"
              },
              "id": "b9091220-ddfb-4a48-a87f-f599a89fd424"
            }
          }
        },
        "4fa8b482-0865-496a-8093-3c3ce689ed54": {
          "id": "4fa8b482-0865-496a-8093-3c3ce689ed54",
          "prev": "1b8fc7d2-c518-4e48-9921-d8dcf68cff12",
          "regions": {
            "622b8033-1e1f-4140-b0f5-abe6978d1a37": {
              "attrs": {
                "height": 0.8,
                "width": 0.8,
                "x": 0.1,
                "y": 0.1
              },
              "content": {
                "cell": "46b10c7c-bd00-4736-bda2-19a1196640d3",
                "part": "whole"
              },
              "id": "622b8033-1e1f-4140-b0f5-abe6978d1a37"
            }
          }
        },
        "571cbdd4-8864-4f73-b05f-bfd2234863cd": {
          "id": "571cbdd4-8864-4f73-b05f-bfd2234863cd",
          "prev": "67ddc7f9-50d9-4288-b51c-dba403873bcf",
          "regions": {
            "45d80431-72e7-433e-82e6-0ee2a22fad3b": {
              "attrs": {
                "height": 0.8,
                "width": 0.8,
                "x": 0.1,
                "y": 0.1
              },
              "content": {
                "cell": "18f7039d-7212-4cdc-88b6-826b81d84dd6",
                "part": "whole"
              },
              "id": "45d80431-72e7-433e-82e6-0ee2a22fad3b"
            }
          }
        },
        "5a67872c-7d26-4f0b-81c5-a1b10fd229a6": {
          "id": "5a67872c-7d26-4f0b-81c5-a1b10fd229a6",
          "prev": "6a4a74ca-25d9-4e98-b5b2-a31b34394e4b",
          "regions": {
            "62ba8ecf-a6c1-4cde-a8da-91bbd3f99e5e": {
              "attrs": {
                "height": 0.8,
                "width": 0.8,
                "x": 0.1,
                "y": 0.1
              },
              "content": {
                "cell": "870573bf-e177-4f00-a7b8-349b5e61400e",
                "part": "whole"
              },
              "id": "62ba8ecf-a6c1-4cde-a8da-91bbd3f99e5e"
            }
          }
        },
        "612f8ef6-009f-4198-9c78-7cc44880221d": {
          "id": "612f8ef6-009f-4198-9c78-7cc44880221d",
          "prev": "25c6d45e-ca08-4620-a635-7302c24ba213",
          "regions": {
            "bdaa1dfb-6dfa-452d-b00d-5c0c690f0b09": {
              "attrs": {
                "height": 0.8,
                "width": 0.8,
                "x": 0.1,
                "y": 0.1
              },
              "content": {
                "cell": "8ca7e36a-2a84-4f35-9f05-f341e5909b32",
                "part": "whole"
              },
              "id": "bdaa1dfb-6dfa-452d-b00d-5c0c690f0b09"
            }
          }
        },
        "6196b3a7-732b-490a-aaf5-eb2ad9b8bec7": {
          "id": "6196b3a7-732b-490a-aaf5-eb2ad9b8bec7",
          "prev": "f868678b-6f51-4795-b659-b58e2f4e9078",
          "regions": {
            "67e7d57a-02ad-4a14-b351-27b24cec3198": {
              "attrs": {
                "height": 0.8,
                "width": 0.8,
                "x": 0.1,
                "y": 0.1
              },
              "content": {
                "cell": "6b3223ce-4331-46e4-be4e-b21d9f70b579",
                "part": "whole"
              },
              "id": "67e7d57a-02ad-4a14-b351-27b24cec3198"
            }
          }
        },
        "624702e7-1e4b-46c6-9da0-b1af4f81cfbc": {
          "id": "624702e7-1e4b-46c6-9da0-b1af4f81cfbc",
          "prev": "db91a2ca-3f6b-4857-bbab-8888bf7985aa",
          "regions": {
            "0d8bd7fb-2844-4ef7-a077-eda568783380": {
              "attrs": {
                "height": 0.8,
                "width": 0.8,
                "x": 0.1,
                "y": 0.1
              },
              "content": {
                "cell": "40e2ced5-3192-48c7-b4ba-0a068b4f2c25",
                "part": "whole"
              },
              "id": "0d8bd7fb-2844-4ef7-a077-eda568783380"
            }
          }
        },
        "665064a0-6f2d-4da0-8c26-f7b5c78bb5a8": {
          "id": "665064a0-6f2d-4da0-8c26-f7b5c78bb5a8",
          "prev": "78f502d4-69cf-4689-af65-b52f97a43974",
          "regions": {
            "e6aaeb62-2044-4efa-8d91-609975333e5b": {
              "attrs": {
                "height": 0.8,
                "width": 0.8,
                "x": 0.1,
                "y": 0.1
              },
              "content": {
                "cell": "46282963-7130-438d-8098-6acffc43198c",
                "part": "whole"
              },
              "id": "e6aaeb62-2044-4efa-8d91-609975333e5b"
            }
          }
        },
        "67d8be0a-c9cb-4f15-855d-b28392e2590a": {
          "id": "67d8be0a-c9cb-4f15-855d-b28392e2590a",
          "prev": "0d82c21c-a1d6-44d3-86ad-6522137234b9",
          "regions": {
            "4ab3285c-5ca3-4bfe-97d3-7d12d8ec7905": {
              "attrs": {
                "height": 0.8,
                "width": 0.8,
                "x": 0.1,
                "y": 0.1
              },
              "content": {
                "cell": "37e726e5-36e8-40ec-ba41-74fe6e3613d2",
                "part": "whole"
              },
              "id": "4ab3285c-5ca3-4bfe-97d3-7d12d8ec7905"
            }
          }
        },
        "67ddc7f9-50d9-4288-b51c-dba403873bcf": {
          "id": "67ddc7f9-50d9-4288-b51c-dba403873bcf",
          "prev": "8f99a524-7d55-427e-8629-bc8f5c9e357d",
          "regions": {
            "808400f9-3d02-4afc-97c9-935ebb4ae15d": {
              "attrs": {
                "height": 0.8,
                "width": 0.8,
                "x": 0.1,
                "y": 0.1
              },
              "content": {
                "cell": "33ce92b0-5a61-4a70-bcb8-2793f2309eff",
                "part": "whole"
              },
              "id": "808400f9-3d02-4afc-97c9-935ebb4ae15d"
            }
          }
        },
        "6a4a74ca-25d9-4e98-b5b2-a31b34394e4b": {
          "id": "6a4a74ca-25d9-4e98-b5b2-a31b34394e4b",
          "prev": "ba064aef-eb9f-47a8-9c89-53fa56621a1f",
          "regions": {
            "3d0eac8f-18d6-448f-840e-523e71b0e917": {
              "attrs": {
                "height": 0.8,
                "width": 0.8,
                "x": 0.1,
                "y": 0.1
              },
              "content": {
                "cell": "7b7fb3db-44ac-468d-8fb8-4eb14003f827",
                "part": "whole"
              },
              "id": "3d0eac8f-18d6-448f-840e-523e71b0e917"
            }
          }
        },
        "6fa34155-3ad3-4674-b806-c3fa6cdee562": {
          "id": "6fa34155-3ad3-4674-b806-c3fa6cdee562",
          "prev": "46f352ec-02ad-4f8c-adc4-caa1368fdbaf",
          "regions": {
            "98f3988c-af22-408f-8327-405859abf0c5": {
              "attrs": {
                "height": 0.8,
                "width": 0.8,
                "x": 0.1,
                "y": 0.1
              },
              "content": {
                "cell": "102b5b16-bdda-4cd3-ae68-816542e2f96e",
                "part": "whole"
              },
              "id": "98f3988c-af22-408f-8327-405859abf0c5"
            }
          }
        },
        "70d2420b-c470-4d35-b264-88ea99bc862b": {
          "id": "70d2420b-c470-4d35-b264-88ea99bc862b",
          "prev": "83fb5c18-ae12-42d6-bef2-78ff6d63f50c",
          "regions": {
            "a9d70e7c-383d-4932-bb4a-912bda0ae395": {
              "attrs": {
                "height": 0.8,
                "width": 0.8,
                "x": 0.1,
                "y": 0.1
              },
              "content": {
                "cell": "b9ad985b-3687-465e-b5f1-5e5a8b0028a4",
                "part": "whole"
              },
              "id": "a9d70e7c-383d-4932-bb4a-912bda0ae395"
            }
          }
        },
        "74511773-e5ef-4a8d-a6b7-108db8fc0b65": {
          "id": "74511773-e5ef-4a8d-a6b7-108db8fc0b65",
          "prev": "70d2420b-c470-4d35-b264-88ea99bc862b",
          "regions": {
            "0368713d-4811-4e18-9d08-dc1089c36922": {
              "attrs": {
                "height": 0.8,
                "width": 0.8,
                "x": 0.1,
                "y": 0.1
              },
              "content": {
                "cell": "c61eae59-38c2-43dc-8b1a-03c2661a8aea",
                "part": "whole"
              },
              "id": "0368713d-4811-4e18-9d08-dc1089c36922"
            }
          }
        },
        "759a79c0-469f-4d2f-8fd4-b6676723bf59": {
          "id": "759a79c0-469f-4d2f-8fd4-b6676723bf59",
          "prev": null,
          "regions": {
            "e33d21fb-2ad3-4f07-8418-7f111ddab163": {
              "attrs": {
                "height": 0.8,
                "width": 0.8,
                "x": 0.1,
                "y": 0.1
              },
              "content": {
                "cell": "2ca0b772-ebd8-4802-88c8-04e90a7710b9",
                "part": "whole"
              },
              "id": "e33d21fb-2ad3-4f07-8418-7f111ddab163"
            }
          }
        },
        "78f502d4-69cf-4689-af65-b52f97a43974": {
          "id": "78f502d4-69cf-4689-af65-b52f97a43974",
          "prev": "5a67872c-7d26-4f0b-81c5-a1b10fd229a6",
          "regions": {
            "cb5ac5d0-ae76-4f5a-b433-366904f0415e": {
              "attrs": {
                "height": 0.8,
                "width": 0.8,
                "x": 0.1,
                "y": 0.1
              },
              "content": {
                "cell": "12abf228-4257-4146-889e-1275904ae78d",
                "part": "whole"
              },
              "id": "cb5ac5d0-ae76-4f5a-b433-366904f0415e"
            }
          }
        },
        "7ed465a5-0897-4b95-b449-8af324587049": {
          "id": "7ed465a5-0897-4b95-b449-8af324587049",
          "prev": "87201033-17de-4ccf-909c-99c6903ab4f5",
          "regions": {
            "77a9ef64-678b-476d-8a24-e393314cae1c": {
              "attrs": {
                "height": 0.8,
                "width": 0.8,
                "x": 0.1,
                "y": 0.1
              },
              "content": {
                "cell": "27ad06c2-b547-4a20-9e63-296c54b5acc2",
                "part": "whole"
              },
              "id": "77a9ef64-678b-476d-8a24-e393314cae1c"
            }
          }
        },
        "7f4d8c30-9da9-4278-8090-31adfe77e953": {
          "id": "7f4d8c30-9da9-4278-8090-31adfe77e953",
          "prev": "dd02ebfe-2a84-4ef8-b0b1-fbfff62f6d14",
          "regions": {
            "018f9598-065e-49fc-8f50-fc884652280c": {
              "attrs": {
                "height": 0.8,
                "width": 0.8,
                "x": 0.1,
                "y": 0.1
              },
              "content": {
                "cell": "569806ab-dc21-4f66-b0d6-3c9c9b1e9327",
                "part": "whole"
              },
              "id": "018f9598-065e-49fc-8f50-fc884652280c"
            }
          }
        },
        "7f593642-88cb-4a82-af28-7b72aec268ac": {
          "id": "7f593642-88cb-4a82-af28-7b72aec268ac",
          "prev": "1ae2049c-0fa1-4469-8759-beef0cdf7ab6",
          "regions": {
            "ad194b7d-73da-47e8-bcfb-8535d8a8ed62": {
              "attrs": {
                "height": 0.8,
                "width": 0.8,
                "x": 0.1,
                "y": 0.1
              },
              "content": {
                "cell": "363f75af-8741-456c-8e18-915ce6a95786",
                "part": "whole"
              },
              "id": "ad194b7d-73da-47e8-bcfb-8535d8a8ed62"
            }
          }
        },
        "83fb5c18-ae12-42d6-bef2-78ff6d63f50c": {
          "id": "83fb5c18-ae12-42d6-bef2-78ff6d63f50c",
          "prev": "e22bc400-a035-421e-a4a4-16acb9eaba2e",
          "regions": {
            "92bda564-5dc5-4ffa-a969-c14a0ec7e93c": {
              "attrs": {
                "height": 0.8,
                "width": 0.8,
                "x": 0.1,
                "y": 0.1
              },
              "content": {
                "cell": "383f1957-c8f8-4f47-902a-66a568214e58",
                "part": "whole"
              },
              "id": "92bda564-5dc5-4ffa-a969-c14a0ec7e93c"
            }
          }
        },
        "87201033-17de-4ccf-909c-99c6903ab4f5": {
          "id": "87201033-17de-4ccf-909c-99c6903ab4f5",
          "prev": "188c1830-2747-4d60-9d46-03fee3e7637e",
          "regions": {
            "9ae8912f-d0f8-4090-b8a5-bf50b378ffcb": {
              "attrs": {
                "height": 0.8,
                "width": 0.8,
                "x": 0.1,
                "y": 0.1
              },
              "content": {
                "cell": "1dec37c3-587c-4978-a60c-d4630dc6f0b2",
                "part": "whole"
              },
              "id": "9ae8912f-d0f8-4090-b8a5-bf50b378ffcb"
            }
          }
        },
        "8f99a524-7d55-427e-8629-bc8f5c9e357d": {
          "id": "8f99a524-7d55-427e-8629-bc8f5c9e357d",
          "prev": "6fa34155-3ad3-4674-b806-c3fa6cdee562",
          "regions": {
            "c4cd0245-b892-420b-bcb1-6873706a8fd1": {
              "attrs": {
                "height": 0.8,
                "width": 0.8,
                "x": 0.1,
                "y": 0.1
              },
              "content": {
                "cell": "fbf0bb95-db7a-4154-ac63-841488734cd2",
                "part": "whole"
              },
              "id": "c4cd0245-b892-420b-bcb1-6873706a8fd1"
            }
          }
        },
        "9cf441b1-acc9-4d8f-8a61-90ec991b9972": {
          "id": "9cf441b1-acc9-4d8f-8a61-90ec991b9972",
          "prev": "571cbdd4-8864-4f73-b05f-bfd2234863cd",
          "regions": {
            "600981dc-f7c7-4274-a59d-3d4751988297": {
              "attrs": {
                "height": 0.8,
                "width": 0.8,
                "x": 0.1,
                "y": 0.1
              },
              "content": {
                "cell": "254e9ab1-c53f-4dc7-8b72-c41cc774c590",
                "part": "whole"
              },
              "id": "600981dc-f7c7-4274-a59d-3d4751988297"
            }
          }
        },
        "a3509020-616f-4ef3-9d66-9597c78e12ad": {
          "id": "a3509020-616f-4ef3-9d66-9597c78e12ad",
          "prev": "00eacb86-9392-4b45-a4f9-a8388f7ddc3a",
          "regions": {
            "06f8a67d-4523-4e3f-b3c3-90b4da30bd4e": {
              "attrs": {
                "height": 0.8,
                "width": 0.8,
                "x": 0.1,
                "y": 0.1
              },
              "content": {
                "cell": "3f2f1401-07ac-4916-aa1c-981945ddea05",
                "part": "whole"
              },
              "id": "06f8a67d-4523-4e3f-b3c3-90b4da30bd4e"
            }
          }
        },
        "a42d23f1-5a8b-4fb5-802b-2fa0fc52d5e2": {
          "id": "a42d23f1-5a8b-4fb5-802b-2fa0fc52d5e2",
          "prev": "44f91be3-d46e-434a-b00f-95a536631899",
          "regions": {
            "8430be34-a30f-4139-966c-a8644a8213b9": {
              "attrs": {
                "height": 0.8,
                "width": 0.8,
                "x": 0.1,
                "y": 0.1
              },
              "content": {
                "cell": "3a71787c-d184-4cc2-a82e-04e6a9aed4dd",
                "part": "whole"
              },
              "id": "8430be34-a30f-4139-966c-a8644a8213b9"
            }
          }
        },
        "a6e661fd-5a75-4b7a-b05c-fccf27f3ff50": {
          "id": "a6e661fd-5a75-4b7a-b05c-fccf27f3ff50",
          "prev": "e2098043-4ce4-4eb8-83ce-b1ee61404967",
          "regions": {
            "0f3ebda8-b1da-4607-a4fc-610ce10fba97": {
              "attrs": {
                "height": 0.8,
                "width": 0.8,
                "x": 0.1,
                "y": 0.1
              },
              "content": {
                "cell": "d60add1c-397e-445d-a5ce-46336d6455fc",
                "part": "whole"
              },
              "id": "0f3ebda8-b1da-4607-a4fc-610ce10fba97"
            }
          }
        },
        "b236a087-6e9d-4fa8-b967-f49a53686eb2": {
          "id": "b236a087-6e9d-4fa8-b967-f49a53686eb2",
          "prev": "7f593642-88cb-4a82-af28-7b72aec268ac",
          "regions": {
            "3b5ad992-d45c-48a1-b97f-d5589d5cd6ca": {
              "attrs": {
                "height": 0.8,
                "width": 0.8,
                "x": 0.1,
                "y": 0.1
              },
              "content": {
                "cell": "94ab1cea-afe9-429a-b403-e29d374b27c3",
                "part": "whole"
              },
              "id": "3b5ad992-d45c-48a1-b97f-d5589d5cd6ca"
            }
          }
        },
        "b524b8b6-45a9-43f6-b67d-b4f6967e88eb": {
          "id": "b524b8b6-45a9-43f6-b67d-b4f6967e88eb",
          "prev": "408e3fdb-6210-47bd-9170-8777fc8e3e06",
          "regions": {
            "0b6254f3-784c-4b7a-b969-8324f1d110bd": {
              "attrs": {
                "height": 0.4,
                "width": 0.8,
                "x": 0.1,
                "y": 0.5
              },
              "content": {
                "cell": "96a6ad03-e578-45c8-9a6e-9ebc04e1fd85",
                "part": "whole"
              },
              "id": "0b6254f3-784c-4b7a-b969-8324f1d110bd"
            },
            "38d3ab17-ac02-4264-a2cc-3eefbcad02f0": {
              "attrs": {
                "height": 0.4,
                "width": 0.8,
                "x": 0.1,
                "y": 0.5
              },
              "content": {
                "cell": "1bc7f214-bbe0-4803-8bcf-3ed1724946c2",
                "part": "whole"
              },
              "id": "38d3ab17-ac02-4264-a2cc-3eefbcad02f0"
            },
            "7ff9fa5f-c542-406f-a5fd-7998c1ad79dc": {
              "attrs": {
                "height": 0.8,
                "width": 0.8,
                "x": 0.1,
                "y": 0.1
              },
              "content": {
                "cell": "64003351-7dd8-4763-ab4d-51b962414d97",
                "part": "whole"
              },
              "id": "7ff9fa5f-c542-406f-a5fd-7998c1ad79dc"
            }
          }
        },
        "b723c1ab-e26c-4b5c-bb94-0c0ebe5934b2": {
          "id": "b723c1ab-e26c-4b5c-bb94-0c0ebe5934b2",
          "prev": "40aba7de-93ba-4f60-a356-cc1c88ce5539",
          "regions": {
            "53414e2d-73c5-4154-b53e-45844b4638b5": {
              "attrs": {
                "height": 0.8,
                "width": 0.8,
                "x": 0.1,
                "y": 0.1
              },
              "content": {
                "cell": "d7ca5c0f-e3b9-4fb7-b824-0e70cb3c48b0",
                "part": "whole"
              },
              "id": "53414e2d-73c5-4154-b53e-45844b4638b5"
            }
          }
        },
        "ba064aef-eb9f-47a8-9c89-53fa56621a1f": {
          "id": "ba064aef-eb9f-47a8-9c89-53fa56621a1f",
          "prev": "a3509020-616f-4ef3-9d66-9597c78e12ad",
          "regions": {
            "667d79c6-a41a-4998-90be-a6f9e533048b": {
              "attrs": {
                "height": 0.8,
                "width": 0.8,
                "x": 0.1,
                "y": 0.1
              },
              "content": {
                "cell": "00a881c0-c6df-4a02-8787-0d09e829ab6e",
                "part": "whole"
              },
              "id": "667d79c6-a41a-4998-90be-a6f9e533048b"
            }
          }
        },
        "db91a2ca-3f6b-4857-bbab-8888bf7985aa": {
          "id": "db91a2ca-3f6b-4857-bbab-8888bf7985aa",
          "prev": "03d508a5-6df0-41c5-852c-f2d2c4ae978d",
          "regions": {
            "4ac233cc-779c-4024-9b97-c1628824cb0a": {
              "attrs": {
                "height": 0.4,
                "width": 0.8,
                "x": 0.1,
                "y": 0.5
              },
              "content": {
                "cell": "2f4d3407-0eb5-4fed-85a2-268461295953",
                "part": "whole"
              },
              "id": "4ac233cc-779c-4024-9b97-c1628824cb0a"
            },
            "f1a9143a-c195-49e7-ad1b-6296434f20c3": {
              "attrs": {
                "height": 0.8,
                "width": 0.8,
                "x": 0.1,
                "y": 0.1
              },
              "content": {
                "cell": "cd57eeab-63c7-4721-9623-d10632a121bd",
                "part": "whole"
              },
              "id": "f1a9143a-c195-49e7-ad1b-6296434f20c3"
            }
          }
        },
        "dd02ebfe-2a84-4ef8-b0b1-fbfff62f6d14": {
          "id": "dd02ebfe-2a84-4ef8-b0b1-fbfff62f6d14",
          "prev": "624702e7-1e4b-46c6-9da0-b1af4f81cfbc",
          "regions": {
            "50eba208-37af-4bd6-9d52-093a2075b64b": {
              "attrs": {
                "height": 0.8,
                "width": 0.8,
                "x": 0.1,
                "y": 0.1
              },
              "content": {
                "cell": "63107774-a12e-4893-af45-2353b2299d0a",
                "part": "whole"
              },
              "id": "50eba208-37af-4bd6-9d52-093a2075b64b"
            },
            "7382bcc8-108e-4112-a6f7-c9e0f09e8c65": {
              "attrs": {
                "height": 0.4,
                "width": 0.8,
                "x": 0.1,
                "y": 0.5
              },
              "content": {
                "cell": "67e4f042-0f46-4a15-98a6-5865a35685bf",
                "part": "whole"
              },
              "id": "7382bcc8-108e-4112-a6f7-c9e0f09e8c65"
            }
          }
        },
        "dfef3f43-36be-4bd8-937e-009a0fc6efb6": {
          "id": "dfef3f43-36be-4bd8-937e-009a0fc6efb6",
          "prev": "e064ef2c-cd6f-4eed-b9aa-e06c3540981a",
          "regions": {
            "f5371672-18b5-45f4-ab49-4d1d4e121ca8": {
              "attrs": {
                "height": 0.8,
                "width": 0.8,
                "x": 0.1,
                "y": 0.1
              },
              "content": {
                "cell": "2157c1a4-652c-4572-a7ae-69148359fb91",
                "part": "whole"
              },
              "id": "f5371672-18b5-45f4-ab49-4d1d4e121ca8"
            }
          }
        },
        "e064ef2c-cd6f-4eed-b9aa-e06c3540981a": {
          "id": "e064ef2c-cd6f-4eed-b9aa-e06c3540981a",
          "prev": "e19bf3ee-2d7c-4491-9411-a90b1474af37",
          "regions": {
            "1ca56aed-6a97-4e27-9f6c-5e290d785b83": {
              "attrs": {
                "height": 0.8,
                "width": 0.8,
                "x": 0.1,
                "y": 0.1
              },
              "content": {
                "cell": "f96a9d45-88e5-4db8-8ebd-ea4e0b92c400",
                "part": "whole"
              },
              "id": "1ca56aed-6a97-4e27-9f6c-5e290d785b83"
            }
          }
        },
        "e19bf3ee-2d7c-4491-9411-a90b1474af37": {
          "id": "e19bf3ee-2d7c-4491-9411-a90b1474af37",
          "prev": "665064a0-6f2d-4da0-8c26-f7b5c78bb5a8",
          "regions": {
            "4060de08-014f-45da-98f5-58aa1e804d75": {
              "attrs": {
                "height": 0.8,
                "width": 0.8,
                "x": 0.1,
                "y": 0.1
              },
              "content": {
                "cell": "2a5a0f46-caf9-4d1c-9fdb-0fa59ec89ccf",
                "part": "whole"
              },
              "id": "4060de08-014f-45da-98f5-58aa1e804d75"
            }
          }
        },
        "e1c63e76-8411-4172-826d-2b10085da3c0": {
          "id": "e1c63e76-8411-4172-826d-2b10085da3c0",
          "prev": "7ed465a5-0897-4b95-b449-8af324587049",
          "regions": {
            "57ae897c-4b60-4638-94aa-abfd581a38f4": {
              "attrs": {
                "height": 0.8,
                "width": 0.8,
                "x": 0.1,
                "y": 0.1
              },
              "content": {
                "cell": "7c8ba028-8fda-468e-b3dc-7e10e59ce44f",
                "part": "whole"
              },
              "id": "57ae897c-4b60-4638-94aa-abfd581a38f4"
            }
          }
        },
        "e2098043-4ce4-4eb8-83ce-b1ee61404967": {
          "id": "e2098043-4ce4-4eb8-83ce-b1ee61404967",
          "prev": "43a93456-d677-4147-bf78-cc80a45ceddd",
          "regions": {
            "c2ca29bd-c085-4dfd-b896-f7cfbb9f953c": {
              "attrs": {
                "height": 0.8,
                "width": 0.8,
                "x": 0.1,
                "y": 0.1
              },
              "content": {
                "cell": "3b044dfa-7c3e-4b4f-9bea-cd8b4f7a9a37",
                "part": "whole"
              },
              "id": "c2ca29bd-c085-4dfd-b896-f7cfbb9f953c"
            }
          }
        },
        "e22bc400-a035-421e-a4a4-16acb9eaba2e": {
          "id": "e22bc400-a035-421e-a4a4-16acb9eaba2e",
          "prev": "612f8ef6-009f-4198-9c78-7cc44880221d",
          "regions": {
            "d508b4a0-1f5d-461f-bb61-26a6c2c31409": {
              "attrs": {
                "height": 0.8,
                "width": 0.8,
                "x": 0.1,
                "y": 0.1
              },
              "content": {
                "cell": "b532b41e-400e-4c46-9f02-ea4bd6a2beae",
                "part": "whole"
              },
              "id": "d508b4a0-1f5d-461f-bb61-26a6c2c31409"
            }
          }
        },
        "eaea58d4-d890-4f5a-b403-13746d7cfd9c": {
          "id": "eaea58d4-d890-4f5a-b403-13746d7cfd9c",
          "prev": "dfef3f43-36be-4bd8-937e-009a0fc6efb6",
          "regions": {
            "b4714c21-c17e-42e2-9d65-86418e1af457": {
              "attrs": {
                "height": 0.8,
                "width": 0.8,
                "x": 0.1,
                "y": 0.1
              },
              "content": {
                "cell": "e72d7033-acb7-481a-8b3f-3852c2b7dfe8",
                "part": "whole"
              },
              "id": "b4714c21-c17e-42e2-9d65-86418e1af457"
            },
            "ce67d414-9881-46ea-be3f-b54c3568fb79": {
              "attrs": {
                "height": 0.4,
                "width": 0.8,
                "x": 0.1,
                "y": 0.5
              },
              "content": {
                "cell": "0f5892c1-0ea1-40c2-aa22-555c79441426",
                "part": "whole"
              },
              "id": "ce67d414-9881-46ea-be3f-b54c3568fb79"
            }
          }
        },
        "eb9c1d10-f95d-4ef6-bc96-92ee41ac66c5": {
          "id": "eb9c1d10-f95d-4ef6-bc96-92ee41ac66c5",
          "prev": "4cc41305-949a-4cfe-9452-3f572c549bef",
          "regions": {
            "94459d40-8b40-43ce-a4cc-6504f4855eeb": {
              "attrs": {
                "height": 0.8,
                "width": 0.8,
                "x": 0.1,
                "y": 0.1
              },
              "content": {
                "cell": "a411d89c-bc80-4fb3-bf18-162b8a5e7ea2",
                "part": "whole"
              },
              "id": "94459d40-8b40-43ce-a4cc-6504f4855eeb"
            }
          }
        },
        "ef464012-e950-4ef0-b305-b9e1bd84d053": {
          "id": "ef464012-e950-4ef0-b305-b9e1bd84d053",
          "prev": "4248d3d2-ef53-483d-a659-28ecf8707ddb",
          "regions": {
            "38e87bbc-01e6-4fe1-be79-10b01420c083": {
              "attrs": {
                "height": 0.8,
                "width": 0.8,
                "x": 0.1,
                "y": 0.1
              },
              "content": {
                "cell": "df977cc2-ab45-4767-9ed7-d00bf9a37d21",
                "part": "whole"
              },
              "id": "38e87bbc-01e6-4fe1-be79-10b01420c083"
            }
          }
        },
        "f868678b-6f51-4795-b659-b58e2f4e9078": {
          "id": "f868678b-6f51-4795-b659-b58e2f4e9078",
          "prev": "eaea58d4-d890-4f5a-b403-13746d7cfd9c",
          "regions": {
            "1eb14f1e-9226-4dfa-9aa2-6bebed884fac": {
              "attrs": {
                "height": 0.8,
                "width": 0.8,
                "x": 0.1,
                "y": 0.1
              },
              "content": {
                "cell": "8033e2c8-cd82-4893-b2a1-99a1710eee9f",
                "part": "whole"
              },
              "id": "1eb14f1e-9226-4dfa-9aa2-6bebed884fac"
            }
          }
        },
        "f8fecfcd-1165-4c8d-82f7-eb1dff045319": {
          "id": "f8fecfcd-1165-4c8d-82f7-eb1dff045319",
          "prev": "b524b8b6-45a9-43f6-b67d-b4f6967e88eb",
          "regions": {
            "300d7e49-b0ed-4d93-a322-7db3d6e3cce3": {
              "attrs": {
                "height": 0.8,
                "width": 0.8,
                "x": 0.1,
                "y": 0.1
              },
              "content": {
                "cell": "f6ef6595-a9f7-4fbf-b7a1-7708346cc056",
                "part": "whole"
              },
              "id": "300d7e49-b0ed-4d93-a322-7db3d6e3cce3"
            }
          }
        },
        "fe7f361d-4ec4-4296-a7ab-0d78e5c2133d": {
          "id": "fe7f361d-4ec4-4296-a7ab-0d78e5c2133d",
          "prev": "21cd57a7-2aa2-4983-8426-068dd04b8619",
          "regions": {
            "37306bd6-2418-49cb-beb5-264afdb24855": {
              "attrs": {
                "height": 0.8,
                "width": 0.8,
                "x": 0.1,
                "y": 0.1
              },
              "content": {
                "cell": "e29f0f93-d281-4fc0-b67e-dd916e677ef4",
                "part": "whole"
              },
              "id": "37306bd6-2418-49cb-beb5-264afdb24855"
            }
          }
        }
      },
      "themes": {}
    }
  },
  "nbformat": 4,
  "nbformat_minor": 0
}