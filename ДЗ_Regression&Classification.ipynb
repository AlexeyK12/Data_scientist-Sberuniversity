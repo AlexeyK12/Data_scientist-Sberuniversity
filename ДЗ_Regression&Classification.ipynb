{
  "cells": [
    {
      "cell_type": "markdown",
      "metadata": {
        "id": "view-in-github",
        "colab_type": "text"
      },
      "source": [
        "<a href=\"https://colab.research.google.com/github/AlexeyK12/Data_scientist-Sberuniversity/blob/main/%D0%94%D0%97_Regression%26Classification.ipynb\" target=\"_parent\"><img src=\"https://colab.research.google.com/assets/colab-badge.svg\" alt=\"Open In Colab\"/></a>"
      ]
    },
    {
      "cell_type": "markdown",
      "metadata": {
        "id": "jyJswrIfpbmA"
      },
      "source": [
        "# Домашняя работа 2"
      ]
    },
    {
      "cell_type": "markdown",
      "metadata": {
        "id": "r_lVVaJl2Ncb"
      },
      "source": [
        "## Регрессия"
      ]
    },
    {
      "cell_type": "markdown",
      "metadata": {
        "id": "3pECYqXD2VjG"
      },
      "source": [
        "С 1ого октября отменяется НДС на бриллианты, теперь они становятся новым инвестиционным инструментом. Давайте сделаем модель ценообразования для них.\n",
        "\n",
        "Скачайте датасет diamonds.csv\n",
        "\n",
        "В нем представлены характеристики бриллиантов и их цены с сайта jamesallen (B2C площадка) с 2022-07-01\n",
        "\n",
        "**Описание полей**\n",
        "\n",
        "\n",
        "* fluor - флуорисценуия (свойство камня светиться в лучах ультр)\n",
        "* symmetry - показатель симметричности\n",
        "* platform - название платформы, где был размещен камень\n",
        "* quality_group - составной показатель из cut polish symmetry\n",
        "* size_group - каратно весовая группа\n",
        "* big_size_group - каратно-весовая группа\n",
        "* shape - форма\n",
        "* color - цвет\n",
        "* clarity - чистота\n",
        "* cut - качество огранки (может быть только у круглых камней)\n",
        "* polish - полировка\n",
        "* id - номер камня\n",
        "* date - дата\n",
        "* price - цена\n",
        "* carat - кол-во карат\n",
        "* tablepercent - размер площадки по отношению ширине\n",
        "* price_per_carat - цена за карат\n",
        "* z - длина (diameter)\n",
        "* x - ширина\n",
        "* depth_perc - отношение высоты к ширине\n",
        "* y - высота\n",
        "\n"
      ]
    },
    {
      "cell_type": "code",
      "execution_count": null,
      "metadata": {
        "id": "iOnp-6t565z8",
        "outputId": "de19277d-5e56-4da3-83f7-54047ec30b39"
      },
      "outputs": [
        {
          "data": {
            "application/javascript": [
              "IPython.notebook.set_autosave_interval(60000)"
            ]
          },
          "metadata": {},
          "output_type": "display_data"
        },
        {
          "name": "stdout",
          "output_type": "stream",
          "text": [
            "Autosaving every 60 seconds\n"
          ]
        },
        {
          "data": {
            "text/html": [
              "<style>.container { width:60% !important; }</style>"
            ],
            "text/plain": [
              "<IPython.core.display.HTML object>"
            ]
          },
          "metadata": {},
          "output_type": "display_data"
        }
      ],
      "source": [
        "import pandas as pd\n",
        "import numpy as np\n",
        "import matplotlib.pyplot as plt\n",
        "import seaborn as sns\n",
        "\n",
        "from sklearn.metrics import accuracy_score, precision_score, recall_score, f1_score, confusion_matrix\n",
        "\n",
        "%autosave 60\n",
        "import warnings\n",
        "warnings.filterwarnings('ignore')\n",
        "\n",
        "from IPython.display import display\n",
        "pd.options.display.max_columns = None\n",
        "\n",
        "from IPython.display import display, HTML\n",
        "display(HTML(\"<style>.container { width:60% !important; }</style>\"))"
      ]
    },
    {
      "cell_type": "markdown",
      "metadata": {
        "id": "C4f2-y_7bfv8",
        "outputId": "4e18d8e1-fd35-4ce7-9862-60f9d7cb2ddf"
      },
      "source": [
        "from google.colab import drive\n",
        "drive.mount('/content/drive')\n",
        "\n",
        "path = 'drive/MyDrive/'"
      ]
    },
    {
      "cell_type": "code",
      "execution_count": null,
      "metadata": {
        "id": "iG7MP6VZ2UZN"
      },
      "outputs": [],
      "source": [
        "df = pd.read_csv('/content/diamonds.csv', index_col=0)"
      ]
    },
    {
      "cell_type": "markdown",
      "metadata": {
        "id": "PD8Sv2_ktIqx"
      },
      "source": [
        "Необходимо предсказать `price_per_carat`"
      ]
    },
    {
      "cell_type": "markdown",
      "metadata": {
        "id": "HEBGHQkD7DWw"
      },
      "source": [
        "### Задание 1: Очистка\n",
        "\n",
        "Не все камни успевают продаться за один месяц, поэтому в таблице есть повторы. Объедините данные по одному камню: подумайте, как лучше это сделать, какую цену брать.\n",
        "\n",
        "**Попробуйте найти аномалии:** вдруг цена на некоторые камни сильно меняется (то есть продавец сам не знает, по какой цене их продавать). Также убедитесь, что остальные параметры камня не меняются."
      ]
    },
    {
      "cell_type": "code",
      "execution_count": null,
      "metadata": {
        "id": "uL1lalBa7AVS"
      },
      "outputs": [],
      "source": [
        "#id_stat = df.groupby(by='id')['carat'].count().to_frame() #Посчитайте статистику по кол-ву камней\n",
        "id_stat = df.groupby(by='id', as_index=False)['carat'].count()\n",
        "\n",
        "# создаём списки с несколько раз встречающимися камнями\n",
        "list_id_stat_1 = id_stat.query('carat == 1')['id'].to_list()\n",
        "list_id_stat_2_3 = id_stat.query('carat in [2,3]')['id'].to_list()\n",
        "\n",
        "# разделите выборку на две части\n",
        "\n",
        "df_one = df.query('id in @list_id_stat_1')  # те камни, которые встречались один раз\n",
        "df_three = df.query('id in @list_id_stat_2_3') # те камни, которые встречались 2 или 3 раза\n",
        "\n",
        "\n",
        "stat = df_three.groupby('id')['carat', 'price', 'x', 'y', 'z'].agg(np.std) # Посчитайте дстандартное отклонение по нескольким полям,\n",
        "#  подумайте где оно должно равняться 0, а где меняться в каких-то разумных пределах\n",
        "\n",
        "# список id с нулевой дисперсией по размеру\n",
        "var_0_list = stat.query('x == 0 & y == 0 & z == 0').reset_index()['id'].to_list()\n",
        "\n",
        "# Удалите аномальные наблюдения\n",
        "df_three = df_three.query('id in @var_0_list').sort_values(by=['id','date'])\n",
        "\n",
        "#тепреь в качестве цены возьмем последнее значение по времени\n",
        "df_three_group = df_three.groupby(['id','price'], as_index=False).agg({'date':'max'})[['id', 'price']]\n",
        "\n",
        "# сделаем срез из df с последней ценой\n",
        "df_three = df_three_group.merge(df, how='left', on=['id', 'price'])\n",
        "\n",
        "df = pd.concat([df_one, df_three]).reset_index(drop=True) # соединяем результаты"
      ]
    },
    {
      "cell_type": "markdown",
      "metadata": {
        "id": "NnsNVat_CIPB"
      },
      "source": [
        "Цены на бриллианты достаточно сильно меняются, попробуйте вычислить коэффициент инфляции и привести цены к последнему месяцу. Стоит учесть, что цены на все бриллианты не изменяются синхронно, то есть изменение в определенных группах может быть разным.\n",
        "\n",
        "*Определите эти группы и рассчитайте коэффициенты инфляции для каждой из них. Подправьте цены на эти коэффициенты и создайте новую переменную.*"
      ]
    },
    {
      "cell_type": "code",
      "execution_count": null,
      "metadata": {
        "id": "nDKdDba4pA7M"
      },
      "outputs": [],
      "source": [
        "categories = ['shape','color','clarity'] #определите по каким группам отпределять инфляцию (к примеру можно добавить каратную группу)\n",
        "\n",
        "df_index = df.groupby(['date'] + categories)[['price_per_carat']]\\\n",
        "             .mean()\\\n",
        "             .reset_index() # индекс цен\n",
        "\n",
        "date_max = df_index.date.max()\n",
        "\n",
        "\n",
        "df_index = df_index.merge(df_index.query('date == @date_max')[categories + ['price_per_carat']]\\\n",
        "                          .rename(columns={'price_per_carat': 'price_per_carat_max'}),\n",
        "                          on=categories, how='outer') # сопоставляем группы с максимальной датой\n",
        "\n",
        "df_index['inflation'] = df_index['price_per_carat_max'] / df_index.price_per_carat # вычисляем инфляцию\n",
        "\n",
        "df_with_inf = df.merge(df_index[['date'] + categories + ['inflation']],\n",
        "                        on=['date'] + categories, how='left') # соединяем все в одной таблице"
      ]
    },
    {
      "cell_type": "markdown",
      "metadata": {
        "id": "xuPhXT9aESGs"
      },
      "source": [
        "### Задание 2: Модель"
      ]
    },
    {
      "cell_type": "markdown",
      "metadata": {
        "id": "v3OgAHMiExrW"
      },
      "source": [
        "Определите функцию потерь (MSE или MAE) и аргументируйте выбор.\n",
        "Попробуйте сделать baseline.\n",
        "Используйте LableEncoder для категориальных фичей и **постройте линейную модель**."
      ]
    },
    {
      "cell_type": "code",
      "execution_count": null,
      "metadata": {
        "id": "BEvWYr1uEKJU",
        "outputId": "501e9ea6-7969-44ef-890e-1b337a2235d7"
      },
      "outputs": [
        {
          "name": "stdout",
          "output_type": "stream",
          "text": [
            "MAE: 1309.7080044566283\n",
            "MSE: 23944022.08034169\n"
          ]
        }
      ],
      "source": [
        "from sklearn.model_selection import train_test_split\n",
        "from sklearn.preprocessing import LabelEncoder\n",
        "from sklearn.metrics import mean_squared_error, mean_absolute_error\n",
        "from sklearn.linear_model import LinearRegression\n",
        "from sklearn.preprocessing import StandardScaler\n",
        "from sklearn import metrics\n",
        "\n",
        "# выделим и закодируем категориальные признаки\n",
        "data = df.copy()\n",
        "categorical_features = ['fluor', 'symmetry', 'platform', 'shape', 'color', 'clarity', 'cut', 'polish']\n",
        "data[categorical_features] = data[categorical_features].apply(LabelEncoder().fit_transform)\n",
        "\n",
        "# выделяем целевую переменную и разделяем на обучающую и валидационную выборку\n",
        "X = data.drop(columns=[\"price_per_carat\"])\n",
        "y = data[\"price_per_carat\"]\n",
        "X_train, X_valid, y_train, y_valid = train_test_split(X, y, test_size=0.2, random_state=13)\n",
        "\n",
        "# нормализация данных\n",
        "scaler = StandardScaler()\n",
        "X_train_scaled = scaler.fit_transform(X_train)\n",
        "X_test_scaled = scaler.transform(X_valid)\n",
        "\n",
        "# обучаем модель и делаем прогноз\n",
        "model_lr = LinearRegression()\n",
        "model_lr.fit(X_train_scaled, y_train)\n",
        "y_pred = model_lr.predict(X_test_scaled)\n",
        "\n",
        "print('MAE:', mean_absolute_error(y_valid, y_pred))\n",
        "print('MSE:', mean_squared_error(y_valid, y_pred))"
      ]
    },
    {
      "cell_type": "markdown",
      "metadata": {
        "id": "Z9kiKhHuFDUD"
      },
      "source": [
        "Теперь попробуйте OHE или TargetEncoder (сравните их).\n",
        "\n",
        "Нормализуйте данные.\n",
        "\n",
        "Поработайте с пропусками (обратите внимание на то, что у fluor возможен пропуск значения, а возможно отсутствие флуоресценции)\n",
        "\n",
        "Покажите, насколько получилось улучшить результат."
      ]
    },
    {
      "cell_type": "code",
      "execution_count": null,
      "metadata": {
        "scrolled": true,
        "id": "ewyuVqNBFG3c",
        "outputId": "705fd71d-3e60-46f5-eb29-920e25d0c6f8"
      },
      "outputs": [
        {
          "name": "stdout",
          "output_type": "stream",
          "text": [
            "MAE: 922.2698416751429\n",
            "MSE: 21629190.221553292\n"
          ]
        }
      ],
      "source": [
        "from sklearn.preprocessing import OneHotEncoder\n",
        "\n",
        "data = df.copy()\n",
        "categorical_features = ['fluor', 'symmetry', 'platform', 'shape', 'color', 'clarity', 'cut', 'polish']\n",
        "\n",
        "# кодируем категориальные признаки OneHotEncoder\n",
        "encoder = OneHotEncoder()\n",
        "encoded_columns = encoder.fit_transform(data[categorical_features]).toarray()\n",
        "encoded_df = pd.DataFrame(encoded_columns, columns=encoder.get_feature_names_out(categorical_features))\n",
        "data_encoded = pd.concat([data.drop(categorical_features, axis=1), encoded_df], axis=1)\n",
        "\n",
        "# выделяем целевую переменную и разделяем на обучающую и валидационную выборку\n",
        "X = data_encoded.drop(columns=[\"price_per_carat\"])\n",
        "y = data_encoded[\"price_per_carat\"]\n",
        "X_train, X_valid, y_train, y_valid = train_test_split(X, y, test_size=0.2, random_state=13)\n",
        "\n",
        "# нормализация данных\n",
        "scaler = StandardScaler()\n",
        "X_train_scaled = scaler.fit_transform(X_train)\n",
        "X_test_scaled = scaler.transform(X_valid)\n",
        "\n",
        "# обучаем модель и делаем прогноз\n",
        "model_lr = LinearRegression()\n",
        "model_lr.fit(X_train_scaled, y_train)\n",
        "y_pred = model_lr.predict(X_test_scaled)\n",
        "\n",
        "print('MAE:', mean_absolute_error(y_valid, y_pred))\n",
        "print('MSE:', mean_squared_error(y_valid, y_pred))"
      ]
    },
    {
      "cell_type": "markdown",
      "metadata": {
        "id": "eVjXF27VFG3c"
      },
      "source": [
        "Поскольку целевой переменной мы выбрали цену, то нам крайне не выгодны большие ошибки, следовательно лучше использовать MSE, которая сильнее штрафует за большие ошибки и является для нашего случая более предпочтительной метрикой. Соответственно модель отработавшая по данным закодированным LabelEncoder с ошибкой - **MSE: 23944022** хуже, чем на данных с использованием OneHotEncoder и ошибкой - **MSE: 21629190**."
      ]
    },
    {
      "cell_type": "markdown",
      "metadata": {
        "id": "tnJUqYqWoqgk"
      },
      "source": [
        "Сравните работу выбранной вами линейной модели с KNN"
      ]
    },
    {
      "cell_type": "code",
      "execution_count": null,
      "metadata": {
        "id": "bhKgkdw5ou4A",
        "scrolled": true,
        "outputId": "822c5703-9f8a-4f34-da38-61dddb1ab61a"
      },
      "outputs": [
        {
          "name": "stdout",
          "output_type": "stream",
          "text": [
            "MAE: 872.4696932134096\n",
            "MSE: 25871173.8301686\n"
          ]
        }
      ],
      "source": [
        "from sklearn.neighbors import KNeighborsRegressor\n",
        "\n",
        "# выделяем целевую переменную и разделяем на обучающую и валидационную выборку\n",
        "X = data_encoded.drop(columns=[\"price_per_carat\"])\n",
        "y = data_encoded[\"price_per_carat\"]\n",
        "X_train, X_valid, y_train, y_valid = train_test_split(X, y, test_size=0.2, random_state=13)\n",
        "\n",
        "# нормализация данных\n",
        "scaler = StandardScaler()\n",
        "X_train_scaled = scaler.fit_transform(X_train)\n",
        "X_test_scaled = scaler.transform(X_valid)\n",
        "\n",
        "# Создание и обучение модели KNeighborsRegressor\n",
        "knn_regressor = KNeighborsRegressor(n_neighbors=10)\n",
        "knn_regressor.fit(X_train_scaled, y_train)\n",
        "\n",
        "# Прогноз на тестовой выборке\n",
        "y_pred = knn_regressor.predict(X_test_scaled)\n",
        "\n",
        "print('MAE:', mean_absolute_error(y_valid, y_pred))\n",
        "print('MSE:', mean_squared_error(y_valid, y_pred))"
      ]
    },
    {
      "cell_type": "markdown",
      "metadata": {
        "id": "eBp9_gcpFG3d"
      },
      "source": [
        "Модель на алгоритме к-ближайших соседей отработала хуже по метрике **MSE: 25871173**, но лучше предыдущих линейных моделей по метрике **MAE: 872.47**"
      ]
    },
    {
      "cell_type": "markdown",
      "metadata": {
        "id": "fLAsZpEeIsyk"
      },
      "source": [
        "## Классификация"
      ]
    },
    {
      "cell_type": "markdown",
      "metadata": {
        "id": "exzgWs8TGVwz"
      },
      "source": [
        "Загрузите датасет bodyPerformance\n",
        "\n",
        "Описание:\n",
        "\n",
        "https://www.kaggle.com/datasets/kukuroo3/body-performance-data"
      ]
    },
    {
      "cell_type": "markdown",
      "metadata": {
        "id": "HiRlpeObIw30"
      },
      "source": [
        "from google.colab import drive\n",
        "drive.mount('/content/drive')\n",
        "\n",
        "path = 'drive/MyDrive/'"
      ]
    },
    {
      "cell_type": "code",
      "execution_count": null,
      "metadata": {
        "id": "8icMo8BR8eJL"
      },
      "outputs": [],
      "source": [
        "df = pd.read_csv('/content/bodyPerformance.csv') #укажите свой путь"
      ]
    },
    {
      "cell_type": "markdown",
      "metadata": {
        "id": "mIT8KyvrGFI7"
      },
      "source": [
        "### Задание 1: Определение гендера"
      ]
    },
    {
      "cell_type": "markdown",
      "metadata": {
        "id": "P7hR4HE2GOjH"
      },
      "source": [
        "Постройте модель, которая будет определять гендер."
      ]
    },
    {
      "cell_type": "markdown",
      "metadata": {
        "id": "aAQJ1WhfGhQf"
      },
      "source": [
        "Для этого определите две метрики качества, на которые вы будете смотреть. Аргументируйте свой выбор.\n",
        "\n",
        "После чего преобразуйте категориальные переменные и постройте модель бинарной классификации на основе линейного классификатора и сравните с KNN.\n",
        "\n",
        "P.S.: не забудте про нормализацию."
      ]
    },
    {
      "cell_type": "code",
      "execution_count": null,
      "metadata": {
        "id": "2cKULNowFG3e",
        "outputId": "cac94de2-d47a-4c8b-ed06-74819d08a5b0"
      },
      "outputs": [
        {
          "data": {
            "text/plain": [
              "M    8467\n",
              "F    4926\n",
              "Name: gender, dtype: int64"
            ]
          },
          "execution_count": 9,
          "metadata": {},
          "output_type": "execute_result"
        }
      ],
      "source": [
        "df['gender'].value_counts()"
      ]
    },
    {
      "cell_type": "markdown",
      "metadata": {
        "id": "Q0XGphWyFG3e"
      },
      "source": [
        "Для задачи определения гендера на основе предоставленных признаков(у нас дисбаланс классов), выберем:\n",
        "- **Accuracy** - общее количество правильных предсказаний, для оценки общей производительности модели;\n",
        "- **F1_score** - подходит для сбалансированных и несбалансированных классов и является хорошей метрикой, когда важны и точность, и полнота."
      ]
    },
    {
      "cell_type": "code",
      "execution_count": null,
      "metadata": {
        "id": "Mhj3I_MuBbFy",
        "scrolled": true,
        "outputId": "de1c5351-b07d-4138-cf64-ca7a3550231e"
      },
      "outputs": [
        {
          "name": "stdout",
          "output_type": "stream",
          "text": [
            "Accuracy: 0.9899\n",
            "F1-Score: 0.9921\n"
          ]
        }
      ],
      "source": [
        "from sklearn.neighbors import KNeighborsClassifier\n",
        "from sklearn.linear_model import LogisticRegression\n",
        "from sklearn.metrics import accuracy_score, f1_score\n",
        "\n",
        "categorical_features = ['gender', 'class']\n",
        "df[categorical_features] = df[categorical_features].apply(LabelEncoder().fit_transform)\n",
        "\n",
        "X = df.drop(columns=[\"gender\"])\n",
        "y = df[\"gender\"]\n",
        "\n",
        "X_train, X_valid, y_train, y_valid = train_test_split(X, y, test_size=0.2, random_state=13)\n",
        "\n",
        "# нормализация данных\n",
        "scaler = StandardScaler()\n",
        "X_train_scaled = scaler.fit_transform(X_train)\n",
        "X_test_scaled = scaler.transform(X_valid)\n",
        "\n",
        "model_log_reg = LogisticRegression()\n",
        "model_log_reg.fit(X_train_scaled, y_train)\n",
        "y_pred = model_log_reg.predict(X_test_scaled)\n",
        "\n",
        "# Оценка результатов\n",
        "accuracy = accuracy_score(y_valid, y_pred)\n",
        "f1 = f1_score(y_valid, y_pred)\n",
        "\n",
        "print(f\"Accuracy: {accuracy:.4f}\")\n",
        "print(f\"F1-Score: {f1:.4f}\")"
      ]
    },
    {
      "cell_type": "markdown",
      "metadata": {
        "id": "fgoqbFgBFG3e"
      },
      "source": [
        "- модель правильно классифицировала 98,99% примеров в тестовой выборке - это высокий процент правильных ответов, что может свидетельствовать о хорошей производительности модели в целом;\n",
        "-  F1-Score равное 0.9921 также является высоким - это означает, что модель демонстрирует хороший баланс между точностью и полнотой в классификации гендера."
      ]
    },
    {
      "cell_type": "markdown",
      "metadata": {
        "id": "9m0SK6JzKHof"
      },
      "source": [
        "### Задание 2: Определение класса"
      ]
    },
    {
      "cell_type": "markdown",
      "metadata": {
        "id": "s5Hge2C2JSxG"
      },
      "source": [
        "Теперь опробуем построить модель, которая будет предсказывать class физической формы.\n",
        "\n",
        "Для этого определите метрики качества для задачи мультиклассификации (аргументируйте выбор).\n",
        "\n",
        "Постройте модель мультиклассовой классификации на основе линейного классификатора и сравните с KNN."
      ]
    },
    {
      "cell_type": "code",
      "execution_count": null,
      "metadata": {
        "id": "gZernqjzFG3f"
      },
      "outputs": [],
      "source": [
        "df = pd.read_csv('/content/bodyPerformance.csv') #укажите свой путь"
      ]
    },
    {
      "cell_type": "code",
      "execution_count": null,
      "metadata": {
        "id": "m0L7djR_FG3f",
        "outputId": "17736b10-d850-4fcd-d32d-cd6b9014d856"
      },
      "outputs": [
        {
          "data": {
            "text/html": [
              "<div>\n",
              "<style scoped>\n",
              "    .dataframe tbody tr th:only-of-type {\n",
              "        vertical-align: middle;\n",
              "    }\n",
              "\n",
              "    .dataframe tbody tr th {\n",
              "        vertical-align: top;\n",
              "    }\n",
              "\n",
              "    .dataframe thead th {\n",
              "        text-align: right;\n",
              "    }\n",
              "</style>\n",
              "<table border=\"1\" class=\"dataframe\">\n",
              "  <thead>\n",
              "    <tr style=\"text-align: right;\">\n",
              "      <th></th>\n",
              "      <th>age</th>\n",
              "      <th>gender</th>\n",
              "      <th>height_cm</th>\n",
              "      <th>weight_kg</th>\n",
              "      <th>body fat_%</th>\n",
              "      <th>diastolic</th>\n",
              "      <th>systolic</th>\n",
              "      <th>gripForce</th>\n",
              "      <th>sit and bend forward_cm</th>\n",
              "      <th>sit-ups counts</th>\n",
              "      <th>broad jump_cm</th>\n",
              "      <th>class</th>\n",
              "    </tr>\n",
              "  </thead>\n",
              "  <tbody>\n",
              "    <tr>\n",
              "      <th>0</th>\n",
              "      <td>27.0</td>\n",
              "      <td>M</td>\n",
              "      <td>172.3</td>\n",
              "      <td>75.24</td>\n",
              "      <td>21.3</td>\n",
              "      <td>80.0</td>\n",
              "      <td>130.0</td>\n",
              "      <td>54.9</td>\n",
              "      <td>18.4</td>\n",
              "      <td>60.0</td>\n",
              "      <td>217.0</td>\n",
              "      <td>C</td>\n",
              "    </tr>\n",
              "    <tr>\n",
              "      <th>1</th>\n",
              "      <td>25.0</td>\n",
              "      <td>M</td>\n",
              "      <td>165.0</td>\n",
              "      <td>55.80</td>\n",
              "      <td>15.7</td>\n",
              "      <td>77.0</td>\n",
              "      <td>126.0</td>\n",
              "      <td>36.4</td>\n",
              "      <td>16.3</td>\n",
              "      <td>53.0</td>\n",
              "      <td>229.0</td>\n",
              "      <td>A</td>\n",
              "    </tr>\n",
              "    <tr>\n",
              "      <th>2</th>\n",
              "      <td>31.0</td>\n",
              "      <td>M</td>\n",
              "      <td>179.6</td>\n",
              "      <td>78.00</td>\n",
              "      <td>20.1</td>\n",
              "      <td>92.0</td>\n",
              "      <td>152.0</td>\n",
              "      <td>44.8</td>\n",
              "      <td>12.0</td>\n",
              "      <td>49.0</td>\n",
              "      <td>181.0</td>\n",
              "      <td>C</td>\n",
              "    </tr>\n",
              "    <tr>\n",
              "      <th>3</th>\n",
              "      <td>32.0</td>\n",
              "      <td>M</td>\n",
              "      <td>174.5</td>\n",
              "      <td>71.10</td>\n",
              "      <td>18.4</td>\n",
              "      <td>76.0</td>\n",
              "      <td>147.0</td>\n",
              "      <td>41.4</td>\n",
              "      <td>15.2</td>\n",
              "      <td>53.0</td>\n",
              "      <td>219.0</td>\n",
              "      <td>B</td>\n",
              "    </tr>\n",
              "    <tr>\n",
              "      <th>4</th>\n",
              "      <td>28.0</td>\n",
              "      <td>M</td>\n",
              "      <td>173.8</td>\n",
              "      <td>67.70</td>\n",
              "      <td>17.1</td>\n",
              "      <td>70.0</td>\n",
              "      <td>127.0</td>\n",
              "      <td>43.5</td>\n",
              "      <td>27.1</td>\n",
              "      <td>45.0</td>\n",
              "      <td>217.0</td>\n",
              "      <td>B</td>\n",
              "    </tr>\n",
              "    <tr>\n",
              "      <th>...</th>\n",
              "      <td>...</td>\n",
              "      <td>...</td>\n",
              "      <td>...</td>\n",
              "      <td>...</td>\n",
              "      <td>...</td>\n",
              "      <td>...</td>\n",
              "      <td>...</td>\n",
              "      <td>...</td>\n",
              "      <td>...</td>\n",
              "      <td>...</td>\n",
              "      <td>...</td>\n",
              "      <td>...</td>\n",
              "    </tr>\n",
              "    <tr>\n",
              "      <th>13388</th>\n",
              "      <td>25.0</td>\n",
              "      <td>M</td>\n",
              "      <td>172.1</td>\n",
              "      <td>71.80</td>\n",
              "      <td>16.2</td>\n",
              "      <td>74.0</td>\n",
              "      <td>141.0</td>\n",
              "      <td>35.8</td>\n",
              "      <td>17.4</td>\n",
              "      <td>47.0</td>\n",
              "      <td>198.0</td>\n",
              "      <td>C</td>\n",
              "    </tr>\n",
              "    <tr>\n",
              "      <th>13389</th>\n",
              "      <td>21.0</td>\n",
              "      <td>M</td>\n",
              "      <td>179.7</td>\n",
              "      <td>63.90</td>\n",
              "      <td>12.1</td>\n",
              "      <td>74.0</td>\n",
              "      <td>128.0</td>\n",
              "      <td>33.0</td>\n",
              "      <td>1.1</td>\n",
              "      <td>48.0</td>\n",
              "      <td>167.0</td>\n",
              "      <td>D</td>\n",
              "    </tr>\n",
              "    <tr>\n",
              "      <th>13390</th>\n",
              "      <td>39.0</td>\n",
              "      <td>M</td>\n",
              "      <td>177.2</td>\n",
              "      <td>80.50</td>\n",
              "      <td>20.1</td>\n",
              "      <td>78.0</td>\n",
              "      <td>132.0</td>\n",
              "      <td>63.5</td>\n",
              "      <td>16.4</td>\n",
              "      <td>45.0</td>\n",
              "      <td>229.0</td>\n",
              "      <td>A</td>\n",
              "    </tr>\n",
              "    <tr>\n",
              "      <th>13391</th>\n",
              "      <td>64.0</td>\n",
              "      <td>F</td>\n",
              "      <td>146.1</td>\n",
              "      <td>57.70</td>\n",
              "      <td>40.4</td>\n",
              "      <td>68.0</td>\n",
              "      <td>121.0</td>\n",
              "      <td>19.3</td>\n",
              "      <td>9.2</td>\n",
              "      <td>0.0</td>\n",
              "      <td>75.0</td>\n",
              "      <td>D</td>\n",
              "    </tr>\n",
              "    <tr>\n",
              "      <th>13392</th>\n",
              "      <td>34.0</td>\n",
              "      <td>M</td>\n",
              "      <td>164.0</td>\n",
              "      <td>66.10</td>\n",
              "      <td>19.5</td>\n",
              "      <td>82.0</td>\n",
              "      <td>150.0</td>\n",
              "      <td>35.9</td>\n",
              "      <td>7.1</td>\n",
              "      <td>51.0</td>\n",
              "      <td>180.0</td>\n",
              "      <td>C</td>\n",
              "    </tr>\n",
              "  </tbody>\n",
              "</table>\n",
              "<p>13393 rows × 12 columns</p>\n",
              "</div>"
            ],
            "text/plain": [
              "        age gender  height_cm  weight_kg  body fat_%  diastolic  systolic  \\\n",
              "0      27.0      M      172.3      75.24        21.3       80.0     130.0   \n",
              "1      25.0      M      165.0      55.80        15.7       77.0     126.0   \n",
              "2      31.0      M      179.6      78.00        20.1       92.0     152.0   \n",
              "3      32.0      M      174.5      71.10        18.4       76.0     147.0   \n",
              "4      28.0      M      173.8      67.70        17.1       70.0     127.0   \n",
              "...     ...    ...        ...        ...         ...        ...       ...   \n",
              "13388  25.0      M      172.1      71.80        16.2       74.0     141.0   \n",
              "13389  21.0      M      179.7      63.90        12.1       74.0     128.0   \n",
              "13390  39.0      M      177.2      80.50        20.1       78.0     132.0   \n",
              "13391  64.0      F      146.1      57.70        40.4       68.0     121.0   \n",
              "13392  34.0      M      164.0      66.10        19.5       82.0     150.0   \n",
              "\n",
              "       gripForce  sit and bend forward_cm  sit-ups counts  broad jump_cm class  \n",
              "0           54.9                     18.4            60.0          217.0     C  \n",
              "1           36.4                     16.3            53.0          229.0     A  \n",
              "2           44.8                     12.0            49.0          181.0     C  \n",
              "3           41.4                     15.2            53.0          219.0     B  \n",
              "4           43.5                     27.1            45.0          217.0     B  \n",
              "...          ...                      ...             ...            ...   ...  \n",
              "13388       35.8                     17.4            47.0          198.0     C  \n",
              "13389       33.0                      1.1            48.0          167.0     D  \n",
              "13390       63.5                     16.4            45.0          229.0     A  \n",
              "13391       19.3                      9.2             0.0           75.0     D  \n",
              "13392       35.9                      7.1            51.0          180.0     C  \n",
              "\n",
              "[13393 rows x 12 columns]"
            ]
          },
          "execution_count": 12,
          "metadata": {},
          "output_type": "execute_result"
        }
      ],
      "source": [
        "df"
      ]
    },
    {
      "cell_type": "code",
      "execution_count": null,
      "metadata": {
        "id": "BYomywGZFG3f",
        "outputId": "f2bcd5bf-5f44-4c8d-854a-5553ea3bbd7d"
      },
      "outputs": [
        {
          "data": {
            "text/plain": [
              "C    3349\n",
              "D    3349\n",
              "A    3348\n",
              "B    3347\n",
              "Name: class, dtype: int64"
            ]
          },
          "execution_count": 13,
          "metadata": {},
          "output_type": "execute_result"
        }
      ],
      "source": [
        "df['class'].value_counts()"
      ]
    },
    {
      "cell_type": "code",
      "execution_count": null,
      "metadata": {
        "id": "dgvhCM7HKDWu",
        "outputId": "f85ca4a7-3b3b-4c15-e53f-f5e1abe89177"
      },
      "outputs": [
        {
          "name": "stdout",
          "output_type": "stream",
          "text": [
            "Логистическая регрессия:\n",
            "Accuracy: 0.615\n",
            "Precision: 0.616\n",
            "Recall: 0.615\n",
            "\n",
            "K-ближайших соседей:\n",
            "Accuracy: 0.591\n",
            "Precision: 0.617\n",
            "Recall: 0.591\n"
          ]
        }
      ],
      "source": [
        "categorical_features = ['gender', 'class']\n",
        "df[categorical_features] = df[categorical_features].apply(LabelEncoder().fit_transform)\n",
        "\n",
        "X = df.drop(columns=[\"class\"]) # укажите новый таргет\n",
        "y = df[\"class\"]\n",
        "\n",
        "X_train, X_valid, y_train, y_valid = train_test_split(X, y, test_size=0.2, random_state=13)\n",
        "\n",
        "# нормализация данных\n",
        "scaler = StandardScaler()\n",
        "X_train_scaled = scaler.fit_transform(X_train)\n",
        "X_valid_scaled = scaler.transform(X_valid)\n",
        "\n",
        "# Обучение модели логистической регрессии\n",
        "model_log_reg = LogisticRegression(max_iter=50, random_state=13)\n",
        "model_log_reg.fit(X_train_scaled, y_train)\n",
        "y_pred_log_reg = model_log_reg.predict(X_valid_scaled)\n",
        "\n",
        "\n",
        "# Обучение модели KNN\n",
        "model_knn = KNeighborsClassifier(n_neighbors=5)\n",
        "model_knn.fit(X_train_scaled, y_train)\n",
        "y_pred_knn = model_knn.predict(X_valid_scaled)\n",
        "\n",
        "\n",
        "# Оценка результатов для логистической регрессии с средневзвешанным параметром усреднения\n",
        "print(\"Логистическая регрессия:\")\n",
        "print(\"Accuracy:\", round(accuracy_score(y_valid, y_pred_log_reg), 3))\n",
        "print(\"Precision:\", round(precision_score(y_valid, y_pred_log_reg, average=\"weighted\"), 3))\n",
        "print(\"Recall:\", round(recall_score(y_valid, y_pred_log_reg, average=\"weighted\"), 3))\n",
        "\n",
        "# Оценка результатов для KNN\n",
        "print('')\n",
        "print(\"K-ближайших соседей:\")\n",
        "print(\"Accuracy:\", round(accuracy_score(y_valid, y_pred_knn), 3))\n",
        "print(\"Precision:\", round(precision_score(y_valid, y_pred_knn, average=\"weighted\"), 3))\n",
        "print(\"Recall:\", round(recall_score(y_valid, y_pred_knn, average=\"weighted\"), 3))"
      ]
    },
    {
      "cell_type": "markdown",
      "metadata": {
        "id": "0cl3-NiQFG3f"
      },
      "source": [
        "Логистическая регрессия и K-ближайших соседи имеют схожую точность общей классификации, но различаются по точности и полноте. Логистическая регрессия имеет более высокую точность общей классификации и полноту, чем K-ближайшие соседи, что может означать, что она лучше подходит для задачи классификации класса физической формы."
      ]
    }
  ],
  "metadata": {
    "colab": {
      "provenance": [],
      "include_colab_link": true
    },
    "kernelspec": {
      "display_name": "Python 3 (ipykernel)",
      "language": "python",
      "name": "python3"
    },
    "language_info": {
      "codemirror_mode": {
        "name": "ipython",
        "version": 3
      },
      "file_extension": ".py",
      "mimetype": "text/x-python",
      "name": "python",
      "nbconvert_exporter": "python",
      "pygments_lexer": "ipython3",
      "version": "3.11.3"
    },
    "toc": {
      "base_numbering": 1,
      "nav_menu": {},
      "number_sections": true,
      "sideBar": true,
      "skip_h1_title": false,
      "title_cell": "Table of Contents",
      "title_sidebar": "Contents",
      "toc_cell": false,
      "toc_position": {
        "height": "calc(100% - 180px)",
        "left": "10px",
        "top": "150px",
        "width": "415.99px"
      },
      "toc_section_display": true,
      "toc_window_display": false
    }
  },
  "nbformat": 4,
  "nbformat_minor": 0
}