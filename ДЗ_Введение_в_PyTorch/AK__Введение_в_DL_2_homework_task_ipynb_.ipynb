{
 "cells": [
  {
   "cell_type": "markdown",
   "metadata": {
    "id": "t5yAXr0WZK1L"
   },
   "source": [
    "# FashionMNIST"
   ]
  },
  {
   "cell_type": "markdown",
   "metadata": {
    "id": "9zBDaFd-af3L"
   },
   "source": [
    "<img src=\"https://emiliendupont.github.io/imgs/mnist-chicken/mnist-and-fashion-examples.png\">"
   ]
  },
  {
   "cell_type": "markdown",
   "metadata": {
    "id": "EQUWMfZRahIO"
   },
   "source": [
    "Мы будем работать с картинками одежды (чёрно-белыми, 28 на 28). По входной картинке нужно предсказать тип одежды на 10 классов."
   ]
  },
  {
   "cell_type": "code",
   "execution_count": null,
   "metadata": {
    "id": "czUjp5h-SDfg"
   },
   "outputs": [],
   "source": [
    "# установим последнюю версию wandb\n",
    "!pip install -q --upgrade wandb"
   ]
  },
  {
   "cell_type": "code",
   "execution_count": null,
   "metadata": {
    "id": "fWtwdJBETKgd"
   },
   "outputs": [],
   "source": [
    "import os\n",
    "import wandb # для логирования\n",
    "\n",
    "import numpy as np\n",
    "import random\n",
    "from tqdm import *\n",
    "\n",
    "import torch\n",
    "import torch.nn as nn\n",
    "import torch.nn.functional as F\n",
    "import torch.optim as optim # для оптимизаторов\n",
    "from torchvision import datasets # для данных\n",
    "import torchvision.transforms as transforms # для преобразований тензоров\n",
    "\n",
    "import matplotlib.pyplot as plt"
   ]
  },
  {
   "cell_type": "code",
   "execution_count": null,
   "metadata": {
    "id": "act8OGimTclJ"
   },
   "outputs": [],
   "source": [
    "# Зафиксируем seed для воспроизводимости\n",
    "\n",
    "def seed_everything(seed):\n",
    "    random.seed(seed) # фиксируем генератор случайных чисел\n",
    "    os.environ['PYTHONHASHSEED'] = str(seed) # фиксируем заполнения хешей\n",
    "    np.random.seed(seed) # фиксируем генератор случайных чисел numpy\n",
    "    torch.manual_seed(seed) # фиксируем генератор случайных чисел pytorch\n",
    "    torch.cuda.manual_seed(seed) # фиксируем генератор случайных чисел для GPU\n",
    "    #torch.backends.cudnn.deterministic = True # выбираем только детерминированные алгоритмы (для сверток)\n",
    "    #torch.backends.cudnn.benchmark = False # фиксируем алгоритм вычисления сверток"
   ]
  },
  {
   "cell_type": "markdown",
   "metadata": {
    "id": "4Homy1Hda0y_"
   },
   "source": [
    "Выпишем все классы для последующего использования."
   ]
  },
  {
   "cell_type": "code",
   "execution_count": null,
   "metadata": {
    "id": "X_ltN5rHTgMe"
   },
   "outputs": [],
   "source": [
    "class CFG:\n",
    "\n",
    "# Задаем параметры нашего эксперимента\n",
    "\n",
    "  api = \"b7aa62e0a99990c241c682743376c68b282c86755f\"# вписать свой API Wandb\n",
    "  project = \"DL_Homework_AK-12\"# вписать название эксперимента, который предварительно надо создать в Wandb\n",
    "  entity = \"alkud12\"# ввести свой логин\n",
    "  num_epochs = 10 # количество эпох\n",
    "  train_batch_size = 64 # размер батча обучающей выборки\n",
    "  test_batch_size = 512 # размер батча тестовой выборки\n",
    "  num_workers = 4 # количество активных процессов на загрузку данных\n",
    "  lr = 0.001 # learning_rate\n",
    "  seed = 2022 # для функции воспроизводимости\n",
    "  #classes = # ВАШ КОД ЗДЕСЬ # классы датасета\n",
    "  wandb = False # флаг использования Wandb\n"
   ]
  },
  {
   "cell_type": "code",
   "execution_count": null,
   "metadata": {
    "id": "xnrD-0AQUpHi"
   },
   "outputs": [],
   "source": [
    "# функция перевода класса конфигурации в словарь\n",
    "\n",
    "def class2dict(f):\n",
    "  return dict((name, getattr(f, name)) for name in dir(f) if not name.startswith('__'))"
   ]
  },
  {
   "cell_type": "markdown",
   "metadata": {
    "id": "JNdiWxT1a836"
   },
   "source": [
    "Обратим внимание, что датасет поменялся, а значит поменлись среднее и стандартное отклонение, их необходимо посмотреть на официальной страничке датасета [ссылка](https://boscoj2008.github.io/customCNN/)."
   ]
  },
  {
   "cell_type": "code",
   "execution_count": null,
   "metadata": {
    "id": "i4aZMk4qYCzk"
   },
   "outputs": [],
   "source": [
    "# будем загружать картинки, сразу преобразуя их в тензор и нормализуя\n",
    "\n",
    "transform = transforms.Compose([transforms.ToTensor(), transforms.Normalize((0.1307,), (0.3081,))])"
   ]
  },
  {
   "cell_type": "markdown",
   "metadata": {
    "id": "-TtjNYSee01i"
   },
   "source": [
    "Загружаем данные."
   ]
  },
  {
   "cell_type": "code",
   "execution_count": null,
   "metadata": {
    "id": "M8O3KPn-VCK4"
   },
   "outputs": [],
   "source": [
    "train_data = datasets.FashionMNIST(root='data', train=True,\n",
    "                                   download=True, transform=transform)\n",
    "test_data = datasets.FashionMNIST(root='data', train=False,\n",
    "                                  download=True, transform=transform)\n",
    "\n",
    "train_loader = torch.utils.data.DataLoader(train_data, batch_size=CFG.train_batch_size,\n",
    "                                          shuffle=True, num_workers=CFG.num_workers, pin_memory=True)\n",
    "\n",
    "test_loader = torch.utils.data.DataLoader(test_data, batch_size=CFG.test_batch_size,\n",
    "                                         shuffle=False, num_workers=CFG.num_workers, pin_memory=True)"
   ]
  },
  {
   "cell_type": "code",
   "execution_count": null,
   "metadata": {
    "colab": {
     "base_uri": "https://localhost:8080/",
     "height": 483
    },
    "id": "piyI6eoTWpUu",
    "outputId": "53d64e32-47f9-424b-8ae8-6ab8d4b0e0a1"
   },
   "outputs": [
    {
     "data": {
      "image/png": "[encoded data removed]",
      "text/plain": [
       "<Figure size 1000x500 with 16 Axes>"
      ]
     },
     "metadata": {},
     "output_type": "display_data"
    }
   ],
   "source": [
    "# отрисуем несколько картинок\n",
    "\n",
    "dataiter = iter(train_loader)\n",
    "images, labels = next(dataiter)\n",
    "images = images.numpy()\n",
    "\n",
    "fig = plt.figure(figsize=(10, 5))\n",
    "for idx in np.arange(16):\n",
    "  plt.subplot(4,4,idx+1) # отрисуем 16 картинок\n",
    "  plt.tight_layout()\n",
    "  plt.imshow(train_data[idx][0].view(28, 28), cmap='Greys_r')\n",
    "  plt.xticks([])\n",
    "  plt.yticks([])"
   ]
  },
  {
   "cell_type": "markdown",
   "metadata": {
    "id": "S2TOF9mHfDSD"
   },
   "source": [
    "Создаем полносвязаннную нейронную сеть."
   ]
  },
  {
   "cell_type": "code",
   "execution_count": null,
   "metadata": {
    "id": "CPxbrZdqWq7G"
   },
   "outputs": [],
   "source": [
    "class My_Net(nn.Module): # наследуемся от класса nn.Module\n",
    "\n",
    "    def __init__(self):\n",
    "        super().__init__()\n",
    "        # количество нейронов в скрытых слоях (256, 128)\n",
    "        hidden_1 = 256\n",
    "        hidden_2 = 128\n",
    "        # первый слой (784(=28*28) -> hidden_1)\n",
    "        self.fc1 = nn.Linear(28*28, hidden_1)\n",
    "        # второй слой (hidden_1 -> hidden_2)\n",
    "        self.fc2 = nn.Linear(hidden_1, hidden_2)\n",
    "        # третий (выходной) слой (hidden_2 -> 10 (классов))\n",
    "        self.fc3 = nn.Linear(hidden_2, 10)\n",
    "\n",
    "    def forward(self, x):\n",
    "        # преобразуем батч картинок из (N, 1, 28, 28) в (N, 784)\n",
    "        x = x.view(-1, 28*28)\n",
    "        # добавляем первый скрытый слой с ReLU активацией\n",
    "        x = F.relu(self.fc1(x))\n",
    "        # добавляем второй скрытый слой с ReLU активацией\n",
    "        x = F.relu(self.fc2(x))\n",
    "        # добавляем третий (выходной) слой\n",
    "        x = F.softmax(self.fc3(x), dim=1)\n",
    "        return x"
   ]
  },
  {
   "cell_type": "code",
   "execution_count": null,
   "metadata": {
    "colab": {
     "base_uri": "https://localhost:8080/"
    },
    "id": "z6Xd4VKcW2DA",
    "outputId": "9a285269-f8a8-4593-d5cf-755041bfedea"
   },
   "outputs": [
    {
     "name": "stdout",
     "output_type": "stream",
     "text": [
      "My_Net(\n",
      "  (fc1): Linear(in_features=784, out_features=256, bias=True)\n",
      "  (fc2): Linear(in_features=256, out_features=128, bias=True)\n",
      "  (fc3): Linear(in_features=128, out_features=10, bias=True)\n",
      ")\n"
     ]
    }
   ],
   "source": [
    "model = My_Net()\n",
    "model = model.to('cuda:0' if torch.cuda.is_available() else 'cpu') # переводим модель на GPU\n",
    "print(model) # посмотрим на нашу модель"
   ]
  },
  {
   "cell_type": "code",
   "execution_count": null,
   "metadata": {
    "id": "7atYx0-FW5-K"
   },
   "outputs": [],
   "source": [
    "# функция потерь (cross-entropy) для 10 классов\n",
    "criterion = nn.CrossEntropyLoss()\n",
    "\n",
    "# SGD (классический) со скоростью обучения (learning rate) = 0.01\n",
    "optimizer = optim.SGD(model.parameters(), lr=0.01)"
   ]
  },
  {
   "cell_type": "code",
   "execution_count": null,
   "metadata": {
    "id": "5ow_sFgBW8bm"
   },
   "outputs": [],
   "source": [
    "# функция обучения модели\n",
    "def train(model, device, train_loader, optimizer, criterion, epoch, WANDB):\n",
    "    model.train() # обязательно переводим в режим обучения\n",
    "    test_loss = 0\n",
    "    correct = 0\n",
    "\n",
    "    n_ex = len(train_loader)\n",
    "\n",
    "    for batch_idx, (data, target) in tqdm(enumerate(train_loader), total=n_ex):\n",
    "        data, target = data.to(device), target.to(device) # переводим картинки и таргеты на GPU\n",
    "        # обнуляем градиенты!\n",
    "        optimizer.zero_grad()\n",
    "        # прямой проход\n",
    "        output = model(data)\n",
    "        pred = output.argmax(dim=1, keepdim=True)\n",
    "        correct += pred.eq(target.view_as(pred)).sum().item() # определяем корректность предсказания\n",
    "        train_loss = criterion(output, target) # считаем значение функции потерь\n",
    "        # обратный проход\n",
    "        train_loss.backward()\n",
    "        # делаем градиентный шаг оптимизатором\n",
    "        optimizer.step()\n",
    "        # считаем метрики и лосс\n",
    "    tqdm.write('\\nTrain set: Average loss: {:.4f}, Accuracy: {:.0f}%'.format(\n",
    "        train_loss, 100. * correct / len(train_loader.dataset)))\n",
    "\n",
    "    if WANDB:\n",
    "        wandb.log({'train_loss': train_loss,\n",
    "                   'train_accuracy': correct / len(train_loader.dataset)})"
   ]
  },
  {
   "cell_type": "code",
   "execution_count": null,
   "metadata": {
    "id": "sxMjlNRZXAW8"
   },
   "outputs": [],
   "source": [
    "# функция тестирования\n",
    "def test(model, device, test_loader, criterion, WANDB):\n",
    "    model.eval() # переводем модель в режим инференса\n",
    "    test_loss = 0\n",
    "    correct = 0\n",
    "    # показываем, что обученич нет и градиенты не обновляются\n",
    "    with torch.no_grad():\n",
    "        for data, target in test_loader:\n",
    "            data, target = data.to(device), target.to(device)\n",
    "            output = model(data)\n",
    "            test_loss = criterion(output, target) # считаем значение функции потерь\n",
    "            pred = output.argmax(dim=1, keepdim=True)\n",
    "            correct += pred.eq(target.view_as(pred)).sum().item()\n",
    "            # считаем метрики\n",
    "    tqdm.write('Test set: Average loss: {:.4f}, Accuracy: {:.0f}%'.format(\n",
    "        test_loss, 100. * correct / len(test_loader.dataset)))\n",
    "\n",
    "    if WANDB:\n",
    "        wandb.log({'test_loss': test_loss,\n",
    "                   'test_accuracy': correct / len(test_loader.dataset)})"
   ]
  },
  {
   "cell_type": "code",
   "execution_count": null,
   "metadata": {
    "id": "wOHQ0Wt9XFEh"
   },
   "outputs": [],
   "source": [
    "# основная функция для экспериментов\n",
    "def main(model):\n",
    "    # настраиваем окружение для wandb\n",
    "    if CFG.wandb:\n",
    "        os.environ[\"WANDB_API_KEY\"] = CFG.api\n",
    "        wandb.init(project=CFG.project, entity=CFG.entity, reinit=True, config=class2dict(CFG))\n",
    "\n",
    "    use_cuda = torch.cuda.is_available() # проверяем доступность GPU\n",
    "\n",
    "    seed_everything(CFG.seed) # фиксируем сиды\n",
    "\n",
    "    device = 'cuda:0' if use_cuda else 'cpu' # выделили устройство\n",
    "\n",
    "    if CFG.wandb:\n",
    "        wandb.watch(model, log='all') # логируем все (метрики, лоссы, градиенты)\n",
    "\n",
    "    for epoch in range(1, CFG.num_epochs + 1): # цикл на эпохи\n",
    "        print('\\nEpoch:', epoch)\n",
    "        train(model, device, train_loader, optimizer, criterion, epoch, CFG.wandb)\n",
    "        test(model, device, test_loader, criterion, CFG.wandb)\n",
    "    print('Training is end!')"
   ]
  },
  {
   "cell_type": "code",
   "execution_count": null,
   "metadata": {
    "colab": {
     "base_uri": "https://localhost:8080/"
    },
    "id": "ddOOVyDhXJlH",
    "outputId": "5724096f-25ca-46b2-a1b9-f786bf9e379c"
   },
   "outputs": [
    {
     "name": "stdout",
     "output_type": "stream",
     "text": [
      "Wed Oct  4 14:29:28 2023       \n",
      "+-----------------------------------------------------------------------------+\n",
      "| NVIDIA-SMI 525.105.17   Driver Version: 525.105.17   CUDA Version: 12.0     |\n",
      "|-------------------------------+----------------------+----------------------+\n",
      "| GPU  Name        Persistence-M| Bus-Id        Disp.A | Volatile Uncorr. ECC |\n",
      "| Fan  Temp  Perf  Pwr:Usage/Cap|         Memory-Usage | GPU-Util  Compute M. |\n",
      "|                               |                      |               MIG M. |\n",
      "|===============================+======================+======================|\n",
      "|   0  Tesla T4            Off  | 00000000:00:04.0 Off |                    0 |\n",
      "| N/A   48C    P0    26W /  70W |    839MiB / 15360MiB |      0%      Default |\n",
      "|                               |                      |                  N/A |\n",
      "+-------------------------------+----------------------+----------------------+\n",
      "                                                                               \n",
      "+-----------------------------------------------------------------------------+\n",
      "| Processes:                                                                  |\n",
      "|  GPU   GI   CI        PID   Type   Process name                  GPU Memory |\n",
      "|        ID   ID                                                   Usage      |\n",
      "|=============================================================================|\n",
      "+-----------------------------------------------------------------------------+\n"
     ]
    }
   ],
   "source": [
    "gpu_info = !nvidia-smi\n",
    "gpu_info = '\\n'.join(gpu_info)\n",
    "print(gpu_info)"
   ]
  },
  {
   "cell_type": "code",
   "execution_count": null,
   "metadata": {
    "colab": {
     "base_uri": "https://localhost:8080/"
    },
    "id": "ltmC4Ztv7feS",
    "outputId": "5f30dbc8-d7e8-4d2e-d8b2-10143dace568"
   },
   "outputs": [
    {
     "name": "stdout",
     "output_type": "stream",
     "text": [
      "\n",
      "Epoch: 1\n"
     ]
    },
    {
     "name": "stderr",
     "output_type": "stream",
     "text": [
      "100%|██████████| 938/938 [00:16<00:00, 57.12it/s]"
     ]
    },
    {
     "name": "stdout",
     "output_type": "stream",
     "text": [
      "\n",
      "Train set: Average loss: 2.0290, Accuracy: 35%\n"
     ]
    },
    {
     "name": "stderr",
     "output_type": "stream",
     "text": [
      "\n"
     ]
    },
    {
     "name": "stdout",
     "output_type": "stream",
     "text": [
      "Test set: Average loss: 1.9435, Accuracy: 58%\n",
      "\n",
      "Epoch: 2\n"
     ]
    },
    {
     "name": "stderr",
     "output_type": "stream",
     "text": [
      "100%|██████████| 938/938 [00:22<00:00, 42.21it/s]"
     ]
    },
    {
     "name": "stdout",
     "output_type": "stream",
     "text": [
      "\n",
      "Train set: Average loss: 1.7589, Accuracy: 61%\n"
     ]
    },
    {
     "name": "stderr",
     "output_type": "stream",
     "text": [
      "\n"
     ]
    },
    {
     "name": "stdout",
     "output_type": "stream",
     "text": [
      "Test set: Average loss: 1.8068, Accuracy: 67%\n",
      "\n",
      "Epoch: 3\n"
     ]
    },
    {
     "name": "stderr",
     "output_type": "stream",
     "text": [
      "100%|██████████| 938/938 [00:15<00:00, 60.17it/s]"
     ]
    },
    {
     "name": "stdout",
     "output_type": "stream",
     "text": [
      "\n",
      "Train set: Average loss: 1.6643, Accuracy: 70%\n"
     ]
    },
    {
     "name": "stderr",
     "output_type": "stream",
     "text": [
      "\n"
     ]
    },
    {
     "name": "stdout",
     "output_type": "stream",
     "text": [
      "Test set: Average loss: 1.7393, Accuracy: 71%\n",
      "\n",
      "Epoch: 4\n"
     ]
    },
    {
     "name": "stderr",
     "output_type": "stream",
     "text": [
      "100%|██████████| 938/938 [00:14<00:00, 62.78it/s]"
     ]
    },
    {
     "name": "stdout",
     "output_type": "stream",
     "text": [
      "\n",
      "Train set: Average loss: 1.9511, Accuracy: 75%\n"
     ]
    },
    {
     "name": "stderr",
     "output_type": "stream",
     "text": [
      "\n"
     ]
    },
    {
     "name": "stdout",
     "output_type": "stream",
     "text": [
      "Test set: Average loss: 1.6817, Accuracy: 77%\n",
      "\n",
      "Epoch: 5\n"
     ]
    },
    {
     "name": "stderr",
     "output_type": "stream",
     "text": [
      "100%|██████████| 938/938 [00:14<00:00, 63.09it/s]"
     ]
    },
    {
     "name": "stdout",
     "output_type": "stream",
     "text": [
      "\n",
      "Train set: Average loss: 1.7600, Accuracy: 78%\n"
     ]
    },
    {
     "name": "stderr",
     "output_type": "stream",
     "text": [
      "\n"
     ]
    },
    {
     "name": "stdout",
     "output_type": "stream",
     "text": [
      "Test set: Average loss: 1.6579, Accuracy: 78%\n",
      "\n",
      "Epoch: 6\n"
     ]
    },
    {
     "name": "stderr",
     "output_type": "stream",
     "text": [
      "100%|██████████| 938/938 [00:15<00:00, 61.94it/s]"
     ]
    },
    {
     "name": "stdout",
     "output_type": "stream",
     "text": [
      "\n",
      "Train set: Average loss: 1.6399, Accuracy: 79%\n"
     ]
    },
    {
     "name": "stderr",
     "output_type": "stream",
     "text": [
      "\n"
     ]
    },
    {
     "name": "stdout",
     "output_type": "stream",
     "text": [
      "Test set: Average loss: 1.6497, Accuracy: 79%\n",
      "\n",
      "Epoch: 7\n"
     ]
    },
    {
     "name": "stderr",
     "output_type": "stream",
     "text": [
      "100%|██████████| 938/938 [00:15<00:00, 59.95it/s]"
     ]
    },
    {
     "name": "stdout",
     "output_type": "stream",
     "text": [
      "\n",
      "Train set: Average loss: 1.6519, Accuracy: 80%\n"
     ]
    },
    {
     "name": "stderr",
     "output_type": "stream",
     "text": [
      "\n"
     ]
    },
    {
     "name": "stdout",
     "output_type": "stream",
     "text": [
      "Test set: Average loss: 1.6469, Accuracy: 79%\n",
      "\n",
      "Epoch: 8\n"
     ]
    },
    {
     "name": "stderr",
     "output_type": "stream",
     "text": [
      "100%|██████████| 938/938 [00:15<00:00, 58.97it/s]"
     ]
    },
    {
     "name": "stdout",
     "output_type": "stream",
     "text": [
      "\n",
      "Train set: Average loss: 1.5995, Accuracy: 80%\n"
     ]
    },
    {
     "name": "stderr",
     "output_type": "stream",
     "text": [
      "\n"
     ]
    },
    {
     "name": "stdout",
     "output_type": "stream",
     "text": [
      "Test set: Average loss: 1.6399, Accuracy: 79%\n",
      "\n",
      "Epoch: 9\n"
     ]
    },
    {
     "name": "stderr",
     "output_type": "stream",
     "text": [
      "100%|██████████| 938/938 [00:15<00:00, 62.32it/s]"
     ]
    },
    {
     "name": "stdout",
     "output_type": "stream",
     "text": [
      "\n",
      "Train set: Average loss: 1.6466, Accuracy: 80%\n"
     ]
    },
    {
     "name": "stderr",
     "output_type": "stream",
     "text": [
      "\n"
     ]
    },
    {
     "name": "stdout",
     "output_type": "stream",
     "text": [
      "Test set: Average loss: 1.6386, Accuracy: 80%\n",
      "\n",
      "Epoch: 10\n"
     ]
    },
    {
     "name": "stderr",
     "output_type": "stream",
     "text": [
      "100%|██████████| 938/938 [00:15<00:00, 62.41it/s]"
     ]
    },
    {
     "name": "stdout",
     "output_type": "stream",
     "text": [
      "\n",
      "Train set: Average loss: 1.7112, Accuracy: 81%\n"
     ]
    },
    {
     "name": "stderr",
     "output_type": "stream",
     "text": [
      "\n"
     ]
    },
    {
     "name": "stdout",
     "output_type": "stream",
     "text": [
      "Test set: Average loss: 1.6404, Accuracy: 80%\n",
      "Training is end!\n"
     ]
    }
   ],
   "source": [
    "main(model)"
   ]
  },
  {
   "cell_type": "code",
   "execution_count": null,
   "metadata": {
    "id": "ivGWAd0W_QF0"
   },
   "outputs": [],
   "source": [
    "# добавим 3 слоя\n",
    "class My_Net(nn.Module):\n",
    "\n",
    "    def __init__(self):\n",
    "        super(My_Net, self).__init__()\n",
    "        hidden_1 = 256\n",
    "        hidden_2 = 128\n",
    "        hidden_3 = 64\n",
    "        hidden_4 = 32\n",
    "        hidden_5 = 16\n",
    "        self.fc1 = nn.Linear(28*28, hidden_1)\n",
    "        self.fc2 = nn.Linear(hidden_1, hidden_2)\n",
    "        self.fc3 = nn.Linear(hidden_2, hidden_3)\n",
    "        self.fc4 = nn.Linear(hidden_3, hidden_4)\n",
    "        self.fc5 = nn.Linear(hidden_4, hidden_5)\n",
    "        self.fc6 = nn.Linear(hidden_5, 10)\n",
    "\n",
    "\n",
    "    def forward(self,x):\n",
    "        x = x.view(-1, 28*28)\n",
    "        x = F.relu(self.fc1(x))\n",
    "        x = F.relu(self.fc2(x))\n",
    "        x = F.relu(self.fc3(x))\n",
    "        x = F.relu(self.fc4(x))\n",
    "        x = F.relu(self.fc5(x))\n",
    "        x = F.softmax(self.fc6(x), dim=1)\n",
    "        return x"
   ]
  },
  {
   "cell_type": "code",
   "execution_count": null,
   "metadata": {
    "colab": {
     "base_uri": "https://localhost:8080/"
    },
    "id": "5lVAOpNV_YoN",
    "outputId": "2361ea66-be76-4d1a-bb66-b2b5084751e1"
   },
   "outputs": [
    {
     "name": "stdout",
     "output_type": "stream",
     "text": [
      "\n",
      "Epoch: 1\n"
     ]
    },
    {
     "name": "stderr",
     "output_type": "stream",
     "text": [
      "100%|██████████| 938/938 [00:15<00:00, 62.17it/s]"
     ]
    },
    {
     "name": "stdout",
     "output_type": "stream",
     "text": [
      "\n",
      "Train set: Average loss: 1.5910, Accuracy: 80%\n"
     ]
    },
    {
     "name": "stderr",
     "output_type": "stream",
     "text": [
      "\n"
     ]
    },
    {
     "name": "stdout",
     "output_type": "stream",
     "text": [
      "Test set: Average loss: 1.6048, Accuracy: 82%\n",
      "\n",
      "Epoch: 2\n"
     ]
    },
    {
     "name": "stderr",
     "output_type": "stream",
     "text": [
      "100%|██████████| 938/938 [00:15<00:00, 61.41it/s]"
     ]
    },
    {
     "name": "stdout",
     "output_type": "stream",
     "text": [
      "\n",
      "Train set: Average loss: 1.5857, Accuracy: 84%\n"
     ]
    },
    {
     "name": "stderr",
     "output_type": "stream",
     "text": [
      "\n"
     ]
    },
    {
     "name": "stdout",
     "output_type": "stream",
     "text": [
      "Test set: Average loss: 1.5959, Accuracy: 83%\n",
      "\n",
      "Epoch: 3\n"
     ]
    },
    {
     "name": "stderr",
     "output_type": "stream",
     "text": [
      "100%|██████████| 938/938 [00:15<00:00, 61.25it/s]"
     ]
    },
    {
     "name": "stdout",
     "output_type": "stream",
     "text": [
      "\n",
      "Train set: Average loss: 1.5236, Accuracy: 84%\n"
     ]
    },
    {
     "name": "stderr",
     "output_type": "stream",
     "text": [
      "\n"
     ]
    },
    {
     "name": "stdout",
     "output_type": "stream",
     "text": [
      "Test set: Average loss: 1.5963, Accuracy: 82%\n",
      "\n",
      "Epoch: 4\n"
     ]
    },
    {
     "name": "stderr",
     "output_type": "stream",
     "text": [
      "100%|██████████| 938/938 [00:15<00:00, 61.82it/s]"
     ]
    },
    {
     "name": "stdout",
     "output_type": "stream",
     "text": [
      "\n",
      "Train set: Average loss: 1.7408, Accuracy: 85%\n"
     ]
    },
    {
     "name": "stderr",
     "output_type": "stream",
     "text": [
      "\n"
     ]
    },
    {
     "name": "stdout",
     "output_type": "stream",
     "text": [
      "Test set: Average loss: 1.6157, Accuracy: 82%\n",
      "\n",
      "Epoch: 5\n"
     ]
    },
    {
     "name": "stderr",
     "output_type": "stream",
     "text": [
      "100%|██████████| 938/938 [00:14<00:00, 62.94it/s]"
     ]
    },
    {
     "name": "stdout",
     "output_type": "stream",
     "text": [
      "\n",
      "Train set: Average loss: 1.6704, Accuracy: 85%\n"
     ]
    },
    {
     "name": "stderr",
     "output_type": "stream",
     "text": [
      "\n"
     ]
    },
    {
     "name": "stdout",
     "output_type": "stream",
     "text": [
      "Test set: Average loss: 1.5813, Accuracy: 84%\n",
      "\n",
      "Epoch: 6\n"
     ]
    },
    {
     "name": "stderr",
     "output_type": "stream",
     "text": [
      "100%|██████████| 938/938 [00:15<00:00, 62.02it/s]"
     ]
    },
    {
     "name": "stdout",
     "output_type": "stream",
     "text": [
      "\n",
      "Train set: Average loss: 1.5237, Accuracy: 86%\n"
     ]
    },
    {
     "name": "stderr",
     "output_type": "stream",
     "text": [
      "\n"
     ]
    },
    {
     "name": "stdout",
     "output_type": "stream",
     "text": [
      "Test set: Average loss: 1.5679, Accuracy: 85%\n",
      "\n",
      "Epoch: 7\n"
     ]
    },
    {
     "name": "stderr",
     "output_type": "stream",
     "text": [
      "100%|██████████| 938/938 [00:14<00:00, 62.59it/s]"
     ]
    },
    {
     "name": "stdout",
     "output_type": "stream",
     "text": [
      "\n",
      "Train set: Average loss: 1.5484, Accuracy: 86%\n"
     ]
    },
    {
     "name": "stderr",
     "output_type": "stream",
     "text": [
      "\n"
     ]
    },
    {
     "name": "stdout",
     "output_type": "stream",
     "text": [
      "Test set: Average loss: 1.5855, Accuracy: 85%\n",
      "\n",
      "Epoch: 8\n"
     ]
    },
    {
     "name": "stderr",
     "output_type": "stream",
     "text": [
      "100%|██████████| 938/938 [00:15<00:00, 61.62it/s]"
     ]
    },
    {
     "name": "stdout",
     "output_type": "stream",
     "text": [
      "\n",
      "Train set: Average loss: 1.5628, Accuracy: 86%\n"
     ]
    },
    {
     "name": "stderr",
     "output_type": "stream",
     "text": [
      "\n"
     ]
    },
    {
     "name": "stdout",
     "output_type": "stream",
     "text": [
      "Test set: Average loss: 1.5756, Accuracy: 86%\n",
      "\n",
      "Epoch: 9\n"
     ]
    },
    {
     "name": "stderr",
     "output_type": "stream",
     "text": [
      "100%|██████████| 938/938 [00:15<00:00, 61.99it/s]"
     ]
    },
    {
     "name": "stdout",
     "output_type": "stream",
     "text": [
      "\n",
      "Train set: Average loss: 1.5237, Accuracy: 86%\n"
     ]
    },
    {
     "name": "stderr",
     "output_type": "stream",
     "text": [
      "\n"
     ]
    },
    {
     "name": "stdout",
     "output_type": "stream",
     "text": [
      "Test set: Average loss: 1.5913, Accuracy: 85%\n",
      "\n",
      "Epoch: 10\n"
     ]
    },
    {
     "name": "stderr",
     "output_type": "stream",
     "text": [
      "100%|██████████| 938/938 [00:15<00:00, 62.45it/s]"
     ]
    },
    {
     "name": "stdout",
     "output_type": "stream",
     "text": [
      "\n",
      "Train set: Average loss: 1.6476, Accuracy: 87%\n"
     ]
    },
    {
     "name": "stderr",
     "output_type": "stream",
     "text": [
      "\n"
     ]
    },
    {
     "name": "stdout",
     "output_type": "stream",
     "text": [
      "Test set: Average loss: 1.5756, Accuracy: 85%\n",
      "Training is end!\n"
     ]
    }
   ],
   "source": [
    "# оптимизатор Adaptive Moment Estimation\n",
    "optimizer = optim.Adam(model.parameters(), lr=1e-3)\n",
    "main(model)"
   ]
  },
  {
   "cell_type": "code",
   "execution_count": null,
   "metadata": {
    "colab": {
     "base_uri": "https://localhost:8080/"
    },
    "id": "jpAN33NbAeFK",
    "outputId": "adb80305-49d2-4542-e271-a01b9f56567f"
   },
   "outputs": [
    {
     "name": "stdout",
     "output_type": "stream",
     "text": [
      "\n",
      "Epoch: 1\n"
     ]
    },
    {
     "name": "stderr",
     "output_type": "stream",
     "text": [
      "100%|██████████| 938/938 [00:14<00:00, 62.60it/s]"
     ]
    },
    {
     "name": "stdout",
     "output_type": "stream",
     "text": [
      "\n",
      "Train set: Average loss: 1.6404, Accuracy: 85%\n"
     ]
    },
    {
     "name": "stderr",
     "output_type": "stream",
     "text": [
      "\n"
     ]
    },
    {
     "name": "stdout",
     "output_type": "stream",
     "text": [
      "Test set: Average loss: 1.6047, Accuracy: 84%\n",
      "\n",
      "Epoch: 2\n"
     ]
    },
    {
     "name": "stderr",
     "output_type": "stream",
     "text": [
      "100%|██████████| 938/938 [00:15<00:00, 61.99it/s]"
     ]
    },
    {
     "name": "stdout",
     "output_type": "stream",
     "text": [
      "\n",
      "Train set: Average loss: 1.5548, Accuracy: 86%\n"
     ]
    },
    {
     "name": "stderr",
     "output_type": "stream",
     "text": [
      "\n"
     ]
    },
    {
     "name": "stdout",
     "output_type": "stream",
     "text": [
      "Test set: Average loss: 1.5808, Accuracy: 85%\n",
      "\n",
      "Epoch: 3\n"
     ]
    },
    {
     "name": "stderr",
     "output_type": "stream",
     "text": [
      "100%|██████████| 938/938 [00:14<00:00, 62.59it/s]"
     ]
    },
    {
     "name": "stdout",
     "output_type": "stream",
     "text": [
      "\n",
      "Train set: Average loss: 1.5237, Accuracy: 86%\n"
     ]
    },
    {
     "name": "stderr",
     "output_type": "stream",
     "text": [
      "\n"
     ]
    },
    {
     "name": "stdout",
     "output_type": "stream",
     "text": [
      "Test set: Average loss: 1.5922, Accuracy: 84%\n",
      "\n",
      "Epoch: 4\n"
     ]
    },
    {
     "name": "stderr",
     "output_type": "stream",
     "text": [
      "100%|██████████| 938/938 [00:16<00:00, 57.85it/s]"
     ]
    },
    {
     "name": "stdout",
     "output_type": "stream",
     "text": [
      "\n",
      "Train set: Average loss: 1.7564, Accuracy: 87%\n"
     ]
    },
    {
     "name": "stderr",
     "output_type": "stream",
     "text": [
      "\n"
     ]
    },
    {
     "name": "stdout",
     "output_type": "stream",
     "text": [
      "Test set: Average loss: 1.6095, Accuracy: 81%\n",
      "\n",
      "Epoch: 5\n"
     ]
    },
    {
     "name": "stderr",
     "output_type": "stream",
     "text": [
      "100%|██████████| 938/938 [00:15<00:00, 61.65it/s]"
     ]
    },
    {
     "name": "stdout",
     "output_type": "stream",
     "text": [
      "\n",
      "Train set: Average loss: 1.6466, Accuracy: 86%\n"
     ]
    },
    {
     "name": "stderr",
     "output_type": "stream",
     "text": [
      "\n"
     ]
    },
    {
     "name": "stdout",
     "output_type": "stream",
     "text": [
      "Test set: Average loss: 1.6064, Accuracy: 85%\n",
      "\n",
      "Epoch: 6\n"
     ]
    },
    {
     "name": "stderr",
     "output_type": "stream",
     "text": [
      "100%|██████████| 938/938 [00:15<00:00, 61.10it/s]"
     ]
    },
    {
     "name": "stdout",
     "output_type": "stream",
     "text": [
      "\n",
      "Train set: Average loss: 1.5237, Accuracy: 87%\n"
     ]
    },
    {
     "name": "stderr",
     "output_type": "stream",
     "text": [
      "\n"
     ]
    },
    {
     "name": "stdout",
     "output_type": "stream",
     "text": [
      "Test set: Average loss: 1.5774, Accuracy: 85%\n",
      "\n",
      "Epoch: 7\n"
     ]
    },
    {
     "name": "stderr",
     "output_type": "stream",
     "text": [
      "100%|██████████| 938/938 [00:15<00:00, 61.61it/s]"
     ]
    },
    {
     "name": "stdout",
     "output_type": "stream",
     "text": [
      "\n",
      "Train set: Average loss: 1.4924, Accuracy: 87%\n"
     ]
    },
    {
     "name": "stderr",
     "output_type": "stream",
     "text": [
      "\n"
     ]
    },
    {
     "name": "stdout",
     "output_type": "stream",
     "text": [
      "Test set: Average loss: 1.6008, Accuracy: 83%\n",
      "\n",
      "Epoch: 8\n"
     ]
    },
    {
     "name": "stderr",
     "output_type": "stream",
     "text": [
      "100%|██████████| 938/938 [00:15<00:00, 61.75it/s]"
     ]
    },
    {
     "name": "stdout",
     "output_type": "stream",
     "text": [
      "\n",
      "Train set: Average loss: 1.5860, Accuracy: 87%\n"
     ]
    },
    {
     "name": "stderr",
     "output_type": "stream",
     "text": [
      "\n"
     ]
    },
    {
     "name": "stdout",
     "output_type": "stream",
     "text": [
      "Test set: Average loss: 1.5786, Accuracy: 86%\n",
      "\n",
      "Epoch: 9\n"
     ]
    },
    {
     "name": "stderr",
     "output_type": "stream",
     "text": [
      "100%|██████████| 938/938 [00:17<00:00, 52.74it/s]"
     ]
    },
    {
     "name": "stdout",
     "output_type": "stream",
     "text": [
      "\n",
      "Train set: Average loss: 1.5862, Accuracy: 86%\n"
     ]
    },
    {
     "name": "stderr",
     "output_type": "stream",
     "text": [
      "\n"
     ]
    },
    {
     "name": "stdout",
     "output_type": "stream",
     "text": [
      "Test set: Average loss: 1.5621, Accuracy: 86%\n",
      "\n",
      "Epoch: 10\n"
     ]
    },
    {
     "name": "stderr",
     "output_type": "stream",
     "text": [
      "100%|██████████| 938/938 [00:15<00:00, 59.92it/s]"
     ]
    },
    {
     "name": "stdout",
     "output_type": "stream",
     "text": [
      "\n",
      "Train set: Average loss: 1.6174, Accuracy: 87%\n"
     ]
    },
    {
     "name": "stderr",
     "output_type": "stream",
     "text": [
      "\n"
     ]
    },
    {
     "name": "stdout",
     "output_type": "stream",
     "text": [
      "Test set: Average loss: 1.5758, Accuracy: 85%\n",
      "Training is end!\n"
     ]
    }
   ],
   "source": [
    "# оптимизатор Root Mean Square Propagation\n",
    "optimizer = optim.RMSprop(model.parameters(), lr=1e-3)\n",
    "main(model)"
   ]
  }
 ],
 "metadata": {
  "accelerator": "GPU",
  "colab": {
   "provenance": []
  },
  "gpuClass": "standard",
  "kernelspec": {
   "display_name": "Python 3 (ipykernel)",
   "language": "python",
   "name": "python3"
  },
  "language_info": {
   "codemirror_mode": {
    "name": "ipython",
    "version": 3
   },
   "file_extension": ".py",
   "mimetype": "text/x-python",
   "name": "python",
   "nbconvert_exporter": "python",
   "pygments_lexer": "ipython3",
   "version": "3.11.3"
  },
  "toc": {
   "base_numbering": 1,
   "nav_menu": {},
   "number_sections": true,
   "sideBar": true,
   "skip_h1_title": false,
   "title_cell": "Table of Contents",
   "title_sidebar": "Contents",
   "toc_cell": false,
   "toc_position": {},
   "toc_section_display": true,
   "toc_window_display": false
  }
 },
 "nbformat": 4,
 "nbformat_minor": 1
}
