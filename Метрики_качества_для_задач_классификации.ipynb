{
  "cells": [
    {
      "cell_type": "markdown",
      "metadata": {
        "id": "view-in-github",
        "colab_type": "text"
      },
      "source": [
        "<a href=\"https://colab.research.google.com/github/AlexeyK12/Data_scientist-Sberuniversity/blob/main/%D0%9C%D0%B5%D1%82%D1%80%D0%B8%D0%BA%D0%B8_%D0%BA%D0%B0%D1%87%D0%B5%D1%81%D1%82%D0%B2%D0%B0_%D0%B4%D0%BB%D1%8F_%D0%B7%D0%B0%D0%B4%D0%B0%D1%87_%D0%BA%D0%BB%D0%B0%D1%81%D1%81%D0%B8%D1%84%D0%B8%D0%BA%D0%B0%D1%86%D0%B8%D0%B8.ipynb\" target=\"_parent\"><img src=\"https://colab.research.google.com/assets/colab-badge.svg\" alt=\"Open In Colab\"/></a>"
      ]
    },
    {
      "cell_type": "markdown",
      "metadata": {
        "id": "te-b9mFmK4hN"
      },
      "source": [
        "# Метрики качества для задач классификации: точность и специфичность, F1, ROC AUC, PR AUC"
      ]
    },
    {
      "cell_type": "markdown",
      "metadata": {
        "id": "MFNp4JmC-dmk"
      },
      "source": [
        "Рассмотрим такие метрики, как точность (presicion), специфичность (specificity, true negative rate, TNR), F1-мера (F1-score), ROC AUC и PR AUC для бинарной и многоклассовой классификаций. Также рассмотрим долю правильных ответов (accuracy), которую часто путают с точностью.\n",
        "\n"
      ]
    },
    {
      "cell_type": "markdown",
      "metadata": {
        "id": "7swhKdJOcELe"
      },
      "source": [
        "## Обозначения:   \n",
        "* $\\mathbf{y} = (y_1, ..., y_n)$ — правильные ответы\n",
        "* В задаче бинарной классификации считаем, что $y_i \\in \\{0, 1\\}$ для любого $i \\in [1, n]$\n",
        "* $\\hat{\\mathbf{y}} = (\\hat{y}_1, ..., \\hat{y}_n)$ — предсказания меток классов\n",
        "* $\\mathbf{p_i} = (p_1, ..., p_K)$ — предсказания вероятностей принадлежности к классам $\\{ C_1, \\ldots, C_K\\}$ для любого $i \\in [1, n]$\n",
        "* В задаче бинарной классификации считаем, что\n",
        "$$p_1 = p \\text{ – вероятность принадлежности к классу } 1$$\n",
        "$$p_0 = 1 - p \\text{ – вероятность принадлежности к классу } 0$$\n"
      ]
    },
    {
      "cell_type": "markdown",
      "metadata": {
        "id": "F3KhXgs7dKnO"
      },
      "source": [
        "## Точность, доля правильных ответов (accuracy)\n",
        "\n",
        "Формула расчета **доли правильных ответов** выглядит одинаково и в случае бинарной, и в случае многоклассовой классификации (единственное, в многоклассовом случае ее можно считать как для всех классов в целом, так и для каждого класса по отдельности, а потом усреднить полученные значения):\n",
        "\n",
        "$$\\text{accuracy} = \\frac{1}{n} \\sum_{i = 1}^{n}{1(\\hat{y}_i == y_i)}, $$\n",
        "где $1(x)$ — **индикаторная функция**.\n",
        "\n"
      ]
    },
    {
      "cell_type": "markdown",
      "metadata": {
        "id": "xtoM-V5JDrZ2"
      },
      "source": [
        "---\n",
        "Пусть $A ⊆ X$ — выбранное подмножество произвольного множества $X$. Функция $1_A: X → \\{0, 1\\}$, определенная следующим образом:\n",
        "\n",
        "\\begin{equation*}\n",
        "1_A(x) =\n",
        " \\begin{cases}\n",
        "   1, &\\text{$x \\in A$}\\\\\n",
        "   0, &\\text{$x \\notin A$},\n",
        " \\end{cases}\n",
        "\\end{equation*}  \n",
        "\n",
        "называется **индикатором** множества $A$.\n",
        "\n",
        "---"
      ]
    },
    {
      "cell_type": "markdown",
      "metadata": {
        "id": "23WdjsL6Dk8e"
      },
      "source": [
        "$+$ Простая в понимании и интерпретации метрика.  \n",
        "$-$ Неприменима, когда выборка несбалансированная (если в выборке будет очень мало объектов, представляющих какой-то класс, то даже константная модель (предсказания которой являются константой) покажет достаточно большую долю правильных ответов.\n",
        "\n",
        "[Реализация в `sklearn`](https://scikit-learn.org/stable/modules/generated/sklearn.metrics.accuracy_score.html)"
      ]
    },
    {
      "cell_type": "markdown",
      "metadata": {
        "id": "cys_ifN5Qo-n"
      },
      "source": [
        "## Точность (presicion) и специфичность (specificity/\n",
        "true negative rate, TNR)\n"
      ]
    },
    {
      "cell_type": "markdown",
      "metadata": {
        "id": "LXqAAonkYS-P"
      },
      "source": [
        "### Бинарная классификация\n",
        "\n",
        "Перед тем как переходить к формулам непосредственно точности и специфичности, введем следующие обозначения, которые лучше всего записать в виде таблицы:\n",
        "\n",
        "|| $y = 0$ | $y = 1$ |\n",
        "| :-----------: | :-----------: | :-----------: |\n",
        "| $\\hat{y} = 0$ | True negative (TN) | False negative (FN) |\n",
        "| $\\hat{y} = 1$ | False positive (FP) | True positive (TP) |\n",
        "\n",
        "В данной таблице приняты следующие обозначения для объектов, попавших в каждую из ячеек:  \n",
        "* TN — модель правильно классифицировала объект, и он принадлежит классу $0$\n",
        "* FN — модель неправильно классифицировала объект, присвоила ему класс $0$, хотя он принадлежит классу $1$\n",
        "* FP — модель неправильно классифицировала объект, присвоила ему класс $1$, хотя он принадлежит классу $0$\n",
        "* TP — модель правильно классифицировала объект, и он принадлежит классу $1$\n",
        "\n",
        "В терминах, введенных выше, **точность (precision)** и **специфичность (specificity/TNR)** выглядят следующим образом:\n",
        "\n",
        "$$ \\text{precision} = \\frac{TP}{TP + FP} – \\text{доля объектов, названных классификатором положительными и при этом действительно являющиеся положительными.}$$\n",
        "$$ \\text{TNR} = \\frac{TN}{TN + FP}  \n",
        " – \\text{показывает, какую долю объектов класса $0$ из всех объектов класса $0$ нашел алгоритм.}$$\n",
        "\n",
        "Также весьма распространена метрика **полнота (recall)**, которая является «братом-близнецом» специфичности:\n",
        "$$ \\text{recall} = \\frac{TP}{TP + FN}  \n",
        " – \\text{показывает, какую долю объектов класса $1$ из всех объектов класса $1$ нашел алгоритм.}$$  \n",
        "\n",
        "Визуализировать различие между точностью и полнотой можно следующим образом:\n",
        "\n",
        "![image.png](https://habrastorage.org/web/38e/9d4/892/38e9d4892d9241ea95e1f56e3ef9124c.png)  \n",
        "[Рис. 1. Визуальное сравнение точности и полноты](https://en.wikipedia.org/wiki/Precision_and_recall)\n",
        "\n",
        "**Точность (precision)** демонстрирует способность отличать класс $1$ от других классов, а **полнота (recall)** — способность алгоритма обнаруживать класс $1$ вообще (**специфичность** делает то же самое, что и полнота, только для класса $0$).\n",
        "\n",
        "Аналогичным образом, через TN, FN, FP и TP, можно ввести и понятие **доли правильных ответов**: $\\text{accuracy} = \\frac{TP + TN}{TP + FP + TN + FN}.$\n",
        "\n"
      ]
    },
    {
      "cell_type": "markdown",
      "metadata": {
        "id": "YOtk-LyhcFOz"
      },
      "source": [
        "$+$ Как точность, так и специфичность и полнота не зависят, в отличие от доли правильных ответов, от соотношения классов, поэтому они применимы и для несбалансированных выборок.  \n",
        "$-$ На практике обычно не стоит задача оптимизировать какую-то одну из этих метрик, а необходимо найти баланс между ними."
      ]
    },
    {
      "cell_type": "markdown",
      "metadata": {
        "id": "Grl14LEHcCkR"
      },
      "source": [
        "### Многоклассовая классификация\n",
        "\n",
        "Как и в случае доли правильных ответов, существуют два типа агрегации этих метрик в многоклассовом случае:  \n",
        "* **Микро-** — необходимые значения вычисляются глобально, целиком по всей выборке, рассматривая каждый элемент матрицы показателей метки как метку  \n",
        "* **Макро-** — метрика считается отдельно для каждого класса, и в качестве ответа берется их среднее значение\n",
        "\n"
      ]
    },
    {
      "cell_type": "markdown",
      "metadata": {
        "id": "YY8nvuBaO913"
      },
      "source": [
        "### Реализации (и для бинарного, и для многоклассового случая):\n",
        "* [Точность (precision)](https://scikit-learn.org/stable/modules/generated/sklearn.metrics.precision_score.html)\n",
        "* [Полнота (recall)](https://scikit-learn.org/stable/modules/generated/sklearn.metrics.recall_score.html)  \n",
        "* Специфичность (TRN). Реализации именно для специфичности нет, но можно получить из [confusion matrix](https://scikit-learn.org/stable/modules/generated/sklearn.metrics.confusion_matrix.html) все необходимые значения (TN, TP, FN, и FP)"
      ]
    },
    {
      "cell_type": "markdown",
      "metadata": {
        "id": "GQL_5VfKRYcB"
      },
      "source": [
        "## $F_1$-мера\n",
        "\n",
        "Как упоминалось ранее, обычно важна не только точность или полнота, но и баланс между ними. Наиболее распространенной метрикой такого баланса является **$F_1$-мера** — среднее гармоническое точности и полноты:  \n",
        "$$F_1 = \\frac{2 \\cdot \\text{precision} \\cdot \\text{recall}}{\\text{precision} + \\text{recall}}$$  \n",
        "\n",
        "**$F_1$-мера** достигает максимума при полноте и точности, равных единице, и близка к нулю, если один из аргументов близок к нулю.  \n",
        "\n",
        "\n",
        "Как в случае точности, специфичности и полноты, формула верна и для бинарной, и для многоклассовой классификации, однако в многоклассовом случае необходимо уточнить вид агрегации: микро- (когда показатели считаются глобально для всей выборки) или макро- (точность и полнота считаются отдельно для каждого класса, а в качестве ответа берется среднее).   \n",
        "[Реализация в `sklearn`](https://scikit-learn.org/stable/modules/generated/sklearn.metrics.f1_score.html)\n",
        "\n",
        "Существуют и другие варианты соотношений точности и полноты. В целом **$F_1$-мера** — частный случай **$F_\\beta-$меры**:  \n",
        "\n",
        "$$F_\\beta = (1 + \\beta^2) \\frac{\\text{precision} \\cdot \\text{recall}}{\\beta^2 \\cdot \\text{precision} + \\text{recall}}$$  \n",
        "\n",
        "* $\\beta > 1$ — больше важна точность\n",
        "* $\\beta < 1$ — больше важна полнота\n",
        "\n",
        "$+$ $F_1$-мера учитывает распределение классов (т. е. хорошо работает даже в случае несбалансированных выборок).   \n",
        "$+$ Это одно число, а не два, как с точностью и полнотой.   \n",
        "$-$ Сложно интерпретируемая."
      ]
    },
    {
      "cell_type": "markdown",
      "metadata": {
        "id": "Xa6D2dL3i3Jg"
      },
      "source": [
        "## ROC AUC\n",
        "\n"
      ]
    },
    {
      "cell_type": "markdown",
      "metadata": {
        "id": "IUWw8EQXTXJs"
      },
      "source": [
        "### Бинарная классификация\n",
        "\n",
        "При получении предсказаний алгоритмы выдают вероятности принадлежности к каждому классу.\n",
        "\n",
        "Для принятия решения, к какому классу все-таки принадлежит конкретный элемент, необходимо выбрать такой порог $T_p$, что $p > T_p \\implies $ объект принадлежит к классу $1$, иначе — к классу $0$. Интуитивно кажется, что наиболее оптимальным и логичным является порог $T_p = 0.5$, однако это не всегда так. Чтобы убрать привязку к какому-то конкретному пороговому значению, была введена метрика **ROC AUC** — площадь (Area Under Curve) под кривой ошибок (Receiver Operating Characteristic curve). Кривая ошибок строится в координатах **True Positive Rate (TPR)** и **False Positive Rate (FPR)**:\n",
        "\n",
        "$$TPR = \\frac{TP}{TP + FN}; \\:\\:\\:\\:\\:\\:\\:\\: FPR = \\frac{FP}{FP + TN}.$$  \n",
        "\n",
        "Как видно из формулы, $TPR$ — это полнота, а $FPR$ — доля объектов класса $0$, которым алгоритм присвоил метку $1$. Кривые ошибок — красная, зеленая и черная кривые на графике ниже:  \n",
        "\n",
        "![image.png](https://upload.wikimedia.org/wikipedia/commons/6/6b/Roccurves.png)  \n",
        "[Рис. 2. ROC-кривая](https://ru.wikipedia.org/wiki/ROC-%D0%BA%D1%80%D0%B8%D0%B2%D0%B0%D1%8F)  \n",
        "\n",
        "\n",
        "В идеальном случае, когда классификатор предсказывает все верно, $FPR = 0,\\:\\:TPR = 1 \\implies ROC\\:AUC = 1$. Если классификатор случайно выдает вероятности классов, $ROC\\:AUC \\rightarrow 0.5$ (поскольку классификатор будет выдавать одинаковое количество TP и FP).  \n",
        "\n",
        "$+$ Работает с ранжированными прогнозами, т. е. не обязательно использовать хорошо откалиброванные вероятности.  \n",
        "$+$ Оптимизация данной метрики помогает алгоритму учиться предсказывать два класса, т. е. исключается факт получения константной модели.  \n",
        "$+$ Для сравнения алгоритмов подходит не только площадь под ROC-кривой, но и сама кривая (чем ROC-кривая выше, тем лучше модель).  \n",
        "$-$ Плохо работает с сильно несбалансированными выборками.   \n",
        "\n",
        "[Реализация в `sklearn`](https://scikit-learn.org/stable/modules/generated/sklearn.metrics.roc_auc_score.html)"
      ]
    },
    {
      "cell_type": "markdown",
      "metadata": {
        "id": "YgOks8EbYWis"
      },
      "source": [
        "### Многоклассовая классификация  \n",
        "\n",
        "В случае с многоклассовой классификацией наряду с макро- и микроагрегацией выделяются два следующих подхода в подсчете **ROC AUC**:  \n",
        "* **One vs Rest (OvR)**. Последовательно производится сравнение каждого класса (т. е. рассматривается как «положительный» или $1$) с остальными (которые рассматриваются как «отрицательные» или $0$). Для получения финального результата полученные таким образом метрики усредняются (либо с помощью простого усреднения, либо с помощью взвешивания). Иллюстрация на примере трех классов приведена ниже.\n",
        "![image.png](https://miro.medium.com/max/4800/1*wY4puy2JRUMNu4akV1M9yQ.png)  \n",
        "[Рис. 3. Многоклассовая классификация — визуализация вычисления ROC AUC с помощью OvR](https://towardsdatascience.com/multiclass-classification-evaluation-with-roc-curves-and-roc-auc-294fd4617e3a)\n",
        "* **One vs One (OvO)**. Выглядит аналогичным образом, но сравниваются не один конкретный класс с остальными, как в случае OvR, а все возможные пары классов, т. е. каждый конкретный класс сравнивается с каждым другим классом. Иллюстрация на примере трех классов приведена ниже.\n",
        "![image.png](https://miro.medium.com/max/4800/1*kLfovll3vI1wO66PqR6vWg.png)  \n",
        "[Рис. 4. Многоклассовая классификация — визуализация вычисления ROC AUC с помощью OvO](https://towardsdatascience.com/multiclass-classification-evaluation-with-roc-curves-and-roc-auc-294fd4617e3a)"
      ]
    },
    {
      "cell_type": "markdown",
      "metadata": {
        "id": "0zXY_51qi45m"
      },
      "source": [
        "## PR AUC\n",
        "\n",
        "**PR AUC** — площадь (Area Under Curve) под кривой точности и полноты (Precision-Recall curve). Выглядит следующим образом:\n",
        "![image.png](http://neerc.ifmo.ru/wiki/images/7/79/PR_curve.png)  \n",
        "[Рис. 5. PR-кривая](http://neerc.ifmo.ru/wiki/index.php?title=%D0%9E%D1%86%D0%B5%D0%BD%D0%BA%D0%B0_%D0%BA%D0%B0%D1%87%D0%B5%D1%81%D1%82%D0%B2%D0%B0_%D0%B2_%D0%B7%D0%B0%D0%B4%D0%B0%D1%87%D0%B0%D1%85_%D0%BA%D0%BB%D0%B0%D1%81%D1%81%D0%B8%D1%84%D0%B8%D0%BA%D0%B0%D1%86%D0%B8%D0%B8&mobileaction=toggle_view_desktop)\n",
        "\n",
        "**PR AUC** помогает избавиться от проблемы с несбалансированной выборкой, возникающей при использовании ROC AUC. Рассмотрим пример: пусть имеются статьи на математические и гуманитарные темы. Допустим, что математических статей $100$, а гуманитарных — $1 000 000$. В любом случае идеальный алгоритм будет решать задачу с $TPR = 1$  и $FPR = 0$. Рассмотрим теперь «плохой» (что очевидно нам) алгоритм, дающий положительный ответ на $95$ математических и $50000$ нематематических статьях. Такой алгоритм дает $TPR = 0.95$ и $FPR = 0.05$, что крайне близко к показателям идеального алгоритма. В данном случае ROC AUC не может давать адекватную оценку качества работы алгоритма. Однако мы можем сказать, что  \n",
        "$$TN = 950000,\\:\\:FP = 50000,\\:FN = 5,\\:TP = 95 \\implies$$\n",
        " $$\\implies \\text{precision} = \\frac{95}{95 + 50000} = 0.002\\:\\:\\:\\:\n",
        " \\text{recall} = \\frac{95}{95 + 950000} = 0.0001.$$    \n",
        " И при таких значениях кажется очевидным, что и при построении PR-кривой площадь под ней окажется очень маленькой, что будет свидетельствовать о том, что алгоритм плохой.   \n",
        "\n",
        "$+$ Помогает выбрать наиболее подходящий порог классификатора.   \n",
        "$+$ Хорошо работает и в случае несбалансированной выборки.\n",
        "\n",
        "Как и в точности и полноте, в случае многоклассовой классификации используются аналогичные виды агрегации.\n",
        "\n",
        "\n",
        "[Подробнее о взаимосвязи с ROC AUC](http://pages.cs.wisc.edu/~jdavis/davisgoadrichcamera2.pdf)   \n",
        "\n",
        "[Реализация в `sklearn`](https://scikit-learn.org/stable/modules/generated/sklearn.metrics.average_precision_score.html)"
      ]
    },
    {
      "cell_type": "code",
      "execution_count": null,
      "metadata": {
        "colab": {
          "base_uri": "https://localhost:8080/"
        },
        "id": "A3ymUqvzC_FH",
        "outputId": "5def8f8c-e7a4-479b-9a29-d9d966de2ae4"
      },
      "outputs": [
        {
          "output_type": "execute_result",
          "data": {
            "text/plain": [
              "(0.002, 0.0001)"
            ]
          },
          "metadata": {},
          "execution_count": 1
        }
      ],
      "source": [
        "round(95 / (95 + 50000), 3), round(95 / (95 + 950000), 5)"
      ]
    },
    {
      "cell_type": "markdown",
      "metadata": {
        "id": "hFKTAcn7M0d6"
      },
      "source": [
        "# Практическая часть\n",
        "\n",
        "Посмотрим, как вышеописанные метрики работают на практике."
      ]
    },
    {
      "cell_type": "markdown",
      "metadata": {
        "id": "rVtsd8raatJK"
      },
      "source": [
        "## Бинарная классификация\n",
        "\n",
        "Для задачи бинарной классификации будем использовать данные с [kaggle](https://www.kaggle.com/datasets/joshmcadams/oranges-vs-grapefruit). Так же как и в семинаре про регрессионные модели, данные можно скачать двумя способами:\n",
        "1. Скачать данные с Kaggle, в Google Colab нажать слева значок папки и перетащить данные туда\n",
        "2. С помощью kaggle API"
      ]
    },
    {
      "cell_type": "markdown",
      "metadata": {
        "id": "ksXRwYxDA6Jl"
      },
      "source": [
        "### Скачивание данных с kaggle API\n",
        "\n",
        "Ниже будут представлены ячейки, скачивающие данные с помощью kaggle API. Подробная инструкция, что делает каждая конкретная ячейка, приведена в семинаре по регрессии (модуль 2)."
      ]
    },
    {
      "cell_type": "code",
      "execution_count": null,
      "metadata": {
        "colab": {
          "base_uri": "https://localhost:8080/"
        },
        "id": "2XqYfifMeeHD",
        "outputId": "dedc454b-3c33-4dd2-8e46-1eacf7ac5ba9"
      },
      "outputs": [
        {
          "output_type": "stream",
          "name": "stdout",
          "text": [
            "Mounted at /content/gdrive\n"
          ]
        }
      ],
      "source": [
        "from google.colab import drive\n",
        "drive.mount('/content/gdrive')"
      ]
    },
    {
      "cell_type": "code",
      "execution_count": null,
      "metadata": {
        "colab": {
          "base_uri": "https://localhost:8080/",
          "height": 57
        },
        "id": "-wrAzX5jfwEi",
        "outputId": "fe292fe6-5cb6-4957-cf67-c7d4de3972cd"
      },
      "outputs": [
        {
          "output_type": "display_data",
          "data": {
            "text/plain": [
              "<IPython.core.display.HTML object>"
            ],
            "text/html": [
              "\n",
              "     <input type=\"file\" id=\"files-3e501071-e51d-4285-bdc8-3731c131878d\" name=\"files[]\" multiple disabled\n",
              "        style=\"border:none\" />\n",
              "     <output id=\"result-3e501071-e51d-4285-bdc8-3731c131878d\">\n",
              "      Upload widget is only available when the cell has been executed in the\n",
              "      current browser session. Please rerun this cell to enable.\n",
              "      </output>\n",
              "      <script>// Copyright 2017 Google LLC\n",
              "//\n",
              "// Licensed under the Apache License, Version 2.0 (the \"License\");\n",
              "// you may not use this file except in compliance with the License.\n",
              "// You may obtain a copy of the License at\n",
              "//\n",
              "//      http://www.apache.org/licenses/LICENSE-2.0\n",
              "//\n",
              "// Unless required by applicable law or agreed to in writing, software\n",
              "// distributed under the License is distributed on an \"AS IS\" BASIS,\n",
              "// WITHOUT WARRANTIES OR CONDITIONS OF ANY KIND, either express or implied.\n",
              "// See the License for the specific language governing permissions and\n",
              "// limitations under the License.\n",
              "\n",
              "/**\n",
              " * @fileoverview Helpers for google.colab Python module.\n",
              " */\n",
              "(function(scope) {\n",
              "function span(text, styleAttributes = {}) {\n",
              "  const element = document.createElement('span');\n",
              "  element.textContent = text;\n",
              "  for (const key of Object.keys(styleAttributes)) {\n",
              "    element.style[key] = styleAttributes[key];\n",
              "  }\n",
              "  return element;\n",
              "}\n",
              "\n",
              "// Max number of bytes which will be uploaded at a time.\n",
              "const MAX_PAYLOAD_SIZE = 100 * 1024;\n",
              "\n",
              "function _uploadFiles(inputId, outputId) {\n",
              "  const steps = uploadFilesStep(inputId, outputId);\n",
              "  const outputElement = document.getElementById(outputId);\n",
              "  // Cache steps on the outputElement to make it available for the next call\n",
              "  // to uploadFilesContinue from Python.\n",
              "  outputElement.steps = steps;\n",
              "\n",
              "  return _uploadFilesContinue(outputId);\n",
              "}\n",
              "\n",
              "// This is roughly an async generator (not supported in the browser yet),\n",
              "// where there are multiple asynchronous steps and the Python side is going\n",
              "// to poll for completion of each step.\n",
              "// This uses a Promise to block the python side on completion of each step,\n",
              "// then passes the result of the previous step as the input to the next step.\n",
              "function _uploadFilesContinue(outputId) {\n",
              "  const outputElement = document.getElementById(outputId);\n",
              "  const steps = outputElement.steps;\n",
              "\n",
              "  const next = steps.next(outputElement.lastPromiseValue);\n",
              "  return Promise.resolve(next.value.promise).then((value) => {\n",
              "    // Cache the last promise value to make it available to the next\n",
              "    // step of the generator.\n",
              "    outputElement.lastPromiseValue = value;\n",
              "    return next.value.response;\n",
              "  });\n",
              "}\n",
              "\n",
              "/**\n",
              " * Generator function which is called between each async step of the upload\n",
              " * process.\n",
              " * @param {string} inputId Element ID of the input file picker element.\n",
              " * @param {string} outputId Element ID of the output display.\n",
              " * @return {!Iterable<!Object>} Iterable of next steps.\n",
              " */\n",
              "function* uploadFilesStep(inputId, outputId) {\n",
              "  const inputElement = document.getElementById(inputId);\n",
              "  inputElement.disabled = false;\n",
              "\n",
              "  const outputElement = document.getElementById(outputId);\n",
              "  outputElement.innerHTML = '';\n",
              "\n",
              "  const pickedPromise = new Promise((resolve) => {\n",
              "    inputElement.addEventListener('change', (e) => {\n",
              "      resolve(e.target.files);\n",
              "    });\n",
              "  });\n",
              "\n",
              "  const cancel = document.createElement('button');\n",
              "  inputElement.parentElement.appendChild(cancel);\n",
              "  cancel.textContent = 'Cancel upload';\n",
              "  const cancelPromise = new Promise((resolve) => {\n",
              "    cancel.onclick = () => {\n",
              "      resolve(null);\n",
              "    };\n",
              "  });\n",
              "\n",
              "  // Wait for the user to pick the files.\n",
              "  const files = yield {\n",
              "    promise: Promise.race([pickedPromise, cancelPromise]),\n",
              "    response: {\n",
              "      action: 'starting',\n",
              "    }\n",
              "  };\n",
              "\n",
              "  cancel.remove();\n",
              "\n",
              "  // Disable the input element since further picks are not allowed.\n",
              "  inputElement.disabled = true;\n",
              "\n",
              "  if (!files) {\n",
              "    return {\n",
              "      response: {\n",
              "        action: 'complete',\n",
              "      }\n",
              "    };\n",
              "  }\n",
              "\n",
              "  for (const file of files) {\n",
              "    const li = document.createElement('li');\n",
              "    li.append(span(file.name, {fontWeight: 'bold'}));\n",
              "    li.append(span(\n",
              "        `(${file.type || 'n/a'}) - ${file.size} bytes, ` +\n",
              "        `last modified: ${\n",
              "            file.lastModifiedDate ? file.lastModifiedDate.toLocaleDateString() :\n",
              "                                    'n/a'} - `));\n",
              "    const percent = span('0% done');\n",
              "    li.appendChild(percent);\n",
              "\n",
              "    outputElement.appendChild(li);\n",
              "\n",
              "    const fileDataPromise = new Promise((resolve) => {\n",
              "      const reader = new FileReader();\n",
              "      reader.onload = (e) => {\n",
              "        resolve(e.target.result);\n",
              "      };\n",
              "      reader.readAsArrayBuffer(file);\n",
              "    });\n",
              "    // Wait for the data to be ready.\n",
              "    let fileData = yield {\n",
              "      promise: fileDataPromise,\n",
              "      response: {\n",
              "        action: 'continue',\n",
              "      }\n",
              "    };\n",
              "\n",
              "    // Use a chunked sending to avoid message size limits. See b/62115660.\n",
              "    let position = 0;\n",
              "    do {\n",
              "      const length = Math.min(fileData.byteLength - position, MAX_PAYLOAD_SIZE);\n",
              "      const chunk = new Uint8Array(fileData, position, length);\n",
              "      position += length;\n",
              "\n",
              "      const base64 = btoa(String.fromCharCode.apply(null, chunk));\n",
              "      yield {\n",
              "        response: {\n",
              "          action: 'append',\n",
              "          file: file.name,\n",
              "          data: base64,\n",
              "        },\n",
              "      };\n",
              "\n",
              "      let percentDone = fileData.byteLength === 0 ?\n",
              "          100 :\n",
              "          Math.round((position / fileData.byteLength) * 100);\n",
              "      percent.textContent = `${percentDone}% done`;\n",
              "\n",
              "    } while (position < fileData.byteLength);\n",
              "  }\n",
              "\n",
              "  // All done.\n",
              "  yield {\n",
              "    response: {\n",
              "      action: 'complete',\n",
              "    }\n",
              "  };\n",
              "}\n",
              "\n",
              "scope.google = scope.google || {};\n",
              "scope.google.colab = scope.google.colab || {};\n",
              "scope.google.colab._files = {\n",
              "  _uploadFiles,\n",
              "  _uploadFilesContinue,\n",
              "};\n",
              "})(self);\n",
              "</script> "
            ]
          },
          "metadata": {}
        },
        {
          "output_type": "execute_result",
          "data": {
            "text/plain": [
              "{}"
            ]
          },
          "metadata": {},
          "execution_count": 3
        }
      ],
      "source": [
        "from google.colab import files\n",
        "files.upload()"
      ]
    },
    {
      "cell_type": "code",
      "execution_count": null,
      "metadata": {
        "colab": {
          "base_uri": "https://localhost:8080/"
        },
        "id": "yZZL70cDkV-d",
        "outputId": "f15f3e01-e420-4715-d861-a3feb6654385"
      },
      "outputs": [
        {
          "output_type": "stream",
          "name": "stdout",
          "text": [
            "ls: cannot access 'kaggle.json': No such file or directory\n"
          ]
        }
      ],
      "source": [
        "!ls -lha kaggle.json"
      ]
    },
    {
      "cell_type": "code",
      "execution_count": null,
      "metadata": {
        "id": "7gj8POO0kV6g"
      },
      "outputs": [],
      "source": [
        "!pip install -q kaggle"
      ]
    },
    {
      "cell_type": "code",
      "execution_count": null,
      "metadata": {
        "id": "VPAY6IrAkV4h",
        "colab": {
          "base_uri": "https://localhost:8080/"
        },
        "outputId": "6f3cb19d-57bd-4378-c2d6-b023b6b0ba52"
      },
      "outputs": [
        {
          "output_type": "stream",
          "name": "stdout",
          "text": [
            "cp: cannot stat 'kaggle.json': No such file or directory\n"
          ]
        }
      ],
      "source": [
        "!mkdir -p ~/.kaggle\n",
        "!cp kaggle.json ~/.kaggle/"
      ]
    },
    {
      "cell_type": "code",
      "execution_count": null,
      "metadata": {
        "id": "JweK8VAukV25",
        "colab": {
          "base_uri": "https://localhost:8080/"
        },
        "outputId": "319e933d-6c79-4ead-a771-1d6e7dd8db52"
      },
      "outputs": [
        {
          "output_type": "stream",
          "name": "stdout",
          "text": [
            "chmod: cannot access '/root/.kaggle/kaggle.json': No such file or directory\n"
          ]
        }
      ],
      "source": [
        "!chmod 600 /root/.kaggle/kaggle.json"
      ]
    },
    {
      "cell_type": "code",
      "execution_count": null,
      "metadata": {
        "colab": {
          "base_uri": "https://localhost:8080/"
        },
        "id": "131_BhoMfdqH",
        "outputId": "0d414120-7a68-4324-8a11-47352ae66ca1"
      },
      "outputs": [
        {
          "output_type": "stream",
          "name": "stdout",
          "text": [
            "Traceback (most recent call last):\n",
            "  File \"/usr/local/bin/kaggle\", line 5, in <module>\n",
            "    from kaggle.cli import main\n",
            "  File \"/usr/local/lib/python3.8/dist-packages/kaggle/__init__.py\", line 23, in <module>\n",
            "    api.authenticate()\n",
            "  File \"/usr/local/lib/python3.8/dist-packages/kaggle/api/kaggle_api_extended.py\", line 164, in authenticate\n",
            "    raise IOError('Could not find {}. Make sure it\\'s located in'\n",
            "OSError: Could not find kaggle.json. Make sure it's located in /root/.kaggle. Or use the environment method.\n"
          ]
        }
      ],
      "source": [
        "!kaggle datasets download -d joshmcadams/oranges-vs-grapefruit"
      ]
    },
    {
      "cell_type": "markdown",
      "metadata": {
        "id": "sJQmMRCtBboh"
      },
      "source": [
        "Вне зависимости от способа скачивания и загрузки данных в Google Colab разархивируем их:"
      ]
    },
    {
      "cell_type": "code",
      "execution_count": null,
      "metadata": {
        "colab": {
          "base_uri": "https://localhost:8080/"
        },
        "id": "QNp5gvinBTo2",
        "outputId": "79530d6e-4b5e-4b28-e214-1a069baace04"
      },
      "outputs": [
        {
          "output_type": "stream",
          "name": "stdout",
          "text": [
            "unzip:  cannot find or open oranges-vs-grapefruit.zip, oranges-vs-grapefruit.zip.zip or oranges-vs-grapefruit.zip.ZIP.\n"
          ]
        }
      ],
      "source": [
        "!unzip oranges-vs-grapefruit.zip"
      ]
    },
    {
      "cell_type": "code",
      "execution_count": null,
      "metadata": {
        "id": "lvgWzBNvkFA-"
      },
      "outputs": [],
      "source": [
        "# Уберем предупреждения, чтобы они не загромождали вывод\n",
        "\n",
        "import warnings\n",
        "warnings.filterwarnings('ignore')"
      ]
    },
    {
      "cell_type": "markdown",
      "metadata": {
        "id": "qPq1ofzAb-Dj"
      },
      "source": [
        "### Разведочный анализ и предобработка данных"
      ]
    },
    {
      "cell_type": "code",
      "execution_count": null,
      "metadata": {
        "colab": {
          "base_uri": "https://localhost:8080/",
          "height": 406
        },
        "id": "KN1kEDnub9jv",
        "outputId": "d2076131-0020-4628-b081-4db52744e320"
      },
      "outputs": [
        {
          "output_type": "error",
          "ename": "FileNotFoundError",
          "evalue": "ignored",
          "traceback": [
            "\u001b[0;31m---------------------------------------------------------------------------\u001b[0m",
            "\u001b[0;31mFileNotFoundError\u001b[0m                         Traceback (most recent call last)",
            "\u001b[0;32m<ipython-input-11-fb3896fab9d6>\u001b[0m in \u001b[0;36m<module>\u001b[0;34m\u001b[0m\n\u001b[1;32m      1\u001b[0m \u001b[0;32mimport\u001b[0m \u001b[0mpandas\u001b[0m \u001b[0;32mas\u001b[0m \u001b[0mpd\u001b[0m\u001b[0;34m\u001b[0m\u001b[0;34m\u001b[0m\u001b[0m\n\u001b[1;32m      2\u001b[0m \u001b[0;34m\u001b[0m\u001b[0m\n\u001b[0;32m----> 3\u001b[0;31m \u001b[0mdf\u001b[0m \u001b[0;34m=\u001b[0m \u001b[0mpd\u001b[0m\u001b[0;34m.\u001b[0m\u001b[0mread_csv\u001b[0m\u001b[0;34m(\u001b[0m\u001b[0;34m\"citrus.csv\"\u001b[0m\u001b[0;34m)\u001b[0m\u001b[0;34m\u001b[0m\u001b[0;34m\u001b[0m\u001b[0m\n\u001b[0m\u001b[1;32m      4\u001b[0m \u001b[0mprint\u001b[0m\u001b[0;34m(\u001b[0m\u001b[0mdf\u001b[0m\u001b[0;34m.\u001b[0m\u001b[0mshape\u001b[0m\u001b[0;34m)\u001b[0m\u001b[0;34m\u001b[0m\u001b[0;34m\u001b[0m\u001b[0m\n\u001b[1;32m      5\u001b[0m \u001b[0mdf\u001b[0m\u001b[0;34m.\u001b[0m\u001b[0mhead\u001b[0m\u001b[0;34m(\u001b[0m\u001b[0;34m)\u001b[0m\u001b[0;34m\u001b[0m\u001b[0;34m\u001b[0m\u001b[0m\n",
            "\u001b[0;32m/usr/local/lib/python3.8/dist-packages/pandas/util/_decorators.py\u001b[0m in \u001b[0;36mwrapper\u001b[0;34m(*args, **kwargs)\u001b[0m\n\u001b[1;32m    309\u001b[0m                     \u001b[0mstacklevel\u001b[0m\u001b[0;34m=\u001b[0m\u001b[0mstacklevel\u001b[0m\u001b[0;34m,\u001b[0m\u001b[0;34m\u001b[0m\u001b[0;34m\u001b[0m\u001b[0m\n\u001b[1;32m    310\u001b[0m                 )\n\u001b[0;32m--> 311\u001b[0;31m             \u001b[0;32mreturn\u001b[0m \u001b[0mfunc\u001b[0m\u001b[0;34m(\u001b[0m\u001b[0;34m*\u001b[0m\u001b[0margs\u001b[0m\u001b[0;34m,\u001b[0m \u001b[0;34m**\u001b[0m\u001b[0mkwargs\u001b[0m\u001b[0;34m)\u001b[0m\u001b[0;34m\u001b[0m\u001b[0;34m\u001b[0m\u001b[0m\n\u001b[0m\u001b[1;32m    312\u001b[0m \u001b[0;34m\u001b[0m\u001b[0m\n\u001b[1;32m    313\u001b[0m         \u001b[0;32mreturn\u001b[0m \u001b[0mwrapper\u001b[0m\u001b[0;34m\u001b[0m\u001b[0;34m\u001b[0m\u001b[0m\n",
            "\u001b[0;32m/usr/local/lib/python3.8/dist-packages/pandas/io/parsers/readers.py\u001b[0m in \u001b[0;36mread_csv\u001b[0;34m(filepath_or_buffer, sep, delimiter, header, names, index_col, usecols, squeeze, prefix, mangle_dupe_cols, dtype, engine, converters, true_values, false_values, skipinitialspace, skiprows, skipfooter, nrows, na_values, keep_default_na, na_filter, verbose, skip_blank_lines, parse_dates, infer_datetime_format, keep_date_col, date_parser, dayfirst, cache_dates, iterator, chunksize, compression, thousands, decimal, lineterminator, quotechar, quoting, doublequote, escapechar, comment, encoding, encoding_errors, dialect, error_bad_lines, warn_bad_lines, on_bad_lines, delim_whitespace, low_memory, memory_map, float_precision, storage_options)\u001b[0m\n\u001b[1;32m    584\u001b[0m     \u001b[0mkwds\u001b[0m\u001b[0;34m.\u001b[0m\u001b[0mupdate\u001b[0m\u001b[0;34m(\u001b[0m\u001b[0mkwds_defaults\u001b[0m\u001b[0;34m)\u001b[0m\u001b[0;34m\u001b[0m\u001b[0;34m\u001b[0m\u001b[0m\n\u001b[1;32m    585\u001b[0m \u001b[0;34m\u001b[0m\u001b[0m\n\u001b[0;32m--> 586\u001b[0;31m     \u001b[0;32mreturn\u001b[0m \u001b[0m_read\u001b[0m\u001b[0;34m(\u001b[0m\u001b[0mfilepath_or_buffer\u001b[0m\u001b[0;34m,\u001b[0m \u001b[0mkwds\u001b[0m\u001b[0;34m)\u001b[0m\u001b[0;34m\u001b[0m\u001b[0;34m\u001b[0m\u001b[0m\n\u001b[0m\u001b[1;32m    587\u001b[0m \u001b[0;34m\u001b[0m\u001b[0m\n\u001b[1;32m    588\u001b[0m \u001b[0;34m\u001b[0m\u001b[0m\n",
            "\u001b[0;32m/usr/local/lib/python3.8/dist-packages/pandas/io/parsers/readers.py\u001b[0m in \u001b[0;36m_read\u001b[0;34m(filepath_or_buffer, kwds)\u001b[0m\n\u001b[1;32m    480\u001b[0m \u001b[0;34m\u001b[0m\u001b[0m\n\u001b[1;32m    481\u001b[0m     \u001b[0;31m# Create the parser.\u001b[0m\u001b[0;34m\u001b[0m\u001b[0;34m\u001b[0m\u001b[0;34m\u001b[0m\u001b[0m\n\u001b[0;32m--> 482\u001b[0;31m     \u001b[0mparser\u001b[0m \u001b[0;34m=\u001b[0m \u001b[0mTextFileReader\u001b[0m\u001b[0;34m(\u001b[0m\u001b[0mfilepath_or_buffer\u001b[0m\u001b[0;34m,\u001b[0m \u001b[0;34m**\u001b[0m\u001b[0mkwds\u001b[0m\u001b[0;34m)\u001b[0m\u001b[0;34m\u001b[0m\u001b[0;34m\u001b[0m\u001b[0m\n\u001b[0m\u001b[1;32m    483\u001b[0m \u001b[0;34m\u001b[0m\u001b[0m\n\u001b[1;32m    484\u001b[0m     \u001b[0;32mif\u001b[0m \u001b[0mchunksize\u001b[0m \u001b[0;32mor\u001b[0m \u001b[0miterator\u001b[0m\u001b[0;34m:\u001b[0m\u001b[0;34m\u001b[0m\u001b[0;34m\u001b[0m\u001b[0m\n",
            "\u001b[0;32m/usr/local/lib/python3.8/dist-packages/pandas/io/parsers/readers.py\u001b[0m in \u001b[0;36m__init__\u001b[0;34m(self, f, engine, **kwds)\u001b[0m\n\u001b[1;32m    809\u001b[0m             \u001b[0mself\u001b[0m\u001b[0;34m.\u001b[0m\u001b[0moptions\u001b[0m\u001b[0;34m[\u001b[0m\u001b[0;34m\"has_index_names\"\u001b[0m\u001b[0;34m]\u001b[0m \u001b[0;34m=\u001b[0m \u001b[0mkwds\u001b[0m\u001b[0;34m[\u001b[0m\u001b[0;34m\"has_index_names\"\u001b[0m\u001b[0;34m]\u001b[0m\u001b[0;34m\u001b[0m\u001b[0;34m\u001b[0m\u001b[0m\n\u001b[1;32m    810\u001b[0m \u001b[0;34m\u001b[0m\u001b[0m\n\u001b[0;32m--> 811\u001b[0;31m         \u001b[0mself\u001b[0m\u001b[0;34m.\u001b[0m\u001b[0m_engine\u001b[0m \u001b[0;34m=\u001b[0m \u001b[0mself\u001b[0m\u001b[0;34m.\u001b[0m\u001b[0m_make_engine\u001b[0m\u001b[0;34m(\u001b[0m\u001b[0mself\u001b[0m\u001b[0;34m.\u001b[0m\u001b[0mengine\u001b[0m\u001b[0;34m)\u001b[0m\u001b[0;34m\u001b[0m\u001b[0;34m\u001b[0m\u001b[0m\n\u001b[0m\u001b[1;32m    812\u001b[0m \u001b[0;34m\u001b[0m\u001b[0m\n\u001b[1;32m    813\u001b[0m     \u001b[0;32mdef\u001b[0m \u001b[0mclose\u001b[0m\u001b[0;34m(\u001b[0m\u001b[0mself\u001b[0m\u001b[0;34m)\u001b[0m\u001b[0;34m:\u001b[0m\u001b[0;34m\u001b[0m\u001b[0;34m\u001b[0m\u001b[0m\n",
            "\u001b[0;32m/usr/local/lib/python3.8/dist-packages/pandas/io/parsers/readers.py\u001b[0m in \u001b[0;36m_make_engine\u001b[0;34m(self, engine)\u001b[0m\n\u001b[1;32m   1038\u001b[0m             )\n\u001b[1;32m   1039\u001b[0m         \u001b[0;31m# error: Too many arguments for \"ParserBase\"\u001b[0m\u001b[0;34m\u001b[0m\u001b[0;34m\u001b[0m\u001b[0;34m\u001b[0m\u001b[0m\n\u001b[0;32m-> 1040\u001b[0;31m         \u001b[0;32mreturn\u001b[0m \u001b[0mmapping\u001b[0m\u001b[0;34m[\u001b[0m\u001b[0mengine\u001b[0m\u001b[0;34m]\u001b[0m\u001b[0;34m(\u001b[0m\u001b[0mself\u001b[0m\u001b[0;34m.\u001b[0m\u001b[0mf\u001b[0m\u001b[0;34m,\u001b[0m \u001b[0;34m**\u001b[0m\u001b[0mself\u001b[0m\u001b[0;34m.\u001b[0m\u001b[0moptions\u001b[0m\u001b[0;34m)\u001b[0m  \u001b[0;31m# type: ignore[call-arg]\u001b[0m\u001b[0;34m\u001b[0m\u001b[0;34m\u001b[0m\u001b[0m\n\u001b[0m\u001b[1;32m   1041\u001b[0m \u001b[0;34m\u001b[0m\u001b[0m\n\u001b[1;32m   1042\u001b[0m     \u001b[0;32mdef\u001b[0m \u001b[0m_failover_to_python\u001b[0m\u001b[0;34m(\u001b[0m\u001b[0mself\u001b[0m\u001b[0;34m)\u001b[0m\u001b[0;34m:\u001b[0m\u001b[0;34m\u001b[0m\u001b[0;34m\u001b[0m\u001b[0m\n",
            "\u001b[0;32m/usr/local/lib/python3.8/dist-packages/pandas/io/parsers/c_parser_wrapper.py\u001b[0m in \u001b[0;36m__init__\u001b[0;34m(self, src, **kwds)\u001b[0m\n\u001b[1;32m     49\u001b[0m \u001b[0;34m\u001b[0m\u001b[0m\n\u001b[1;32m     50\u001b[0m         \u001b[0;31m# open handles\u001b[0m\u001b[0;34m\u001b[0m\u001b[0;34m\u001b[0m\u001b[0;34m\u001b[0m\u001b[0m\n\u001b[0;32m---> 51\u001b[0;31m         \u001b[0mself\u001b[0m\u001b[0;34m.\u001b[0m\u001b[0m_open_handles\u001b[0m\u001b[0;34m(\u001b[0m\u001b[0msrc\u001b[0m\u001b[0;34m,\u001b[0m \u001b[0mkwds\u001b[0m\u001b[0;34m)\u001b[0m\u001b[0;34m\u001b[0m\u001b[0;34m\u001b[0m\u001b[0m\n\u001b[0m\u001b[1;32m     52\u001b[0m         \u001b[0;32massert\u001b[0m \u001b[0mself\u001b[0m\u001b[0;34m.\u001b[0m\u001b[0mhandles\u001b[0m \u001b[0;32mis\u001b[0m \u001b[0;32mnot\u001b[0m \u001b[0;32mNone\u001b[0m\u001b[0;34m\u001b[0m\u001b[0;34m\u001b[0m\u001b[0m\n\u001b[1;32m     53\u001b[0m \u001b[0;34m\u001b[0m\u001b[0m\n",
            "\u001b[0;32m/usr/local/lib/python3.8/dist-packages/pandas/io/parsers/base_parser.py\u001b[0m in \u001b[0;36m_open_handles\u001b[0;34m(self, src, kwds)\u001b[0m\n\u001b[1;32m    220\u001b[0m         \u001b[0mLet\u001b[0m \u001b[0mthe\u001b[0m \u001b[0mreaders\u001b[0m \u001b[0mopen\u001b[0m \u001b[0mIOHandles\u001b[0m \u001b[0mafter\u001b[0m \u001b[0mthey\u001b[0m \u001b[0mare\u001b[0m \u001b[0mdone\u001b[0m \u001b[0;32mwith\u001b[0m \u001b[0mtheir\u001b[0m \u001b[0mpotential\u001b[0m \u001b[0mraises\u001b[0m\u001b[0;34m.\u001b[0m\u001b[0;34m\u001b[0m\u001b[0;34m\u001b[0m\u001b[0m\n\u001b[1;32m    221\u001b[0m         \"\"\"\n\u001b[0;32m--> 222\u001b[0;31m         self.handles = get_handle(\n\u001b[0m\u001b[1;32m    223\u001b[0m             \u001b[0msrc\u001b[0m\u001b[0;34m,\u001b[0m\u001b[0;34m\u001b[0m\u001b[0;34m\u001b[0m\u001b[0m\n\u001b[1;32m    224\u001b[0m             \u001b[0;34m\"r\"\u001b[0m\u001b[0;34m,\u001b[0m\u001b[0;34m\u001b[0m\u001b[0;34m\u001b[0m\u001b[0m\n",
            "\u001b[0;32m/usr/local/lib/python3.8/dist-packages/pandas/io/common.py\u001b[0m in \u001b[0;36mget_handle\u001b[0;34m(path_or_buf, mode, encoding, compression, memory_map, is_text, errors, storage_options)\u001b[0m\n\u001b[1;32m    700\u001b[0m         \u001b[0;32mif\u001b[0m \u001b[0mioargs\u001b[0m\u001b[0;34m.\u001b[0m\u001b[0mencoding\u001b[0m \u001b[0;32mand\u001b[0m \u001b[0;34m\"b\"\u001b[0m \u001b[0;32mnot\u001b[0m \u001b[0;32min\u001b[0m \u001b[0mioargs\u001b[0m\u001b[0;34m.\u001b[0m\u001b[0mmode\u001b[0m\u001b[0;34m:\u001b[0m\u001b[0;34m\u001b[0m\u001b[0;34m\u001b[0m\u001b[0m\n\u001b[1;32m    701\u001b[0m             \u001b[0;31m# Encoding\u001b[0m\u001b[0;34m\u001b[0m\u001b[0;34m\u001b[0m\u001b[0;34m\u001b[0m\u001b[0m\n\u001b[0;32m--> 702\u001b[0;31m             handle = open(\n\u001b[0m\u001b[1;32m    703\u001b[0m                 \u001b[0mhandle\u001b[0m\u001b[0;34m,\u001b[0m\u001b[0;34m\u001b[0m\u001b[0;34m\u001b[0m\u001b[0m\n\u001b[1;32m    704\u001b[0m                 \u001b[0mioargs\u001b[0m\u001b[0;34m.\u001b[0m\u001b[0mmode\u001b[0m\u001b[0;34m,\u001b[0m\u001b[0;34m\u001b[0m\u001b[0;34m\u001b[0m\u001b[0m\n",
            "\u001b[0;31mFileNotFoundError\u001b[0m: [Errno 2] No such file or directory: 'citrus.csv'"
          ]
        }
      ],
      "source": [
        "import pandas as pd\n",
        "\n",
        "df = pd.read_csv(\"citrus.csv\")\n",
        "print(df.shape)\n",
        "df.head()"
      ]
    },
    {
      "cell_type": "code",
      "execution_count": null,
      "metadata": {
        "id": "TGUYdnJHkx8l"
      },
      "outputs": [],
      "source": [
        "df.isna().sum()"
      ]
    },
    {
      "cell_type": "markdown",
      "metadata": {
        "id": "9d06qVBKkW9A"
      },
      "source": [
        "Пропусков в данных нет, все признаки численные, поэтому из предобработки данных будет только нормализация признаков и кодирование целевой переменной. Посмотрим на целевую переменную."
      ]
    },
    {
      "cell_type": "code",
      "execution_count": null,
      "metadata": {
        "id": "jx3Oz8V2iDl7"
      },
      "outputs": [],
      "source": [
        "df[\"name\"].value_counts()"
      ]
    },
    {
      "cell_type": "markdown",
      "metadata": {
        "id": "w4EOU55HjG-x"
      },
      "source": [
        "В данном случае классы идеально сбалансированы, поэтому все вышеперечисленные метрики должны быть показательны для наших алгоритмов."
      ]
    },
    {
      "cell_type": "code",
      "execution_count": null,
      "metadata": {
        "id": "UvQ-l-DdU43s"
      },
      "outputs": [],
      "source": [
        "# Поскольку кодируется целевая переменная, можно проводить кодировку\n",
        "# сразу на всех данных (до деления выборки на обучающую и тестовую)\n",
        "\n",
        "from sklearn.preprocessing import LabelEncoder\n",
        "\n",
        "enc = LabelEncoder()\n",
        "df[\"name\"] = enc.fit_transform(df[\"name\"])\n",
        "df.head()"
      ]
    },
    {
      "cell_type": "code",
      "execution_count": null,
      "metadata": {
        "id": "TqpV944lBTml"
      },
      "outputs": [],
      "source": [
        "# Разбиение выборки на обучающую и тестовую\n",
        "\n",
        "from sklearn.model_selection import train_test_split\n",
        "\n",
        "X_train, X_test, y_train, y_test = train_test_split(\n",
        "    df.drop(\"name\", axis=1),\n",
        "    df[\"name\"],\n",
        "    test_size=0.33,\n",
        "    random_state=42\n",
        ")"
      ]
    },
    {
      "cell_type": "code",
      "execution_count": null,
      "metadata": {
        "id": "HvWvRFyaBTkV"
      },
      "outputs": [],
      "source": [
        "# Нормализация\n",
        "\n",
        "from sklearn.preprocessing import StandardScaler\n",
        "\n",
        "scaler = StandardScaler()\n",
        "X_train_scaled = scaler.fit_transform(X_train)\n",
        "X_test_scaled = scaler.transform(X_test)\n",
        "\n",
        "X_train.shape, X_test.shape, X_train_scaled.shape, X_test_scaled.shape"
      ]
    },
    {
      "cell_type": "markdown",
      "metadata": {
        "id": "k-zpFLQHlUTR"
      },
      "source": [
        "Будем сравнивать алгоритмы с гиперпараметрами по умолчанию, т. е. подбор гиперпараметров проводить не будем. По возможности будем использовать готовые реализации метрик из библиотеки `sklearn`.   "
      ]
    },
    {
      "cell_type": "markdown",
      "metadata": {
        "id": "cnm9Bd1tlBop"
      },
      "source": [
        "### Подготовка необходимых функций"
      ]
    },
    {
      "cell_type": "code",
      "execution_count": null,
      "metadata": {
        "id": "2cbawD1ZcCyN"
      },
      "outputs": [],
      "source": [
        "from sklearn.metrics import (\n",
        "    accuracy_score, # доля правильных ответов\n",
        "    precision_score, # точность\n",
        "    recall_score, # полнота\n",
        "    confusion_matrix, # TN, TP, FN, FP -- для подсчёта TNR, точности и полноты для бинарной классификации\n",
        "    multilabel_confusion_matrix, # возвращает список confusion_matrix (для многоклассового случая -- будет использоваться далее)\n",
        "    f1_score, # F1-мера\n",
        "    roc_auc_score, # ROC AUC\n",
        "    roc_curve, # возвращает FPR, TPR и пороговые значения, которые использовались при подсчёте FPR и TPR\n",
        "    average_precision_score, # PR AUC\n",
        "    precision_recall_curve # возвращает точность, полноту и пороговые значения, которые использовались при подсчёте точности и полноты\n",
        ")"
      ]
    },
    {
      "cell_type": "code",
      "execution_count": null,
      "metadata": {
        "id": "ByCuvXChcCpo"
      },
      "outputs": [],
      "source": [
        "from sklearn.linear_model import LogisticRegression\n",
        "from sklearn.neighbors import KNeighborsClassifier\n",
        "from sklearn.tree import DecisionTreeClassifier\n",
        "from sklearn.svm import SVC"
      ]
    },
    {
      "cell_type": "markdown",
      "metadata": {
        "id": "gHuFF7ETjN0c"
      },
      "source": [
        "Функция `calculate_precision_recall_f1` необходима для вычисления точности, полноты и F1-меры по формулам, используя TN, FP, FN, и TP, приведенные в теоретической части. Данная функция будет использоваться в задаче бинарной классификации для сравнения этих метрик, полученных через библиотеку `sklearn`, с метриками, полученными в ходе вычислений по формулам (для проверки корректности)."
      ]
    },
    {
      "cell_type": "code",
      "execution_count": null,
      "metadata": {
        "id": "NXLEUA5lplRO"
      },
      "outputs": [],
      "source": [
        "def calculate_precision_recall_f1(tn, fp, fn, tp):\n",
        "    \"\"\"Подсчёт точности, полноты и F1-меры по формулам.\n",
        "\n",
        "    :param tn: true negative\n",
        "    :param fp: false positive\n",
        "    :param fn: false negative\n",
        "    :param tp: true positive\n",
        "    :return: точность, полнота, F1-мера\n",
        "    \"\"\"\n",
        "    precision = tp / (tp + fp)\n",
        "    recall = tp / (tp + fn)\n",
        "    f1 = 2 / (precision + recall) * precision * recall\n",
        "\n",
        "    return precision, recall, f1"
      ]
    },
    {
      "cell_type": "markdown",
      "metadata": {
        "id": "DLSzh3axj-iN"
      },
      "source": [
        "Поскольку готовой реализации вычисления специфичности нет, будем использовать функцию, написанную ниже. Для бинарной классификации будем вычислять специфичность согласно формуле из теоретической части, для многоклассовой — вариант макроагрегации (вычисление метрики для каждого класса отдельно с последующим усреднением всех полученных таким образом результатов)."
      ]
    },
    {
      "cell_type": "code",
      "execution_count": null,
      "metadata": {
        "id": "88rZV3HL8RoJ"
      },
      "outputs": [],
      "source": [
        "import numpy as np\n",
        "\n",
        "def calculate_specificity(true_labels, predictions):\n",
        "    \"\"\"Вычисление специфичности для бинарной и многоклассовой классификации.\n",
        "\n",
        "    :param true_labels: истинные метки классов\n",
        "    :param predictions: предсказанные метки классов\n",
        "    :return: специфичность и confusion_matrix\n",
        "    \"\"\"\n",
        "    if len(np.unique(true_labels)) < 3:\n",
        "        conf_matrix = confusion_matrix(true_labels, predictions)\n",
        "        tn, fp, fn, tp = conf_matrix.ravel()\n",
        "        return tn / (tn + fp), (tn, fp, fn, tp)\n",
        "    else:\n",
        "        # в многоклассовом случае будем использовать только макро-аггрегацию\n",
        "        conf_matrix = multilabel_confusion_matrix(true_labels, predictions)\n",
        "        specificity = []\n",
        "\n",
        "        for cm in conf_matrix:\n",
        "            tn, fp, fn, tp = cm.ravel()\n",
        "            specificity.append(tn / (tn + fp))\n",
        "        return np.array(specificity).mean(), conf_matrix"
      ]
    },
    {
      "cell_type": "markdown",
      "metadata": {
        "id": "S4awGjiikfmB"
      },
      "source": [
        "Поскольку мы хотим вычислять много метрик для нескольких алгоритмов, их вычисление лучше всего поместить в отдельную функцию (например, такую, как приведена ниже)."
      ]
    },
    {
      "cell_type": "code",
      "execution_count": null,
      "metadata": {
        "id": "Mh5qA6QamXXn"
      },
      "outputs": [],
      "source": [
        "def get_all_metrics(\n",
        "    true_labels,\n",
        "    predictions,\n",
        "    probabilities,\n",
        "    print_metrics=False,\n",
        "    **kwargs,\n",
        "):\n",
        "    \"\"\"Подсчёт и вывод всех метрик.\n",
        "\n",
        "    :param true_labels: истинные метки классов\n",
        "    :param predictions: предсказания (метки классов)\n",
        "    :param probabilities: предсказания (вероятности принадлежности каждого объекта к каждому классу)\n",
        "    :param print_metrics: если True, то печатает получившиеся метрики\n",
        "    :return: словарь, ключи которого -- названия метрик, значения -- получившиеся метрики\n",
        "    \"\"\"\n",
        "    kwargs_precision_recall_f1_pr_auc = dict() # для бинарной классификации никакие дополнительные параметры не нужны\n",
        "    kwargs_roc_auc = dict()\n",
        "\n",
        "    # если бинарная классификация, то используем только вероятности принадлежности к классу 1\n",
        "    if len(np.unique(true_labels)) < 3:\n",
        "        probabilities = probabilities[:, 1]\n",
        "        true_predicted_labels_precision_recall_f1 = {\n",
        "            \"y_true\": true_labels,\n",
        "            \"y_pred\": predictions,\n",
        "        }\n",
        "        true_predicted_labels_pr_auc = {\n",
        "            \"y_true\": true_labels,\n",
        "            \"y_score\": probabilities,\n",
        "        }\n",
        "    # если многоклассовая классификация, то устанавливаем дополнительные параметры для посчета метрик\n",
        "    else:\n",
        "        kwargs_precision_recall_f1_pr_auc = {\n",
        "            \"average\": kwargs[\"average\"],\n",
        "        }\n",
        "        kwargs_roc_auc = {\n",
        "            \"multi_class\": kwargs[\"multi_class\"]\n",
        "        }\n",
        "        true_labels_binarize = label_binarize(true_labels, classes=np.unique(true_labels))\n",
        "        predictions_binarize = label_binarize(predictions, classes=np.unique(predictions))\n",
        "        true_predicted_labels_precision_recall_f1 = {\n",
        "            \"y_true\": true_labels_binarize,\n",
        "            \"y_pred\": predictions_binarize,\n",
        "        }\n",
        "        true_predicted_labels_pr_auc = {\n",
        "            \"y_true\": true_labels_binarize,\n",
        "            \"y_score\": probabilities,\n",
        "        }\n",
        "    accuracy = accuracy_score(true_labels, predictions)\n",
        "\n",
        "    precision = precision_score(**true_predicted_labels_precision_recall_f1, **kwargs_precision_recall_f1_pr_auc)\n",
        "    recall = recall_score(**true_predicted_labels_precision_recall_f1, **kwargs_precision_recall_f1_pr_auc)\n",
        "    f1 = f1_score(**true_predicted_labels_precision_recall_f1, **kwargs_precision_recall_f1_pr_auc)\n",
        "\n",
        "    roc_auc = roc_auc_score(true_labels, probabilities, **kwargs_roc_auc)\n",
        "    pr_auc = average_precision_score(**true_predicted_labels_pr_auc, **kwargs_precision_recall_f1_pr_auc)\n",
        "\n",
        "    specificity, conf_matrix = calculate_specificity(true_labels, predictions)\n",
        "\n",
        "    if len(np.unique(true_labels)) < 3:\n",
        "        # Для бинарной классификации сравним точность, полноту и F1-меру, полученные с помощью sklearn\n",
        "        # с вычисленными по формулам данными метриками (просто дополнительно выведем их)\n",
        "        tn, fp, fn, tp = conf_matrix\n",
        "        precision_cm, recall_cm, f1_cm = calculate_precision_recall_f1(tn, fp, fn, tp)\n",
        "\n",
        "        if print_metrics:\n",
        "            print(\n",
        "                \"Accuracy = {}\\nPrecision (from sklearn) = {}; Precision (from scratch) = {}\\nRecall (from sklearn) = {}; Recall (from scratch) = {}\\nF1_score (from sklearn) = {}; F1_score (from scratch) = {}\\nROC AUC = {}\\nPR AUC = {}\\nSpecificity = {}\".format(\n",
        "                    accuracy, precision, precision_cm, recall, recall_cm, f1, f1_cm, roc_auc, pr_auc, specificity\n",
        "                )\n",
        "            )\n",
        "\n",
        "    else:\n",
        "        if print_metrics:\n",
        "            print(\n",
        "                \"Accuracy = {}\\nPrecision = {}\\nRecall = {}\\nF1_score = {}\\nROC AUC = {}\\nPR AUC = {}\\nSpecificity = {}\".format(\n",
        "                    accuracy, precision, recall, f1, roc_auc, pr_auc, specificity\n",
        "                )\n",
        "            )\n",
        "    return {\n",
        "        \"Accuracy\": accuracy,\n",
        "        \"Precision\": precision,\n",
        "        \"Recall\": recall,\n",
        "        \"F1_score\": f1,\n",
        "        \"ROC AUC\": roc_auc,\n",
        "        \"PR AUC\": pr_auc,\n",
        "        \"Specificity\": specificity\n",
        "    }"
      ]
    },
    {
      "cell_type": "markdown",
      "metadata": {
        "id": "VezKTZB4kt97"
      },
      "source": [
        "Поскольку необходимо сравнивать несколько моделей, напишем отдельную функцию для обучения и тестирования модели. Также эта функция будет вычислять и все указанные выше метрики."
      ]
    },
    {
      "cell_type": "code",
      "execution_count": null,
      "metadata": {
        "id": "Iu5AQmieSAgp"
      },
      "outputs": [],
      "source": [
        "from sklearn.preprocessing import label_binarize\n",
        "\n",
        "def model_train_test(X_train, y_train, X_test, y_test, model, **kwargs):\n",
        "    \"\"\"Обучение и тестирование модели на обучающей и тестовой выборке соответственно.\n",
        "\n",
        "    :param X_train: объекты обучающей выборки\n",
        "    :param y_train: значения целевой переменной обучающей выборки\n",
        "    :param X_test: объекты тестовой выборки\n",
        "    :param y_test: значения целевой переменной тестовой выборки\n",
        "    :param model: модель, которая обучается и тестируется\n",
        "    :return: предсказания -- классы и вероятности принадлежности к каждому классу, все метрики\n",
        "    \"\"\"\n",
        "    model.fit(X_train, y_train)\n",
        "    pred = model.predict(X_test)\n",
        "    proba = model.predict_proba(X_test)\n",
        "\n",
        "    print(str(model), end=\"\\n\\n\")\n",
        "\n",
        "    all_metrics = get_all_metrics(\n",
        "        y_test,\n",
        "        pred,\n",
        "        proba,\n",
        "        print_metrics=True,\n",
        "        **kwargs,\n",
        "    )\n",
        "    return pred, proba, all_metrics"
      ]
    },
    {
      "cell_type": "markdown",
      "metadata": {
        "id": "8DHsW95Wk6Pm"
      },
      "source": [
        "### Сравнение алгоритмов\n",
        "\n",
        "Перейдем к непосредственному сравнению моделей. В задаче бинарной классификации будем сравнивать логистическую регрессию, решающее дерево, метод k-ближайших соседей и метод опорных векторов.  \n",
        "\n",
        "Подробнее про метод опорных векторов [здесь](https://github.com/esokolov/ml-course-hse/blob/master/2016-fall/lecture-notes/lecture05-linclass.pdf) и [здесь](https://neerc.ifmo.ru/wiki/index.php?title=%D0%9C%D0%B5%D1%82%D0%BE%D0%B4_%D0%BE%D0%BF%D0%BE%D1%80%D0%BD%D1%8B%D1%85_%D0%B2%D0%B5%D0%BA%D1%82%D0%BE%D1%80%D0%BE%D0%B2_(SVM))."
      ]
    },
    {
      "cell_type": "code",
      "execution_count": null,
      "metadata": {
        "id": "57k0cahtcCkh"
      },
      "outputs": [],
      "source": [
        "pred_logreg, proba_logreg, all_metrics_logreg = model_train_test(\n",
        "    X_train_scaled, y_train.values,\n",
        "    X_test_scaled, y_test.values,\n",
        "    LogisticRegression()\n",
        ")"
      ]
    },
    {
      "cell_type": "code",
      "execution_count": null,
      "metadata": {
        "id": "HsQ7dk-7cCiJ"
      },
      "outputs": [],
      "source": [
        "pred_dt, proba_dt, all_metrics_dt = model_train_test(\n",
        "    X_train, y_train.values,\n",
        "    X_test, y_test.values,\n",
        "    DecisionTreeClassifier()\n",
        ")"
      ]
    },
    {
      "cell_type": "code",
      "execution_count": null,
      "metadata": {
        "id": "OabWGlI8vdsI"
      },
      "outputs": [],
      "source": [
        "pred_knn, proba_knn, all_metrics_knn = model_train_test(\n",
        "    X_train_scaled, y_train.values,\n",
        "    X_test_scaled, y_test.values,\n",
        "    KNeighborsClassifier()\n",
        ")"
      ]
    },
    {
      "cell_type": "code",
      "execution_count": null,
      "metadata": {
        "id": "4hTtc7iAv4cY"
      },
      "outputs": [],
      "source": [
        "pred_svm, proba_svm, all_metrics_svm = model_train_test(\n",
        "    X_train_scaled, y_train.values,\n",
        "    X_test_scaled, y_test.values,\n",
        "    SVC(probability=True)\n",
        ")"
      ]
    },
    {
      "cell_type": "markdown",
      "metadata": {
        "id": "1DSHQGsgmzHr"
      },
      "source": [
        "Сравним не только ROC AUC и PR AUC, но и ROC- и PR-кривые. Для их визуализации будем использовать функцию, приведенную ниже:"
      ]
    },
    {
      "cell_type": "code",
      "execution_count": null,
      "metadata": {
        "id": "bd9lZqlHrJFI"
      },
      "outputs": [],
      "source": [
        "import matplotlib.pyplot as plt\n",
        "\n",
        "def plot_roc_pr_curves(true_labels, algorithms):\n",
        "    \"\"\"Отрисовка ROC- и PR-кривых.\n",
        "\n",
        "    :param true_labels: истинные метки классов\n",
        "    :param algorithms: словарь формата {название_алгоритма: вероятности_принадлежности_к_каждому_классу}\n",
        "    \"\"\"\n",
        "    fig, ax = plt.subplots(1, 2, figsize=(20, 8))\n",
        "    ax[0].set_title(\"ROC-curve\", fontsize=20)\n",
        "    ax[1].set_title(\"PR-curve\", fontsize=20)\n",
        "\n",
        "    for alg_name, probabilities in algorithms.items():\n",
        "        fpr, tpr, _ = roc_curve(true_labels, probabilities[:, 1])\n",
        "        precisions, recalls, _ = precision_recall_curve(true_labels, probabilities[:, 1])\n",
        "\n",
        "        ax[0].plot(\n",
        "            fpr,\n",
        "            tpr,\n",
        "            label=\"{} (ROC AUC = {})\".format(\n",
        "                alg_name,\n",
        "                round(\n",
        "                    roc_auc_score(true_labels, probabilities[:, 1]),\n",
        "                    3\n",
        "                )\n",
        "            )\n",
        "        )\n",
        "        ax[1].plot(\n",
        "            recalls,\n",
        "            precisions,\n",
        "            label=\"{} (PR AUC = {})\".format(\n",
        "                alg_name,\n",
        "                round(\n",
        "                    average_precision_score(true_labels, probabilities[:, 1]),\n",
        "                    3\n",
        "                )\n",
        "            )\n",
        "        )\n",
        "\n",
        "    ax[0].legend(fontsize=14)\n",
        "    ax[0].set_xlabel(\"False positive rate\", fontsize=16)\n",
        "    ax[0].set_ylabel(\"True positive rate\", fontsize=16)\n",
        "\n",
        "    ax[1].legend(fontsize=14)\n",
        "    ax[1].set_xlabel(\"Recall\", fontsize=16)\n",
        "    ax[1].set_ylabel(\"Precision\", fontsize=16)\n",
        "    plt.show()"
      ]
    },
    {
      "cell_type": "code",
      "execution_count": null,
      "metadata": {
        "id": "lP_CwF2TuWvC"
      },
      "outputs": [],
      "source": [
        "plot_roc_pr_curves(\n",
        "    y_test,\n",
        "    {\n",
        "        \"Logistic Regression\": proba_logreg,\n",
        "        \"Decision Tree\": proba_dt,\n",
        "        \"kNN\": proba_knn,\n",
        "        \"SVM\": proba_svm,\n",
        "    }\n",
        ")"
      ]
    },
    {
      "cell_type": "markdown",
      "metadata": {
        "id": "TP0Tp_VvnDIh"
      },
      "source": [
        "Как упоминалось в теоретической части, можно сравнивать не только площади под ROC- и PR-кривыми, но и сами кривые. Чем выше кривая, тем лучше модель (верно и для ROC-кривой, и для PR-кривой)."
      ]
    },
    {
      "cell_type": "markdown",
      "metadata": {
        "id": "3XuAFZdSnixC"
      },
      "source": [
        "Сагрегируем все метрики моделей."
      ]
    },
    {
      "cell_type": "code",
      "execution_count": null,
      "metadata": {
        "id": "FAJlzm0gzgME"
      },
      "outputs": [],
      "source": [
        "ans_df = pd.DataFrame(\n",
        "    [all_metrics_logreg, all_metrics_dt, all_metrics_knn, all_metrics_svm],\n",
        "    index=[\"Logistic Regression\", \"Decision Tree\", \"kNN\", \"SVM\"]\n",
        ")\n",
        "ans_df"
      ]
    },
    {
      "cell_type": "markdown",
      "metadata": {
        "id": "_DDmy7k1nn8w"
      },
      "source": [
        "Для каждой метрики выведем список моделей по убыванию их качества."
      ]
    },
    {
      "cell_type": "code",
      "execution_count": null,
      "metadata": {
        "id": "-FwJw1fqzgDM"
      },
      "outputs": [],
      "source": [
        "for metric in ans_df.columns:\n",
        "    sorted_ans_df = ans_df.sort_values(by=metric, ascending=False)\n",
        "    print(\n",
        "        \"{}:{}{}\".format(\n",
        "            metric,\n",
        "            \" \" * (20 - len(metric)),\n",
        "            sorted_ans_df.index.tolist()\n",
        "        )\n",
        "    )"
      ]
    },
    {
      "cell_type": "markdown",
      "metadata": {
        "id": "KqblMw2BAjP4"
      },
      "source": [
        "Согласно всем метрикам наилучшим алгоритмом в данном случае оказалась логистическая регрессия. Хуже всего отработало решающее дерево (судя по ROC AUC и PR AUC) и метод k-ближайших соседей (судя по доли правильных ответов, точности, полноте, F1-мере и специфичности). Однако, посмотрев на численные значения всех метрик всех моделей, можно сказать, что они все обучились достаточно хорошо.  "
      ]
    },
    {
      "cell_type": "markdown",
      "metadata": {
        "id": "MN0ypsgq-Xcm"
      },
      "source": [
        "## Многоклассовая классификация"
      ]
    },
    {
      "cell_type": "markdown",
      "metadata": {
        "id": "NuNIj8t9n1qu"
      },
      "source": [
        "### Чтение и предобработка данных"
      ]
    },
    {
      "cell_type": "code",
      "execution_count": null,
      "metadata": {
        "id": "vaJAyPMLK3jv"
      },
      "outputs": [],
      "source": [
        "from sklearn.datasets import load_wine"
      ]
    },
    {
      "cell_type": "code",
      "execution_count": null,
      "metadata": {
        "id": "V4Mx8yGOL1PD"
      },
      "outputs": [],
      "source": [
        "wine_data = load_wine()\n",
        "wine_data.keys()"
      ]
    },
    {
      "cell_type": "code",
      "execution_count": null,
      "metadata": {
        "id": "hxYFzB-zL-g7"
      },
      "outputs": [],
      "source": [
        "df = pd.DataFrame(wine_data[\"data\"], columns=wine_data[\"feature_names\"])\n",
        "target = wine_data[\"target\"]\n",
        "\n",
        "df.head()"
      ]
    },
    {
      "cell_type": "code",
      "execution_count": null,
      "metadata": {
        "id": "3hW86YaQiIq7"
      },
      "outputs": [],
      "source": [
        "pd.Series(target).value_counts()"
      ]
    },
    {
      "cell_type": "markdown",
      "metadata": {
        "id": "OHYGE3AS8HJQ"
      },
      "source": [
        "Выборка не идеально сбалансирована, но сильных различий в количестве представителей классов нет."
      ]
    },
    {
      "cell_type": "markdown",
      "metadata": {
        "id": "l_y7avNSjdld"
      },
      "source": [
        "В данных представлены только численные признаки, поэтому единственный вариант предобработки данных, который можно сделать на этих данных, — нормализация. Однако мы будем использовать методы, в основе которых лежат деревья, поэтому даже нормализацию проводить не будем."
      ]
    },
    {
      "cell_type": "code",
      "execution_count": null,
      "metadata": {
        "id": "M5PGRw1bMSIf"
      },
      "outputs": [],
      "source": [
        "# Делим выборку на обучающую и тестовую\n",
        "\n",
        "from sklearn.model_selection import train_test_split\n",
        "\n",
        "X_train, X_test, y_train, y_test = train_test_split(df, target, test_size=0.33, random_state=42)"
      ]
    },
    {
      "cell_type": "markdown",
      "metadata": {
        "id": "z97JlnKMn4pm"
      },
      "source": [
        "### Обучение и тестирование моделей\n",
        "\n",
        "Поскольку существует несколько вариантов агрегации метрик в многоклассовом случае, перепишем функцию `model_train_test`. Новая функция `all_average_multi_class_combinations` обучает и тестирует модель, а также проводит подсчет метрик для различных вариантов агрегации метрик."
      ]
    },
    {
      "cell_type": "code",
      "execution_count": null,
      "metadata": {
        "id": "8lJw-TChubeK"
      },
      "outputs": [],
      "source": [
        "def all_average_multi_class_combinations(X_train, y_train, X_test, y_test, model, verbose=0):\n",
        "    \"\"\"После обучения и тестирования модели используются всевозможные аггрегации метрик.\n",
        "\n",
        "    :param X_train: обучающая выборка\n",
        "    :param y_train: целевая переменная обучающей выборки\n",
        "    :param X_test: тестовая выборка\n",
        "    :param y_test: целевая переменная тестовой выборки\n",
        "    :param model: классификатор\n",
        "    :param verbose: если 0, то выводятся только точность, полнота, F1-мера, ROC AUC и PR AUC для различных вариантов аггрегаций, иначе -- все метрики для каждого варианта аггрегации\n",
        "    :return: точность, полнота, F1-мера, ROC AUC и PR AUC для различных вариантов аггрегаций\n",
        "    \"\"\"\n",
        "    # average=\"macro\" и multi_class=\"ovr\" -> ROC AUC чувствителен к несбалансированности классов\n",
        "    # average=\"macro\" и multi_class=\"ovo\" -> ROC AUC не чувствителен к несбалансированности классов\n",
        "\n",
        "    model.fit(X_train, y_train) # обучение модели\n",
        "    pred = model.predict(X_test) # получение предсказаний (классов)\n",
        "    proba = model.predict_proba(X_test) # получение предсказаний (вероятности принадлежности к каждому классу)\n",
        "\n",
        "    if verbose > 0:\n",
        "        print(str(model), end=\"\\n\\n\")\n",
        "\n",
        "    ans = dict()\n",
        "    ans[\"ROC AUC\"] = dict()\n",
        "    metrics_to_compare = [\"Precision\", \"Recall\", \"F1_score\", \"PR AUC\"]\n",
        "    for m in metrics_to_compare:\n",
        "        ans[m] = dict()\n",
        "\n",
        "    for average in [\"macro\", \"micro\", \"weighted\"]:\n",
        "        for multi_class in [\"ovr\", \"ovo\"]:\n",
        "            if verbose > 0:\n",
        "                print(\"\\n{}_{}\".format(average, multi_class))\n",
        "\n",
        "            # вычисление всех метрик\n",
        "            all_metrics = get_all_metrics(\n",
        "                y_test,\n",
        "                pred,\n",
        "                proba,\n",
        "                calc_specificity=False,\n",
        "                print_metrics=verbose > 0,\n",
        "                average=average,\n",
        "                multi_class=multi_class,\n",
        "            )\n",
        "\n",
        "            for m in metrics_to_compare:\n",
        "                ans[m][average] = all_metrics[m]\n",
        "            ans[\"ROC AUC\"][multi_class] = all_metrics[\"ROC AUC\"]\n",
        "    if verbose > 0:\n",
        "        print(\"-\"*100, end=\"\\n\\n\")\n",
        "    for k, v in ans.items():\n",
        "        print(k, \"\\n\", v)\n",
        "    return ans"
      ]
    },
    {
      "cell_type": "markdown",
      "metadata": {
        "id": "6A9THfuAobEj"
      },
      "source": [
        "### Сравненмие моделей\n",
        "\n",
        "В данной задаче будем сравнивать решающее дерево с одним из вариантов ансамблей решающих деревьев — случайным лесом."
      ]
    },
    {
      "cell_type": "code",
      "execution_count": null,
      "metadata": {
        "id": "00mCyqA3xTFt"
      },
      "outputs": [],
      "source": [
        "dt = all_average_multi_class_combinations(\n",
        "    X_train, y_train,\n",
        "    X_test, y_test,\n",
        "    DecisionTreeClassifier(),\n",
        "    verbose=1,\n",
        ")"
      ]
    },
    {
      "cell_type": "markdown",
      "metadata": {
        "id": "C1virONE8q1O"
      },
      "source": [
        "Как видно из получившихся результатов, агрегация в данном случае не сильно повлияла на итоговое значение каждой из метрик."
      ]
    },
    {
      "cell_type": "code",
      "execution_count": null,
      "metadata": {
        "id": "p4JMfHUDOZf2"
      },
      "outputs": [],
      "source": [
        "from sklearn.ensemble import RandomForestClassifier"
      ]
    },
    {
      "cell_type": "code",
      "execution_count": null,
      "metadata": {
        "id": "x6B7BihbBaqb"
      },
      "outputs": [],
      "source": [
        "rf = all_average_multi_class_combinations(\n",
        "    X_train, y_train,\n",
        "    X_test, y_test,\n",
        "    RandomForestClassifier(),\n",
        "    verbose=1,\n",
        ")"
      ]
    },
    {
      "cell_type": "markdown",
      "metadata": {
        "id": "AtZGylcOQxvZ"
      },
      "source": [
        "Случайный лес выдает почти идеальные предсказания, поэтому разница в агрегации результатов небольшая. Можем визуализировать каждое из деревьев, чтобы посмотреть, как достигаются почти идеальные предсказания."
      ]
    },
    {
      "cell_type": "code",
      "execution_count": null,
      "metadata": {
        "id": "2NVBH2SA5Y9z"
      },
      "outputs": [],
      "source": [
        "from sklearn.tree import plot_tree\n",
        "\n",
        "rf_clf = RandomForestClassifier()\n",
        "rf_clf.fit(X_train, y_train)\n",
        "\n",
        "fig = plt.figure(figsize=(15, 10))\n",
        "plot_tree(\n",
        "    rf_clf.estimators_[0], # визуализация дерева с индексом 0; всего len(rf_clf.estimators_) деревьев\n",
        "    feature_names=wine_data.feature_names,\n",
        "    class_names=wine_data.target_names,\n",
        "    filled=True,\n",
        "    impurity=True,\n",
        "    rounded=True\n",
        ");"
      ]
    },
    {
      "cell_type": "markdown",
      "metadata": {
        "id": "NiMhanpuw9fp"
      },
      "source": [
        "Таким образом, для каждой задачи, исходя из ее особенностей, нужно выбирать модель и метрику качества. При выборе метрики качества лучше исходить из того, сбалансированная ли выборка.  \n",
        "\n",
        "**Сбалансированная выборка:**\n",
        "* *Точность/доля правильных ответов (accuracy)*. При этом легко интерпретируемая метрика\n",
        "* *ROC AUC*. Использует вероятности принадлежности к классам, которые не обязательно должны быть хорошо откалиброваны. Теоретически может работать и с неидеально сбалансированной выборкой, но при сильном дисбалансе классов становится нерепрезентативной\n",
        "\n",
        "**Несбалансированная выборка:**   \n",
        "* *Точность (precision), полнота (recall), специфичность (specificity, TNR)*. Стоит учитывать, что обычно нужны не каждая из них по отдельности, а их баланс\n",
        "* *F1-мера*. Является одним числом, среднее гармоническое точности и полноты\n",
        "* *PR AUC*. Также является одним числом, но, кроме этого, может помочь выбрать порог классификатора"
      ]
    },
    {
      "cell_type": "code",
      "execution_count": null,
      "metadata": {
        "id": "XKxSVC0k_PRL"
      },
      "outputs": [],
      "source": []
    }
  ],
  "metadata": {
    "colab": {
      "provenance": [],
      "include_colab_link": true
    },
    "kernelspec": {
      "display_name": "Python 3",
      "name": "python3"
    },
    "language_info": {
      "name": "python"
    }
  },
  "nbformat": 4,
  "nbformat_minor": 0
}