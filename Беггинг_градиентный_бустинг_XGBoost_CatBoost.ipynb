{
  "cells": [
    {
      "cell_type": "markdown",
      "metadata": {
        "id": "view-in-github",
        "colab_type": "text"
      },
      "source": [
        "<a href=\"https://colab.research.google.com/github/AlexeyK12/Data_scientist-Sberuniversity/blob/main/%D0%91%D0%B5%D0%B3%D0%B3%D0%B8%D0%BD%D0%B3_%D0%B3%D1%80%D0%B0%D0%B4%D0%B8%D0%B5%D0%BD%D1%82%D0%BD%D1%8B%D0%B9_%D0%B1%D1%83%D1%81%D1%82%D0%B8%D0%BD%D0%B3_XGBoost_CatBoost.ipynb\" target=\"_parent\"><img src=\"https://colab.research.google.com/assets/colab-badge.svg\" alt=\"Open In Colab\"/></a>"
      ]
    },
    {
      "cell_type": "markdown",
      "metadata": {
        "id": "f4DsdYS8GfF8"
      },
      "source": [
        "# Беггинг, градиентный бустинг, XGBoost, LightGBM, Catboost"
      ]
    },
    {
      "cell_type": "markdown",
      "metadata": {
        "id": "Vz5cS4BDrJBo"
      },
      "source": [
        "# Теоретическая часть"
      ]
    },
    {
      "cell_type": "markdown",
      "metadata": {
        "id": "QJMdZ9oWG3Pf"
      },
      "source": [
        "## Бэггинг\n",
        "\n",
        "Обучающие выборки генерируются с помощью **бутстрепа**.  \n",
        "Рассмотрим выборку $X$, состоящую из $N$ объектов. Пусть имеется $M$ базовых моделей. Тогда алгоритм выглядит следующим образом:\n",
        "1. Из всего множества объектов равновероятно выбираются $N$ объектов с возвращением (после выбора каждого из объектов мы будем возвращать его в множество для выбора, из-за чего некоторые объекты могут повторяться в выбранном множестве)\n",
        "2. Повторяем п. 1 $M$ раз. Таким образом, получаем новые подвыборки $X_1, ..., X_M$\n",
        "\n",
        "\n"
      ]
    },
    {
      "cell_type": "markdown",
      "metadata": {
        "id": "FkO1U4OnqyZm"
      },
      "source": [
        "### Классификация\n",
        "\n",
        "Бэггинг для задач классификации выглядит следующим образом:\n",
        "1. С помощью бутстрепа генерируем $M$ выборок для каждого базового классификатора, каждая из которых содержит $N$ объектов\n",
        "2. Независимо обучаем каждый базовый классификатор (каждый алгоритм, определенный на своем подпространстве)\n",
        "3. Классифицируем основную выборку на каждом из подпространств (также независимо)\n",
        "4. Принимаем окончательное решение о принадлежности объекта одному из классов. Наиболее распространенными методами принятия таких решений являются:\n",
        "  - **консенсус** — все базовые классификаторы присвоили объекту одну и ту же метку $\\implies$ относим объект к выбранному классу (консенсус достижим очень редко, поэтому это не самый популярный метод)\n",
        "  - **простое большинство** — наиболее часто применяемый метод. Объекту присваивается метка того класса, который определило для него большинство базовых классификаторов\n",
        "  - **взвешивание классификаторов** — решение принимается с учетом «важности» каждого классификатора (например, для экспертов одна из групп параметров важна в большей степени или имеется четное число базовых классификаторов, мнения которых разделились поровну)"
      ]
    },
    {
      "cell_type": "markdown",
      "metadata": {
        "id": "9Z_wMDI1q49y"
      },
      "source": [
        "### Регрессия\n",
        "\n",
        "Рассмотрим задачу регрессии с базовыми алгоритмами $b_1, ..., b_m$. Пусть существует истинная функция ответа для всех объектов $y(x)$ $(y = 1,...,n)$, а также задано распределение $p(x)$ на объектах. В этом случае мы можем записать ошибку каждой функции регрессии:\n",
        "\n",
        "$$\\epsilon_i(x) = b_i(x) − y(x).$$\n",
        "\n",
        "При этом мат. ожидание среднеквадратичной ошибки:\n",
        "\n",
        "$$E_x(b_i(x) − y(x))^2 = E_x \\epsilon_i^2(x).$$\n",
        "\n",
        "Тогда средняя ошибка построенных функций регрессии имеет вид:\n",
        "\n",
        "$$E_1 = \\frac{1}{n} E_x \\sum_{i = 1}^{n} \\epsilon_i^2(x).$$\n",
        "\n",
        "Пусть ошибки несмещены и некоррелированы, т. е.:\n",
        "\n",
        "$$E_x \\epsilon_i (x) = 0$$ $$E_x \\epsilon_i (x) \\epsilon_j (x) = 0, i \\neq j.$$\n",
        "\n",
        "Новая модель, усредняющая ответы уже построенных, будет иметь вид:\n",
        "\n",
        "$$a(x) = \\frac{1}{n} \\sum_{i = 1}^{n} b_i(x).$$\n",
        "\n",
        "Ее среднеквадратичная ошибка:\n",
        "\n",
        "$$E_n = E_x(\\frac{1}{n} \\sum_{i = 1}^{n} (b_i(x) − y(x))^2) = E_x (\\frac{1}{n} \\sum_{i = 1}^{n} \\epsilon_i)^2 = \\frac{1}{n^2} E_x(\\sum_{i = 1}^{n} \\epsilon_i^2(x) + \\sum_{i \\neq j} \\epsilon_i(x) \\epsilon_j(x)) = \\frac{1}{n} E_1,$$\n",
        "\n",
        "т. е. усреднение ответов позволило уменьшить средний квадрат ошибки в $n$ раз."
      ]
    },
    {
      "cell_type": "markdown",
      "source": [
        "Наиболее ярким представителем бэггинга является **случайный лес**, который мы будем сравнивать в наших экспериментах с различными реализациями градиентного бустинга."
      ],
      "metadata": {
        "id": "xfNVeGarQGFu"
      }
    },
    {
      "cell_type": "markdown",
      "metadata": {
        "id": "T4WjzRfoMcfi"
      },
      "source": [
        "## Градиентный бустинг\n",
        "\n",
        "Бустинг — метод ансамблирования алгоритмов (принадлежащих одному семейству), который состоит в том, что каждый последующий добавляемый в ансамбль  алгоритм обучается так, чтобы уменьшать ошибку уже построенной части ансамбля, т. е.\n",
        "\n",
        "$$\\hat{a}(X) = \\sum_{i = 1}^{N} \\rho_i a_i(X),$$\n",
        "где $X$ — входные данные, $\\hat{a}(X)$ — ансамбль моделей, $a_i(X)$ — базовые модели, $\\rho_i$ — коэффициенты, с которыми учитываются базовые модели.  \n",
        "\n",
        "Градиентный бустинг — один из основных алгоритмов бустинг-моделей. Его алгоритм выглядит следующим образом:\n",
        "1. Выбирается дифференцируемая функция потерь (подходящая для конкретной задачи, но обычно и для классификации, и для регрессии выбирается среднеквадратичная ошибка (MSE))\n",
        "2. Выбирается простая начальная модель $a_0$. Если решается задача регрессии, то $a_0$ — среднее значение целевой переменной, если классификации —  выборочные вероятности (доля каждого класса) в случае классификации\n",
        "3. Пусть уже построены $(t - 1)$ алгоритмов. Вычисляем значение антиградиента функции потерь (производные берутся по ответу построенного ансамбля на обучающей выборке как по независимой переменной) в точке $(X, \\hat{a}(X))$\n",
        "4. Проводится обучение модели $a_t$. В качестве целевой переменной используются значения антиградиента, полученные на предыдущем шаге\n",
        "5. При этом подбирается коэффициент $\\rho_t$ таким образом, чтобы минимизировать значение функции потерь для ансамбля с новым алгоритмом\n",
        "6. Шаги 2–5 повторяются до тех пор, пока это необходимо (возможные критерии остановки: достигнуто желаемое количество алгоритмов, достигнуто желаемое качество, ошибка или модуль градиента достаточно мал и т. д.)\n",
        "\n",
        "Формулы выглядят следующим образом:\n",
        "\n",
        "$$\\hat{a}(X) = \\sum_{i = 0}^{t - 1} \\hat{a_i}(X),$$\n",
        "где $\\hat{a_i}(X)$ — уже построенные $(t - 1)$ базовые модели, $\\hat{a}(X)$ — имеющийся ансамбль $t - 1$ базовых моделей. Тогда антиградиенты будут иметь вид:\n",
        "\n",
        "$$r_{it} = -\\left[\\frac{\\delta L(y_i, a(\\mathbf{x_i}))}{\\delta a(\\mathbf{x_i})}\\right]_{a(X) = \\hat{a}(X)},$$\n",
        "где $L(\\cdot, \\cdot)$ — функция потерь, $i \\in [1, n]$.  \n",
        "\n"
      ]
    },
    {
      "cell_type": "markdown",
      "metadata": {
        "id": "kR9fWvO4hmSy"
      },
      "source": [
        "### Реализации градиентного бустинга\n",
        "\n",
        "Существует много готовых реализаций алгоритма градиентного бустинга, например он есть в рассматриваемой нами и активно использовавшейся в предыдущих лонгридах и семинарах библиотеке `sklearn`. Однако на практике используются следующие реализации:\n",
        "* **XGBoost** (март 2014)\n",
        "* **LightGBM** (январь 2017)\n",
        "* **CatBoost** (апрель 2017)"
      ]
    },
    {
      "cell_type": "markdown",
      "metadata": {
        "id": "vFg2AIhFMsDS"
      },
      "source": [
        "#### Рост листьев\n",
        "* **XGboost** проводит разделение до заданного гиперпараметра `max_depth`, затем начинает обрезать дерево в обратном направлении и удаляет части, за пределами которых нет положительного выигрыша. Такой подход используется, поскольку иногда за расщеплением без уменьшения потерь может следовать расщепление с уменьшением потерь. XGBoost также может выполнять рост дерева по листьям (как **LightGBM**)\n",
        "\n",
        "* **LightGBM** использует рост дерева по листьям (по принципу «лучший — первый»). Он выбирает для роста тот лист, который минимизирует потери, что позволяет вырастить несбалансированное дерево. Поскольку дерево растет не по уровням, а по листьям, при использовании небольшого количества данных может произойти полный перебор всех элементов, поэтому важно контролировать глубину дерева\n",
        "\n",
        "* **Catboost** строит сбалансированное дерево. На каждом уровне такого дерева выбирается пара «признак — разделение», которая приносит наименьшие потери (согласно функции потерь) и используется для всех узлов уровня. Можно выбрать другие правила построения дерева с помощью гиперпараметра `grow-policy`\n",
        "\n",
        "\n",
        ""
      ]
    },
    {
      "cell_type": "markdown",
      "source": [
        "Сравнение способа формирования деревьев при различных методах градиентного бустинга:\n",
        "\n",
        "![image.png](https://sun9-66.userapi.com/impg/LmGF5BxTfgicAhFPx_BctuLCqLDgW9NQMNZHVg/qf0V59WwTa0.jpg?size=875x329&quality=96&sign=10659374cced9cc7d8ee4d78bb80757b&type=album)"
      ],
      "metadata": {
        "id": "p_VoOow9rOcL"
      }
    },
    {
      "cell_type": "markdown",
      "metadata": {
        "id": "3i8et92hQWJZ"
      },
      "source": [
        "#### Обработка пропущенных значений\n",
        "* **XGboost** определяет пропущенные значения в ту сторону, которая уменьшает потери в каждом разбиении\n",
        "\n",
        "* **LightGBM** действует аналогично **XGBoost**\n",
        "\n",
        "* **Catboost** имеет два режима обработки отсутствующих значений:\n",
        "    - **Min** — отсутствующим значениям присваивается такое значение, которое будет меньше всех существующих значений в выборке\n",
        "    - **Max** — отсутствующим значениям присваивается такое значение, которое будет больше всех существующих значений в выборке\n",
        "    \n",
        "  Таким образом, гарантируется, что при выборе разбиения будет учитываться разбиение, которое отделяет отсутствующие значения от всех остальных значений."
      ]
    },
    {
      "cell_type": "markdown",
      "metadata": {
        "id": "cv7VrgGXRdba"
      },
      "source": [
        "#### Метод важности признаков\n",
        "* В **XGboost** имеются следующие методы:  \n",
        "    * **Gain** — представляет собой улучшение точности (или общего выигрыша), приносимое признаком ветвям, на которых он находится\n",
        "    * **Frequency**/**Weight** — вычисляет относительное количество раз, когда определенный признак встречается во всех расщеплениях деревьев модели. Может быть необъективным для категориальных признаков с большим количеством категорий\n",
        "    * **Coverage** — относительное количество наблюдений, связанных с признаком. Для каждого признака мы подсчитываем количество наблюдений, используемых для выбора узла листа\n",
        "* **LightGBM** также содержит метод **Gain** и метод **Split**, аналогичный **Frequency**/**Weight** из **XGBoost**.\n",
        "\n",
        "* **Catboost** содержит следующие методы:  \n",
        "    * **PredictionValuesChange** — для каждого признака **PredictionValuesChange** показывает, насколько в среднем изменяется предсказание при изменении значения признака. Признак будет иметь большую важность, если изменение значения признака вызывает большое изменение в прогнозируемом значении\n",
        "    * **PredictionValuesChange** — метод расчета важности признака по умолчанию для неранжированных метрик  \n",
        "    * **LossFunctionChange** — может использоваться для любой модели, но особенно полезен для моделей ранжирования. Для каждого признака представляет собой разницу между значением потерь модели с этим признаком и без него. Поскольку переобучение модели без одного из признаков требует больших вычислительных затрат, эта модель строится приблизительно, используя исходную модель с этим признаком, удаленным из всех деревьев в ансамбле"
      ]
    },
    {
      "cell_type": "markdown",
      "metadata": {
        "id": "GL7shHY3TRcg"
      },
      "source": [
        "#### Обработка категориальных признаков\n",
        "\n",
        "* **XGBoost** не имеет встроенного метода для категориальных признаков. Кодирование категориальных признаков должно выполняться в процессе предобработки данных\n",
        "\n",
        "* **LightGBM** разделяет категориальные признаки, разбивая их категории на 2 подмножества. Основная идея заключается в том, чтобы сортировать категории в соответствии с целью обучения при каждом разбиении  \n",
        "\n",
        "* **Catboost** использует комбинацию одноточечного кодирования и расширенного среднего кодирования. Для признаков с малым количеством категорий используется одноточечное кодирование. Максимальное количество категорий для одноточечного кодирования можно контролировать с помощью параметра `one_hot_max_size`. Для остальных категориальных столбцов **CatBoost** использует эффективный метод кодирования, который похож на среднее кодирование, но с дополнительным механизмом, направленным на снижение переподгонки. Использование категориального кодирования CatBoost имеет обратную сторону — более медленная модель\n",
        "\n",
        "\n",
        "\n"
      ]
    },
    {
      "cell_type": "markdown",
      "metadata": {
        "id": "v8rkJPcSrSK1"
      },
      "source": [
        "# Практическая часть"
      ]
    },
    {
      "cell_type": "markdown",
      "metadata": {
        "id": "W5BTj9bqKVEY"
      },
      "source": [
        "## Классификация\n",
        "\n",
        "Будем использовать датасет [отсюда](https://www.kaggle.com/datasets/uciml/mushroom-classification)."
      ]
    },
    {
      "cell_type": "markdown",
      "metadata": {
        "id": "6CKr3jROz7kM"
      },
      "source": [
        "### Скачивание данных"
      ]
    },
    {
      "cell_type": "code",
      "execution_count": null,
      "metadata": {
        "colab": {
          "base_uri": "https://localhost:8080/",
          "height": 108
        },
        "id": "Ls048ho0NoW2",
        "outputId": "973448f3-f8cd-4574-8789-7bfa80e7ec98"
      },
      "outputs": [
        {
          "output_type": "stream",
          "name": "stdout",
          "text": [
            "Mounted at /content/gdrive\n"
          ]
        },
        {
          "output_type": "display_data",
          "data": {
            "text/plain": [
              "<IPython.core.display.HTML object>"
            ],
            "text/html": [
              "\n",
              "     <input type=\"file\" id=\"files-408e8a47-2759-435e-a07f-5f0687ab30eb\" name=\"files[]\" multiple disabled\n",
              "        style=\"border:none\" />\n",
              "     <output id=\"result-408e8a47-2759-435e-a07f-5f0687ab30eb\">\n",
              "      Upload widget is only available when the cell has been executed in the\n",
              "      current browser session. Please rerun this cell to enable.\n",
              "      </output>\n",
              "      <script>// Copyright 2017 Google LLC\n",
              "//\n",
              "// Licensed under the Apache License, Version 2.0 (the \"License\");\n",
              "// you may not use this file except in compliance with the License.\n",
              "// You may obtain a copy of the License at\n",
              "//\n",
              "//      http://www.apache.org/licenses/LICENSE-2.0\n",
              "//\n",
              "// Unless required by applicable law or agreed to in writing, software\n",
              "// distributed under the License is distributed on an \"AS IS\" BASIS,\n",
              "// WITHOUT WARRANTIES OR CONDITIONS OF ANY KIND, either express or implied.\n",
              "// See the License for the specific language governing permissions and\n",
              "// limitations under the License.\n",
              "\n",
              "/**\n",
              " * @fileoverview Helpers for google.colab Python module.\n",
              " */\n",
              "(function(scope) {\n",
              "function span(text, styleAttributes = {}) {\n",
              "  const element = document.createElement('span');\n",
              "  element.textContent = text;\n",
              "  for (const key of Object.keys(styleAttributes)) {\n",
              "    element.style[key] = styleAttributes[key];\n",
              "  }\n",
              "  return element;\n",
              "}\n",
              "\n",
              "// Max number of bytes which will be uploaded at a time.\n",
              "const MAX_PAYLOAD_SIZE = 100 * 1024;\n",
              "\n",
              "function _uploadFiles(inputId, outputId) {\n",
              "  const steps = uploadFilesStep(inputId, outputId);\n",
              "  const outputElement = document.getElementById(outputId);\n",
              "  // Cache steps on the outputElement to make it available for the next call\n",
              "  // to uploadFilesContinue from Python.\n",
              "  outputElement.steps = steps;\n",
              "\n",
              "  return _uploadFilesContinue(outputId);\n",
              "}\n",
              "\n",
              "// This is roughly an async generator (not supported in the browser yet),\n",
              "// where there are multiple asynchronous steps and the Python side is going\n",
              "// to poll for completion of each step.\n",
              "// This uses a Promise to block the python side on completion of each step,\n",
              "// then passes the result of the previous step as the input to the next step.\n",
              "function _uploadFilesContinue(outputId) {\n",
              "  const outputElement = document.getElementById(outputId);\n",
              "  const steps = outputElement.steps;\n",
              "\n",
              "  const next = steps.next(outputElement.lastPromiseValue);\n",
              "  return Promise.resolve(next.value.promise).then((value) => {\n",
              "    // Cache the last promise value to make it available to the next\n",
              "    // step of the generator.\n",
              "    outputElement.lastPromiseValue = value;\n",
              "    return next.value.response;\n",
              "  });\n",
              "}\n",
              "\n",
              "/**\n",
              " * Generator function which is called between each async step of the upload\n",
              " * process.\n",
              " * @param {string} inputId Element ID of the input file picker element.\n",
              " * @param {string} outputId Element ID of the output display.\n",
              " * @return {!Iterable<!Object>} Iterable of next steps.\n",
              " */\n",
              "function* uploadFilesStep(inputId, outputId) {\n",
              "  const inputElement = document.getElementById(inputId);\n",
              "  inputElement.disabled = false;\n",
              "\n",
              "  const outputElement = document.getElementById(outputId);\n",
              "  outputElement.innerHTML = '';\n",
              "\n",
              "  const pickedPromise = new Promise((resolve) => {\n",
              "    inputElement.addEventListener('change', (e) => {\n",
              "      resolve(e.target.files);\n",
              "    });\n",
              "  });\n",
              "\n",
              "  const cancel = document.createElement('button');\n",
              "  inputElement.parentElement.appendChild(cancel);\n",
              "  cancel.textContent = 'Cancel upload';\n",
              "  const cancelPromise = new Promise((resolve) => {\n",
              "    cancel.onclick = () => {\n",
              "      resolve(null);\n",
              "    };\n",
              "  });\n",
              "\n",
              "  // Wait for the user to pick the files.\n",
              "  const files = yield {\n",
              "    promise: Promise.race([pickedPromise, cancelPromise]),\n",
              "    response: {\n",
              "      action: 'starting',\n",
              "    }\n",
              "  };\n",
              "\n",
              "  cancel.remove();\n",
              "\n",
              "  // Disable the input element since further picks are not allowed.\n",
              "  inputElement.disabled = true;\n",
              "\n",
              "  if (!files) {\n",
              "    return {\n",
              "      response: {\n",
              "        action: 'complete',\n",
              "      }\n",
              "    };\n",
              "  }\n",
              "\n",
              "  for (const file of files) {\n",
              "    const li = document.createElement('li');\n",
              "    li.append(span(file.name, {fontWeight: 'bold'}));\n",
              "    li.append(span(\n",
              "        `(${file.type || 'n/a'}) - ${file.size} bytes, ` +\n",
              "        `last modified: ${\n",
              "            file.lastModifiedDate ? file.lastModifiedDate.toLocaleDateString() :\n",
              "                                    'n/a'} - `));\n",
              "    const percent = span('0% done');\n",
              "    li.appendChild(percent);\n",
              "\n",
              "    outputElement.appendChild(li);\n",
              "\n",
              "    const fileDataPromise = new Promise((resolve) => {\n",
              "      const reader = new FileReader();\n",
              "      reader.onload = (e) => {\n",
              "        resolve(e.target.result);\n",
              "      };\n",
              "      reader.readAsArrayBuffer(file);\n",
              "    });\n",
              "    // Wait for the data to be ready.\n",
              "    let fileData = yield {\n",
              "      promise: fileDataPromise,\n",
              "      response: {\n",
              "        action: 'continue',\n",
              "      }\n",
              "    };\n",
              "\n",
              "    // Use a chunked sending to avoid message size limits. See b/62115660.\n",
              "    let position = 0;\n",
              "    do {\n",
              "      const length = Math.min(fileData.byteLength - position, MAX_PAYLOAD_SIZE);\n",
              "      const chunk = new Uint8Array(fileData, position, length);\n",
              "      position += length;\n",
              "\n",
              "      const base64 = btoa(String.fromCharCode.apply(null, chunk));\n",
              "      yield {\n",
              "        response: {\n",
              "          action: 'append',\n",
              "          file: file.name,\n",
              "          data: base64,\n",
              "        },\n",
              "      };\n",
              "\n",
              "      let percentDone = fileData.byteLength === 0 ?\n",
              "          100 :\n",
              "          Math.round((position / fileData.byteLength) * 100);\n",
              "      percent.textContent = `${percentDone}% done`;\n",
              "\n",
              "    } while (position < fileData.byteLength);\n",
              "  }\n",
              "\n",
              "  // All done.\n",
              "  yield {\n",
              "    response: {\n",
              "      action: 'complete',\n",
              "    }\n",
              "  };\n",
              "}\n",
              "\n",
              "scope.google = scope.google || {};\n",
              "scope.google.colab = scope.google.colab || {};\n",
              "scope.google.colab._files = {\n",
              "  _uploadFiles,\n",
              "  _uploadFilesContinue,\n",
              "};\n",
              "})(self);\n",
              "</script> "
            ]
          },
          "metadata": {}
        },
        {
          "output_type": "stream",
          "name": "stdout",
          "text": [
            "Saving kaggle.json to kaggle.json\n"
          ]
        },
        {
          "output_type": "execute_result",
          "data": {
            "text/plain": [
              "{'kaggle.json': b'{\"username\":\"rogulina\",\"key\":\"9cec35de6d210241a0575962c48f98fa\"}'}"
            ]
          },
          "metadata": {},
          "execution_count": 1
        }
      ],
      "source": [
        "from google.colab import drive\n",
        "from google.colab import files\n",
        "\n",
        "drive.mount('/content/gdrive')\n",
        "files.upload()"
      ]
    },
    {
      "cell_type": "code",
      "execution_count": null,
      "metadata": {
        "colab": {
          "base_uri": "https://localhost:8080/"
        },
        "id": "UE-_TZSTz22t",
        "outputId": "6a20da88-ccbc-48f6-ab16-38ac01385aab"
      },
      "outputs": [
        {
          "output_type": "stream",
          "name": "stdout",
          "text": [
            "-rw-r--r-- 1 root root 64 Nov 23 13:57 kaggle.json\n",
            "Downloading predict-diabities.zip to /content\n",
            "  0% 0.00/8.91k [00:00<?, ?B/s]\n",
            "100% 8.91k/8.91k [00:00<00:00, 7.89MB/s]\n",
            "Archive:  predict-diabities.zip\n",
            "  inflating: diabetes.csv            \n"
          ]
        }
      ],
      "source": [
        "!ls -lha kaggle.json\n",
        "\n",
        "!pip install -q kaggle\n",
        "\n",
        "!mkdir -p ~/.kaggle\n",
        "!cp kaggle.json ~/.kaggle/\n",
        "\n",
        "!chmod 600 /root/.kaggle/kaggle.json\n",
        "\n",
        "!kaggle datasets download -d whenamancodes/predict-diabities\n",
        "!unzip predict-diabities.zip"
      ]
    },
    {
      "cell_type": "code",
      "execution_count": null,
      "metadata": {
        "id": "ckagSKtsz20G"
      },
      "outputs": [],
      "source": [
        "import warnings\n",
        "warnings.filterwarnings('ignore')"
      ]
    },
    {
      "cell_type": "markdown",
      "metadata": {
        "collapsed": false,
        "id": "N4dUFs6yNoW3"
      },
      "source": [
        "### Импорт всех необходимых библиотек"
      ]
    },
    {
      "cell_type": "code",
      "execution_count": null,
      "metadata": {
        "id": "hoqGWCiINoW4"
      },
      "outputs": [],
      "source": [
        "# Чтобы установить библиотеку `catboost`, раскомментируйте строку ниже\n",
        "\n",
        "# !pip install catboost"
      ]
    },
    {
      "cell_type": "code",
      "execution_count": null,
      "metadata": {
        "id": "bQHAceuHNoW4"
      },
      "outputs": [],
      "source": [
        "import numpy as np\n",
        "import pandas as pd\n",
        "from tqdm import tqdm\n",
        "from sklearn.model_selection import (\n",
        "    train_test_split,\n",
        "    GridSearchCV,\n",
        ")\n",
        "from sklearn.metrics import (\n",
        "    f1_score, average_precision_score, # метрики для задачи классификации\n",
        "    mean_squared_error, mean_absolute_error, r2_score, # метрики для задачи регрессии\n",
        ")\n",
        "from sklearn.preprocessing import OrdinalEncoder\n",
        "\n",
        "# Модели, которые будем рассматривать\n",
        "from sklearn.ensemble import (\n",
        "    RandomForestClassifier,\n",
        "    RandomForestRegressor,\n",
        ")\n",
        "from xgboost import (\n",
        "    XGBClassifier,\n",
        "    XGBRegressor,\n",
        ")\n",
        "from lightgbm import (\n",
        "    LGBMClassifier,\n",
        "    LGBMRegressor,\n",
        ")\n",
        "from catboost import (\n",
        "    CatBoostClassifier,\n",
        "    CatBoostRegressor,\n",
        ")"
      ]
    },
    {
      "cell_type": "code",
      "execution_count": null,
      "metadata": {
        "id": "4FzHz0RANoW4"
      },
      "outputs": [],
      "source": [
        "# Установим размеры шрифтов для графиков\n",
        "import seaborn as sns\n",
        "import matplotlib.pyplot as plt\n",
        "\n",
        "plt.rc('font', size=16)          # размеры текста по умолчанию\n",
        "plt.rc('axes', titlesize=20)     # размер шрифта заголовка осей\n",
        "plt.rc('axes', labelsize=18)     # размер шрифта названия осей\n",
        "plt.rc('xtick', labelsize=18)    # размер шрифта меток по оси x\n",
        "plt.rc('ytick', labelsize=18)    # размер шрифта меток по оси y\n",
        "plt.rc('legend', fontsize=16)    # размер шрифта легенды\n",
        "plt.rc('figure', titlesize=20)   # размер шрифта заголовка всего графика"
      ]
    },
    {
      "cell_type": "markdown",
      "metadata": {
        "id": "FYV4BRHt0o5b"
      },
      "source": [
        "### Чтение, анализ и предобработка данных"
      ]
    },
    {
      "cell_type": "code",
      "execution_count": null,
      "metadata": {
        "colab": {
          "base_uri": "https://localhost:8080/",
          "height": 224
        },
        "id": "uQmu5K1Mz2xx",
        "outputId": "b6c44af8-1389-4567-b22b-fbd21587fc26"
      },
      "outputs": [
        {
          "output_type": "stream",
          "name": "stdout",
          "text": [
            "(768, 9)\n"
          ]
        },
        {
          "output_type": "execute_result",
          "data": {
            "text/plain": [
              "   Pregnancies  Glucose  BloodPressure  SkinThickness  Insulin   BMI  \\\n",
              "0            6      148             72             35        0  33.6   \n",
              "1            1       85             66             29        0  26.6   \n",
              "2            8      183             64              0        0  23.3   \n",
              "3            1       89             66             23       94  28.1   \n",
              "4            0      137             40             35      168  43.1   \n",
              "\n",
              "   DiabetesPedigreeFunction  Age  Outcome  \n",
              "0                     0.627   50        1  \n",
              "1                     0.351   31        0  \n",
              "2                     0.672   32        1  \n",
              "3                     0.167   21        0  \n",
              "4                     2.288   33        1  "
            ],
            "text/html": [
              "\n",
              "  <div id=\"df-96d6d0d8-1286-4bf6-888c-e43241deae5a\">\n",
              "    <div class=\"colab-df-container\">\n",
              "      <div>\n",
              "<style scoped>\n",
              "    .dataframe tbody tr th:only-of-type {\n",
              "        vertical-align: middle;\n",
              "    }\n",
              "\n",
              "    .dataframe tbody tr th {\n",
              "        vertical-align: top;\n",
              "    }\n",
              "\n",
              "    .dataframe thead th {\n",
              "        text-align: right;\n",
              "    }\n",
              "</style>\n",
              "<table border=\"1\" class=\"dataframe\">\n",
              "  <thead>\n",
              "    <tr style=\"text-align: right;\">\n",
              "      <th></th>\n",
              "      <th>Pregnancies</th>\n",
              "      <th>Glucose</th>\n",
              "      <th>BloodPressure</th>\n",
              "      <th>SkinThickness</th>\n",
              "      <th>Insulin</th>\n",
              "      <th>BMI</th>\n",
              "      <th>DiabetesPedigreeFunction</th>\n",
              "      <th>Age</th>\n",
              "      <th>Outcome</th>\n",
              "    </tr>\n",
              "  </thead>\n",
              "  <tbody>\n",
              "    <tr>\n",
              "      <th>0</th>\n",
              "      <td>6</td>\n",
              "      <td>148</td>\n",
              "      <td>72</td>\n",
              "      <td>35</td>\n",
              "      <td>0</td>\n",
              "      <td>33.6</td>\n",
              "      <td>0.627</td>\n",
              "      <td>50</td>\n",
              "      <td>1</td>\n",
              "    </tr>\n",
              "    <tr>\n",
              "      <th>1</th>\n",
              "      <td>1</td>\n",
              "      <td>85</td>\n",
              "      <td>66</td>\n",
              "      <td>29</td>\n",
              "      <td>0</td>\n",
              "      <td>26.6</td>\n",
              "      <td>0.351</td>\n",
              "      <td>31</td>\n",
              "      <td>0</td>\n",
              "    </tr>\n",
              "    <tr>\n",
              "      <th>2</th>\n",
              "      <td>8</td>\n",
              "      <td>183</td>\n",
              "      <td>64</td>\n",
              "      <td>0</td>\n",
              "      <td>0</td>\n",
              "      <td>23.3</td>\n",
              "      <td>0.672</td>\n",
              "      <td>32</td>\n",
              "      <td>1</td>\n",
              "    </tr>\n",
              "    <tr>\n",
              "      <th>3</th>\n",
              "      <td>1</td>\n",
              "      <td>89</td>\n",
              "      <td>66</td>\n",
              "      <td>23</td>\n",
              "      <td>94</td>\n",
              "      <td>28.1</td>\n",
              "      <td>0.167</td>\n",
              "      <td>21</td>\n",
              "      <td>0</td>\n",
              "    </tr>\n",
              "    <tr>\n",
              "      <th>4</th>\n",
              "      <td>0</td>\n",
              "      <td>137</td>\n",
              "      <td>40</td>\n",
              "      <td>35</td>\n",
              "      <td>168</td>\n",
              "      <td>43.1</td>\n",
              "      <td>2.288</td>\n",
              "      <td>33</td>\n",
              "      <td>1</td>\n",
              "    </tr>\n",
              "  </tbody>\n",
              "</table>\n",
              "</div>\n",
              "      <button class=\"colab-df-convert\" onclick=\"convertToInteractive('df-96d6d0d8-1286-4bf6-888c-e43241deae5a')\"\n",
              "              title=\"Convert this dataframe to an interactive table.\"\n",
              "              style=\"display:none;\">\n",
              "        \n",
              "  <svg xmlns=\"http://www.w3.org/2000/svg\" height=\"24px\"viewBox=\"0 0 24 24\"\n",
              "       width=\"24px\">\n",
              "    <path d=\"M0 0h24v24H0V0z\" fill=\"none\"/>\n",
              "    <path d=\"M18.56 5.44l.94 2.06.94-2.06 2.06-.94-2.06-.94-.94-2.06-.94 2.06-2.06.94zm-11 1L8.5 8.5l.94-2.06 2.06-.94-2.06-.94L8.5 2.5l-.94 2.06-2.06.94zm10 10l.94 2.06.94-2.06 2.06-.94-2.06-.94-.94-2.06-.94 2.06-2.06.94z\"/><path d=\"M17.41 7.96l-1.37-1.37c-.4-.4-.92-.59-1.43-.59-.52 0-1.04.2-1.43.59L10.3 9.45l-7.72 7.72c-.78.78-.78 2.05 0 2.83L4 21.41c.39.39.9.59 1.41.59.51 0 1.02-.2 1.41-.59l7.78-7.78 2.81-2.81c.8-.78.8-2.07 0-2.86zM5.41 20L4 18.59l7.72-7.72 1.47 1.35L5.41 20z\"/>\n",
              "  </svg>\n",
              "      </button>\n",
              "      \n",
              "  <style>\n",
              "    .colab-df-container {\n",
              "      display:flex;\n",
              "      flex-wrap:wrap;\n",
              "      gap: 12px;\n",
              "    }\n",
              "\n",
              "    .colab-df-convert {\n",
              "      background-color: #E8F0FE;\n",
              "      border: none;\n",
              "      border-radius: 50%;\n",
              "      cursor: pointer;\n",
              "      display: none;\n",
              "      fill: #1967D2;\n",
              "      height: 32px;\n",
              "      padding: 0 0 0 0;\n",
              "      width: 32px;\n",
              "    }\n",
              "\n",
              "    .colab-df-convert:hover {\n",
              "      background-color: #E2EBFA;\n",
              "      box-shadow: 0px 1px 2px rgba(60, 64, 67, 0.3), 0px 1px 3px 1px rgba(60, 64, 67, 0.15);\n",
              "      fill: #174EA6;\n",
              "    }\n",
              "\n",
              "    [theme=dark] .colab-df-convert {\n",
              "      background-color: #3B4455;\n",
              "      fill: #D2E3FC;\n",
              "    }\n",
              "\n",
              "    [theme=dark] .colab-df-convert:hover {\n",
              "      background-color: #434B5C;\n",
              "      box-shadow: 0px 1px 3px 1px rgba(0, 0, 0, 0.15);\n",
              "      filter: drop-shadow(0px 1px 2px rgba(0, 0, 0, 0.3));\n",
              "      fill: #FFFFFF;\n",
              "    }\n",
              "  </style>\n",
              "\n",
              "      <script>\n",
              "        const buttonEl =\n",
              "          document.querySelector('#df-96d6d0d8-1286-4bf6-888c-e43241deae5a button.colab-df-convert');\n",
              "        buttonEl.style.display =\n",
              "          google.colab.kernel.accessAllowed ? 'block' : 'none';\n",
              "\n",
              "        async function convertToInteractive(key) {\n",
              "          const element = document.querySelector('#df-96d6d0d8-1286-4bf6-888c-e43241deae5a');\n",
              "          const dataTable =\n",
              "            await google.colab.kernel.invokeFunction('convertToInteractive',\n",
              "                                                     [key], {});\n",
              "          if (!dataTable) return;\n",
              "\n",
              "          const docLinkHtml = 'Like what you see? Visit the ' +\n",
              "            '<a target=\"_blank\" href=https://colab.research.google.com/notebooks/data_table.ipynb>data table notebook</a>'\n",
              "            + ' to learn more about interactive tables.';\n",
              "          element.innerHTML = '';\n",
              "          dataTable['output_type'] = 'display_data';\n",
              "          await google.colab.output.renderOutput(dataTable, element);\n",
              "          const docLink = document.createElement('div');\n",
              "          docLink.innerHTML = docLinkHtml;\n",
              "          element.appendChild(docLink);\n",
              "        }\n",
              "      </script>\n",
              "    </div>\n",
              "  </div>\n",
              "  "
            ]
          },
          "metadata": {},
          "execution_count": 7
        }
      ],
      "source": [
        "df = pd.read_csv(\"diabetes.csv\")\n",
        "print(df.shape)\n",
        "df.head()"
      ]
    },
    {
      "cell_type": "code",
      "execution_count": null,
      "metadata": {
        "colab": {
          "base_uri": "https://localhost:8080/",
          "height": 206
        },
        "id": "qIsW7-kYz2vE",
        "outputId": "d68a3ad7-28cf-46d1-ec7e-83cfc9494488"
      },
      "outputs": [
        {
          "output_type": "execute_result",
          "data": {
            "text/plain": [
              "   Pregnancies  Glucose  BloodPressure  SkinThickness  Insulin   BMI  \\\n",
              "0            6      148             72             35        0  33.6   \n",
              "1            1       85             66             29        0  26.6   \n",
              "2            8      183             64              0        0  23.3   \n",
              "3            1       89             66             23       94  28.1   \n",
              "4            0      137             40             35      168  43.1   \n",
              "\n",
              "   DiabetesPedigreeFunction  Age  \n",
              "0                     0.627   50  \n",
              "1                     0.351   31  \n",
              "2                     0.672   32  \n",
              "3                     0.167   21  \n",
              "4                     2.288   33  "
            ],
            "text/html": [
              "\n",
              "  <div id=\"df-fa7b3fa4-6c28-4c0f-986b-e2bafe38a487\">\n",
              "    <div class=\"colab-df-container\">\n",
              "      <div>\n",
              "<style scoped>\n",
              "    .dataframe tbody tr th:only-of-type {\n",
              "        vertical-align: middle;\n",
              "    }\n",
              "\n",
              "    .dataframe tbody tr th {\n",
              "        vertical-align: top;\n",
              "    }\n",
              "\n",
              "    .dataframe thead th {\n",
              "        text-align: right;\n",
              "    }\n",
              "</style>\n",
              "<table border=\"1\" class=\"dataframe\">\n",
              "  <thead>\n",
              "    <tr style=\"text-align: right;\">\n",
              "      <th></th>\n",
              "      <th>Pregnancies</th>\n",
              "      <th>Glucose</th>\n",
              "      <th>BloodPressure</th>\n",
              "      <th>SkinThickness</th>\n",
              "      <th>Insulin</th>\n",
              "      <th>BMI</th>\n",
              "      <th>DiabetesPedigreeFunction</th>\n",
              "      <th>Age</th>\n",
              "    </tr>\n",
              "  </thead>\n",
              "  <tbody>\n",
              "    <tr>\n",
              "      <th>0</th>\n",
              "      <td>6</td>\n",
              "      <td>148</td>\n",
              "      <td>72</td>\n",
              "      <td>35</td>\n",
              "      <td>0</td>\n",
              "      <td>33.6</td>\n",
              "      <td>0.627</td>\n",
              "      <td>50</td>\n",
              "    </tr>\n",
              "    <tr>\n",
              "      <th>1</th>\n",
              "      <td>1</td>\n",
              "      <td>85</td>\n",
              "      <td>66</td>\n",
              "      <td>29</td>\n",
              "      <td>0</td>\n",
              "      <td>26.6</td>\n",
              "      <td>0.351</td>\n",
              "      <td>31</td>\n",
              "    </tr>\n",
              "    <tr>\n",
              "      <th>2</th>\n",
              "      <td>8</td>\n",
              "      <td>183</td>\n",
              "      <td>64</td>\n",
              "      <td>0</td>\n",
              "      <td>0</td>\n",
              "      <td>23.3</td>\n",
              "      <td>0.672</td>\n",
              "      <td>32</td>\n",
              "    </tr>\n",
              "    <tr>\n",
              "      <th>3</th>\n",
              "      <td>1</td>\n",
              "      <td>89</td>\n",
              "      <td>66</td>\n",
              "      <td>23</td>\n",
              "      <td>94</td>\n",
              "      <td>28.1</td>\n",
              "      <td>0.167</td>\n",
              "      <td>21</td>\n",
              "    </tr>\n",
              "    <tr>\n",
              "      <th>4</th>\n",
              "      <td>0</td>\n",
              "      <td>137</td>\n",
              "      <td>40</td>\n",
              "      <td>35</td>\n",
              "      <td>168</td>\n",
              "      <td>43.1</td>\n",
              "      <td>2.288</td>\n",
              "      <td>33</td>\n",
              "    </tr>\n",
              "  </tbody>\n",
              "</table>\n",
              "</div>\n",
              "      <button class=\"colab-df-convert\" onclick=\"convertToInteractive('df-fa7b3fa4-6c28-4c0f-986b-e2bafe38a487')\"\n",
              "              title=\"Convert this dataframe to an interactive table.\"\n",
              "              style=\"display:none;\">\n",
              "        \n",
              "  <svg xmlns=\"http://www.w3.org/2000/svg\" height=\"24px\"viewBox=\"0 0 24 24\"\n",
              "       width=\"24px\">\n",
              "    <path d=\"M0 0h24v24H0V0z\" fill=\"none\"/>\n",
              "    <path d=\"M18.56 5.44l.94 2.06.94-2.06 2.06-.94-2.06-.94-.94-2.06-.94 2.06-2.06.94zm-11 1L8.5 8.5l.94-2.06 2.06-.94-2.06-.94L8.5 2.5l-.94 2.06-2.06.94zm10 10l.94 2.06.94-2.06 2.06-.94-2.06-.94-.94-2.06-.94 2.06-2.06.94z\"/><path d=\"M17.41 7.96l-1.37-1.37c-.4-.4-.92-.59-1.43-.59-.52 0-1.04.2-1.43.59L10.3 9.45l-7.72 7.72c-.78.78-.78 2.05 0 2.83L4 21.41c.39.39.9.59 1.41.59.51 0 1.02-.2 1.41-.59l7.78-7.78 2.81-2.81c.8-.78.8-2.07 0-2.86zM5.41 20L4 18.59l7.72-7.72 1.47 1.35L5.41 20z\"/>\n",
              "  </svg>\n",
              "      </button>\n",
              "      \n",
              "  <style>\n",
              "    .colab-df-container {\n",
              "      display:flex;\n",
              "      flex-wrap:wrap;\n",
              "      gap: 12px;\n",
              "    }\n",
              "\n",
              "    .colab-df-convert {\n",
              "      background-color: #E8F0FE;\n",
              "      border: none;\n",
              "      border-radius: 50%;\n",
              "      cursor: pointer;\n",
              "      display: none;\n",
              "      fill: #1967D2;\n",
              "      height: 32px;\n",
              "      padding: 0 0 0 0;\n",
              "      width: 32px;\n",
              "    }\n",
              "\n",
              "    .colab-df-convert:hover {\n",
              "      background-color: #E2EBFA;\n",
              "      box-shadow: 0px 1px 2px rgba(60, 64, 67, 0.3), 0px 1px 3px 1px rgba(60, 64, 67, 0.15);\n",
              "      fill: #174EA6;\n",
              "    }\n",
              "\n",
              "    [theme=dark] .colab-df-convert {\n",
              "      background-color: #3B4455;\n",
              "      fill: #D2E3FC;\n",
              "    }\n",
              "\n",
              "    [theme=dark] .colab-df-convert:hover {\n",
              "      background-color: #434B5C;\n",
              "      box-shadow: 0px 1px 3px 1px rgba(0, 0, 0, 0.15);\n",
              "      filter: drop-shadow(0px 1px 2px rgba(0, 0, 0, 0.3));\n",
              "      fill: #FFFFFF;\n",
              "    }\n",
              "  </style>\n",
              "\n",
              "      <script>\n",
              "        const buttonEl =\n",
              "          document.querySelector('#df-fa7b3fa4-6c28-4c0f-986b-e2bafe38a487 button.colab-df-convert');\n",
              "        buttonEl.style.display =\n",
              "          google.colab.kernel.accessAllowed ? 'block' : 'none';\n",
              "\n",
              "        async function convertToInteractive(key) {\n",
              "          const element = document.querySelector('#df-fa7b3fa4-6c28-4c0f-986b-e2bafe38a487');\n",
              "          const dataTable =\n",
              "            await google.colab.kernel.invokeFunction('convertToInteractive',\n",
              "                                                     [key], {});\n",
              "          if (!dataTable) return;\n",
              "\n",
              "          const docLinkHtml = 'Like what you see? Visit the ' +\n",
              "            '<a target=\"_blank\" href=https://colab.research.google.com/notebooks/data_table.ipynb>data table notebook</a>'\n",
              "            + ' to learn more about interactive tables.';\n",
              "          element.innerHTML = '';\n",
              "          dataTable['output_type'] = 'display_data';\n",
              "          await google.colab.output.renderOutput(dataTable, element);\n",
              "          const docLink = document.createElement('div');\n",
              "          docLink.innerHTML = docLinkHtml;\n",
              "          element.appendChild(docLink);\n",
              "        }\n",
              "      </script>\n",
              "    </div>\n",
              "  </div>\n",
              "  "
            ]
          },
          "metadata": {},
          "execution_count": 8
        }
      ],
      "source": [
        "target = df[\"Outcome\"]\n",
        "\n",
        "df = df.drop(\"Outcome\", axis=1)\n",
        "df.head()"
      ]
    },
    {
      "cell_type": "markdown",
      "metadata": {
        "id": "fz5UQnkZ5aDJ"
      },
      "source": [
        "Кажется, что все колонки численные. Проверим это:"
      ]
    },
    {
      "cell_type": "code",
      "execution_count": null,
      "metadata": {
        "colab": {
          "base_uri": "https://localhost:8080/"
        },
        "id": "u0BGAZg6z2rk",
        "outputId": "cece6e94-d791-484f-b81c-b91caf31ef23"
      },
      "outputs": [
        {
          "output_type": "execute_result",
          "data": {
            "text/plain": [
              "True"
            ]
          },
          "metadata": {},
          "execution_count": 9
        }
      ],
      "source": [
        "numerical_cols = df.select_dtypes(exclude=[\"object\"]).columns.tolist()\n",
        "len(numerical_cols) == df.shape[1]"
      ]
    },
    {
      "cell_type": "markdown",
      "metadata": {
        "id": "3zo_QF2RJv2c"
      },
      "source": [
        "### Деление выборки на обучающую и тестовую"
      ]
    },
    {
      "cell_type": "code",
      "execution_count": null,
      "metadata": {
        "id": "WS-MTTExz2l-"
      },
      "outputs": [],
      "source": [
        "X_train, X_test, y_train, y_test = train_test_split(\n",
        "    df,\n",
        "    target,\n",
        "    test_size=0.33,\n",
        "    random_state=42,\n",
        "    stratify=target, # поделим выборку таким образом, чтобы и в обучающей, и в тестовой выборке было такое же соотношение классов, как и в исходных данных\n",
        ")"
      ]
    },
    {
      "cell_type": "code",
      "execution_count": null,
      "metadata": {
        "colab": {
          "base_uri": "https://localhost:8080/"
        },
        "id": "uLWtwIqANF98",
        "outputId": "a706c973-b252-473b-93b4-65b371fb56bc"
      },
      "outputs": [
        {
          "output_type": "stream",
          "name": "stdout",
          "text": [
            "\n",
            "    Соотношение классов в исходной выборке:  {0: 500, 1: 268}\t(класс 1 / класс 0 = 0.54)\n",
            "    Соотношение классов в обучающей выборке: {0: 335, 1: 179}\t(класс 1 / класс 0 = 0.53)\n",
            "    Соотношение классов в тестовой выборке:  {0: 165, 1: 89}\t(класс 1 / класс 0 = 0.54)\n",
            "    \n"
          ]
        }
      ],
      "source": [
        "# Посмотрим на баланс классов\n",
        "\n",
        "val_count_init = pd.Series(target).value_counts().to_dict()\n",
        "val_count_train = y_train.value_counts().to_dict()\n",
        "val_count_test = y_test.value_counts().to_dict()\n",
        "\n",
        "get_relation = lambda x: round(x[1] / x[0], 2)\n",
        "\n",
        "print(\n",
        "    \"\"\"\n",
        "    Соотношение классов в исходной выборке:  {}\\t(класс 1 / класс 0 = {})\n",
        "    Соотношение классов в обучающей выборке: {}\\t(класс 1 / класс 0 = {})\n",
        "    Соотношение классов в тестовой выборке:  {}\\t(класс 1 / класс 0 = {})\n",
        "    \"\"\".format(\n",
        "        val_count_init, get_relation(val_count_init),\n",
        "        val_count_train, get_relation(val_count_train),\n",
        "        val_count_test, get_relation(val_count_test),\n",
        "    )\n",
        ")"
      ]
    },
    {
      "cell_type": "markdown",
      "metadata": {
        "id": "xxzpqcN6J4qC"
      },
      "source": [
        "Будем проводить подбор гиперпараметров для каждой модели с помощью функции из ячейки ниже:"
      ]
    },
    {
      "cell_type": "code",
      "execution_count": null,
      "metadata": {
        "id": "88oqDPGyNF6d"
      },
      "outputs": [],
      "source": [
        "def gridsearch(X_train, y_train, model, params, scoring, cv):\n",
        "  \"\"\"Перебор всевозможных гиперпараметров.\n",
        "\n",
        "  :param X_train: объекты обучающей выборки\n",
        "  :param y_train: значения целевой переменной обучающей выборки\n",
        "  :param model: модель, для которой производится подбор гиперпараметров\n",
        "  :param params: словарь с названиями гиперпараметрамов и всеми наборами значений\n",
        "  :param scoring: функция, которая будет минимизироваться в ходе кросс-валидации (можно передать список метрик)\n",
        "  :param cv: количество частей, на которые будет поделена выборка\n",
        "\n",
        "  :return: наилучшие гиперпараметры\n",
        "  \"\"\"\n",
        "  searcher = GridSearchCV(\n",
        "      estimator=model,\n",
        "      param_grid=params,\n",
        "      scoring=scoring,\n",
        "      cv=cv,\n",
        "      verbose=0, # чтобы выводилось что-то в процессе подбора параметров, необходимо выставить какое-то значение > 0\n",
        "  )\n",
        "  searcher.fit(X_train, y_train)\n",
        "  best_params = searcher.best_params_\n",
        "\n",
        "  # print(\"Best hyperparameters:\", best_params)\n",
        "  return best_params"
      ]
    },
    {
      "cell_type": "markdown",
      "metadata": {
        "id": "n96Vuz8hK52J"
      },
      "source": [
        "Для обучения и тестирования модели будем использовать функцию ниже:"
      ]
    },
    {
      "cell_type": "code",
      "execution_count": null,
      "metadata": {
        "id": "85Pi6XTjNF3x"
      },
      "outputs": [],
      "source": [
        "def model_train_test(X_train, y_train, X_test, y_test, model, model_type):\n",
        "    \"\"\"Обучение и тестирование модели на обучающей и тестовой выборке соответственно.\n",
        "\n",
        "    :param X_train: объекты обучающей выборки\n",
        "    :param y_train: значения целевой переменной обучающей выборки\n",
        "    :param X_test: объекты тестовой выборки\n",
        "    :param y_test: значения целевой переменной тестовой выборки\n",
        "    :param model: модель, которая обучается и тестируется\n",
        "    :param model_type: тип модели: 'classification' или 'regression'\n",
        "    :return: предсказания и метрики\n",
        "    \"\"\"\n",
        "    model.fit(X_train, y_train)\n",
        "    pred = model.predict(X_test)\n",
        "\n",
        "    if model_type == \"regression\":\n",
        "        mse = mean_squared_error(y_test, pred)\n",
        "        mae = mean_absolute_error(y_test, pred)\n",
        "        r2 = r2_score(y_test, pred)\n",
        "        print(\"MSE = {}; MAE = {}; R2 = {}\".format(round(mse, 3), round(mae, 3),round(r2, 3)))\n",
        "        return pred, (mse, mae, r2)\n",
        "    elif model_type == \"classification\":\n",
        "        f1 = f1_score(y_test, pred)\n",
        "        proba = model.predict_proba(X_test)[:, 1]\n",
        "        pr_auc = average_precision_score(y_test, proba)\n",
        "        print(\"F1 = {}; PR AUC = {}\".format(round(f1, 3), round(pr_auc, 3)))\n",
        "        return (pred, proba), (f1, pr_auc)\n",
        "    else:\n",
        "        raise Exception(\"Тип модели model_type должен быть 'classification' или 'regression'.\")"
      ]
    },
    {
      "cell_type": "code",
      "execution_count": null,
      "metadata": {
        "id": "oQUhA9NnRbxY"
      },
      "outputs": [],
      "source": [
        "def find_and_train_test_best_params(\n",
        "    X_train, y_train,\n",
        "    params, scoring, cv,\n",
        "    X_test, y_test,\n",
        "    model, model_type\n",
        "):\n",
        "    \"\"\"Подбор гиперпараметров и обучение и тестирование модели с наилучшими гиперпараметрами.\n",
        "\n",
        "    :param X_train: обучающая выборка (без целевой переменной)\n",
        "    :param y_train: целевая переменная обучающей выборки\n",
        "    :param params: параметры, которые будут перебираться\n",
        "    :param scoring: метрика, по которой будут подбираться гиперпараметры (можно передать список метрик)\n",
        "    :param cv: кол-во секций, на которое будет делиться выборка для перекрестной проверки\n",
        "    :param X_test: тестовая выборка (без целевой переменной)\n",
        "    :param y_test: целевая переменная тестовой выборки\n",
        "    :param model: модель\n",
        "    :param model_type: тип модели: 'classification' или 'regression'\n",
        "    :return: наилучшие подобранные гиперпараметры, предсказания и метрики\n",
        "    \"\"\"\n",
        "    print(str(model))\n",
        "    best_params = gridsearch(X_train, y_train, model(), params, scoring, cv)\n",
        "    print(\"Best hyperparameters:\", best_params)\n",
        "    preds, metrics = model_train_test(X_train, y_train, X_test, y_test, model(**best_params), model_type)\n",
        "    return best_params, preds, metrics"
      ]
    },
    {
      "cell_type": "markdown",
      "metadata": {
        "id": "7526jr3VNXF5"
      },
      "source": [
        "### Сравнение моделей"
      ]
    },
    {
      "cell_type": "markdown",
      "metadata": {
        "collapsed": false,
        "id": "aOUhAcjHNoW9"
      },
      "source": [
        "Зафиксируем параметры, которые не будут меняться."
      ]
    },
    {
      "cell_type": "code",
      "execution_count": null,
      "metadata": {
        "id": "ccldGTJZNoW9"
      },
      "outputs": [],
      "source": [
        "CONFIG_DATA = {\n",
        "    \"X_train\": X_train,\n",
        "    \"y_train\": y_train,\n",
        "    \"X_test\": X_test,\n",
        "    \"y_test\": y_test,\n",
        "}"
      ]
    },
    {
      "cell_type": "code",
      "execution_count": null,
      "metadata": {
        "colab": {
          "base_uri": "https://localhost:8080/"
        },
        "id": "PwYHkNqZNFyS",
        "outputId": "ec84feb7-1515-450d-b3bb-f35de5225486"
      },
      "outputs": [
        {
          "output_type": "stream",
          "name": "stdout",
          "text": [
            "Результаты моделей с гиперпараметрами по умолчанию\n",
            "\n",
            "RandomForest\n",
            "F1 = 0.627; PR AUC = 0.712\n",
            "----------------------------------------------------------------------------------------------------\n",
            "XGBoost\n",
            "F1 = 0.617; PR AUC = 0.697\n",
            "----------------------------------------------------------------------------------------------------\n",
            "LightGBM\n",
            "F1 = 0.602; PR AUC = 0.659\n",
            "----------------------------------------------------------------------------------------------------\n",
            "CatBoost\n",
            "F1 = 0.609; PR AUC = 0.702\n",
            "----------------------------------------------------------------------------------------------------\n"
          ]
        }
      ],
      "source": [
        "ans_cl = dict()\n",
        "print(\"Результаты моделей с гиперпараметрами по умолчанию\\n\")\n",
        "for model_name, model in zip(\n",
        "    [\"RandomForest\", \"XGBoost\", \"LightGBM\", \"CatBoost\"],\n",
        "    [RandomForestClassifier(), XGBClassifier(), LGBMClassifier(), CatBoostClassifier(verbose=0)]\n",
        "):\n",
        "    print(model_name)\n",
        "    preds, metrics = model_train_test(model=model, model_type=\"classification\", **CONFIG_DATA)\n",
        "    ans_cl[model_name] = (preds, metrics)\n",
        "    print(\"-\"*100)"
      ]
    },
    {
      "cell_type": "code",
      "execution_count": null,
      "metadata": {
        "colab": {
          "base_uri": "https://localhost:8080/",
          "height": 175
        },
        "id": "4IEYBJEbNoW9",
        "outputId": "f92233f6-fffd-4430-9452-16ad6e8a4fd6"
      },
      "outputs": [
        {
          "output_type": "execute_result",
          "data": {
            "text/plain": [
              "                    F1    PR AUC\n",
              "RandomForest  0.626506  0.712010\n",
              "XGBoost       0.617284  0.697381\n",
              "CatBoost      0.608696  0.702441\n",
              "LightGBM      0.602410  0.659066"
            ],
            "text/html": [
              "\n",
              "  <div id=\"df-a1cf8df5-ce04-4d53-885a-06530c60ce2f\">\n",
              "    <div class=\"colab-df-container\">\n",
              "      <div>\n",
              "<style scoped>\n",
              "    .dataframe tbody tr th:only-of-type {\n",
              "        vertical-align: middle;\n",
              "    }\n",
              "\n",
              "    .dataframe tbody tr th {\n",
              "        vertical-align: top;\n",
              "    }\n",
              "\n",
              "    .dataframe thead th {\n",
              "        text-align: right;\n",
              "    }\n",
              "</style>\n",
              "<table border=\"1\" class=\"dataframe\">\n",
              "  <thead>\n",
              "    <tr style=\"text-align: right;\">\n",
              "      <th></th>\n",
              "      <th>F1</th>\n",
              "      <th>PR AUC</th>\n",
              "    </tr>\n",
              "  </thead>\n",
              "  <tbody>\n",
              "    <tr>\n",
              "      <th>RandomForest</th>\n",
              "      <td>0.626506</td>\n",
              "      <td>0.712010</td>\n",
              "    </tr>\n",
              "    <tr>\n",
              "      <th>XGBoost</th>\n",
              "      <td>0.617284</td>\n",
              "      <td>0.697381</td>\n",
              "    </tr>\n",
              "    <tr>\n",
              "      <th>CatBoost</th>\n",
              "      <td>0.608696</td>\n",
              "      <td>0.702441</td>\n",
              "    </tr>\n",
              "    <tr>\n",
              "      <th>LightGBM</th>\n",
              "      <td>0.602410</td>\n",
              "      <td>0.659066</td>\n",
              "    </tr>\n",
              "  </tbody>\n",
              "</table>\n",
              "</div>\n",
              "      <button class=\"colab-df-convert\" onclick=\"convertToInteractive('df-a1cf8df5-ce04-4d53-885a-06530c60ce2f')\"\n",
              "              title=\"Convert this dataframe to an interactive table.\"\n",
              "              style=\"display:none;\">\n",
              "        \n",
              "  <svg xmlns=\"http://www.w3.org/2000/svg\" height=\"24px\"viewBox=\"0 0 24 24\"\n",
              "       width=\"24px\">\n",
              "    <path d=\"M0 0h24v24H0V0z\" fill=\"none\"/>\n",
              "    <path d=\"M18.56 5.44l.94 2.06.94-2.06 2.06-.94-2.06-.94-.94-2.06-.94 2.06-2.06.94zm-11 1L8.5 8.5l.94-2.06 2.06-.94-2.06-.94L8.5 2.5l-.94 2.06-2.06.94zm10 10l.94 2.06.94-2.06 2.06-.94-2.06-.94-.94-2.06-.94 2.06-2.06.94z\"/><path d=\"M17.41 7.96l-1.37-1.37c-.4-.4-.92-.59-1.43-.59-.52 0-1.04.2-1.43.59L10.3 9.45l-7.72 7.72c-.78.78-.78 2.05 0 2.83L4 21.41c.39.39.9.59 1.41.59.51 0 1.02-.2 1.41-.59l7.78-7.78 2.81-2.81c.8-.78.8-2.07 0-2.86zM5.41 20L4 18.59l7.72-7.72 1.47 1.35L5.41 20z\"/>\n",
              "  </svg>\n",
              "      </button>\n",
              "      \n",
              "  <style>\n",
              "    .colab-df-container {\n",
              "      display:flex;\n",
              "      flex-wrap:wrap;\n",
              "      gap: 12px;\n",
              "    }\n",
              "\n",
              "    .colab-df-convert {\n",
              "      background-color: #E8F0FE;\n",
              "      border: none;\n",
              "      border-radius: 50%;\n",
              "      cursor: pointer;\n",
              "      display: none;\n",
              "      fill: #1967D2;\n",
              "      height: 32px;\n",
              "      padding: 0 0 0 0;\n",
              "      width: 32px;\n",
              "    }\n",
              "\n",
              "    .colab-df-convert:hover {\n",
              "      background-color: #E2EBFA;\n",
              "      box-shadow: 0px 1px 2px rgba(60, 64, 67, 0.3), 0px 1px 3px 1px rgba(60, 64, 67, 0.15);\n",
              "      fill: #174EA6;\n",
              "    }\n",
              "\n",
              "    [theme=dark] .colab-df-convert {\n",
              "      background-color: #3B4455;\n",
              "      fill: #D2E3FC;\n",
              "    }\n",
              "\n",
              "    [theme=dark] .colab-df-convert:hover {\n",
              "      background-color: #434B5C;\n",
              "      box-shadow: 0px 1px 3px 1px rgba(0, 0, 0, 0.15);\n",
              "      filter: drop-shadow(0px 1px 2px rgba(0, 0, 0, 0.3));\n",
              "      fill: #FFFFFF;\n",
              "    }\n",
              "  </style>\n",
              "\n",
              "      <script>\n",
              "        const buttonEl =\n",
              "          document.querySelector('#df-a1cf8df5-ce04-4d53-885a-06530c60ce2f button.colab-df-convert');\n",
              "        buttonEl.style.display =\n",
              "          google.colab.kernel.accessAllowed ? 'block' : 'none';\n",
              "\n",
              "        async function convertToInteractive(key) {\n",
              "          const element = document.querySelector('#df-a1cf8df5-ce04-4d53-885a-06530c60ce2f');\n",
              "          const dataTable =\n",
              "            await google.colab.kernel.invokeFunction('convertToInteractive',\n",
              "                                                     [key], {});\n",
              "          if (!dataTable) return;\n",
              "\n",
              "          const docLinkHtml = 'Like what you see? Visit the ' +\n",
              "            '<a target=\"_blank\" href=https://colab.research.google.com/notebooks/data_table.ipynb>data table notebook</a>'\n",
              "            + ' to learn more about interactive tables.';\n",
              "          element.innerHTML = '';\n",
              "          dataTable['output_type'] = 'display_data';\n",
              "          await google.colab.output.renderOutput(dataTable, element);\n",
              "          const docLink = document.createElement('div');\n",
              "          docLink.innerHTML = docLinkHtml;\n",
              "          element.appendChild(docLink);\n",
              "        }\n",
              "      </script>\n",
              "    </div>\n",
              "  </div>\n",
              "  "
            ]
          },
          "metadata": {},
          "execution_count": 17
        }
      ],
      "source": [
        "ans_cl_df = pd.DataFrame(ans_cl).T\n",
        "ans_cl_df[\"F1\"] = ans_cl_df[1].apply(lambda x: x[0])\n",
        "ans_cl_df[\"PR AUC\"] = ans_cl_df[1].apply(lambda x: x[1])\n",
        "ans_cl_df = ans_cl_df.drop([0, 1], axis=1)\n",
        "\n",
        "# Отсортируем по убыванию получившуюся таблицу\n",
        "ans_cl_df.sort_values([\"F1\", \"PR AUC\"], ascending=False)"
      ]
    },
    {
      "cell_type": "markdown",
      "metadata": {
        "collapsed": false,
        "id": "NwNqKen3NoW-"
      },
      "source": [
        "Наиболее высокие результаты показал случайный лес (с точки зрения обеих метрик), хотя результаты не очень высокие для всех моделей. Проведем подбор гиперпараметров и сравним новые результаты. Для начала зафиксируем параметры функций, которые не будут меняться:"
      ]
    },
    {
      "cell_type": "code",
      "execution_count": null,
      "metadata": {
        "id": "D3dxDdOtNoW-"
      },
      "outputs": [],
      "source": [
        "CONFIG_CV = {\n",
        "    \"cv\": 5,\n",
        "}"
      ]
    },
    {
      "cell_type": "code",
      "execution_count": null,
      "metadata": {
        "id": "S9YvoUOiNoW-"
      },
      "outputs": [],
      "source": [
        "CONFIG_CL = {\n",
        "    \"scoring\": \"f1\", # подбирать гиперпараметры будем по F1-мере\n",
        "    \"model_type\": \"classification\",\n",
        "}"
      ]
    },
    {
      "cell_type": "code",
      "execution_count": null,
      "metadata": {
        "colab": {
          "base_uri": "https://localhost:8080/"
        },
        "id": "KW6WyOXELTPl",
        "outputId": "050b68e9-30f8-4a11-813f-c30343fd48b3"
      },
      "outputs": [
        {
          "output_type": "stream",
          "name": "stdout",
          "text": [
            "<class 'sklearn.ensemble._forest.RandomForestClassifier'>\n",
            "Best hyperparameters: {'max_depth': 9, 'n_estimators': 200}\n",
            "F1 = 0.612; PR AUC = 0.711\n",
            "CPU times: user 1min 20s, sys: 560 ms, total: 1min 20s\n",
            "Wall time: 1min 35s\n"
          ]
        }
      ],
      "source": [
        "%%time\n",
        "# чтобы посмотреть, сколько по времени выполняется ячейка\n",
        "\n",
        "rf_params = {\n",
        "    \"n_estimators\": [50, 100, 200, 1000], # default = 100\n",
        "    \"max_depth\": [None] + [1, 3, 6, 9], # default = None\n",
        "}\n",
        "\n",
        "best_params_rf, preds_rf, metrics_rf = find_and_train_test_best_params(\n",
        "    model=RandomForestClassifier,\n",
        "    params=rf_params,\n",
        "    **CONFIG_DATA,\n",
        "    **CONFIG_CV,\n",
        "    **CONFIG_CL,\n",
        ")"
      ]
    },
    {
      "cell_type": "code",
      "execution_count": null,
      "metadata": {
        "colab": {
          "base_uri": "https://localhost:8080/"
        },
        "id": "Q5C6lLttUDL7",
        "outputId": "eacfda93-bf3f-4923-f6ed-370249fc0748"
      },
      "outputs": [
        {
          "output_type": "stream",
          "name": "stdout",
          "text": [
            "<class 'xgboost.sklearn.XGBClassifier'>\n",
            "Best hyperparameters: {'max_depth': 1, 'n_estimators': 1000}\n",
            "F1 = 0.613; PR AUC = 0.709\n",
            "CPU times: user 10.3 s, sys: 213 ms, total: 10.5 s\n",
            "Wall time: 10.5 s\n"
          ]
        }
      ],
      "source": [
        "%%time\n",
        "\n",
        "xgb_params = {\n",
        "    \"n_estimators\": [50, 100, 200, 1000], # default = 100\n",
        "    \"max_depth\": [1, 3, 6, 9], # default = 3\n",
        "}\n",
        "\n",
        "best_params_xgb, preds_xgb, metrics_xgb = find_and_train_test_best_params(\n",
        "    model=XGBClassifier,\n",
        "    params=xgb_params,\n",
        "    **CONFIG_DATA,\n",
        "    **CONFIG_CV,\n",
        "    **CONFIG_CL,\n",
        ")"
      ]
    },
    {
      "cell_type": "code",
      "execution_count": null,
      "metadata": {
        "colab": {
          "base_uri": "https://localhost:8080/"
        },
        "id": "p1WPdisJYbPs",
        "outputId": "f2ac453c-94be-4810-c4ea-aaf35b5e013b"
      },
      "outputs": [
        {
          "output_type": "stream",
          "name": "stdout",
          "text": [
            "<class 'lightgbm.sklearn.LGBMClassifier'>\n",
            "Best hyperparameters: {'max_depth': 9, 'n_estimators': 100}\n",
            "F1 = 0.577; PR AUC = 0.63\n",
            "CPU times: user 6.96 s, sys: 465 ms, total: 7.43 s\n",
            "Wall time: 7.43 s\n"
          ]
        }
      ],
      "source": [
        "%%time\n",
        "\n",
        "lgb_params = {\n",
        "    \"n_estimators\": [50, 100, 200, 1000], # default = 100\n",
        "    \"max_depth\": [-1] + [1, 3, 6, 9], # default = -1\n",
        "}\n",
        "\n",
        "best_params_lgb, preds_lgb, metrics_lgb = find_and_train_test_best_params(\n",
        "    model=LGBMClassifier,\n",
        "    params=lgb_params,\n",
        "    **CONFIG_DATA,\n",
        "    **CONFIG_CV,\n",
        "    **CONFIG_CL,\n",
        ")"
      ]
    },
    {
      "cell_type": "markdown",
      "metadata": {
        "collapsed": false,
        "id": "sHeRhAK_NoW_"
      },
      "source": [
        "Чтобы посмотреть гиперпараметры `CatBoost` по умолчанию, можно инициализировать и обучить модель, затем вывести все гиперпараметры с помощью:\n",
        "\n",
        " ```\n",
        " model.get_all_params()\n",
        " ```\n",
        "\n",
        "Несмотря на то, что на [стартовой странице CatBoost](https://catboost.ai/en/docs/concepts/python-reference_catboostclassifier) все значения гиперпараметров по умолчанию равны `None` и их названия отличаются от используемых на стартовой страничке, их истинные дефолтные значения и используемые названия можно найти [здесь](https://catboost.ai/en/docs/references/training-parameters/common). Таким образом, мы видим, что параметр `n_estimators` задает на самом деле `iterations` и по умолчанию он равен 1000. Аналогично `max_depth` задает `depth`, который по умолчанию равен 6."
      ]
    },
    {
      "cell_type": "code",
      "execution_count": null,
      "metadata": {
        "colab": {
          "base_uri": "https://localhost:8080/"
        },
        "id": "S0uqo5AlYbMQ",
        "outputId": "4f92ce87-046d-40a3-b2c5-c8487b8086e3"
      },
      "outputs": [
        {
          "output_type": "stream",
          "name": "stdout",
          "text": [
            "<class 'catboost.core.CatBoostClassifier'>\n",
            "Best hyperparameters: {'max_depth': 6, 'n_estimators': 100, 'verbose': 0}\n",
            "F1 = 0.61; PR AUC = 0.723\n",
            "CPU times: user 34.1 s, sys: 3.12 s, total: 37.2 s\n",
            "Wall time: 26.4 s\n"
          ]
        }
      ],
      "source": [
        "%%time\n",
        "\n",
        "cb_params = {\n",
        "    \"n_estimators\": [50, 100, 200, 100], # default = 1000\n",
        "    \"max_depth\": [1, 3, 6, 9], # default = 6\n",
        "    \"verbose\": [0], # чтобы сообщения catboost не выводились\n",
        "}\n",
        "\n",
        "best_params_cb, preds_cb, metrics_cb = find_and_train_test_best_params(\n",
        "    model=CatBoostClassifier,\n",
        "    params=cb_params,\n",
        "    **CONFIG_DATA,\n",
        "    **CONFIG_CV,\n",
        "    **CONFIG_CL,\n",
        ")"
      ]
    },
    {
      "cell_type": "markdown",
      "metadata": {
        "collapsed": false,
        "id": "DzkdFmSiNoXA"
      },
      "source": [
        "Из ячеек выше можно сделать вывод о скорости работы алгоритма (в другой версии библиотек результаты могут отличаться):\n",
        "\n",
        "|   Algorithm   |     Time     |\n",
        "|:-------------:|:------------:|\n",
        "| Random Forest | 1 мин 35 сек |\n",
        "|    XGBoost    |    10.5 сек  |\n",
        "|   LightGBM    |    7.43 сек  |\n",
        "|   CatBoost    |    26.4 сек  |\n",
        "\n",
        "Наиболее быстрым в данном случае является LightGBM, а медленнее всего сработал случайный лес."
      ]
    },
    {
      "cell_type": "markdown",
      "metadata": {
        "collapsed": false,
        "id": "qlmnrTsxNoXA"
      },
      "source": [
        "Сагрегируем результаты для лучших наборов гиперпараметров."
      ]
    },
    {
      "cell_type": "code",
      "execution_count": null,
      "metadata": {
        "colab": {
          "base_uri": "https://localhost:8080/",
          "height": 175
        },
        "id": "52F_s61Mrxzz",
        "outputId": "a0dc03d1-9424-4553-ee30-600627f5c0cd"
      },
      "outputs": [
        {
          "output_type": "execute_result",
          "data": {
            "text/plain": [
              "                    F1    PR AUC\n",
              "XGBoost       0.613497  0.708837\n",
              "RandomForest  0.612500  0.711295\n",
              "CatBoost      0.609756  0.723413\n",
              "LightGBM      0.576687  0.629704"
            ],
            "text/html": [
              "\n",
              "  <div id=\"df-c8a91cd9-1a21-44fa-8509-abe83130fa48\">\n",
              "    <div class=\"colab-df-container\">\n",
              "      <div>\n",
              "<style scoped>\n",
              "    .dataframe tbody tr th:only-of-type {\n",
              "        vertical-align: middle;\n",
              "    }\n",
              "\n",
              "    .dataframe tbody tr th {\n",
              "        vertical-align: top;\n",
              "    }\n",
              "\n",
              "    .dataframe thead th {\n",
              "        text-align: right;\n",
              "    }\n",
              "</style>\n",
              "<table border=\"1\" class=\"dataframe\">\n",
              "  <thead>\n",
              "    <tr style=\"text-align: right;\">\n",
              "      <th></th>\n",
              "      <th>F1</th>\n",
              "      <th>PR AUC</th>\n",
              "    </tr>\n",
              "  </thead>\n",
              "  <tbody>\n",
              "    <tr>\n",
              "      <th>XGBoost</th>\n",
              "      <td>0.613497</td>\n",
              "      <td>0.708837</td>\n",
              "    </tr>\n",
              "    <tr>\n",
              "      <th>RandomForest</th>\n",
              "      <td>0.612500</td>\n",
              "      <td>0.711295</td>\n",
              "    </tr>\n",
              "    <tr>\n",
              "      <th>CatBoost</th>\n",
              "      <td>0.609756</td>\n",
              "      <td>0.723413</td>\n",
              "    </tr>\n",
              "    <tr>\n",
              "      <th>LightGBM</th>\n",
              "      <td>0.576687</td>\n",
              "      <td>0.629704</td>\n",
              "    </tr>\n",
              "  </tbody>\n",
              "</table>\n",
              "</div>\n",
              "      <button class=\"colab-df-convert\" onclick=\"convertToInteractive('df-c8a91cd9-1a21-44fa-8509-abe83130fa48')\"\n",
              "              title=\"Convert this dataframe to an interactive table.\"\n",
              "              style=\"display:none;\">\n",
              "        \n",
              "  <svg xmlns=\"http://www.w3.org/2000/svg\" height=\"24px\"viewBox=\"0 0 24 24\"\n",
              "       width=\"24px\">\n",
              "    <path d=\"M0 0h24v24H0V0z\" fill=\"none\"/>\n",
              "    <path d=\"M18.56 5.44l.94 2.06.94-2.06 2.06-.94-2.06-.94-.94-2.06-.94 2.06-2.06.94zm-11 1L8.5 8.5l.94-2.06 2.06-.94-2.06-.94L8.5 2.5l-.94 2.06-2.06.94zm10 10l.94 2.06.94-2.06 2.06-.94-2.06-.94-.94-2.06-.94 2.06-2.06.94z\"/><path d=\"M17.41 7.96l-1.37-1.37c-.4-.4-.92-.59-1.43-.59-.52 0-1.04.2-1.43.59L10.3 9.45l-7.72 7.72c-.78.78-.78 2.05 0 2.83L4 21.41c.39.39.9.59 1.41.59.51 0 1.02-.2 1.41-.59l7.78-7.78 2.81-2.81c.8-.78.8-2.07 0-2.86zM5.41 20L4 18.59l7.72-7.72 1.47 1.35L5.41 20z\"/>\n",
              "  </svg>\n",
              "      </button>\n",
              "      \n",
              "  <style>\n",
              "    .colab-df-container {\n",
              "      display:flex;\n",
              "      flex-wrap:wrap;\n",
              "      gap: 12px;\n",
              "    }\n",
              "\n",
              "    .colab-df-convert {\n",
              "      background-color: #E8F0FE;\n",
              "      border: none;\n",
              "      border-radius: 50%;\n",
              "      cursor: pointer;\n",
              "      display: none;\n",
              "      fill: #1967D2;\n",
              "      height: 32px;\n",
              "      padding: 0 0 0 0;\n",
              "      width: 32px;\n",
              "    }\n",
              "\n",
              "    .colab-df-convert:hover {\n",
              "      background-color: #E2EBFA;\n",
              "      box-shadow: 0px 1px 2px rgba(60, 64, 67, 0.3), 0px 1px 3px 1px rgba(60, 64, 67, 0.15);\n",
              "      fill: #174EA6;\n",
              "    }\n",
              "\n",
              "    [theme=dark] .colab-df-convert {\n",
              "      background-color: #3B4455;\n",
              "      fill: #D2E3FC;\n",
              "    }\n",
              "\n",
              "    [theme=dark] .colab-df-convert:hover {\n",
              "      background-color: #434B5C;\n",
              "      box-shadow: 0px 1px 3px 1px rgba(0, 0, 0, 0.15);\n",
              "      filter: drop-shadow(0px 1px 2px rgba(0, 0, 0, 0.3));\n",
              "      fill: #FFFFFF;\n",
              "    }\n",
              "  </style>\n",
              "\n",
              "      <script>\n",
              "        const buttonEl =\n",
              "          document.querySelector('#df-c8a91cd9-1a21-44fa-8509-abe83130fa48 button.colab-df-convert');\n",
              "        buttonEl.style.display =\n",
              "          google.colab.kernel.accessAllowed ? 'block' : 'none';\n",
              "\n",
              "        async function convertToInteractive(key) {\n",
              "          const element = document.querySelector('#df-c8a91cd9-1a21-44fa-8509-abe83130fa48');\n",
              "          const dataTable =\n",
              "            await google.colab.kernel.invokeFunction('convertToInteractive',\n",
              "                                                     [key], {});\n",
              "          if (!dataTable) return;\n",
              "\n",
              "          const docLinkHtml = 'Like what you see? Visit the ' +\n",
              "            '<a target=\"_blank\" href=https://colab.research.google.com/notebooks/data_table.ipynb>data table notebook</a>'\n",
              "            + ' to learn more about interactive tables.';\n",
              "          element.innerHTML = '';\n",
              "          dataTable['output_type'] = 'display_data';\n",
              "          await google.colab.output.renderOutput(dataTable, element);\n",
              "          const docLink = document.createElement('div');\n",
              "          docLink.innerHTML = docLinkHtml;\n",
              "          element.appendChild(docLink);\n",
              "        }\n",
              "      </script>\n",
              "    </div>\n",
              "  </div>\n",
              "  "
            ]
          },
          "metadata": {},
          "execution_count": 24
        }
      ],
      "source": [
        "final_metrics_df = pd.DataFrame(\n",
        "    {\n",
        "        \"RandomForest\": metrics_rf,\n",
        "        \"XGBoost\": metrics_xgb,\n",
        "        \"LightGBM\": metrics_lgb,\n",
        "        \"CatBoost\": metrics_cb,\n",
        "    },\n",
        "    index=[\"F1\", \"PR AUC\"]\n",
        ").T\n",
        "\n",
        "# Отсортируем по убыванию получившуюся таблицу\n",
        "final_metrics_df.sort_values([\"F1\", \"PR AUC\"], ascending=False)"
      ]
    },
    {
      "cell_type": "markdown",
      "metadata": {
        "collapsed": false,
        "id": "4ElKtnEFNoXB"
      },
      "source": [
        "С точки зрения F1-меры лучшие модели — XGBoost и случайный лес. Судя по PR AUC, лучшие модели — CatBoost и случайный лес. Однако все равно данные модели не очень хорошо решают нашу задачу, судя по метрикам."
      ]
    },
    {
      "cell_type": "markdown",
      "metadata": {
        "id": "Q2IleAHGMO7p"
      },
      "source": [
        "## Регрессия\n",
        "\n",
        "Будем работать с [данными «Сбера» о квартирах](https://www.kaggle.com/competitions/sberbank-russian-housing-market/data)."
      ]
    },
    {
      "cell_type": "code",
      "execution_count": null,
      "metadata": {
        "colab": {
          "base_uri": "https://localhost:8080/"
        },
        "id": "DpqrBEz0OLWn",
        "outputId": "6d3cba14-d230-4c83-ea9d-86d6ba6ff375"
      },
      "outputs": [
        {
          "output_type": "stream",
          "name": "stdout",
          "text": [
            "Downloading sberbank-russian-housing-market.zip to /content\n",
            " 79% 17.0M/21.6M [00:00<00:00, 54.9MB/s]\n",
            "100% 21.6M/21.6M [00:00<00:00, 63.5MB/s]\n",
            "Archive:  sberbank-russian-housing-market.zip\n",
            "  inflating: data_dictionary.txt     \n",
            "  inflating: macro.csv.zip           \n",
            "  inflating: sample_submission.csv.zip  \n",
            "  inflating: test.csv.zip            \n",
            "  inflating: train.csv.zip           \n",
            "Archive:  train.csv.zip\n",
            "  inflating: train.csv               \n",
            "   creating: __MACOSX/\n",
            "  inflating: __MACOSX/._train.csv    \n"
          ]
        }
      ],
      "source": [
        "!kaggle competitions download -c sberbank-russian-housing-market\n",
        "!unzip sberbank-russian-housing-market.zip\n",
        "!unzip train.csv.zip"
      ]
    },
    {
      "cell_type": "code",
      "execution_count": null,
      "metadata": {
        "colab": {
          "base_uri": "https://localhost:8080/",
          "height": 404
        },
        "id": "5oOKRF4bNoXB",
        "outputId": "d1aaa404-ec79-4e88-e40f-aa0f070fda86"
      },
      "outputs": [
        {
          "output_type": "stream",
          "name": "stdout",
          "text": [
            "(30471, 292)\n"
          ]
        },
        {
          "output_type": "execute_result",
          "data": {
            "text/plain": [
              "   id   timestamp  full_sq  life_sq  floor  max_floor  material  build_year  \\\n",
              "0   1  2011-08-20       43     27.0    4.0        NaN       NaN         NaN   \n",
              "1   2  2011-08-23       34     19.0    3.0        NaN       NaN         NaN   \n",
              "2   3  2011-08-27       43     29.0    2.0        NaN       NaN         NaN   \n",
              "3   4  2011-09-01       89     50.0    9.0        NaN       NaN         NaN   \n",
              "4   5  2011-09-05       77     77.0    4.0        NaN       NaN         NaN   \n",
              "\n",
              "   num_room  kitch_sq  ...  cafe_count_5000_price_2500  \\\n",
              "0       NaN       NaN  ...                           9   \n",
              "1       NaN       NaN  ...                          15   \n",
              "2       NaN       NaN  ...                          10   \n",
              "3       NaN       NaN  ...                          11   \n",
              "4       NaN       NaN  ...                         319   \n",
              "\n",
              "  cafe_count_5000_price_4000 cafe_count_5000_price_high  \\\n",
              "0                          4                          0   \n",
              "1                          3                          0   \n",
              "2                          3                          0   \n",
              "3                          2                          1   \n",
              "4                        108                         17   \n",
              "\n",
              "   big_church_count_5000  church_count_5000  mosque_count_5000  \\\n",
              "0                     13                 22                  1   \n",
              "1                     15                 29                  1   \n",
              "2                     11                 27                  0   \n",
              "3                      4                  4                  0   \n",
              "4                    135                236                  2   \n",
              "\n",
              "   leisure_count_5000  sport_count_5000  market_count_5000  price_doc  \n",
              "0                   0                52                  4    5850000  \n",
              "1                  10                66                 14    6000000  \n",
              "2                   4                67                 10    5700000  \n",
              "3                   0                26                  3   13100000  \n",
              "4                  91               195                 14   16331452  \n",
              "\n",
              "[5 rows x 292 columns]"
            ],
            "text/html": [
              "\n",
              "  <div id=\"df-f5afc42e-dc3e-4358-9f39-7f9f16dd6530\">\n",
              "    <div class=\"colab-df-container\">\n",
              "      <div>\n",
              "<style scoped>\n",
              "    .dataframe tbody tr th:only-of-type {\n",
              "        vertical-align: middle;\n",
              "    }\n",
              "\n",
              "    .dataframe tbody tr th {\n",
              "        vertical-align: top;\n",
              "    }\n",
              "\n",
              "    .dataframe thead th {\n",
              "        text-align: right;\n",
              "    }\n",
              "</style>\n",
              "<table border=\"1\" class=\"dataframe\">\n",
              "  <thead>\n",
              "    <tr style=\"text-align: right;\">\n",
              "      <th></th>\n",
              "      <th>id</th>\n",
              "      <th>timestamp</th>\n",
              "      <th>full_sq</th>\n",
              "      <th>life_sq</th>\n",
              "      <th>floor</th>\n",
              "      <th>max_floor</th>\n",
              "      <th>material</th>\n",
              "      <th>build_year</th>\n",
              "      <th>num_room</th>\n",
              "      <th>kitch_sq</th>\n",
              "      <th>...</th>\n",
              "      <th>cafe_count_5000_price_2500</th>\n",
              "      <th>cafe_count_5000_price_4000</th>\n",
              "      <th>cafe_count_5000_price_high</th>\n",
              "      <th>big_church_count_5000</th>\n",
              "      <th>church_count_5000</th>\n",
              "      <th>mosque_count_5000</th>\n",
              "      <th>leisure_count_5000</th>\n",
              "      <th>sport_count_5000</th>\n",
              "      <th>market_count_5000</th>\n",
              "      <th>price_doc</th>\n",
              "    </tr>\n",
              "  </thead>\n",
              "  <tbody>\n",
              "    <tr>\n",
              "      <th>0</th>\n",
              "      <td>1</td>\n",
              "      <td>2011-08-20</td>\n",
              "      <td>43</td>\n",
              "      <td>27.0</td>\n",
              "      <td>4.0</td>\n",
              "      <td>NaN</td>\n",
              "      <td>NaN</td>\n",
              "      <td>NaN</td>\n",
              "      <td>NaN</td>\n",
              "      <td>NaN</td>\n",
              "      <td>...</td>\n",
              "      <td>9</td>\n",
              "      <td>4</td>\n",
              "      <td>0</td>\n",
              "      <td>13</td>\n",
              "      <td>22</td>\n",
              "      <td>1</td>\n",
              "      <td>0</td>\n",
              "      <td>52</td>\n",
              "      <td>4</td>\n",
              "      <td>5850000</td>\n",
              "    </tr>\n",
              "    <tr>\n",
              "      <th>1</th>\n",
              "      <td>2</td>\n",
              "      <td>2011-08-23</td>\n",
              "      <td>34</td>\n",
              "      <td>19.0</td>\n",
              "      <td>3.0</td>\n",
              "      <td>NaN</td>\n",
              "      <td>NaN</td>\n",
              "      <td>NaN</td>\n",
              "      <td>NaN</td>\n",
              "      <td>NaN</td>\n",
              "      <td>...</td>\n",
              "      <td>15</td>\n",
              "      <td>3</td>\n",
              "      <td>0</td>\n",
              "      <td>15</td>\n",
              "      <td>29</td>\n",
              "      <td>1</td>\n",
              "      <td>10</td>\n",
              "      <td>66</td>\n",
              "      <td>14</td>\n",
              "      <td>6000000</td>\n",
              "    </tr>\n",
              "    <tr>\n",
              "      <th>2</th>\n",
              "      <td>3</td>\n",
              "      <td>2011-08-27</td>\n",
              "      <td>43</td>\n",
              "      <td>29.0</td>\n",
              "      <td>2.0</td>\n",
              "      <td>NaN</td>\n",
              "      <td>NaN</td>\n",
              "      <td>NaN</td>\n",
              "      <td>NaN</td>\n",
              "      <td>NaN</td>\n",
              "      <td>...</td>\n",
              "      <td>10</td>\n",
              "      <td>3</td>\n",
              "      <td>0</td>\n",
              "      <td>11</td>\n",
              "      <td>27</td>\n",
              "      <td>0</td>\n",
              "      <td>4</td>\n",
              "      <td>67</td>\n",
              "      <td>10</td>\n",
              "      <td>5700000</td>\n",
              "    </tr>\n",
              "    <tr>\n",
              "      <th>3</th>\n",
              "      <td>4</td>\n",
              "      <td>2011-09-01</td>\n",
              "      <td>89</td>\n",
              "      <td>50.0</td>\n",
              "      <td>9.0</td>\n",
              "      <td>NaN</td>\n",
              "      <td>NaN</td>\n",
              "      <td>NaN</td>\n",
              "      <td>NaN</td>\n",
              "      <td>NaN</td>\n",
              "      <td>...</td>\n",
              "      <td>11</td>\n",
              "      <td>2</td>\n",
              "      <td>1</td>\n",
              "      <td>4</td>\n",
              "      <td>4</td>\n",
              "      <td>0</td>\n",
              "      <td>0</td>\n",
              "      <td>26</td>\n",
              "      <td>3</td>\n",
              "      <td>13100000</td>\n",
              "    </tr>\n",
              "    <tr>\n",
              "      <th>4</th>\n",
              "      <td>5</td>\n",
              "      <td>2011-09-05</td>\n",
              "      <td>77</td>\n",
              "      <td>77.0</td>\n",
              "      <td>4.0</td>\n",
              "      <td>NaN</td>\n",
              "      <td>NaN</td>\n",
              "      <td>NaN</td>\n",
              "      <td>NaN</td>\n",
              "      <td>NaN</td>\n",
              "      <td>...</td>\n",
              "      <td>319</td>\n",
              "      <td>108</td>\n",
              "      <td>17</td>\n",
              "      <td>135</td>\n",
              "      <td>236</td>\n",
              "      <td>2</td>\n",
              "      <td>91</td>\n",
              "      <td>195</td>\n",
              "      <td>14</td>\n",
              "      <td>16331452</td>\n",
              "    </tr>\n",
              "  </tbody>\n",
              "</table>\n",
              "<p>5 rows × 292 columns</p>\n",
              "</div>\n",
              "      <button class=\"colab-df-convert\" onclick=\"convertToInteractive('df-f5afc42e-dc3e-4358-9f39-7f9f16dd6530')\"\n",
              "              title=\"Convert this dataframe to an interactive table.\"\n",
              "              style=\"display:none;\">\n",
              "        \n",
              "  <svg xmlns=\"http://www.w3.org/2000/svg\" height=\"24px\"viewBox=\"0 0 24 24\"\n",
              "       width=\"24px\">\n",
              "    <path d=\"M0 0h24v24H0V0z\" fill=\"none\"/>\n",
              "    <path d=\"M18.56 5.44l.94 2.06.94-2.06 2.06-.94-2.06-.94-.94-2.06-.94 2.06-2.06.94zm-11 1L8.5 8.5l.94-2.06 2.06-.94-2.06-.94L8.5 2.5l-.94 2.06-2.06.94zm10 10l.94 2.06.94-2.06 2.06-.94-2.06-.94-.94-2.06-.94 2.06-2.06.94z\"/><path d=\"M17.41 7.96l-1.37-1.37c-.4-.4-.92-.59-1.43-.59-.52 0-1.04.2-1.43.59L10.3 9.45l-7.72 7.72c-.78.78-.78 2.05 0 2.83L4 21.41c.39.39.9.59 1.41.59.51 0 1.02-.2 1.41-.59l7.78-7.78 2.81-2.81c.8-.78.8-2.07 0-2.86zM5.41 20L4 18.59l7.72-7.72 1.47 1.35L5.41 20z\"/>\n",
              "  </svg>\n",
              "      </button>\n",
              "      \n",
              "  <style>\n",
              "    .colab-df-container {\n",
              "      display:flex;\n",
              "      flex-wrap:wrap;\n",
              "      gap: 12px;\n",
              "    }\n",
              "\n",
              "    .colab-df-convert {\n",
              "      background-color: #E8F0FE;\n",
              "      border: none;\n",
              "      border-radius: 50%;\n",
              "      cursor: pointer;\n",
              "      display: none;\n",
              "      fill: #1967D2;\n",
              "      height: 32px;\n",
              "      padding: 0 0 0 0;\n",
              "      width: 32px;\n",
              "    }\n",
              "\n",
              "    .colab-df-convert:hover {\n",
              "      background-color: #E2EBFA;\n",
              "      box-shadow: 0px 1px 2px rgba(60, 64, 67, 0.3), 0px 1px 3px 1px rgba(60, 64, 67, 0.15);\n",
              "      fill: #174EA6;\n",
              "    }\n",
              "\n",
              "    [theme=dark] .colab-df-convert {\n",
              "      background-color: #3B4455;\n",
              "      fill: #D2E3FC;\n",
              "    }\n",
              "\n",
              "    [theme=dark] .colab-df-convert:hover {\n",
              "      background-color: #434B5C;\n",
              "      box-shadow: 0px 1px 3px 1px rgba(0, 0, 0, 0.15);\n",
              "      filter: drop-shadow(0px 1px 2px rgba(0, 0, 0, 0.3));\n",
              "      fill: #FFFFFF;\n",
              "    }\n",
              "  </style>\n",
              "\n",
              "      <script>\n",
              "        const buttonEl =\n",
              "          document.querySelector('#df-f5afc42e-dc3e-4358-9f39-7f9f16dd6530 button.colab-df-convert');\n",
              "        buttonEl.style.display =\n",
              "          google.colab.kernel.accessAllowed ? 'block' : 'none';\n",
              "\n",
              "        async function convertToInteractive(key) {\n",
              "          const element = document.querySelector('#df-f5afc42e-dc3e-4358-9f39-7f9f16dd6530');\n",
              "          const dataTable =\n",
              "            await google.colab.kernel.invokeFunction('convertToInteractive',\n",
              "                                                     [key], {});\n",
              "          if (!dataTable) return;\n",
              "\n",
              "          const docLinkHtml = 'Like what you see? Visit the ' +\n",
              "            '<a target=\"_blank\" href=https://colab.research.google.com/notebooks/data_table.ipynb>data table notebook</a>'\n",
              "            + ' to learn more about interactive tables.';\n",
              "          element.innerHTML = '';\n",
              "          dataTable['output_type'] = 'display_data';\n",
              "          await google.colab.output.renderOutput(dataTable, element);\n",
              "          const docLink = document.createElement('div');\n",
              "          docLink.innerHTML = docLinkHtml;\n",
              "          element.appendChild(docLink);\n",
              "        }\n",
              "      </script>\n",
              "    </div>\n",
              "  </div>\n",
              "  "
            ]
          },
          "metadata": {},
          "execution_count": 26
        }
      ],
      "source": [
        "df = pd.read_csv(\"train.csv\")\n",
        "print(df.shape)\n",
        "df.head()"
      ]
    },
    {
      "cell_type": "code",
      "execution_count": null,
      "metadata": {
        "colab": {
          "base_uri": "https://localhost:8080/"
        },
        "id": "WeSH7LoRNoXB",
        "outputId": "85c303d4-4a7e-49b1-d39f-0c0c5e9d2c30"
      },
      "outputs": [
        {
          "output_type": "execute_result",
          "data": {
            "text/plain": [
              "(30471, 291)"
            ]
          },
          "metadata": {},
          "execution_count": 27
        }
      ],
      "source": [
        "target_col = \"price_doc\"\n",
        "target = df[target_col]\n",
        "df = df.drop(target_col, axis=1)\n",
        "df.shape"
      ]
    },
    {
      "cell_type": "markdown",
      "metadata": {
        "collapsed": false,
        "id": "EAZuoxpvNoXB"
      },
      "source": [
        "Поскольку признаков очень много, модели обучаться будут долго. Чтобы как-то сократить число признаков, оставим только те признаки, в которых пропущено не более 20 % данных."
      ]
    },
    {
      "cell_type": "code",
      "execution_count": null,
      "metadata": {
        "colab": {
          "base_uri": "https://localhost:8080/"
        },
        "id": "3qk8zpvQNoXC",
        "outputId": "832f0b7e-32d5-478d-bc79-7edeaed1efbe"
      },
      "outputs": [
        {
          "output_type": "stream",
          "name": "stdout",
          "text": [
            "Кол-во признаков с % пропущенных значений не больше 20: 275\n"
          ]
        }
      ],
      "source": [
        "allowed_p_nan = 0.2\n",
        "cols_to_delete = df.isna().sum().index[df.isna().sum() > df.shape[0] * allowed_p_nan].tolist()\n",
        "print(\"Кол-во признаков с % пропущенных значений не больше 20: {}\".format(df.shape[1] - len(cols_to_delete)))"
      ]
    },
    {
      "cell_type": "markdown",
      "metadata": {
        "collapsed": false,
        "id": "AHkoaKfvNoXC"
      },
      "source": [
        "Удалим константные признаки и уникальные идентификаторы (пусть здесь тоже будет какое-то ограничение на кол-во уникальных значений, скажем, 90 % от общего числа значений), если таковые имеются."
      ]
    },
    {
      "cell_type": "code",
      "execution_count": null,
      "metadata": {
        "colab": {
          "base_uri": "https://localhost:8080/"
        },
        "id": "Vi8A5jyfNoXC",
        "outputId": "f02092ad-1ef9-46a9-ebf5-82deedb919c6"
      },
      "outputs": [
        {
          "output_type": "stream",
          "name": "stdout",
          "text": [
            "Кол-во колонок, которые потом удалим, перед добавлением константных колонок и колонок с идентификаторами: 16\n",
            "Кол-во колонок, которые потом удалим, после добавления константных колонок и колонок с идентификаторами: 17\n"
          ]
        }
      ],
      "source": [
        "print(\"Кол-во колонок, которые потом удалим, перед добавлением константных колонок и колонок с идентификаторами: {}\".format(len(cols_to_delete)))\n",
        "\n",
        "allowed_p_unique = 0.9\n",
        "for col in df.columns:\n",
        "    if col not in cols_to_delete and (df[col].nunique() == 1 or df[col].nunique() > allowed_p_unique * df.shape[0]):\n",
        "        cols_to_delete.append(col)\n",
        "print(\"Кол-во колонок, которые потом удалим, после добавления константных колонок и колонок с идентификаторами: {}\".format(len(cols_to_delete)))"
      ]
    },
    {
      "cell_type": "code",
      "execution_count": null,
      "metadata": {
        "colab": {
          "base_uri": "https://localhost:8080/"
        },
        "id": "SKFMU4z4NoXC",
        "outputId": "b2afe38b-87e8-4d6f-f1ec-5531752d2b78"
      },
      "outputs": [
        {
          "output_type": "execute_result",
          "data": {
            "text/plain": [
              "(274,\n",
              " ['cafe_count_5000_price_2500',\n",
              "  'ekder_male',\n",
              "  '0_13_male',\n",
              "  'trc_sqm_1500',\n",
              "  'work_female',\n",
              "  'ID_big_road1',\n",
              "  'sadovoe_km',\n",
              "  'water_treatment_km',\n",
              "  'church_count_1500',\n",
              "  'green_part_3000',\n",
              "  'ekder_all',\n",
              "  'basketball_km',\n",
              "  'mosque_count_500',\n",
              "  'cafe_count_500_price_4000',\n",
              "  'cafe_count_2000',\n",
              "  'cafe_count_1500_price_2500',\n",
              "  'power_transmission_line_km',\n",
              "  'kremlin_km',\n",
              "  'sport_count_1000',\n",
              "  'young_male',\n",
              "  'ts_km',\n",
              "  'office_sqm_5000',\n",
              "  'nuclear_reactor_raion',\n",
              "  'cafe_count_500',\n",
              "  'trc_sqm_2000',\n",
              "  'workplaces_km',\n",
              "  '0_6_all',\n",
              "  'green_zone_part',\n",
              "  'mosque_count_1500',\n",
              "  'metro_min_walk',\n",
              "  'fitness_km',\n",
              "  'office_raion',\n",
              "  'school_km',\n",
              "  'railroad_station_walk_km',\n",
              "  'water_km',\n",
              "  'big_road2_km',\n",
              "  'railroad_km',\n",
              "  'big_church_count_3000',\n",
              "  'zd_vokzaly_avto_km',\n",
              "  'prom_part_1500',\n",
              "  'railroad_terminal_raion',\n",
              "  'market_count_5000',\n",
              "  'office_km',\n",
              "  'build_count_slag',\n",
              "  'ttk_km',\n",
              "  'product_type',\n",
              "  'cafe_sum_3000_min_price_avg',\n",
              "  'ice_rink_km',\n",
              "  'cafe_count_1500',\n",
              "  'full_all',\n",
              "  '0_13_all',\n",
              "  'green_part_1500',\n",
              "  'swim_pool_km',\n",
              "  'preschool_education_centers_raion',\n",
              "  'mkad_km',\n",
              "  'cafe_count_5000',\n",
              "  'mosque_km',\n",
              "  'church_count_3000',\n",
              "  'shopping_centers_raion',\n",
              "  'leisure_count_1000',\n",
              "  'cemetery_km',\n",
              "  'ecology',\n",
              "  'additional_education_raion',\n",
              "  'museum_km',\n",
              "  'cafe_sum_2000_max_price_avg',\n",
              "  'build_count_1971-1995',\n",
              "  'preschool_km',\n",
              "  'build_count_frame',\n",
              "  'young_female',\n",
              "  'big_church_count_500',\n",
              "  'cafe_count_1000_price_1500',\n",
              "  'cafe_count_2000_price_high',\n",
              "  'water_1line',\n",
              "  'ID_big_road2',\n",
              "  'big_church_count_1000',\n",
              "  'build_count_before_1920',\n",
              "  'trc_count_1500',\n",
              "  'sport_count_3000',\n",
              "  'church_synagogue_km',\n",
              "  'metro_km_avto',\n",
              "  'cafe_count_1000_price_4000',\n",
              "  'green_part_2000',\n",
              "  '0_17_all',\n",
              "  'children_school',\n",
              "  'radiation_km',\n",
              "  'sub_area',\n",
              "  'exhibition_km',\n",
              "  'cafe_count_1000_na_price',\n",
              "  'trc_count_500',\n",
              "  'cafe_sum_3000_max_price_avg',\n",
              "  'industrial_km',\n",
              "  'sport_count_1500',\n",
              "  'cafe_count_2000_price_500',\n",
              "  'cafe_count_3000_price_4000',\n",
              "  'full_sq',\n",
              "  'office_sqm_2000',\n",
              "  'healthcare_centers_raion',\n",
              "  'leisure_count_5000',\n",
              "  'mosque_count_1000',\n",
              "  'cafe_sum_2000_min_price_avg',\n",
              "  'sport_objects_raion',\n",
              "  'cafe_count_3000_na_price',\n",
              "  'cafe_count_5000_price_4000',\n",
              "  'green_part_1000',\n",
              "  'cafe_count_1000_price_1000',\n",
              "  'additional_education_km',\n",
              "  'cafe_count_3000_price_high',\n",
              "  'office_sqm_500',\n",
              "  'cafe_count_5000_price_500',\n",
              "  'children_preschool',\n",
              "  'trc_count_2000',\n",
              "  'cafe_avg_price_2000',\n",
              "  'cafe_count_1000',\n",
              "  'railroad_1line',\n",
              "  '7_14_female',\n",
              "  'ID_metro',\n",
              "  'cafe_count_1500_price_4000',\n",
              "  'trc_sqm_500',\n",
              "  'build_count_brick',\n",
              "  'railroad_station_walk_min',\n",
              "  'leisure_count_2000',\n",
              "  'cafe_count_5000_price_high',\n",
              "  'office_count_5000',\n",
              "  'trc_sqm_1000',\n",
              "  'cafe_count_3000',\n",
              "  'thermal_power_plant_raion',\n",
              "  '16_29_female',\n",
              "  'sport_count_500',\n",
              "  'cafe_count_1000_price_high',\n",
              "  'trc_sqm_5000',\n",
              "  'oil_chemistry_raion',\n",
              "  'church_count_1000',\n",
              "  'cafe_sum_5000_min_price_avg',\n",
              "  'cafe_count_2000_price_4000',\n",
              "  'trc_count_3000',\n",
              "  'office_sqm_1500',\n",
              "  'market_count_3000',\n",
              "  'prom_part_500',\n",
              "  'green_part_5000',\n",
              "  'area_m',\n",
              "  'metro_min_avto',\n",
              "  'university_km',\n",
              "  'sport_count_5000',\n",
              "  '0_17_female',\n",
              "  'cafe_count_1000_price_2500',\n",
              "  'big_road1_km',\n",
              "  'cafe_avg_price_5000',\n",
              "  'cafe_count_5000_na_price',\n",
              "  'cafe_sum_1500_max_price_avg',\n",
              "  'nuclear_reactor_km',\n",
              "  'bulvar_ring_km',\n",
              "  'build_count_1946-1970',\n",
              "  'market_count_1500',\n",
              "  'cafe_count_1500_price_high',\n",
              "  'detention_facility_raion',\n",
              "  '7_14_male',\n",
              "  'radiation_raion',\n",
              "  '0_6_female',\n",
              "  'market_count_2000',\n",
              "  'kindergarten_km',\n",
              "  'cafe_count_3000_price_2500',\n",
              "  'cafe_count_1500_price_500',\n",
              "  'prom_part_1000',\n",
              "  'cafe_count_2000_price_1500',\n",
              "  'work_male',\n",
              "  'ID_railroad_station_avto',\n",
              "  'school_education_centers_top_20_raion',\n",
              "  'oil_chemistry_km',\n",
              "  'build_count_monolith',\n",
              "  'cafe_count_1000_price_500',\n",
              "  'raion_build_count_with_material_info',\n",
              "  'shopping_centers_km',\n",
              "  'office_sqm_3000',\n",
              "  'cafe_count_500_price_1000',\n",
              "  'public_transport_station_min_walk',\n",
              "  'catering_km',\n",
              "  'cafe_avg_price_3000',\n",
              "  'cafe_count_3000_price_1500',\n",
              "  'ekder_female',\n",
              "  'timestamp',\n",
              "  'female_f',\n",
              "  'bus_terminal_avto_km',\n",
              "  'incineration_km',\n",
              "  'stadium_km',\n",
              "  'build_count_foam',\n",
              "  'raion_build_count_with_builddate_info',\n",
              "  'ID_railroad_station_walk',\n",
              "  'cafe_count_1500_price_1500',\n",
              "  'build_count_1921-1945',\n",
              "  'market_shop_km',\n",
              "  'office_count_500',\n",
              "  'railroad_station_avto_km',\n",
              "  'cafe_count_2000_price_1000',\n",
              "  'young_all',\n",
              "  '0_6_male',\n",
              "  'cafe_count_1500_price_1000',\n",
              "  'thermal_power_plant_km',\n",
              "  'cafe_count_3000_price_500',\n",
              "  'hospice_morgue_km',\n",
              "  'big_church_count_2000',\n",
              "  'ID_railroad_terminal',\n",
              "  'office_count_1500',\n",
              "  'indust_part',\n",
              "  'sport_count_2000',\n",
              "  'mosque_count_3000',\n",
              "  'raion_popul',\n",
              "  'cafe_sum_1500_min_price_avg',\n",
              "  'big_market_km',\n",
              "  'cafe_count_5000_price_1500',\n",
              "  'park_km',\n",
              "  'public_healthcare_km',\n",
              "  'big_church_count_5000',\n",
              "  'church_count_500',\n",
              "  'trc_count_1000',\n",
              "  'cafe_count_2000_price_2500',\n",
              "  'leisure_count_3000',\n",
              "  'big_road1_1line',\n",
              "  'big_church_km',\n",
              "  'floor',\n",
              "  'green_zone_km',\n",
              "  'metro_km_walk',\n",
              "  'cafe_count_5000_price_1000',\n",
              "  'market_count_500',\n",
              "  'university_top_20_raion',\n",
              "  '16_29_male',\n",
              "  'mosque_count_5000',\n",
              "  'incineration_raion',\n",
              "  'cafe_count_500_price_500',\n",
              "  'big_church_count_1500',\n",
              "  'office_count_3000',\n",
              "  'trc_sqm_3000',\n",
              "  'male_f',\n",
              "  'office_count_2000',\n",
              "  'cafe_count_500_price_2500',\n",
              "  'build_count_block',\n",
              "  'office_sqm_1000',\n",
              "  'build_count_panel',\n",
              "  'cafe_count_500_price_1500',\n",
              "  'culture_objects_top_25_raion',\n",
              "  'prom_part_3000',\n",
              "  'office_count_1000',\n",
              "  'build_count_mix',\n",
              "  'build_count_after_1995',\n",
              "  '16_29_all',\n",
              "  'leisure_count_500',\n",
              "  'work_all',\n",
              "  'big_market_raion',\n",
              "  'detention_facility_km',\n",
              "  '0_17_male',\n",
              "  'mosque_count_2000',\n",
              "  'cafe_count_1500_na_price',\n",
              "  'culture_objects_top_25',\n",
              "  'public_transport_station_km',\n",
              "  'school_education_centers_raion',\n",
              "  'cafe_count_500_price_high',\n",
              "  '0_13_female',\n",
              "  'cafe_avg_price_1500',\n",
              "  'cafe_sum_5000_max_price_avg',\n",
              "  'prom_part_2000',\n",
              "  'cafe_count_3000_price_1000',\n",
              "  'build_count_wood',\n",
              "  'market_count_1000',\n",
              "  'leisure_count_1500',\n",
              "  'cafe_count_2000_na_price',\n",
              "  'railroad_station_avto_min',\n",
              "  'prom_part_5000',\n",
              "  'ID_bus_terminal',\n",
              "  'green_part_500',\n",
              "  'theater_km',\n",
              "  'church_count_2000',\n",
              "  '7_14_all',\n",
              "  'church_count_5000',\n",
              "  'trc_count_5000',\n",
              "  'cafe_count_500_na_price'])"
            ]
          },
          "metadata": {},
          "execution_count": 30
        }
      ],
      "source": [
        "cols_not_to_del = list(set(df.columns) - set(cols_to_delete))\n",
        "len(cols_not_to_del), cols_not_to_del"
      ]
    },
    {
      "cell_type": "markdown",
      "metadata": {
        "collapsed": false,
        "id": "-ZAuPX7dNoXC"
      },
      "source": [
        "Выделим колонки с категориальными и численными признаками."
      ]
    },
    {
      "cell_type": "code",
      "execution_count": null,
      "metadata": {
        "colab": {
          "base_uri": "https://localhost:8080/"
        },
        "id": "DRlOJkF2NoXD",
        "outputId": "e47cee68-7990-4376-8df5-adc0de5c0740"
      },
      "outputs": [
        {
          "output_type": "execute_result",
          "data": {
            "text/plain": [
              "(16,\n",
              " ['nuclear_reactor_raion',\n",
              "  'railroad_terminal_raion',\n",
              "  'product_type',\n",
              "  'ecology',\n",
              "  'water_1line',\n",
              "  'sub_area',\n",
              "  'railroad_1line',\n",
              "  'thermal_power_plant_raion',\n",
              "  'oil_chemistry_raion',\n",
              "  'detention_facility_raion',\n",
              "  'radiation_raion',\n",
              "  'timestamp',\n",
              "  'big_road1_1line',\n",
              "  'incineration_raion',\n",
              "  'big_market_raion',\n",
              "  'culture_objects_top_25'])"
            ]
          },
          "metadata": {},
          "execution_count": 31
        }
      ],
      "source": [
        "categorical_cols = df[cols_not_to_del].select_dtypes(include=[\"object\"]).columns.tolist()\n",
        "len(categorical_cols), categorical_cols"
      ]
    },
    {
      "cell_type": "code",
      "execution_count": null,
      "metadata": {
        "colab": {
          "base_uri": "https://localhost:8080/"
        },
        "id": "hF6CbPKBNoXD",
        "outputId": "9f9dc948-55cd-471b-f62a-237c5f173cfd"
      },
      "outputs": [
        {
          "output_type": "execute_result",
          "data": {
            "text/plain": [
              "(258,\n",
              " ['cafe_count_5000_price_2500',\n",
              "  'ekder_male',\n",
              "  '0_13_male',\n",
              "  'trc_sqm_1500',\n",
              "  'work_female',\n",
              "  'ID_big_road1',\n",
              "  'sadovoe_km',\n",
              "  'water_treatment_km',\n",
              "  'church_count_1500',\n",
              "  'green_part_3000',\n",
              "  'ekder_all',\n",
              "  'basketball_km',\n",
              "  'mosque_count_500',\n",
              "  'cafe_count_500_price_4000',\n",
              "  'cafe_count_2000',\n",
              "  'cafe_count_1500_price_2500',\n",
              "  'power_transmission_line_km',\n",
              "  'kremlin_km',\n",
              "  'sport_count_1000',\n",
              "  'young_male',\n",
              "  'ts_km',\n",
              "  'office_sqm_5000',\n",
              "  'cafe_count_500',\n",
              "  'trc_sqm_2000',\n",
              "  'workplaces_km',\n",
              "  '0_6_all',\n",
              "  'green_zone_part',\n",
              "  'mosque_count_1500',\n",
              "  'metro_min_walk',\n",
              "  'fitness_km',\n",
              "  'office_raion',\n",
              "  'school_km',\n",
              "  'railroad_station_walk_km',\n",
              "  'water_km',\n",
              "  'big_road2_km',\n",
              "  'railroad_km',\n",
              "  'big_church_count_3000',\n",
              "  'zd_vokzaly_avto_km',\n",
              "  'prom_part_1500',\n",
              "  'market_count_5000',\n",
              "  'office_km',\n",
              "  'build_count_slag',\n",
              "  'ttk_km',\n",
              "  'cafe_sum_3000_min_price_avg',\n",
              "  'ice_rink_km',\n",
              "  'cafe_count_1500',\n",
              "  'full_all',\n",
              "  '0_13_all',\n",
              "  'green_part_1500',\n",
              "  'swim_pool_km',\n",
              "  'preschool_education_centers_raion',\n",
              "  'mkad_km',\n",
              "  'cafe_count_5000',\n",
              "  'mosque_km',\n",
              "  'church_count_3000',\n",
              "  'shopping_centers_raion',\n",
              "  'leisure_count_1000',\n",
              "  'cemetery_km',\n",
              "  'additional_education_raion',\n",
              "  'museum_km',\n",
              "  'cafe_sum_2000_max_price_avg',\n",
              "  'build_count_1971-1995',\n",
              "  'preschool_km',\n",
              "  'build_count_frame',\n",
              "  'young_female',\n",
              "  'big_church_count_500',\n",
              "  'cafe_count_1000_price_1500',\n",
              "  'cafe_count_2000_price_high',\n",
              "  'ID_big_road2',\n",
              "  'big_church_count_1000',\n",
              "  'build_count_before_1920',\n",
              "  'trc_count_1500',\n",
              "  'sport_count_3000',\n",
              "  'church_synagogue_km',\n",
              "  'metro_km_avto',\n",
              "  'cafe_count_1000_price_4000',\n",
              "  'green_part_2000',\n",
              "  '0_17_all',\n",
              "  'children_school',\n",
              "  'radiation_km',\n",
              "  'exhibition_km',\n",
              "  'cafe_count_1000_na_price',\n",
              "  'trc_count_500',\n",
              "  'cafe_sum_3000_max_price_avg',\n",
              "  'industrial_km',\n",
              "  'sport_count_1500',\n",
              "  'cafe_count_2000_price_500',\n",
              "  'cafe_count_3000_price_4000',\n",
              "  'full_sq',\n",
              "  'office_sqm_2000',\n",
              "  'healthcare_centers_raion',\n",
              "  'leisure_count_5000',\n",
              "  'mosque_count_1000',\n",
              "  'cafe_sum_2000_min_price_avg',\n",
              "  'sport_objects_raion',\n",
              "  'cafe_count_3000_na_price',\n",
              "  'cafe_count_5000_price_4000',\n",
              "  'green_part_1000',\n",
              "  'cafe_count_1000_price_1000',\n",
              "  'additional_education_km',\n",
              "  'cafe_count_3000_price_high',\n",
              "  'office_sqm_500',\n",
              "  'cafe_count_5000_price_500',\n",
              "  'children_preschool',\n",
              "  'trc_count_2000',\n",
              "  'cafe_avg_price_2000',\n",
              "  'cafe_count_1000',\n",
              "  '7_14_female',\n",
              "  'ID_metro',\n",
              "  'cafe_count_1500_price_4000',\n",
              "  'trc_sqm_500',\n",
              "  'build_count_brick',\n",
              "  'railroad_station_walk_min',\n",
              "  'leisure_count_2000',\n",
              "  'cafe_count_5000_price_high',\n",
              "  'office_count_5000',\n",
              "  'trc_sqm_1000',\n",
              "  'cafe_count_3000',\n",
              "  '16_29_female',\n",
              "  'sport_count_500',\n",
              "  'cafe_count_1000_price_high',\n",
              "  'trc_sqm_5000',\n",
              "  'church_count_1000',\n",
              "  'cafe_sum_5000_min_price_avg',\n",
              "  'cafe_count_2000_price_4000',\n",
              "  'trc_count_3000',\n",
              "  'office_sqm_1500',\n",
              "  'market_count_3000',\n",
              "  'prom_part_500',\n",
              "  'green_part_5000',\n",
              "  'area_m',\n",
              "  'metro_min_avto',\n",
              "  'university_km',\n",
              "  'sport_count_5000',\n",
              "  '0_17_female',\n",
              "  'cafe_count_1000_price_2500',\n",
              "  'big_road1_km',\n",
              "  'cafe_avg_price_5000',\n",
              "  'cafe_count_5000_na_price',\n",
              "  'cafe_sum_1500_max_price_avg',\n",
              "  'nuclear_reactor_km',\n",
              "  'bulvar_ring_km',\n",
              "  'build_count_1946-1970',\n",
              "  'market_count_1500',\n",
              "  'cafe_count_1500_price_high',\n",
              "  '7_14_male',\n",
              "  '0_6_female',\n",
              "  'market_count_2000',\n",
              "  'kindergarten_km',\n",
              "  'cafe_count_3000_price_2500',\n",
              "  'cafe_count_1500_price_500',\n",
              "  'prom_part_1000',\n",
              "  'cafe_count_2000_price_1500',\n",
              "  'work_male',\n",
              "  'ID_railroad_station_avto',\n",
              "  'school_education_centers_top_20_raion',\n",
              "  'oil_chemistry_km',\n",
              "  'build_count_monolith',\n",
              "  'cafe_count_1000_price_500',\n",
              "  'raion_build_count_with_material_info',\n",
              "  'shopping_centers_km',\n",
              "  'office_sqm_3000',\n",
              "  'cafe_count_500_price_1000',\n",
              "  'public_transport_station_min_walk',\n",
              "  'catering_km',\n",
              "  'cafe_avg_price_3000',\n",
              "  'cafe_count_3000_price_1500',\n",
              "  'ekder_female',\n",
              "  'female_f',\n",
              "  'bus_terminal_avto_km',\n",
              "  'incineration_km',\n",
              "  'stadium_km',\n",
              "  'build_count_foam',\n",
              "  'raion_build_count_with_builddate_info',\n",
              "  'ID_railroad_station_walk',\n",
              "  'cafe_count_1500_price_1500',\n",
              "  'build_count_1921-1945',\n",
              "  'market_shop_km',\n",
              "  'office_count_500',\n",
              "  'railroad_station_avto_km',\n",
              "  'cafe_count_2000_price_1000',\n",
              "  'young_all',\n",
              "  '0_6_male',\n",
              "  'cafe_count_1500_price_1000',\n",
              "  'thermal_power_plant_km',\n",
              "  'cafe_count_3000_price_500',\n",
              "  'hospice_morgue_km',\n",
              "  'big_church_count_2000',\n",
              "  'ID_railroad_terminal',\n",
              "  'office_count_1500',\n",
              "  'indust_part',\n",
              "  'sport_count_2000',\n",
              "  'mosque_count_3000',\n",
              "  'raion_popul',\n",
              "  'cafe_sum_1500_min_price_avg',\n",
              "  'big_market_km',\n",
              "  'cafe_count_5000_price_1500',\n",
              "  'park_km',\n",
              "  'public_healthcare_km',\n",
              "  'big_church_count_5000',\n",
              "  'church_count_500',\n",
              "  'trc_count_1000',\n",
              "  'cafe_count_2000_price_2500',\n",
              "  'leisure_count_3000',\n",
              "  'big_church_km',\n",
              "  'floor',\n",
              "  'green_zone_km',\n",
              "  'metro_km_walk',\n",
              "  'cafe_count_5000_price_1000',\n",
              "  'market_count_500',\n",
              "  'university_top_20_raion',\n",
              "  '16_29_male',\n",
              "  'mosque_count_5000',\n",
              "  'cafe_count_500_price_500',\n",
              "  'big_church_count_1500',\n",
              "  'office_count_3000',\n",
              "  'trc_sqm_3000',\n",
              "  'male_f',\n",
              "  'office_count_2000',\n",
              "  'cafe_count_500_price_2500',\n",
              "  'build_count_block',\n",
              "  'office_sqm_1000',\n",
              "  'build_count_panel',\n",
              "  'cafe_count_500_price_1500',\n",
              "  'culture_objects_top_25_raion',\n",
              "  'prom_part_3000',\n",
              "  'office_count_1000',\n",
              "  'build_count_mix',\n",
              "  'build_count_after_1995',\n",
              "  '16_29_all',\n",
              "  'leisure_count_500',\n",
              "  'work_all',\n",
              "  'detention_facility_km',\n",
              "  '0_17_male',\n",
              "  'mosque_count_2000',\n",
              "  'cafe_count_1500_na_price',\n",
              "  'public_transport_station_km',\n",
              "  'school_education_centers_raion',\n",
              "  'cafe_count_500_price_high',\n",
              "  '0_13_female',\n",
              "  'cafe_avg_price_1500',\n",
              "  'cafe_sum_5000_max_price_avg',\n",
              "  'prom_part_2000',\n",
              "  'cafe_count_3000_price_1000',\n",
              "  'build_count_wood',\n",
              "  'market_count_1000',\n",
              "  'leisure_count_1500',\n",
              "  'cafe_count_2000_na_price',\n",
              "  'railroad_station_avto_min',\n",
              "  'prom_part_5000',\n",
              "  'ID_bus_terminal',\n",
              "  'green_part_500',\n",
              "  'theater_km',\n",
              "  'church_count_2000',\n",
              "  '7_14_all',\n",
              "  'church_count_5000',\n",
              "  'trc_count_5000',\n",
              "  'cafe_count_500_na_price'])"
            ]
          },
          "metadata": {},
          "execution_count": 32
        }
      ],
      "source": [
        "numerical_cols = df[cols_not_to_del].select_dtypes(exclude=[\"object\"]).columns.tolist()\n",
        "len(numerical_cols), numerical_cols"
      ]
    },
    {
      "cell_type": "code",
      "execution_count": null,
      "metadata": {
        "colab": {
          "base_uri": "https://localhost:8080/"
        },
        "id": "_YTm328vNoXD",
        "outputId": "ae2d1c1e-375e-495d-9e32-d7ac5b561043"
      },
      "outputs": [
        {
          "output_type": "execute_result",
          "data": {
            "text/plain": [
              "0"
            ]
          },
          "metadata": {},
          "execution_count": 33
        }
      ],
      "source": [
        "# Проверим, что категориальные и численные признаки не пересекаются\n",
        "\n",
        "len(set(categorical_cols) & set(numerical_cols))"
      ]
    },
    {
      "cell_type": "markdown",
      "metadata": {
        "collapsed": false,
        "id": "ynvmGCtqNoXD"
      },
      "source": [
        "Посмотрим на уникальные значения категориальных колонок:"
      ]
    },
    {
      "cell_type": "code",
      "execution_count": null,
      "metadata": {
        "colab": {
          "base_uri": "https://localhost:8080/",
          "height": 1000
        },
        "id": "OvteoXZcNoXD",
        "outputId": "841312d6-4261-4288-9cac-dead875be3e8"
      },
      "outputs": [
        {
          "output_type": "display_data",
          "data": {
            "text/plain": [
              "<Figure size 1728x432 with 1 Axes>"
            ],
            "image/png": "[encoded data removed]"
          },
          "metadata": {
            "needs_background": "light"
          }
        },
        {
          "output_type": "display_data",
          "data": {
            "text/plain": [
              "<Figure size 1728x432 with 1 Axes>"
            ],
            "image/png": "[encoded data removed]"
          },
          "metadata": {
            "needs_background": "light"
          }
        },
        {
          "output_type": "display_data",
          "data": {
            "text/plain": [
              "<Figure size 1728x432 with 1 Axes>"
            ],
            "image/png": "[encoded data removed]"
          },
          "metadata": {
            "needs_background": "light"
          }
        },
        {
          "output_type": "display_data",
          "data": {
            "text/plain": [
              "<Figure size 1728x432 with 1 Axes>"
            ],
            "image/png": "[encoded data removed]"
          },
          "metadata": {
            "needs_background": "light"
          }
        },
        {
          "output_type": "display_data",
          "data": {
            "text/plain": [
              "<Figure size 1728x432 with 1 Axes>"
            ],
            "image/png": "[encoded data removed]"
          },
          "metadata": {
            "needs_background": "light"
          }
        },
        {
          "output_type": "display_data",
          "data": {
            "text/plain": [
              "<Figure size 1728x432 with 1 Axes>"
            ],
            "image/png": "[encoded data removed]"
          },
          "metadata": {
            "needs_background": "light"
          }
        },
        {
          "output_type": "display_data",
          "data": {
            "text/plain": [
              "<Figure size 1728x432 with 1 Axes>"
            ],
            "image/png": "[encoded data removed]"
          },
          "metadata": {
            "needs_background": "light"
          }
        },
        {
          "output_type": "display_data",
          "data": {
            "text/plain": [
              "<Figure size 1728x432 with 1 Axes>"
            ],
            "image/png": "[encoded data removed]"
          },
          "metadata": {
            "needs_background": "light"
          }
        },
        {
          "output_type": "display_data",
          "data": {
            "text/plain": [
              "<Figure size 1728x432 with 1 Axes>"
            ],
            "image/png": "[encoded data removed]"
          },
          "metadata": {
            "needs_background": "light"
          }
        },
        {
          "output_type": "display_data",
          "data": {
            "text/plain": [
              "<Figure size 1728x432 with 1 Axes>"
            ],
            "image/png": "[encoded data removed]"
          },
          "metadata": {
            "needs_background": "light"
          }
        },
        {
          "output_type": "display_data",
          "data": {
            "text/plain": [
              "<Figure size 1728x432 with 1 Axes>"
            ],
            "image/png": "[encoded data removed]"
          },
          "metadata": {
            "needs_background": "light"
          }
        },
        {
          "output_type": "display_data",
          "data": {
            "text/plain": [
              "<Figure size 1728x432 with 1 Axes>"
            ],
            "image/png": "[encoded data removed]"
          },
          "metadata": {
            "needs_background": "light"
          }
        },
        {
          "output_type": "display_data",
          "data": {
            "text/plain": [
              "<Figure size 1728x432 with 1 Axes>"
            ],
            "image/png": "[encoded data removed]"
          },
          "metadata": {
            "needs_background": "light"
          }
        },
        {
          "output_type": "display_data",
          "data": {
            "text/plain": [
              "<Figure size 1728x432 with 1 Axes>"
            ],
            "image/png": "[encoded data removed]"
          },
          "metadata": {
            "needs_background": "light"
          }
        },
        {
          "output_type": "display_data",
          "data": {
            "text/plain": [
              "<Figure size 1728x432 with 1 Axes>"
            ],
            "image/png": "[encoded data removed]"
          },
          "metadata": {
            "needs_background": "light"
          }
        },
        {
          "output_type": "display_data",
          "data": {
            "text/plain": [
              "<Figure size 1728x432 with 1 Axes>"
            ],
            "image/png": "[encoded data removed]"
          },
          "metadata": {
            "needs_background": "light"
          }
        }
      ],
      "source": [
        "for col in categorical_cols:\n",
        "    plt.figure(figsize=(24, 6))\n",
        "    sns.histplot(data=df[categorical_cols], x=col)\n",
        "    plt.xticks(rotation=90)\n",
        "    plt.show()"
      ]
    },
    {
      "cell_type": "markdown",
      "metadata": {
        "collapsed": false,
        "id": "8KAyKUQBNoXE"
      },
      "source": [
        "Как видно из полученных гистограмм, для многих бинарных признаков характерна ситуация, когда одно из двух значений признака встречается сильно реже, чем другое. Удалим такие признаки."
      ]
    },
    {
      "cell_type": "code",
      "source": [],
      "metadata": {
        "id": "3LP_iLtz1nDX"
      },
      "execution_count": null,
      "outputs": []
    },
    {
      "cell_type": "markdown",
      "metadata": {
        "collapsed": false,
        "id": "9nk1TQvINoXE"
      },
      "source": [
        "\n"
      ]
    },
    {
      "cell_type": "code",
      "execution_count": null,
      "metadata": {
        "colab": {
          "base_uri": "https://localhost:8080/"
        },
        "id": "Czcl2m9LNoXE",
        "outputId": "c7cd207d-8e55-4b96-cb12-504091b13de2"
      },
      "outputs": [
        {
          "output_type": "execute_result",
          "data": {
            "text/plain": [
              "(12, 4)"
            ]
          },
          "metadata": {},
          "execution_count": 35
        }
      ],
      "source": [
        "binary_cols = [col for col in categorical_cols if df[col].nunique() == 2 and col != \"product_type\"]\n",
        "# \"product_type\" принимает значения, отличные от 'no'/'yes' и соотношение категорий приемлимое, поэтому мы сразу не будем включать сюда данный признак\n",
        "categorical_cols = [col for col in categorical_cols if col not in binary_cols]\n",
        "len(binary_cols), len(categorical_cols)"
      ]
    },
    {
      "cell_type": "code",
      "execution_count": null,
      "metadata": {
        "colab": {
          "base_uri": "https://localhost:8080/"
        },
        "id": "8555Im-TNoXE",
        "outputId": "171a5ff9-4e00-4eba-cbd0-c5af8cffa51d"
      },
      "outputs": [
        {
          "output_type": "stream",
          "name": "stdout",
          "text": [
            "nuclear_reactor_raion {'no': 29608, 'yes': 863}\n",
            "railroad_terminal_raion {'no': 29335, 'yes': 1136}\n",
            "water_1line {'no': 28134, 'yes': 2337}\n",
            "railroad_1line {'no': 29578, 'yes': 893}\n",
            "thermal_power_plant_raion {'no': 28817, 'yes': 1654}\n",
            "oil_chemistry_raion {'no': 30175, 'yes': 296}\n",
            "detention_facility_raion {'no': 27427, 'yes': 3044}\n",
            "radiation_raion {'no': 19600, 'yes': 10871}\n",
            "big_road1_1line {'no': 29690, 'yes': 781}\n",
            "incineration_raion {'no': 28155, 'yes': 2316}\n",
            "big_market_raion {'no': 27649, 'yes': 2822}\n",
            "culture_objects_top_25 {'no': 28543, 'yes': 1928}\n"
          ]
        },
        {
          "output_type": "execute_result",
          "data": {
            "text/plain": [
              "29"
            ]
          },
          "metadata": {},
          "execution_count": 36
        }
      ],
      "source": [
        "min_p_yes = 0.2\n",
        "for col in binary_cols:\n",
        "    fr = df[col].value_counts().to_dict()\n",
        "    print(col, fr)\n",
        "    if fr[\"yes\"] / fr[\"no\"] < min_p_yes * fr[\"no\"]:\n",
        "        cols_to_delete.append(col)\n",
        "len(cols_to_delete)"
      ]
    },
    {
      "cell_type": "code",
      "execution_count": null,
      "metadata": {
        "colab": {
          "base_uri": "https://localhost:8080/"
        },
        "id": "MOkVr2tBNoXE",
        "outputId": "ee00a5d5-5d8a-4d64-97c5-b58a09583f31"
      },
      "outputs": [
        {
          "output_type": "execute_result",
          "data": {
            "text/plain": [
              "True"
            ]
          },
          "metadata": {},
          "execution_count": 37
        }
      ],
      "source": [
        "len(set(binary_cols) & set(cols_to_delete)) == len(binary_cols)"
      ]
    },
    {
      "cell_type": "markdown",
      "metadata": {
        "collapsed": false,
        "id": "PieJyHeRNoXF"
      },
      "source": [
        "Т. е. все бинарные колонки удалили. Поделим выборку на обучающую и тестовую таким образом, чтобы до определенной даты информация о квартирах попала в обучающую выборку, а после — в тестовую:"
      ]
    },
    {
      "cell_type": "code",
      "execution_count": null,
      "metadata": {
        "colab": {
          "base_uri": "https://localhost:8080/"
        },
        "id": "oF_u9URONoXF",
        "outputId": "963eda8f-edd3-432b-c9a5-dcf175449f00"
      },
      "outputs": [
        {
          "output_type": "execute_result",
          "data": {
            "text/plain": [
              "True"
            ]
          },
          "metadata": {},
          "execution_count": 38
        }
      ],
      "source": [
        "df[\"timestamp\"] = pd.to_datetime(df[\"timestamp\"], format=\"%Y-%m-%d\")\n",
        "\n",
        "# Проверим, что они отсортированы по возрастанию даты\n",
        "(df[\"timestamp\"] == sorted(df[\"timestamp\"])).sum() == df.shape[0]"
      ]
    },
    {
      "cell_type": "markdown",
      "metadata": {
        "collapsed": false,
        "id": "uEtbC2loNoXF"
      },
      "source": [
        "Т. е. исходная выборка уже отсортирована в порядке возрастания дат. Пусть первые 70 % данных будут обучающей выборкой, а остальные данные — тестовой выборкой (только нужно учитывать, что даты могут повторяться для нескольких объектов). Колонку с датами использовать не будем."
      ]
    },
    {
      "cell_type": "code",
      "execution_count": null,
      "metadata": {
        "id": "EhulNDvmNoXF"
      },
      "outputs": [],
      "source": [
        "last_date = df[\"timestamp\"][:int(df.shape[0] * 0.7)].iloc[-1]\n",
        "cols_to_delete.append(\"timestamp\")\n",
        "categorical_cols.remove(\"timestamp\")"
      ]
    },
    {
      "cell_type": "code",
      "execution_count": null,
      "metadata": {
        "colab": {
          "base_uri": "https://localhost:8080/"
        },
        "id": "R0FYcJfhNoXF",
        "outputId": "0649fb93-ec4a-47a9-ccea-1e98ce0af343"
      },
      "outputs": [
        {
          "output_type": "execute_result",
          "data": {
            "text/plain": [
              "0         True\n",
              "1         True\n",
              "2         True\n",
              "3         True\n",
              "4         True\n",
              "         ...  \n",
              "30466    False\n",
              "30467    False\n",
              "30468    False\n",
              "30469    False\n",
              "30470    False\n",
              "Name: timestamp, Length: 30471, dtype: bool"
            ]
          },
          "metadata": {},
          "execution_count": 40
        }
      ],
      "source": [
        "train_idx = df[\"timestamp\"] <= last_date\n",
        "train_idx"
      ]
    },
    {
      "cell_type": "code",
      "execution_count": null,
      "metadata": {
        "colab": {
          "base_uri": "https://localhost:8080/"
        },
        "id": "aEzmT1_cNoXG",
        "outputId": "e87ff353-19fa-4c13-81c6-c9d21044391b"
      },
      "outputs": [
        {
          "output_type": "execute_result",
          "data": {
            "text/plain": [
              "((21332, 291), (21332,), (9139, 291), (9139,))"
            ]
          },
          "metadata": {},
          "execution_count": 41
        }
      ],
      "source": [
        "X_train = df[train_idx]\n",
        "y_train = target[train_idx]\n",
        "\n",
        "X_test = df[~train_idx]\n",
        "y_test = target[~train_idx]\n",
        "\n",
        "X_train.shape, y_train.shape, X_test.shape, y_test.shape"
      ]
    },
    {
      "cell_type": "markdown",
      "metadata": {
        "collapsed": false,
        "id": "bTJc_S0RNoXJ"
      },
      "source": [
        "Удалим колонки, которые собирались удалить, и закодируем категориальные признаки. Нормализовывать численные признаки не будем, потому что далее будут использоваться модели, в основе которых лежит решающее дерево."
      ]
    },
    {
      "cell_type": "code",
      "execution_count": null,
      "metadata": {
        "id": "ds8THQE_NoXJ"
      },
      "outputs": [],
      "source": [
        "X_train = X_train.drop(cols_to_delete, axis=1)\n",
        "X_test = X_test.drop(cols_to_delete, axis=1)"
      ]
    },
    {
      "cell_type": "code",
      "execution_count": null,
      "metadata": {
        "id": "6mPU9StFNoXK"
      },
      "outputs": [],
      "source": [
        "o_enc = OrdinalEncoder()\n",
        "\n",
        "X_train[categorical_cols] = pd.DataFrame(\n",
        "    o_enc.fit_transform(X_train[categorical_cols]),\n",
        "    columns=categorical_cols\n",
        ")\n",
        "X_test[categorical_cols] = pd.DataFrame(\n",
        "    o_enc.transform(X_test[categorical_cols]),\n",
        "    columns=categorical_cols\n",
        ")"
      ]
    },
    {
      "cell_type": "markdown",
      "metadata": {
        "collapsed": false,
        "id": "YyM-T9OhNoXK"
      },
      "source": [
        "Проверим, что в наших выборках нет пропущенных значений:"
      ]
    },
    {
      "cell_type": "code",
      "execution_count": null,
      "metadata": {
        "colab": {
          "base_uri": "https://localhost:8080/"
        },
        "id": "9TLyXDv7NoXK",
        "outputId": "c9265fb1-4c02-4c7b-ade0-47181da522bb"
      },
      "outputs": [
        {
          "output_type": "execute_result",
          "data": {
            "text/plain": [
              "(35, 37, 34)"
            ]
          },
          "metadata": {},
          "execution_count": 44
        }
      ],
      "source": [
        "nan_cols_train = (X_train.isna().sum().index[X_train.isna().sum() > 0]).tolist()\n",
        "nan_cols_test = (X_test.isna().sum().index[X_test.isna().sum() > 0]).tolist()\n",
        "len(nan_cols_train), len(nan_cols_test), len(set(nan_cols_train) & set(nan_cols_test))"
      ]
    },
    {
      "cell_type": "code",
      "execution_count": null,
      "metadata": {
        "colab": {
          "base_uri": "https://localhost:8080/"
        },
        "id": "AfK1MU7xNoXK",
        "outputId": "d388bc39-d906-4007-d9ea-18be98337617"
      },
      "outputs": [
        {
          "output_type": "execute_result",
          "data": {
            "text/plain": [
              "(set(), {'ecology', 'product_type', 'sub_area'})"
            ]
          },
          "metadata": {},
          "execution_count": 45
        }
      ],
      "source": [
        "set(nan_cols_train) & set(categorical_cols), set(nan_cols_test) & set(categorical_cols)"
      ]
    },
    {
      "cell_type": "markdown",
      "metadata": {
        "collapsed": false,
        "id": "EPGt-nSXNoXK"
      },
      "source": [
        "Проверим, что пропусков не осталось."
      ]
    },
    {
      "cell_type": "code",
      "execution_count": null,
      "metadata": {
        "colab": {
          "base_uri": "https://localhost:8080/"
        },
        "id": "NLAENdcDNoXL",
        "outputId": "f9cb8882-0544-4d40-832c-2fdb6791fcd6"
      },
      "outputs": [
        {
          "output_type": "execute_result",
          "data": {
            "text/plain": [
              "(35, 37)"
            ]
          },
          "metadata": {},
          "execution_count": 46
        }
      ],
      "source": [
        "nan_cols_train = (X_train.isna().sum().index[X_train.isna().sum() > 0]).tolist()\n",
        "nan_cols_test = (X_test.isna().sum().index[X_test.isna().sum() > 0]).tolist()\n",
        "len(nan_cols_train), len(nan_cols_test)"
      ]
    },
    {
      "cell_type": "markdown",
      "metadata": {
        "collapsed": false,
        "id": "9pl2vJxWNoXL"
      },
      "source": [
        "В обучающей выборке пропущенные значения содержатся только в численных признаках, их будем заполнять средним значением из обучающей выборки (и для обучающей, и для тестовой выборки). А пропуски в категориальных признаках из тестовой выборки заполним наиболее часто встречающимися значениями из обучающей выборки."
      ]
    },
    {
      "cell_type": "code",
      "execution_count": null,
      "metadata": {
        "id": "hAY9b4l_NoXL"
      },
      "outputs": [],
      "source": [
        "for col in nan_cols_train:\n",
        "    X_train[col] = X_train[col].fillna(np.nanmean(X_train[col]))\n",
        "    X_test[col] = X_test[col].fillna(np.nanmean(X_train[col]))"
      ]
    },
    {
      "cell_type": "code",
      "execution_count": null,
      "metadata": {
        "id": "dBUdh4f5NoXL"
      },
      "outputs": [],
      "source": [
        "for col in set(nan_cols_test) & set(categorical_cols):\n",
        "    fill_with = X_train[col].value_counts().index[0]\n",
        "    X_test[col] = X_test[col].fillna(fill_with)"
      ]
    },
    {
      "cell_type": "markdown",
      "metadata": {
        "collapsed": false,
        "id": "J7Dvne4mNoXL"
      },
      "source": [
        "Данных много, подбор гиперпараметров проводить не будем, но вы можете проделать это в качестве упражнения."
      ]
    },
    {
      "cell_type": "code",
      "execution_count": null,
      "metadata": {
        "id": "jIqbByvvNoXM"
      },
      "outputs": [],
      "source": [
        "CONFIG_DATA = {\n",
        "    \"X_train\": X_train,\n",
        "    \"y_train\": y_train,\n",
        "    \"X_test\": X_test,\n",
        "    \"y_test\": y_test,\n",
        "}\n",
        "CONFIG_REG = {\n",
        "    \"scoring\": \"r2\", # подбирать гиперпараметры будем по R2\n",
        "    \"model_type\": \"regression\",\n",
        "}"
      ]
    },
    {
      "cell_type": "code",
      "execution_count": null,
      "metadata": {
        "colab": {
          "base_uri": "https://localhost:8080/"
        },
        "id": "4ZcJaEw8NoXM",
        "outputId": "52092dd6-fa80-4a54-f905-13ae6a9a6531"
      },
      "outputs": [
        {
          "output_type": "stream",
          "name": "stdout",
          "text": [
            "Результаты моделей с гиперпараметрами по умолчанию\n",
            "\n"
          ]
        },
        {
          "output_type": "stream",
          "name": "stderr",
          "text": [
            "\r0it [00:00, ?it/s]"
          ]
        },
        {
          "output_type": "stream",
          "name": "stdout",
          "text": [
            "RandomForest\n"
          ]
        },
        {
          "output_type": "stream",
          "name": "stderr",
          "text": [
            "\r1it [06:03, 363.03s/it]"
          ]
        },
        {
          "output_type": "stream",
          "name": "stdout",
          "text": [
            "MSE = 9444863890510.348; MAE = 1869229.674; R2 = 0.659\n",
            "----------------------------------------------------------------------------------------------------\n",
            "XGBoost\n",
            "[14:06:15] WARNING: /workspace/src/objective/regression_obj.cu:152: reg:linear is now deprecated in favor of reg:squarederror.\n"
          ]
        },
        {
          "output_type": "stream",
          "name": "stderr",
          "text": [
            "\r2it [06:20, 159.49s/it]"
          ]
        },
        {
          "output_type": "stream",
          "name": "stdout",
          "text": [
            "MSE = 9012069284456.127; MAE = 1873974.337; R2 = 0.674\n",
            "----------------------------------------------------------------------------------------------------\n",
            "LightGBM\n"
          ]
        },
        {
          "output_type": "stream",
          "name": "stderr",
          "text": [
            "\r3it [06:27, 90.08s/it] "
          ]
        },
        {
          "output_type": "stream",
          "name": "stdout",
          "text": [
            "MSE = 8679142746560.804; MAE = 1795975.723; R2 = 0.686\n",
            "----------------------------------------------------------------------------------------------------\n",
            "CatBoost\n"
          ]
        },
        {
          "output_type": "stream",
          "name": "stderr",
          "text": [
            "4it [07:23, 110.91s/it]"
          ]
        },
        {
          "output_type": "stream",
          "name": "stdout",
          "text": [
            "MSE = 8394659973743.697; MAE = 1789780.508; R2 = 0.697\n",
            "----------------------------------------------------------------------------------------------------\n"
          ]
        },
        {
          "output_type": "stream",
          "name": "stderr",
          "text": [
            "\n"
          ]
        }
      ],
      "source": [
        "ans_cl = dict()\n",
        "print(\"Результаты моделей с гиперпараметрами по умолчанию\\n\")\n",
        "for model_name, model in tqdm(\n",
        "        zip(\n",
        "            [\"RandomForest\", \"XGBoost\", \"LightGBM\", \"CatBoost\"],\n",
        "            [RandomForestRegressor(), XGBRegressor(), LGBMRegressor(), CatBoostRegressor(verbose=0)]\n",
        "        )\n",
        "):\n",
        "    print(model_name)\n",
        "    preds, metrics = model_train_test(model=model, model_type=\"regression\", **CONFIG_DATA)\n",
        "    ans_cl[model_name] = (preds, metrics)\n",
        "    print(\"-\"*100)"
      ]
    },
    {
      "cell_type": "code",
      "execution_count": null,
      "metadata": {
        "colab": {
          "base_uri": "https://localhost:8080/",
          "height": 175
        },
        "id": "LTVlrFQcNoXM",
        "outputId": "f996ba56-249d-4c9c-efbb-ef8b8951479e"
      },
      "outputs": [
        {
          "output_type": "execute_result",
          "data": {
            "text/plain": [
              "                       MSE           MAE        R2\n",
              "CatBoost      8.394660e+12  1.789781e+06  0.696709\n",
              "LightGBM      8.679143e+12  1.795976e+06  0.686431\n",
              "XGBoost       9.012069e+12  1.873974e+06  0.674402\n",
              "RandomForest  9.444864e+12  1.869230e+06  0.658766"
            ],
            "text/html": [
              "\n",
              "  <div id=\"df-0a15bdcb-e28e-4c1b-b37a-59f90446e6e2\">\n",
              "    <div class=\"colab-df-container\">\n",
              "      <div>\n",
              "<style scoped>\n",
              "    .dataframe tbody tr th:only-of-type {\n",
              "        vertical-align: middle;\n",
              "    }\n",
              "\n",
              "    .dataframe tbody tr th {\n",
              "        vertical-align: top;\n",
              "    }\n",
              "\n",
              "    .dataframe thead th {\n",
              "        text-align: right;\n",
              "    }\n",
              "</style>\n",
              "<table border=\"1\" class=\"dataframe\">\n",
              "  <thead>\n",
              "    <tr style=\"text-align: right;\">\n",
              "      <th></th>\n",
              "      <th>MSE</th>\n",
              "      <th>MAE</th>\n",
              "      <th>R2</th>\n",
              "    </tr>\n",
              "  </thead>\n",
              "  <tbody>\n",
              "    <tr>\n",
              "      <th>CatBoost</th>\n",
              "      <td>8.394660e+12</td>\n",
              "      <td>1.789781e+06</td>\n",
              "      <td>0.696709</td>\n",
              "    </tr>\n",
              "    <tr>\n",
              "      <th>LightGBM</th>\n",
              "      <td>8.679143e+12</td>\n",
              "      <td>1.795976e+06</td>\n",
              "      <td>0.686431</td>\n",
              "    </tr>\n",
              "    <tr>\n",
              "      <th>XGBoost</th>\n",
              "      <td>9.012069e+12</td>\n",
              "      <td>1.873974e+06</td>\n",
              "      <td>0.674402</td>\n",
              "    </tr>\n",
              "    <tr>\n",
              "      <th>RandomForest</th>\n",
              "      <td>9.444864e+12</td>\n",
              "      <td>1.869230e+06</td>\n",
              "      <td>0.658766</td>\n",
              "    </tr>\n",
              "  </tbody>\n",
              "</table>\n",
              "</div>\n",
              "      <button class=\"colab-df-convert\" onclick=\"convertToInteractive('df-0a15bdcb-e28e-4c1b-b37a-59f90446e6e2')\"\n",
              "              title=\"Convert this dataframe to an interactive table.\"\n",
              "              style=\"display:none;\">\n",
              "        \n",
              "  <svg xmlns=\"http://www.w3.org/2000/svg\" height=\"24px\"viewBox=\"0 0 24 24\"\n",
              "       width=\"24px\">\n",
              "    <path d=\"M0 0h24v24H0V0z\" fill=\"none\"/>\n",
              "    <path d=\"M18.56 5.44l.94 2.06.94-2.06 2.06-.94-2.06-.94-.94-2.06-.94 2.06-2.06.94zm-11 1L8.5 8.5l.94-2.06 2.06-.94-2.06-.94L8.5 2.5l-.94 2.06-2.06.94zm10 10l.94 2.06.94-2.06 2.06-.94-2.06-.94-.94-2.06-.94 2.06-2.06.94z\"/><path d=\"M17.41 7.96l-1.37-1.37c-.4-.4-.92-.59-1.43-.59-.52 0-1.04.2-1.43.59L10.3 9.45l-7.72 7.72c-.78.78-.78 2.05 0 2.83L4 21.41c.39.39.9.59 1.41.59.51 0 1.02-.2 1.41-.59l7.78-7.78 2.81-2.81c.8-.78.8-2.07 0-2.86zM5.41 20L4 18.59l7.72-7.72 1.47 1.35L5.41 20z\"/>\n",
              "  </svg>\n",
              "      </button>\n",
              "      \n",
              "  <style>\n",
              "    .colab-df-container {\n",
              "      display:flex;\n",
              "      flex-wrap:wrap;\n",
              "      gap: 12px;\n",
              "    }\n",
              "\n",
              "    .colab-df-convert {\n",
              "      background-color: #E8F0FE;\n",
              "      border: none;\n",
              "      border-radius: 50%;\n",
              "      cursor: pointer;\n",
              "      display: none;\n",
              "      fill: #1967D2;\n",
              "      height: 32px;\n",
              "      padding: 0 0 0 0;\n",
              "      width: 32px;\n",
              "    }\n",
              "\n",
              "    .colab-df-convert:hover {\n",
              "      background-color: #E2EBFA;\n",
              "      box-shadow: 0px 1px 2px rgba(60, 64, 67, 0.3), 0px 1px 3px 1px rgba(60, 64, 67, 0.15);\n",
              "      fill: #174EA6;\n",
              "    }\n",
              "\n",
              "    [theme=dark] .colab-df-convert {\n",
              "      background-color: #3B4455;\n",
              "      fill: #D2E3FC;\n",
              "    }\n",
              "\n",
              "    [theme=dark] .colab-df-convert:hover {\n",
              "      background-color: #434B5C;\n",
              "      box-shadow: 0px 1px 3px 1px rgba(0, 0, 0, 0.15);\n",
              "      filter: drop-shadow(0px 1px 2px rgba(0, 0, 0, 0.3));\n",
              "      fill: #FFFFFF;\n",
              "    }\n",
              "  </style>\n",
              "\n",
              "      <script>\n",
              "        const buttonEl =\n",
              "          document.querySelector('#df-0a15bdcb-e28e-4c1b-b37a-59f90446e6e2 button.colab-df-convert');\n",
              "        buttonEl.style.display =\n",
              "          google.colab.kernel.accessAllowed ? 'block' : 'none';\n",
              "\n",
              "        async function convertToInteractive(key) {\n",
              "          const element = document.querySelector('#df-0a15bdcb-e28e-4c1b-b37a-59f90446e6e2');\n",
              "          const dataTable =\n",
              "            await google.colab.kernel.invokeFunction('convertToInteractive',\n",
              "                                                     [key], {});\n",
              "          if (!dataTable) return;\n",
              "\n",
              "          const docLinkHtml = 'Like what you see? Visit the ' +\n",
              "            '<a target=\"_blank\" href=https://colab.research.google.com/notebooks/data_table.ipynb>data table notebook</a>'\n",
              "            + ' to learn more about interactive tables.';\n",
              "          element.innerHTML = '';\n",
              "          dataTable['output_type'] = 'display_data';\n",
              "          await google.colab.output.renderOutput(dataTable, element);\n",
              "          const docLink = document.createElement('div');\n",
              "          docLink.innerHTML = docLinkHtml;\n",
              "          element.appendChild(docLink);\n",
              "        }\n",
              "      </script>\n",
              "    </div>\n",
              "  </div>\n",
              "  "
            ]
          },
          "metadata": {},
          "execution_count": 51
        }
      ],
      "source": [
        "ans_cl_df = pd.DataFrame(ans_cl).T\n",
        "ans_cl_df[\"MSE\"] = ans_cl_df[1].apply(lambda x: x[0])\n",
        "ans_cl_df[\"MAE\"] = ans_cl_df[1].apply(lambda x: x[1])\n",
        "ans_cl_df[\"R2\"] = ans_cl_df[1].apply(lambda x: x[2])\n",
        "ans_cl_df = ans_cl_df.drop([0, 1], axis=1)\n",
        "\n",
        "# Отсортируем получившуюся таблицу по убыванию R2\n",
        "ans_cl_df.sort_values(\"R2\", ascending=False)"
      ]
    },
    {
      "cell_type": "markdown",
      "metadata": {
        "collapsed": false,
        "id": "H83iUSA4NoXM"
      },
      "source": [
        "При сравнении гиперпараметров по умолчанию наилучшим алгоритмом оказался CatBoost, хотя все модели показали примерно одинаковый результат (конечно, не сильно высокий, но вполне приемлемый).\n",
        "\n",
        "Таким образом, при выборе алгоритма необходимо опираться на постановку конкретной задачи, поскольку каждый алгоритм имеет свои особенности (учитывая также время обучения и тестирования модели). Однако сильной разницы между ними нет."
      ]
    },
    {
      "cell_type": "code",
      "execution_count": null,
      "metadata": {
        "id": "c8JHpQo-NoXM"
      },
      "outputs": [],
      "source": []
    }
  ],
  "metadata": {
    "colab": {
      "provenance": [],
      "collapsed_sections": [
        "6CKr3jROz7kM",
        "N4dUFs6yNoW3",
        "FYV4BRHt0o5b"
      ],
      "include_colab_link": true
    },
    "kernelspec": {
      "display_name": "Python 3",
      "name": "python3"
    },
    "language_info": {
      "name": "python"
    }
  },
  "nbformat": 4,
  "nbformat_minor": 0
}