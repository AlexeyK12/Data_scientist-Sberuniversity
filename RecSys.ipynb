{
  "nbformat": 4,
  "nbformat_minor": 0,
  "metadata": {
    "kernelspec": {
      "display_name": "Python 3",
      "language": "python",
      "name": "python3"
    },
    "language_info": {
      "codemirror_mode": {
        "name": "ipython",
        "version": 3
      },
      "file_extension": ".py",
      "mimetype": "text/x-python",
      "name": "python",
      "nbconvert_exporter": "python",
      "pygments_lexer": "ipython3",
      "version": "3.7.5"
    },
    "name": "lesson11_recsys.ipynb",
    "colab": {
      "provenance": [],
      "collapsed_sections": [
        "cf4lbaFSxyo7",
        "llNUr_9xxypo",
        "C4Ok7gk1xypx",
        "QJmVZW0TxyqA",
        "QZ2AV3PIxyqT",
        "RXDUM0i_xyqk"
      ],
      "include_colab_link": true
    }
  },
  "cells": [
    {
      "cell_type": "markdown",
      "metadata": {
        "id": "view-in-github",
        "colab_type": "text"
      },
      "source": [
        "<a href=\"https://colab.research.google.com/github/AlexeyK12/Data_scientist-Sberuniversity/blob/main/RecSys.ipynb\" target=\"_parent\"><img src=\"https://colab.research.google.com/assets/colab-badge.svg\" alt=\"Open In Colab\"/></a>"
      ]
    },
    {
      "cell_type": "markdown",
      "metadata": {
        "collapsed": true,
        "id": "Y4hNYuBMxyoa"
      },
      "source": [
        "# Рекомендательные системы\n",
        "\n",
        "Источник: https://colab.research.google.com/drive/1-3XVdCprzlzeWtd-T6Zr3WBdnd1bDQ91?usp=sharing#scrollTo=EpUyM57bxyqO"
      ]
    },
    {
      "cell_type": "markdown",
      "metadata": {
        "id": "qYGpzP9Wxyoc"
      },
      "source": [
        "Идея рекомендательных систем на основе ближайшего соседа – использовать предпочтения некоторой группы людей, похожих на данного пользователя, чтобы рекомендовать ему что-либо.\n",
        "\n",
        "У такой модели много применений:\n",
        "    \n",
        "   * рекомендация товаров интернет-магазинов\n",
        "   * рекомендация музыки или фильмов\n",
        "   * рекомендация людей/контента в социальных сетях"
      ]
    },
    {
      "cell_type": "markdown",
      "metadata": {
        "collapsed": true,
        "id": "kAuT-D94xyod"
      },
      "source": [
        "![](amazon.jpg)\n",
        "\n",
        "<a href=\"https://drive.google.com/uc?id=1jAZLpihYxu_FPvN9PIJ1G4S_KvO_6Ku6\n",
        "\" target=\"_blank\"><img src=\"https://drive.google.com/uc?id=1buQlTY5D-uT18rsjmp-hO60sjtN0rpXg\"\n",
        "alt=\"IMAGE ALT TEXT HERE\" width=\"700\" border=\"0\" /></a>\n"
      ]
    },
    {
      "cell_type": "markdown",
      "metadata": {
        "id": "Dk3ekSpTxyoe"
      },
      "source": [
        "**Пример рекомендательной системы Amazon.com**"
      ]
    },
    {
      "cell_type": "markdown",
      "metadata": {
        "id": "kVL4BOUmxyof"
      },
      "source": [
        "![](imdb.png)\n",
        "\n",
        "<a href=\"https://drive.google.com/uc?id=1jAZLpihYxu_FPvN9PIJ1G4S_KvO_6Ku6\n",
        "\" target=\"_blank\"><img src=\"https://drive.google.com/uc?id=1zEIj_g4A-5assEIxY7UCQpLMsaETmyCi\"\n",
        "alt=\"IMAGE ALT TEXT HERE\" width=\"700\" border=\"0\" /></a>\n"
      ]
    },
    {
      "cell_type": "markdown",
      "metadata": {
        "id": "HKjLouqcxyog"
      },
      "source": [
        "**Рекомендация фильмов от IMDb**"
      ]
    },
    {
      "cell_type": "markdown",
      "metadata": {
        "id": "qyeCkv1Yxyoh"
      },
      "source": [
        "Естественный способ получить рекомендацию о чем-либо - спросить мнение об этом у друзей или любых людей, которым нравится то же, что и вам. Эту идею можно использовать и для машины: для каждого человека алгоритм просматривает большую группу людей и ищет в ней подгруппу с похожим на данного человека вкусом. Далее создается список того, что еще нравится этим людям, а затем человеку рекомендуются предложения из этого списка. Такой алгоритм называется алгоритмом **коллаборативной фильтрации**."
      ]
    },
    {
      "cell_type": "markdown",
      "metadata": {
        "id": "Gyar1-zixyoi"
      },
      "source": [
        "**Отключаем предупреждения**\n",
        "\n",
        "Библиотека **warnings** отвечает за то, какие предупреждения (warnings) о работе будут выводиться пользователю.\n",
        "FutureWarning - предупреждения о том, как изменится работа библиотек в будущих версиях. Такие предупреждения мы будем игнорировать.\n",
        "Чтобы включить режим игнорирования, мы отбираем все предупреждения из категории FutureWarning и выбираем для них действия 'ignore'.\n",
        "Это делается вызовом функции simplefilter c задание двух атрибутов: действия action и категории предупреждений category."
      ]
    },
    {
      "cell_type": "code",
      "metadata": {
        "id": "ckjaZ99Bxyoj"
      },
      "source": [
        "import warnings\n",
        "warnings.filterwarnings(\"ignore\")"
      ],
      "execution_count": null,
      "outputs": []
    },
    {
      "cell_type": "markdown",
      "metadata": {
        "id": "KVU_vx2kxyon"
      },
      "source": [
        "Для красивого вывода на экран сложных объектов будем использовать **pprint**"
      ]
    },
    {
      "cell_type": "code",
      "metadata": {
        "id": "C98_ZyD-xyoo"
      },
      "source": [
        "import pprint\n",
        "pp = pprint.PrettyPrinter(indent=4)"
      ],
      "execution_count": null,
      "outputs": []
    },
    {
      "cell_type": "markdown",
      "metadata": {
        "id": "6Rcimj60xyoq"
      },
      "source": [
        "### Подготовка данных"
      ]
    },
    {
      "cell_type": "markdown",
      "metadata": {
        "id": "W1k3PWS_xyor"
      },
      "source": [
        "Чтобы хранить сразу много предпочтений для каждого человека, удобнее всего воспользоваться **вложенным словарем**.\n",
        "\n",
        "Самый простой способ создать словарь в python - использовать фигурные скобки {}. Данные в словаре хранятся в формате ключ – значение, разделенные двоеточием:\n",
        "\n",
        "```python\n",
        "dict = {'key': 'value'}\n",
        "```\n",
        "\n",
        "Мы будем работать с *вложенным словарем* кинокритиков и выставленных ими оценок для небольшого набора данных о фильмах. Построим его следующим образом:\n",
        "\n",
        "1) для каждого кинокритика создаем словарь оценок фильмов в формате\n",
        "   ```python\n",
        "    scores_dict = {\n",
        "        'film_1': 'score_1',\n",
        "        'film_2': 'score_2',\n",
        "        ...\n",
        "    }\n",
        "   ```\n",
        "   \n",
        "2) создаем словарь кинокритиков, где в качестве значений будет соответствующий ему словарь оценок\n",
        "   ```python\n",
        "     critics = {\n",
        "         'name_1': 'scores_dict_1',\n",
        "         'name_2': 'scores_dict_2',\n",
        "         ...\n",
        "     }\n",
        "   ```"
      ]
    },
    {
      "cell_type": "code",
      "metadata": {
        "id": "rW47UBSVxyos"
      },
      "source": [
        "# Словарь кинокритиков и выставленных ими оценок\n",
        "critics={'Lisa Rose': {'Lady in the Water': 2.5, 'Snakes on a Plane': 3.5,\n",
        " 'Just My Luck': 3.0, 'Superman Returns': 3.5, 'You, Me and Dupree': 2.5,\n",
        " 'The Night Listener': 3.0},\n",
        "'Gene Seymour': {'Lady in the Water': 3.0, 'Snakes on a Plane': 3.5,\n",
        " 'Just My Luck': 1.5, 'Superman Returns': 5.0, 'The Night Listener': 3.0,\n",
        " 'You, Me and Dupree': 3.5},\n",
        "'Michael Phillips': {'Lady in the Water': 2.5, 'Snakes on a Plane': 3.0,\n",
        " 'Superman Returns': 3.5, 'The Night Listener': 4.0},\n",
        "'Claudia Puig': {'Snakes on a Plane': 3.5, 'Just My Luck': 3.0,\n",
        " 'The Night Listener': 4.5, 'Superman Returns': 4.0,\n",
        " 'You, Me and Dupree': 2.5},\n",
        "'Mick LaSalle': {'Lady in the Water': 3.0, 'Snakes on a Plane': 4.0,\n",
        " 'Just My Luck': 2.0, 'Superman Returns': 3.0, 'The Night Listener': 3.0,\n",
        " 'You, Me and Dupree': 2.0},\n",
        "'Jack Matthews': {'Lady in the Water': 3.0, 'Snakes on a Plane': 4.0,\n",
        " 'The Night Listener': 3.0, 'Superman Returns': 5.0, 'You, Me and Dupree': 3.5},\n",
        "'Toby': {'Snakes on a Plane':4.5,'You, Me and Dupree':1.0,'Superman Returns':4.0}}"
      ],
      "execution_count": null,
      "outputs": []
    },
    {
      "cell_type": "code",
      "metadata": {
        "id": "PeqIatl7xyov",
        "colab": {
          "base_uri": "https://localhost:8080/"
        },
        "outputId": "c76b4ea7-6c19-483d-9e47-6ef8ba44c99e"
      },
      "source": [
        "pp.pprint(critics)"
      ],
      "execution_count": null,
      "outputs": [
        {
          "output_type": "stream",
          "name": "stdout",
          "text": [
            "{   'Claudia Puig': {   'Just My Luck': 3.0,\n",
            "                        'Snakes on a Plane': 3.5,\n",
            "                        'Superman Returns': 4.0,\n",
            "                        'The Night Listener': 4.5,\n",
            "                        'You, Me and Dupree': 2.5},\n",
            "    'Gene Seymour': {   'Just My Luck': 1.5,\n",
            "                        'Lady in the Water': 3.0,\n",
            "                        'Snakes on a Plane': 3.5,\n",
            "                        'Superman Returns': 5.0,\n",
            "                        'The Night Listener': 3.0,\n",
            "                        'You, Me and Dupree': 3.5},\n",
            "    'Jack Matthews': {   'Lady in the Water': 3.0,\n",
            "                         'Snakes on a Plane': 4.0,\n",
            "                         'Superman Returns': 5.0,\n",
            "                         'The Night Listener': 3.0,\n",
            "                         'You, Me and Dupree': 3.5},\n",
            "    'Lisa Rose': {   'Just My Luck': 3.0,\n",
            "                     'Lady in the Water': 2.5,\n",
            "                     'Snakes on a Plane': 3.5,\n",
            "                     'Superman Returns': 3.5,\n",
            "                     'The Night Listener': 3.0,\n",
            "                     'You, Me and Dupree': 2.5},\n",
            "    'Michael Phillips': {   'Lady in the Water': 2.5,\n",
            "                            'Snakes on a Plane': 3.0,\n",
            "                            'Superman Returns': 3.5,\n",
            "                            'The Night Listener': 4.0},\n",
            "    'Mick LaSalle': {   'Just My Luck': 2.0,\n",
            "                        'Lady in the Water': 3.0,\n",
            "                        'Snakes on a Plane': 4.0,\n",
            "                        'Superman Returns': 3.0,\n",
            "                        'The Night Listener': 3.0,\n",
            "                        'You, Me and Dupree': 2.0},\n",
            "    'Toby': {   'Snakes on a Plane': 4.5,\n",
            "                'Superman Returns': 4.0,\n",
            "                'You, Me and Dupree': 1.0}}\n"
          ]
        }
      ]
    },
    {
      "cell_type": "markdown",
      "metadata": {
        "id": "cf4lbaFSxyo7"
      },
      "source": [
        "### Критерий похожести"
      ]
    },
    {
      "cell_type": "markdown",
      "metadata": {
        "id": "iOgyFSQQxyo8"
      },
      "source": [
        "Как мы уже говорили, чтобы выделить подгруппу людей с похожим вкусом, необходимо как-то определить, насколько люди похожи. В нашем случае мы будем сравнивать оценки людей у одинаковых фильмов. Мы рассмотрим два способа сравнения. С помощью\n",
        "- расстояния Евклида\n",
        "- корреляции Пирсона"
      ]
    },
    {
      "cell_type": "markdown",
      "metadata": {
        "id": "88OOgKKXxyo9"
      },
      "source": [
        "**Оценка по евклидову расстоянию**"
      ]
    },
    {
      "cell_type": "markdown",
      "metadata": {
        "id": "2UhBb6NWxyo9"
      },
      "source": [
        "Евклидово расстояние для точек $x = (x_1, x_2, ... , x_n)$ и $y = (y_1, y_2, ... , y_n)$ определяется следующим образом:\n",
        "\n",
        "\\begin{equation}\n",
        "d(x, y) = \\sqrt{\\sum_{i = 1}^n (x_i - y_i)^2}\n",
        "\\end{equation}"
      ]
    },
    {
      "cell_type": "markdown",
      "metadata": {
        "id": "sPSNyHX5xypC"
      },
      "source": [
        "Для понимания расстояния Евклида рассмотрим случай, когда *n = 2*. То есть каждый объект выборки (точка) описывается двумя параметрами (координатами). $x = (x_1, x_2)$ и $y = (y_1, y_2)$. Тогда Евклидово расстояние равно расстоянию между точками на плоскости.\n",
        "\n",
        "\\begin{equation}\n",
        "d(x, y) = \\sqrt{\\sum_{i = 1}^n (x_i - y_i)^2} = \\sqrt{(x_2 - x_1)^2 + (y_2 - y_1)^2}\n",
        "\\end{equation}\n",
        "\n",
        "Или, если представить задачу геометрически:\n",
        "\n",
        "<a href=\"https://drive.google.com/uc?id=1jAZLpihYxu_FPvN9PIJ1G4S_KvO_6Ku6\n",
        "\" target=\"_blank\"><img src=\"https://drive.google.com/uc?id=1BXgfArl4T8N2M4eFur3JrsGloGWDDAlb\"\n",
        "alt=\"IMAGE ALT TEXT HERE\" width=\"300\" border=\"0\" /></a>\n"
      ]
    },
    {
      "cell_type": "markdown",
      "metadata": {
        "id": "AZkWMa__xypL"
      },
      "source": [
        "Расстояние, вычисленное по этой формуле, будет тем меньше, чем больше сходство людей (чем ближе точки). Нам же нужна функция, значение которой будет, наоборот, большое, если люди сильно похожи друг на друга. То есть схожесть больше (от 0 до 1), если точки ближе друг другу\n",
        "\n",
        "\n",
        "Для этого будем использовать функцию \"похожести\" в таком виде:\n",
        "\n",
        "\\begin{equation}\n",
        "\\text{similarity }(x, y) = \\dfrac{1}{1 + d(x, y)},\n",
        "\\end{equation}\n",
        "\n",
        "где $d(x, y)$ - расстояние Евклида."
      ]
    },
    {
      "cell_type": "markdown",
      "metadata": {
        "id": "KxSbdwfTxypT"
      },
      "source": [
        "Далее реализуем несколько простых функций для коллаборативной фильтрации на основе ближайшего соседа"
      ]
    },
    {
      "cell_type": "markdown",
      "metadata": {
        "id": "QHfiH9dTxypX"
      },
      "source": [
        "Функция для подсчета сходства двух критиков на основе расстояния Евклида **sim_distance()**. Функция принимает на вход три аргумента:\n",
        "* словарь критиков\n",
        "* имя первого критика для сравнения\n",
        "* имя второго критика для сравнения"
      ]
    },
    {
      "cell_type": "code",
      "source": [
        "from scipy.stats import pearsonr\n",
        "from math import sqrt\n",
        "from math import isnan\n",
        "\n",
        "def similar_films(critics_dict, person1, person2):\n",
        "    # создаем пустой список фильмов\n",
        "    sim_film = []\n",
        "\n",
        "    # для всех фильмов у person1...\n",
        "    for film in critics_dict[person1]:\n",
        "        # если такой фильм оценивался person 2...\n",
        "        if film in critics_dict[person2]:\n",
        "            # добавляем этот фильм в список sim_film\n",
        "            sim_film.append(film)\n",
        "\n",
        "    return sim_film\n",
        "\n",
        "def sim_distance(critics_dict, person1, person2):\n",
        "    # используем написанную функцию для получения фильмов, оцененных обоими критиками\n",
        "    sim_films = similar_films(critics_dict, person1, person2)\n",
        "\n",
        "    # если нет ни одной общей оценки, то есть длина sim_film равна 0 - вернуть 0\n",
        "    if len(sim_films) == 0:\n",
        "        return 0\n",
        "\n",
        "    # для каждого фильма из sim_film посчитаем евклидово расстояние и просуммируем все полученные значения\n",
        "    sum_of_euclead_dist = 0\n",
        "\n",
        "    for film in sim_films:\n",
        "        sum_of_euclead_dist = sum_of_euclead_dist + pow(critics_dict[person1][film] - critics_dict[person2][film], 2)\n",
        "\n",
        "    mean_of_euclead_dist = sum_of_euclead_dist / len(sim_films)\n",
        "\n",
        "    # считаем похожесть\n",
        "    score = 1 / (1 + mean_of_euclead_dist)\n",
        "\n",
        "    return score"
      ],
      "metadata": {
        "id": "_cwQ84YNT2nj"
      },
      "execution_count": null,
      "outputs": []
    },
    {
      "cell_type": "markdown",
      "metadata": {
        "id": "ravKDWOaxypY"
      },
      "source": [
        "Посмотрим, как работает эта функция для двух критиков Lisa Rose и Toby:"
      ]
    },
    {
      "cell_type": "code",
      "metadata": {
        "id": "Dol4H8AgxypZ",
        "colab": {
          "base_uri": "https://localhost:8080/"
        },
        "outputId": "c86e1c51-375d-4e02-bc4e-500b52ba3c60"
      },
      "source": [
        "sim_distance(critics,'Lisa Rose','Toby')"
      ],
      "execution_count": null,
      "outputs": [
        {
          "output_type": "execute_result",
          "data": {
            "text/plain": [
              "0.46153846153846145"
            ]
          },
          "metadata": {},
          "execution_count": 59
        }
      ]
    },
    {
      "cell_type": "markdown",
      "metadata": {
        "id": "WCtW_24Sxype"
      },
      "source": [
        "Эта функция работает также как:\n",
        "\n",
        "\\begin{equation}\n",
        "\\text{similarity }(x, y) = \\dfrac{1}{1 + d(x, y)},\n",
        "\\end{equation}\n",
        "\n",
        "где $d(x, y)$ - расстояние Евклида.\n",
        "\n",
        "Однако, по осям будет фильмы и оценки от критиков. Если у критиков нет одинаковых фильмов, то мы этих критиков не рассматриваем"
      ]
    },
    {
      "cell_type": "markdown",
      "metadata": {
        "id": "nMyTUfCbxypf"
      },
      "source": [
        "**Коэффициент корреляции Пирсона**"
      ]
    },
    {
      "cell_type": "markdown",
      "metadata": {
        "id": "0Bq9JuCExypg"
      },
      "source": [
        "Другой способ определять степень схожести - использовать коэффициент корреляции Пирсона. Этот коэффициент показывает, насколько два набора данных хорошо ложатся на прямую."
      ]
    },
    {
      "cell_type": "markdown",
      "metadata": {
        "id": "Inb-3sBExyph"
      },
      "source": [
        "<a href=\"https://drive.google.com/uc?id=1jAZLpihYxu_FPvN9PIJ1G4S_KvO_6Ku6\n",
        "\" target=\"_blank\"><img src=\"https://drive.google.com/uc?id=1qXZxG2sE3Y0oAcgayaEdN6nCYVunj_83\"\n",
        "alt=\"IMAGE ALT TEXT HERE\" width=\"800\" border=\"0\" /></a>"
      ]
    },
    {
      "cell_type": "markdown",
      "metadata": {
        "id": "LRepT7krxypi"
      },
      "source": [
        "Два кинокритика со средним значением корреляции 0.41 (слева) и два кинокритика с высоким значением корреляции 0.75 (справа).  "
      ]
    },
    {
      "cell_type": "markdown",
      "metadata": {
        "id": "uKzTDyNcxypj"
      },
      "source": [
        "Корреляция Пирсона считается по формуле:     \n",
        "\\begin{equation}\n",
        "    \\text{corr}(x, y) = \\dfrac{\\sum_{i = 1}^n (x_i - \\overline x) (y_i - \\overline y)}{\\sqrt{\\sum_{i = 1}^n (x_i - \\overline x)^2 \\sum_{i = 1}^n (y_i - \\overline y)^2}}\n",
        "\\end{equation}\n",
        "где $\\overline x = \\frac{1}{n}\\sum_{j = 1}^n x_j, \\overline y = \\frac{1}{n}\\sum_{j = 1}^n y_j$"
      ]
    },
    {
      "cell_type": "markdown",
      "metadata": {
        "id": "p3E7vXwAxypj"
      },
      "source": [
        "По аналогии с функцией **sim_distance()** в модуле **recommendations** реализуем функцию для подсчета сходства двух критиков на основе корреляции Пирсона. Она называется **sim_pearson()**. Функция принимает на вход те же самые аргументы, что и **sim_distance()**:\n",
        "* словарь критиков\n",
        "* имя первого критика для сравнения\n",
        "* имя второго критика для сравнения"
      ]
    },
    {
      "cell_type": "code",
      "source": [
        "def sim_pearson(critics_dict, person1, person2):\n",
        "    # получить список фильмов, оцененных обоими критиками\n",
        "    sim_films = similar_films(critics_dict, person1, person2)\n",
        "\n",
        "    # если нет ни одной общей оценки, вернуть 0\n",
        "    if len(sim_films) < 2:\n",
        "        return 0\n",
        "\n",
        "    # получим оценки критиков для фильмов из пересечения\n",
        "    scores1 = []\n",
        "    scores2 = []\n",
        "    for film in sim_films:\n",
        "        scores1.append(critics_dict[person1][film])\n",
        "        scores2.append(critics_dict[person2][film])\n",
        "\n",
        "    # посчитаем коэффициент корреляции\n",
        "    # берем [0] от результата, так как функция pearsonr() возвращает еще значение p-value\n",
        "    r = pearsonr(scores1, scores2)[0]\n",
        "\n",
        "    # если вдруг было деление на ноль и функция вернула nan, то присваиваем ноль\n",
        "    if isnan(r):\n",
        "        r = 0\n",
        "    return r"
      ],
      "metadata": {
        "id": "qdAxOkQFVxsP"
      },
      "execution_count": null,
      "outputs": []
    },
    {
      "cell_type": "markdown",
      "metadata": {
        "collapsed": true,
        "id": "xsZWvacrxypk"
      },
      "source": [
        "Посмотрим, как работает эта функция для двух критиков Lisa Rose и Gene Seymour:"
      ]
    },
    {
      "cell_type": "code",
      "metadata": {
        "id": "V4quusN2xypl",
        "colab": {
          "base_uri": "https://localhost:8080/"
        },
        "outputId": "6a43ee24-8fe9-46b8-927d-d911a4266b09"
      },
      "source": [
        "sim_pearson(critics, 'Lisa Rose', 'Gene Seymour')"
      ],
      "execution_count": null,
      "outputs": [
        {
          "output_type": "execute_result",
          "data": {
            "text/plain": [
              "0.3960590171906697"
            ]
          },
          "metadata": {},
          "execution_count": 61
        }
      ]
    },
    {
      "cell_type": "markdown",
      "metadata": {
        "id": "llNUr_9xxypo"
      },
      "source": [
        "### Ранжирование критиков"
      ]
    },
    {
      "cell_type": "markdown",
      "metadata": {
        "id": "9GHarQp1xypp"
      },
      "source": [
        "После того как мы выбрали критерий для сравнения двух людей, можно начать искать для каждого человека подгруппу других людей с наиболее похожими вкусами.\n",
        "\n",
        "Для этого реализуем функцию **topMatches()**. Функция возвращает список n наилучших соответствий для человека из словаря critics.\n",
        "\n",
        "Соответственно, аргументы у функции:\n",
        "* словарь критиков *critics\\_dict*\n",
        "* имя персоны *person*, для которой подбираем соответствия\n",
        "* число *n* наилучших соответствий\n",
        "\n",
        "Кроме этого, так как мы хотим использовать различные расстояния, то в качестве аргумента мы будем также передавать имя функции-расстояния (*similarity*).  "
      ]
    },
    {
      "cell_type": "code",
      "source": [
        "def top_matches(critics_dict, person, n=5, similarity=sim_pearson):\n",
        "    # инициализируем лист оценок похожести\n",
        "    scores = []\n",
        "\n",
        "    # для каждого человека в словаре критиков\n",
        "    for other in critics_dict:\n",
        "\n",
        "        # если этот человек не тот, для которого мы подбираем соответствия\n",
        "        if other != person:\n",
        "            # добавить в scores похожесть, вычисленную с помощью функции, записанной в similarity, и имя человека\n",
        "            scores.append((similarity(critics_dict, person, other), other))\n",
        "\n",
        "    # отсортировать список по убыванию оценок\n",
        "    scores.sort(reverse=True)  # аргумент reverse=True отвечает за убывающий порядок\n",
        "\n",
        "    # возвращаем первые n человек\n",
        "    return scores[0:n]"
      ],
      "metadata": {
        "id": "eb0HOb4CWHKJ"
      },
      "execution_count": null,
      "outputs": []
    },
    {
      "cell_type": "markdown",
      "metadata": {
        "id": "IICRst0Mxypp"
      },
      "source": [
        "Пример вычисления топ-3 критиков похожих на Toby по корреляции Пирсона:\n"
      ]
    },
    {
      "cell_type": "code",
      "metadata": {
        "id": "CM0WA6yBxypq",
        "colab": {
          "base_uri": "https://localhost:8080/"
        },
        "outputId": "43c0aca1-52a9-46f4-8dc7-4398d48d602a"
      },
      "source": [
        "top_matches(critics,'Toby',similarity=sim_pearson)"
      ],
      "execution_count": null,
      "outputs": [
        {
          "output_type": "execute_result",
          "data": {
            "text/plain": [
              "[(0.9912407071619302, 'Lisa Rose'),\n",
              " (0.9244734516419049, 'Mick LaSalle'),\n",
              " (0.8934051474415642, 'Claudia Puig'),\n",
              " (0.6628489803598702, 'Jack Matthews'),\n",
              " (0.3812464258315117, 'Gene Seymour')]"
            ]
          },
          "metadata": {},
          "execution_count": 63
        }
      ]
    },
    {
      "cell_type": "markdown",
      "metadata": {
        "id": "l11l0LBWxyps"
      },
      "source": [
        "Как работает эта функция:\n",
        "*  считаем схожесть интересующего нас критика с каждым другим критиком используя функцию **similarity**\n",
        "*  сортируем результаты\n",
        "*  возвращаем топ **n** результатов"
      ]
    },
    {
      "cell_type": "markdown",
      "metadata": {
        "id": "a6zrN8IRxypt"
      },
      "source": [
        "**Упражнение** Вычислите топ-3 критиков похожих на Toby по евклидову расстоянию:"
      ]
    },
    {
      "cell_type": "code",
      "metadata": {
        "id": "63IHuLZSxypu",
        "colab": {
          "base_uri": "https://localhost:8080/"
        },
        "outputId": "a39f5ddf-dcb6-42e7-be86-62a0d11f398f"
      },
      "source": [
        "top_matches(critics,'Toby',similarity=sim_distance)"
      ],
      "execution_count": null,
      "outputs": [
        {
          "output_type": "execute_result",
          "data": {
            "text/plain": [
              "[(0.5714285714285714, 'Mick LaSalle'),\n",
              " (0.4800000000000001, 'Claudia Puig'),\n",
              " (0.46153846153846145, 'Lisa Rose'),\n",
              " (0.4444444444444444, 'Michael Phillips'),\n",
              " (0.2857142857142857, 'Jack Matthews')]"
            ]
          },
          "metadata": {},
          "execution_count": 64
        }
      ]
    },
    {
      "cell_type": "markdown",
      "metadata": {
        "id": "UnsodNg7xypw"
      },
      "source": [
        "Выбор расстояния для подбора похожести зависит от конкретной задачи. Имеет смысл попробовать разные критерии и посмотреть, какой из них дает наилучший результат."
      ]
    },
    {
      "cell_type": "markdown",
      "metadata": {
        "id": "C4Ok7gk1xypx"
      },
      "source": [
        "## Рекомендация фильмов (User-based подход)"
      ]
    },
    {
      "cell_type": "markdown",
      "metadata": {
        "id": "oigqx0dDxypy"
      },
      "source": [
        "Мы умеем находить людей с похожим мнением как у рассматриваемого человека. Но как получить конкретную рекомендацию с набором фильмов? Можно было бы просто посмотреть на то, какие фильмы понравились похожему человеку, и выбрать из них не просмотренные. Однако, такой способ не стабилен: можем, например, отобрать критика, которому по каким-то причинам понравился фильм, получивший негативные оценки от остальных.\n",
        "\n",
        "Чтобы разрешить эту проблему, можно ранжировать сами фильмы, вычисляя взвешенную сумму оценок критиков. Мы будем брать оценку фильма у критика и умножать его на коэффициент похожести с тем, для которого мы строим рекомендацию. Затем полученный результат суммировать и нормировать.  \n",
        "\n",
        "Идея такого подхода в том, что люди похожие на тебя вносят больший вклад в \"рейтинг\" фильма."
      ]
    },
    {
      "cell_type": "markdown",
      "metadata": {
        "id": "Ep7vuCLpxypz"
      },
      "source": [
        "<a href=\"https://drive.google.com/uc?id=1jAZLpihYxu_FPvN9PIJ1G4S_KvO_6Ku6\n",
        "\" target=\"_blank\"><img src=\"https://drive.google.com/uc?id=1x0QC1Blvr_ZugJ5BKPJdi2Bp30FvBxvL\"\n",
        "alt=\"IMAGE ALT TEXT HERE\" width=\"500\" border=\"0\" /></a>"
      ]
    },
    {
      "cell_type": "markdown",
      "metadata": {
        "id": "CYT3JXArxypz"
      },
      "source": [
        "Этот подход реализован в функции **get_recommendations()**. Функция принимает на вход следующие аргументы:\n",
        "* словарь критиков *critics\\_dict*\n",
        "* имя персоны *person*, для которой подбираем соответствия\n",
        "* имя функции-критерия для сравнения\n"
      ]
    },
    {
      "cell_type": "code",
      "source": [
        "def get_recommendations(prefs, person, similarity=sim_pearson):\n",
        "\n",
        "    # инициализируем словари\n",
        "    totals = {}\n",
        "    simSums = {}\n",
        "\n",
        "    # для каждого пользователя\n",
        "    for other in prefs:\n",
        "\n",
        "    # сравнивать person с person не нужно\n",
        "        if other == person:\n",
        "            continue\n",
        "        # считаем похожесть\n",
        "        sim = similarity(prefs, person, other)\n",
        "\n",
        "        # игнорировать нулевые и отрицательные значения похожести\n",
        "        if sim <= 0:\n",
        "            continue\n",
        "\n",
        "        # для каждого фильма в оцененных other\n",
        "        for item in prefs[other]:\n",
        "\n",
        "            # оценивать только фильмы, которые я еще не смотрел\n",
        "            if item not in prefs[person] or prefs[person][item] == 0:\n",
        "\n",
        "                # коэффициент подобия * Оценка\n",
        "                totals.setdefault(item,0)\n",
        "                totals[item] = totals[item] + prefs[other][item]*sim\n",
        "\n",
        "                # cумма коэффициентов подобия\n",
        "                simSums.setdefault(item,0)\n",
        "                simSums[item] = simSums[item] + sim\n",
        "    # создать нормированный список\n",
        "    rankings = [(total/simSums[item], item) for item, total in totals.items( )]\n",
        "\n",
        "    # вернуть отсортированный список\n",
        "    rankings.sort(reverse=True)\n",
        "    return rankings\n",
        "\n",
        "# обращает матрицу предпочтений, чтобы строки соответствовали образцам\n",
        "def transformPrefs(critics_dict):\n",
        "\n",
        "    # инициилизируем новый словарь с фильмами и их оценками\n",
        "    result = {}\n",
        "\n",
        "    # для каждого критика в словаре\n",
        "    for person in critics_dict:\n",
        "\n",
        "        # для каждого оцененного им фильма\n",
        "        for item in critics_dict[person]:\n",
        "\n",
        "            # добавляем такой объект в словарь\n",
        "            result.setdefault(item, {})\n",
        "            # меняеи местами человека и предмет\n",
        "            result[item][person] = critics_dict[person][item]\n",
        "    return result"
      ],
      "metadata": {
        "id": "ySAZrgvCWbl-"
      },
      "execution_count": null,
      "outputs": []
    },
    {
      "cell_type": "code",
      "metadata": {
        "id": "68nh1yH-xyp1",
        "colab": {
          "base_uri": "https://localhost:8080/"
        },
        "outputId": "a9474e28-174e-4086-c276-8bd52630bb73"
      },
      "source": [
        "get_recommendations(critics, 'Toby', similarity=sim_pearson)"
      ],
      "execution_count": null,
      "outputs": [
        {
          "output_type": "execute_result",
          "data": {
            "text/plain": [
              "[(3.347789526713101, 'The Night Listener'),\n",
              " (2.832549918264162, 'Lady in the Water'),\n",
              " (2.5309807037655645, 'Just My Luck')]"
            ]
          },
          "metadata": {},
          "execution_count": 66
        }
      ]
    },
    {
      "cell_type": "markdown",
      "metadata": {
        "id": "HBxow-45xyp8"
      },
      "source": [
        "Как работает эта функция:\n",
        "*  считаем схожесть пользователя с каждым другим пользователем\n",
        "*  перебираем фильмы, которые смотрели другие пользователи, но не смотрел текущий пользователь\n",
        "*  нормируем рейтинг фильмов на основе того насколько он понравился другим пользователям, и того насколько каждый из других пользователей похож на текущего пользователя\n",
        "*  сортируем список"
      ]
    },
    {
      "cell_type": "markdown",
      "metadata": {
        "id": "O4HGFTxnxyqA"
      },
      "source": [
        "Мы получили ранжированный список фильмов, а также прогноз оценки, которую поставит Toby этим фильмам."
      ]
    },
    {
      "cell_type": "markdown",
      "metadata": {
        "id": "QJmVZW0TxyqA"
      },
      "source": [
        "## Коллаборативная фильтрация по сходству объектов (Item-based collaborative filtering)"
      ]
    },
    {
      "cell_type": "markdown",
      "metadata": {
        "id": "dZAPvgpTxyqB"
      },
      "source": [
        "Мы реализовали механизм выдачи рекомендаций таким образом, что для создания набора данных необходимы оценки, выставленные каждым\n",
        "пользователем. Для нескольких тысяч людей это, возможно, и будет работать, но, когда речь идет о миллионах пользователей и товаров, сравнение каждого пользователя со всеми другими, а затем сравнение товаров, займет недопустимо много времени."
      ]
    },
    {
      "cell_type": "markdown",
      "metadata": {
        "id": "f0nZBimVxyqC"
      },
      "source": [
        "<a href=\"https://drive.google.com/uc?id=1jAZLpihYxu_FPvN9PIJ1G4S_KvO_6Ku6\n",
        "\" target=\"_blank\"><img src=\"https://drive.google.com/uc?id=1Vd3ofIheUgmxDKLq72cVPTPyl5IyAxo0\"\n",
        "alt=\"IMAGE ALT TEXT HERE\" width=\"500\" border=\"0\" /></a>\n"
      ]
    },
    {
      "cell_type": "markdown",
      "metadata": {
        "id": "zis-eUSbxyqC"
      },
      "source": [
        "Техника, которую мы применяли до сих пор, называется **коллаборативной фильтрацией по схожести пользователей**. Альтернатива известна под названием **коллаборативная фильтрация по схожести образцов**."
      ]
    },
    {
      "cell_type": "markdown",
      "metadata": {
        "id": "r2xvZzNpxyqD"
      },
      "source": [
        "Основная идея процедуры фильтрации по схожести образцов заключается в том, чтобы для каждого образца заранее вычислить большинство похожих на него. Тогда для выдачи рекомендаций алгоритму достаточно будет найти те образцы, которым пользователь выставил наивысшие оценки, а затем сформировать список образцов, максимально похожих на эти.\n",
        "\n",
        "Отметим одно существенное отличие: хотя на первом шаге необходимо исследовать все данные, результаты сравнения образцов изменяются не так часто, как результаты сравнения пользователей."
      ]
    },
    {
      "cell_type": "markdown",
      "metadata": {
        "id": "8jpIms0rxyqD"
      },
      "source": [
        "<a href=\"https://drive.google.com/uc?id=1jAZLpihYxu_FPvN9PIJ1G4S_KvO_6Ku6\n",
        "\" target=\"_blank\"><img src=\"https://drive.google.com/uc?id=1VAoSpaUcbabIFRWlXqrBFDs7LhIISkA5\"\n",
        "alt=\"IMAGE ALT TEXT HERE\" width=\"700\" border=\"0\" /></a>"
      ]
    },
    {
      "cell_type": "markdown",
      "metadata": {
        "collapsed": true,
        "id": "_8Z0LEmBxyqE"
      },
      "source": [
        "Чтобы сравнивать образцы, нужно первым делом построить полный набор данных о похожих образцах. В первую очередь, нам нужно переделать словарь предпочтений критиков таким образом, чтобы теперь был словарь фильмов и их оценок:\n",
        "```python\n",
        "film_dict = {\n",
        "    'film_name_1':\n",
        "    {'critic_1': 'score_1',\n",
        "     'critic_2': 'score_2',\n",
        "     ...\n",
        "    },\n",
        "    ...\n",
        "}\n",
        "```\n",
        "Далее для каждого фильма посчитать наиболее похожие образцы и коэффициенты похожести для них. Для подсчета схожести будем использовать евклидово расстояние.\n",
        "\n",
        "Напишем функцию **calculate_similar_items()**, которая делает сразу оба шага. На вход её нужно подать словарь с оценками критиков *critics* и число образцов, которые мы считаем наиболее похожими (остальные не выводим)."
      ]
    },
    {
      "cell_type": "code",
      "source": [
        "# Создать словарь, содержащий для каждого образца те образцы, которые больше всего похожи на него.\n",
        "def calculate_similar_items(prefs, n=10):\n",
        "\n",
        "    result = {}\n",
        "    # обращаем матрицу предпочтений, чтобы строки соответствовали образцам\n",
        "    itemPrefs = transformPrefs(prefs)\n",
        "\n",
        "    c = 0\n",
        "    for item in itemPrefs:\n",
        "        # проверка состояния для больших наборов данных\n",
        "        c = c + 1\n",
        "        if c % 100 == 0: print(\"%d / %d\" % (c,len(itemPrefs)))\n",
        "\n",
        "        # найти образцы, максимально похожие на данный\n",
        "        scores = top_matches(itemPrefs, item, n=n, similarity=sim_distance)\n",
        "        result[item] = scores\n",
        "    return result"
      ],
      "metadata": {
        "id": "0x1afA1gXa0L"
      },
      "execution_count": null,
      "outputs": []
    },
    {
      "cell_type": "code",
      "metadata": {
        "id": "mcnJJQ9cxyqG",
        "colab": {
          "base_uri": "https://localhost:8080/"
        },
        "outputId": "ef71104a-fa55-455b-a593-68bad156c245"
      },
      "source": [
        "itemsim=calculate_similar_items(critics,n=10)\n",
        "calculate_similar_items(critics,n=10)\n"
      ],
      "execution_count": null,
      "outputs": [
        {
          "output_type": "execute_result",
          "data": {
            "text/plain": [
              "{'Lady in the Water': [(0.7272727272727273, 'You, Me and Dupree'),\n",
              "  (0.6666666666666666, 'The Night Listener'),\n",
              "  (0.5882352941176471, 'Snakes on a Plane'),\n",
              "  (0.46153846153846145, 'Just My Luck'),\n",
              "  (0.3333333333333333, 'Superman Returns')],\n",
              " 'Snakes on a Plane': [(0.5882352941176471, 'Lady in the Water'),\n",
              "  (0.5833333333333333, 'Superman Returns'),\n",
              "  (0.5714285714285714, 'The Night Listener'),\n",
              "  (0.32, 'Just My Luck'),\n",
              "  (0.24489795918367344, 'You, Me and Dupree')],\n",
              " 'Just My Luck': [(0.47058823529411764, 'You, Me and Dupree'),\n",
              "  (0.46153846153846145, 'Lady in the Water'),\n",
              "  (0.42105263157894735, 'The Night Listener'),\n",
              "  (0.32, 'Snakes on a Plane'),\n",
              "  (0.21621621621621623, 'Superman Returns')],\n",
              " 'Superman Returns': [(0.5833333333333333, 'Snakes on a Plane'),\n",
              "  (0.4067796610169492, 'The Night Listener'),\n",
              "  (0.3333333333333333, 'Lady in the Water'),\n",
              "  (0.25263157894736843, 'You, Me and Dupree'),\n",
              "  (0.21621621621621623, 'Just My Luck')],\n",
              " 'You, Me and Dupree': [(0.7272727272727273, 'Lady in the Water'),\n",
              "  (0.47058823529411764, 'Just My Luck'),\n",
              "  (0.46511627906976744, 'The Night Listener'),\n",
              "  (0.25263157894736843, 'Superman Returns'),\n",
              "  (0.24489795918367344, 'Snakes on a Plane')],\n",
              " 'The Night Listener': [(0.6666666666666666, 'Lady in the Water'),\n",
              "  (0.5714285714285714, 'Snakes on a Plane'),\n",
              "  (0.46511627906976744, 'You, Me and Dupree'),\n",
              "  (0.42105263157894735, 'Just My Luck'),\n",
              "  (0.4067796610169492, 'Superman Returns')]}"
            ]
          },
          "metadata": {},
          "execution_count": 68
        }
      ]
    },
    {
      "cell_type": "code",
      "metadata": {
        "id": "PwUnCFgqxyqJ",
        "colab": {
          "base_uri": "https://localhost:8080/"
        },
        "outputId": "4551fcbe-0d31-4827-8b7c-4c5e1bb830bc"
      },
      "source": [
        "pp.pprint(itemsim)"
      ],
      "execution_count": null,
      "outputs": [
        {
          "output_type": "stream",
          "name": "stdout",
          "text": [
            "{   'Just My Luck': [   (0.2222222222222222, 'Lady in the Water'),\n",
            "                        (0.18181818181818182, 'You, Me and Dupree'),\n",
            "                        (0.15384615384615385, 'The Night Listener'),\n",
            "                        (0.10526315789473684, 'Snakes on a Plane'),\n",
            "                        (0.06451612903225806, 'Superman Returns')],\n",
            "    'Lady in the Water': [   (0.4, 'You, Me and Dupree'),\n",
            "                             (0.2857142857142857, 'The Night Listener'),\n",
            "                             (0.2222222222222222, 'Snakes on a Plane'),\n",
            "                             (0.2222222222222222, 'Just My Luck'),\n",
            "                             (0.09090909090909091, 'Superman Returns')],\n",
            "    'Snakes on a Plane': [   (0.2222222222222222, 'Lady in the Water'),\n",
            "                             (0.18181818181818182, 'The Night Listener'),\n",
            "                             (0.16666666666666666, 'Superman Returns'),\n",
            "                             (0.10526315789473684, 'Just My Luck'),\n",
            "                             (0.05128205128205128, 'You, Me and Dupree')],\n",
            "    'Superman Returns': [   (0.16666666666666666, 'Snakes on a Plane'),\n",
            "                            (0.10256410256410256, 'The Night Listener'),\n",
            "                            (0.09090909090909091, 'Lady in the Water'),\n",
            "                            (0.06451612903225806, 'Just My Luck'),\n",
            "                            (0.05333333333333334, 'You, Me and Dupree')],\n",
            "    'The Night Listener': [   (0.2857142857142857, 'Lady in the Water'),\n",
            "                              (0.18181818181818182, 'Snakes on a Plane'),\n",
            "                              (0.15384615384615385, 'Just My Luck'),\n",
            "                              (0.14814814814814814, 'You, Me and Dupree'),\n",
            "                              (0.10256410256410256, 'Superman Returns')],\n",
            "    'You, Me and Dupree': [   (0.4, 'Lady in the Water'),\n",
            "                              (0.18181818181818182, 'Just My Luck'),\n",
            "                              (0.14814814814814814, 'The Night Listener'),\n",
            "                              (0.05333333333333334, 'Superman Returns'),\n",
            "                              (0.05128205128205128, 'Snakes on a Plane')]}\n"
          ]
        }
      ]
    },
    {
      "cell_type": "markdown",
      "metadata": {
        "id": "XajxbUimxyqM"
      },
      "source": [
        "Получили вложенный словарь с фильмами и их похожестью на другие фильмы."
      ]
    },
    {
      "cell_type": "markdown",
      "metadata": {
        "id": "fcsEaB_fxyqN"
      },
      "source": [
        "Теперь мы готовы выдавать рекомендации, пользуясь словарем данных о схожести образцов. По аналогии с тем, что мы уже делали, необходимо получить список всех образцов, которым пользователь выставлял оценки, найти похожие и взвесить их с учетом коэффициентов подобия (умножить оценку на коэффициент подобия)."
      ]
    },
    {
      "cell_type": "markdown",
      "metadata": {
        "id": "EpUyM57bxyqO"
      },
      "source": [
        "<a href=\"https://drive.google.com/uc?id=1jAZLpihYxu_FPvN9PIJ1G4S_KvO_6Ku6\n",
        "\" target=\"_blank\"><img src=\"https://drive.google.com/uc?id=1QIJpqC6zQkiQ-1-AzNSmvK4bc8fohsH1\"\n",
        "alt=\"IMAGE ALT TEXT HERE\" width=\"500\" border=\"0\" /></a>"
      ]
    },
    {
      "cell_type": "markdown",
      "metadata": {
        "id": "wmkuMQvaxyqP"
      },
      "source": [
        "Реализуем функцию **get_recommended_items()**. На вход подается:\n",
        "* словарь с оценками пользователя (в нашем случае это словарь критиков, *critics*)\n",
        "* словарь с данными о схожести образцов, *itemsim*\n",
        "* имя критика, для которого строим рекомендации"
      ]
    },
    {
      "cell_type": "code",
      "source": [
        "def get_recommended_items(prefs, itemMatch, user):\n",
        "\n",
        "    # инициализируем словари\n",
        "    userRatings = prefs[user]\n",
        "    scores = {}\n",
        "    totalSim = {}\n",
        "\n",
        "    # цикл по образцам, оцененным данным пользователем (хранятся в userRatings)\n",
        "    for (item, rating) in userRatings.items():\n",
        "\n",
        "        # цикл по образцам, похожим на данный (хранятся в словаре itemMatch)\n",
        "        for (similarity, item2) in itemMatch[item]:\n",
        "            # пропускаем объект, если пользователь уже оценивал данный образец\n",
        "            if item2 in userRatings:\n",
        "                continue\n",
        "            # взвешенная суммы оценок, умноженных на коэффициент подобия\n",
        "            scores.setdefault(item2, 0)\n",
        "            scores[item2] = scores[item2] + similarity * rating\n",
        "            # сумма всех коэффициентов подобия\n",
        "            totalSim.setdefault(item2, 0)\n",
        "            totalSim[item2] = totalSim[item2] + similarity\n",
        "            if totalSim[item2] == 0:\n",
        "                totalSim[item2] = 0.0000001  # чтобы избежать деления на ноль\n",
        "    # делим каждую итоговую оценку на взвешенную сумму, чтобы вычислить среднее\n",
        "    rankings = [(score / totalSim[item], item) for item, score in scores.items()]\n",
        "\n",
        "    # возвращает список rankings, отсортированный по убыванию\n",
        "    rankings.sort(reverse=True)\n",
        "    return rankings"
      ],
      "metadata": {
        "id": "CI5kHdpAd8HR"
      },
      "execution_count": null,
      "outputs": []
    },
    {
      "cell_type": "markdown",
      "metadata": {
        "id": "JaUsLOhqxyqP"
      },
      "source": [
        "Получим рекомендации для пользователя Toby:"
      ]
    },
    {
      "cell_type": "code",
      "metadata": {
        "id": "bC-V0ovMxyqQ",
        "colab": {
          "base_uri": "https://localhost:8080/"
        },
        "outputId": "07d7e525-1aae-4059-cc50-5357d590d63b"
      },
      "source": [
        "get_recommended_items(critics,itemsim,'Toby')"
      ],
      "execution_count": null,
      "outputs": [
        {
          "output_type": "execute_result",
          "data": {
            "text/plain": [
              "[(3.2311953807740323, 'The Night Listener'),\n",
              " (2.855135135135135, 'Lady in the Water'),\n",
              " (2.7566953006568977, 'Just My Luck')]"
            ]
          },
          "metadata": {},
          "execution_count": 70
        }
      ]
    },
    {
      "cell_type": "markdown",
      "metadata": {
        "id": "QZ2AV3PIxyqT"
      },
      "source": [
        "## Метрики качества для рекомендательных систем"
      ]
    },
    {
      "cell_type": "markdown",
      "metadata": {
        "id": "GNdfljpXxyqT"
      },
      "source": [
        "Для оценки качества работы рекомендательных систем можно рассмотреть две специальные метрики **Hit Rate** (HR) и **Mean Reciprocal Rank** (MRR).\n",
        "\n",
        "Определим как **попадание** (**hit**) - ситуацию, когда фильм был рекомендован пользователю в топ-N и пользователь посмотрел его."
      ]
    },
    {
      "cell_type": "markdown",
      "metadata": {
        "id": "vXzO8K8DxyqU"
      },
      "source": [
        "**Hit Rate (HR)**"
      ]
    },
    {
      "cell_type": "markdown",
      "metadata": {
        "id": "494F_M5vxyqU"
      },
      "source": [
        "**Hit Rate (процент попаданий)** определяется как общее число попаданий, нормированное на количество пользователей.\n",
        "\n",
        "$$\n",
        "\\text{HR} = \\frac{1}{\\text{# test users}} \\sum_{\\text{test users}}{\\text{hit}}, \\quad\n",
        "$$\n",
        "\n",
        "Чем больше процент попаданий, тем лучше будет наша система рекомендаций."
      ]
    },
    {
      "cell_type": "markdown",
      "metadata": {
        "id": "MG2WBYqgxyqV"
      },
      "source": [
        "*Замечание*: в некотором смысле, Hit Rate представляет собой производное от классических ML метрик precision и recall."
      ]
    },
    {
      "cell_type": "markdown",
      "metadata": {
        "id": "IqnXC-9ixyqX"
      },
      "source": [
        "**Mean Reciprocal Rank (MRR)**"
      ]
    },
    {
      "cell_type": "markdown",
      "metadata": {
        "id": "ZEB1TP_BxyqY"
      },
      "source": [
        "Отличие метрики **Mean Reciprocal Rank** от предыдущей в том, что мы учитываем не общее количество попаданий, а обратное рангу (месту в списке рекомендаций) **первое попадание**. Например, если фильм, просмотренный пользователем (попадание), стоял на втором месте, обратное рангу будет равно $\\frac{1}{2}$, а если бы стоял на третьем - $\\frac{1}{3}$ и так далее."
      ]
    },
    {
      "cell_type": "markdown",
      "metadata": {
        "id": "4yY1VJGNxyqY"
      },
      "source": [
        "$$\n",
        "\\text{MRR} = \\frac{1}{\\text{# test users}} \\sum_{\\text{test users}}{\\frac{1}{\\text{hit rank}}}\n",
        "$$"
      ]
    },
    {
      "cell_type": "markdown",
      "metadata": {
        "id": "d69KOo96xyqb"
      },
      "source": [
        "Рассмотрим на примере. Toby получил следующий список рекомендаций:\n",
        "\n",
        "**Code 18:**"
      ]
    },
    {
      "cell_type": "code",
      "metadata": {
        "id": "LjqvONZLxyqe",
        "colab": {
          "base_uri": "https://localhost:8080/"
        },
        "outputId": "0ff608e2-81d6-4b16-b766-f9249871ecd9"
      },
      "source": [
        "get_recommendations(critics,'Toby', sim_pearson)"
      ],
      "execution_count": null,
      "outputs": [
        {
          "output_type": "execute_result",
          "data": {
            "text/plain": [
              "[(3.347789526713101, 'The Night Listener'),\n",
              " (2.832549918264162, 'Lady in the Water'),\n",
              " (2.5309807037655645, 'Just My Luck')]"
            ]
          },
          "metadata": {},
          "execution_count": 71
        }
      ]
    },
    {
      "cell_type": "markdown",
      "metadata": {
        "id": "KAS5UJXxxyqh"
      },
      "source": [
        "Допустим, после этого Toby посмотрел 5 фильмов и выставил им следующие оценки:\n"
      ]
    },
    {
      "cell_type": "markdown",
      "metadata": {
        "id": "GlyQ_Jidxyqh"
      },
      "source": [
        "|Score|Film|\n",
        "|----|--------------------|\n",
        "|4.5 | The Departed |\n",
        "|4   | The Night Listener |\n",
        "|3.9 | Lady in the Water |\n",
        "|3.7 | The Firm |\n",
        "|3   | Just My Luck |"
      ]
    },
    {
      "cell_type": "markdown",
      "metadata": {
        "id": "VjT082gPxyqi"
      },
      "source": [
        "Как мы видим, только два фильма из списка рекомендаций попали в личный топ-3 Toby. Получается, что **попадание (hits)** у него 2.\n",
        "\n",
        "**HR = $\\dfrac{1}{1} * 2 = 2$**, так как выборка тестовых пользователей (test\\_users) состоит из одного Toby.  "
      ]
    },
    {
      "cell_type": "markdown",
      "metadata": {
        "id": "3Z2xaFKZxyqj"
      },
      "source": [
        "* **$\\frac{1}{hit\\_rank}$** для фильма The Night Listener - это $\\dfrac{1}{2}$\n",
        "* **$\\frac{1}{hit\\_rank}$** для фильма Lady in the Water - это $\\dfrac{1}{3}$\n",
        "\n",
        "Но фильм **The Night Listener** стоит выше в рейтинге Toby, чем **Lady in the Water**, поэтому:\n",
        "\n",
        "**MRR = $\\dfrac{1}{1}*\\dfrac{1}{2} = \\dfrac{1}{2}$**, так как, опять же, выборка тестовых пользователей (test\\_users) состоит из одного Toby.  "
      ]
    },
    {
      "cell_type": "markdown",
      "metadata": {
        "id": "RXDUM0i_xyqk"
      },
      "source": [
        "## Бонус* : Рекомендация на данных MovieLens"
      ]
    },
    {
      "cell_type": "markdown",
      "metadata": {
        "id": "glvuxPt_xyql"
      },
      "source": [
        "В этом примере мы рассмотрим реальный набор данных с оценками фильмов, который называется MovieLens. Источник данных: http://grouplens.org/datasets/movielens/"
      ]
    },
    {
      "cell_type": "markdown",
      "metadata": {
        "id": "_KySSudZxyqm"
      },
      "source": [
        "Датасет представляет собой набор фильмов, которые 162541 пользователей сайта MovieLens оценивали по 5-бальной шкале. В наборе также есть дополнительная информация такая как описание фильмов тегами, но в нашем упражнении мы её использовать не будем для упрощения. Также, чтобы уменьшить время вычислений, будем использовать данный только 943 пользователей. Каждый пользователь в датасете оценил минимум 20 фильмов.\n",
        "\n",
        "Загруженный датасет будет в следующем виде:\n",
        "\n",
        "```python\n",
        "\n",
        "preferences = {\n",
        "    'user_id_1' : {\n",
        "        'film_name_1' : rate,\n",
        "        'film_name_2' : rate,\n",
        "        ...\n",
        "        'film_name_21' : rate,\n",
        "    },\n",
        "    ...\n",
        "    'user_id_943' : {\n",
        "        'film_name_1' : rate,\n",
        "        'film_name_2' : rate,\n",
        "        ...\n",
        "        'film_name_30' : rate,\n",
        "    }\n",
        "}\n",
        "\n",
        "```\n"
      ]
    },
    {
      "cell_type": "markdown",
      "metadata": {
        "collapsed": true,
        "id": "eyZ81WEOxyqn"
      },
      "source": [
        "Чтобы загрузить набор данных MovieLens, в модуле **recommendations** есть функция **loadMovieLens()**. Она возвращает словарь предпочтений фильмов для набора людей. Пользователи зашифрованы идентификатором. Для каждого пользователя имеется название\n",
        "фильма, а также оценка, выставленная фильму данным пользователе.\n",
        "\n",
        "**Code 19:**"
      ]
    },
    {
      "cell_type": "code",
      "metadata": {
        "id": "kbg3tMJb_LUE"
      },
      "source": [
        "%%capture\n",
        "!wget https://www.dropbox.com/sh/ob1qyfzqygkc6ph/AADg2G0By0EuRZCLR5gSAmP7a"
      ],
      "execution_count": null,
      "outputs": []
    },
    {
      "cell_type": "code",
      "metadata": {
        "id": "rVL7IRU3_i58"
      },
      "source": [
        "%%capture\n",
        "!unzip AADg2G0By0EuRZCLR5gSAmP7a -d data"
      ],
      "execution_count": null,
      "outputs": []
    },
    {
      "cell_type": "code",
      "source": [
        "# Функция для загрузки данных MovieLens\n",
        "def loadMovieLens(path='data/'):\n",
        "    # получить названия фильмов\n",
        "    movies = {}\n",
        "    for line in open(path+'/u.item', encoding = \"ISO-8859-1\"):\n",
        "        (id, title) = line.split('|')[0:2]\n",
        "        movies[id] = title\n",
        "    # загрузить данные\n",
        "    prefs = {}\n",
        "    for line in open(path+'/u.data'):\n",
        "        (user, movieid, rating, ts) = line.split('\\t')\n",
        "        prefs.setdefault(user, {})\n",
        "        prefs[user][movies[movieid]] = float(rating)\n",
        "    return prefs"
      ],
      "metadata": {
        "id": "BeccRnCyt3j7"
      },
      "execution_count": null,
      "outputs": []
    },
    {
      "cell_type": "code",
      "metadata": {
        "id": "TokySpKUxyqp"
      },
      "source": [
        "preferences = loadMovieLens()"
      ],
      "execution_count": null,
      "outputs": []
    },
    {
      "cell_type": "markdown",
      "metadata": {
        "id": "64VLkmzBxyqr"
      },
      "source": [
        "Выведем фильмы для пользователя с ID 87 и рейтинги этих фильмов\n",
        "\n",
        "**Code 20:**"
      ]
    },
    {
      "cell_type": "code",
      "metadata": {
        "id": "i45AlAQVxyqs",
        "colab": {
          "base_uri": "https://localhost:8080/"
        },
        "outputId": "baa5fefc-ef68-48cb-9708-dff3b69e4adf"
      },
      "source": [
        "pp.pprint(preferences['87'])"
      ],
      "execution_count": null,
      "outputs": [
        {
          "output_type": "stream",
          "name": "stdout",
          "text": [
            "{   '2001: A Space Odyssey (1968)': 5.0,\n",
            "    'Ace Ventura: Pet Detective (1994)': 4.0,\n",
            "    'Addams Family Values (1993)': 2.0,\n",
            "    'Addicted to Love (1997)': 4.0,\n",
            "    'Adventures of Priscilla, Queen of the Desert, The (1994)': 3.0,\n",
            "    'Adventures of Robin Hood, The (1938)': 5.0,\n",
            "    'Air Force One (1997)': 3.0,\n",
            "    'Air Up There, The (1994)': 3.0,\n",
            "    'Alien (1979)': 4.0,\n",
            "    'American President, The (1995)': 5.0,\n",
            "    'Annie Hall (1977)': 4.0,\n",
            "    'Apocalypse Now (1979)': 4.0,\n",
            "    'Babe (1995)': 5.0,\n",
            "    'Baby-Sitters Club, The (1995)': 2.0,\n",
            "    'Back to the Future (1985)': 5.0,\n",
            "    'Bad Boys (1995)': 4.0,\n",
            "    'Bananas (1971)': 5.0,\n",
            "    'Barcelona (1994)': 3.0,\n",
            "    'Batman & Robin (1997)': 4.0,\n",
            "    'Batman (1989)': 3.0,\n",
            "    'Batman Returns (1992)': 3.0,\n",
            "    'Big Green, The (1995)': 3.0,\n",
            "    'Big Squeeze, The (1996)': 2.0,\n",
            "    'Birdcage, The (1996)': 4.0,\n",
            "    'Blade Runner (1982)': 4.0,\n",
            "    'Blues Brothers, The (1980)': 5.0,\n",
            "    'Boomerang (1992)': 3.0,\n",
            "    'Boot, Das (1981)': 4.0,\n",
            "    'Brady Bunch Movie, The (1995)': 2.0,\n",
            "    'Braveheart (1995)': 4.0,\n",
            "    'Bridge on the River Kwai, The (1957)': 5.0,\n",
            "    'Broken Arrow (1996)': 3.0,\n",
            "    'Butch Cassidy and the Sundance Kid (1969)': 5.0,\n",
            "    'Citizen Kane (1941)': 4.0,\n",
            "    \"City Slickers II: The Legend of Curly's Gold (1994)\": 3.0,\n",
            "    'Clear and Present Danger (1994)': 5.0,\n",
            "    'Cliffhanger (1993)': 3.0,\n",
            "    'Clockwork Orange, A (1971)': 4.0,\n",
            "    'Clueless (1995)': 4.0,\n",
            "    'Con Air (1997)': 4.0,\n",
            "    'Conan the Barbarian (1981)': 3.0,\n",
            "    'Coneheads (1993)': 4.0,\n",
            "    'Cool Hand Luke (1967)': 5.0,\n",
            "    'Cops and Robbersons (1994)': 3.0,\n",
            "    'Cowboy Way, The (1994)': 3.0,\n",
            "    'Crow, The (1994)': 3.0,\n",
            "    'Dances with Wolves (1990)': 5.0,\n",
            "    \"Dante's Peak (1997)\": 3.0,\n",
            "    'Dave (1993)': 4.0,\n",
            "    'Days of Thunder (1990)': 5.0,\n",
            "    'Dead Man Walking (1995)': 4.0,\n",
            "    'Dead Poets Society (1989)': 5.0,\n",
            "    'Deer Hunter, The (1978)': 3.0,\n",
            "    'Demolition Man (1993)': 3.0,\n",
            "    'Desperado (1995)': 3.0,\n",
            "    'Die Hard (1988)': 4.0,\n",
            "    'Die Hard: With a Vengeance (1995)': 4.0,\n",
            "    'Down Periscope (1996)': 4.0,\n",
            "    'Dragonheart (1996)': 4.0,\n",
            "    'Dumb & Dumber (1994)': 4.0,\n",
            "    'Dunston Checks In (1996)': 1.0,\n",
            "    'E.T. the Extra-Terrestrial (1982)': 3.0,\n",
            "    'Ed Wood (1994)': 3.0,\n",
            "    'Empire Strikes Back, The (1980)': 5.0,\n",
            "    'Endless Summer 2, The (1994)': 3.0,\n",
            "    'Evil Dead II (1987)': 2.0,\n",
            "    'Executive Decision (1996)': 3.0,\n",
            "    'Fargo (1996)': 5.0,\n",
            "    'First Wives Club, The (1996)': 2.0,\n",
            "    'Fish Called Wanda, A (1988)': 5.0,\n",
            "    'Forget Paris (1995)': 4.0,\n",
            "    'Four Weddings and a Funeral (1994)': 5.0,\n",
            "    'French Kiss (1995)': 5.0,\n",
            "    'Fugitive, The (1993)': 5.0,\n",
            "    'Full Metal Jacket (1987)': 4.0,\n",
            "    'Get Shorty (1995)': 5.0,\n",
            "    'Glory (1989)': 4.0,\n",
            "    'Godfather, The (1972)': 4.0,\n",
            "    'GoldenEye (1995)': 4.0,\n",
            "    'Good, The Bad and The Ugly, The (1966)': 5.0,\n",
            "    'GoodFellas (1990)': 4.0,\n",
            "    'Grease (1978)': 4.0,\n",
            "    'Great White Hype, The (1996)': 3.0,\n",
            "    'Groundhog Day (1993)': 5.0,\n",
            "    'Grumpier Old Men (1995)': 4.0,\n",
            "    'Hard Target (1993)': 4.0,\n",
            "    'Heat (1995)': 3.0,\n",
            "    'Heathers (1989)': 3.0,\n",
            "    'Home Alone (1990)': 4.0,\n",
            "    'Hoop Dreams (1994)': 4.0,\n",
            "    'Hot Shots! Part Deux (1993)': 4.0,\n",
            "    'House Arrest (1996)': 3.0,\n",
            "    'I Love Trouble (1994)': 3.0,\n",
            "    'I.Q. (1994)': 5.0,\n",
            "    'In the Army Now (1994)': 4.0,\n",
            "    'In the Line of Fire (1993)': 5.0,\n",
            "    'Independence Day (ID4) (1996)': 5.0,\n",
            "    'Indiana Jones and the Last Crusade (1989)': 5.0,\n",
            "    'Inkwell, The (1994)': 3.0,\n",
            "    \"It's a Wonderful Life (1946)\": 5.0,\n",
            "    'Jack (1996)': 3.0,\n",
            "    'Jeffrey (1995)': 3.0,\n",
            "    'Jimmy Hollywood (1994)': 3.0,\n",
            "    \"Joe's Apartment (1996)\": 2.0,\n",
            "    'Junior (1994)': 4.0,\n",
            "    'Jurassic Park (1993)': 5.0,\n",
            "    'Kingpin (1996)': 4.0,\n",
            "    'Lightning Jack (1994)': 3.0,\n",
            "    'Lost World: Jurassic Park, The (1997)': 3.0,\n",
            "    'Low Down Dirty Shame, A (1994)': 3.0,\n",
            "    'M*A*S*H (1970)': 5.0,\n",
            "    'Magnificent Seven, The (1954)': 5.0,\n",
            "    'Major Payne (1994)': 3.0,\n",
            "    'Man of the House (1995)': 3.0,\n",
            "    'Manchurian Candidate, The (1962)': 4.0,\n",
            "    'Mars Attacks! (1996)': 3.0,\n",
            "    'Mask, The (1994)': 3.0,\n",
            "    'Matilda (1996)': 3.0,\n",
            "    'Maverick (1994)': 3.0,\n",
            "    'Michael (1996)': 4.0,\n",
            "    'Mighty Aphrodite (1995)': 3.0,\n",
            "    'Milk Money (1994)': 4.0,\n",
            "    'Mission: Impossible (1996)': 4.0,\n",
            "    \"Monty Python's Life of Brian (1979)\": 4.0,\n",
            "    'Mother (1996)': 2.0,\n",
            "    'Mrs. Doubtfire (1993)': 4.0,\n",
            "    'Multiplicity (1996)': 3.0,\n",
            "    'Muppet Treasure Island (1996)': 3.0,\n",
            "    'My Favorite Year (1982)': 3.0,\n",
            "    'Naked Gun 33 1/3: The Final Insult (1994)': 4.0,\n",
            "    'Net, The (1995)': 5.0,\n",
            "    'Nine Months (1995)': 4.0,\n",
            "    'Nutty Professor, The (1996)': 4.0,\n",
            "    'Platoon (1986)': 3.0,\n",
            "    'Prefontaine (1997)': 5.0,\n",
            "    'Private Benjamin (1980)': 4.0,\n",
            "    'Professional, The (1994)': 4.0,\n",
            "    'Program, The (1993)': 3.0,\n",
            "    'Pulp Fiction (1994)': 4.0,\n",
            "    \"Pyromaniac's Love Story, A (1995)\": 3.0,\n",
            "    'Quiet Man, The (1952)': 5.0,\n",
            "    'Raging Bull (1980)': 3.0,\n",
            "    'Raiders of the Lost Ark (1981)': 5.0,\n",
            "    'Raising Arizona (1987)': 3.0,\n",
            "    'Reality Bites (1994)': 3.0,\n",
            "    'Renaissance Man (1994)': 5.0,\n",
            "    'Return of the Jedi (1983)': 5.0,\n",
            "    'Return of the Pink Panther, The (1974)': 4.0,\n",
            "    'River Wild, The (1994)': 4.0,\n",
            "    'Sabrina (1995)': 4.0,\n",
            "    'Santa Clause, The (1994)': 4.0,\n",
            "    \"Schindler's List (1993)\": 4.0,\n",
            "    'Searching for Bobby Fischer (1993)': 4.0,\n",
            "    'Serial Mom (1994)': 1.0,\n",
            "    'Shadow, The (1994)': 3.0,\n",
            "    'Shawshank Redemption, The (1994)': 5.0,\n",
            "    \"Singin' in the Rain (1952)\": 4.0,\n",
            "    'Sleeper (1973)': 4.0,\n",
            "    'Sleepers (1996)': 4.0,\n",
            "    'Sleepless in Seattle (1993)': 5.0,\n",
            "    'Sneakers (1992)': 4.0,\n",
            "    'So I Married an Axe Murderer (1993)': 2.0,\n",
            "    'Something to Talk About (1995)': 2.0,\n",
            "    'Son in Law (1993)': 4.0,\n",
            "    'Speechless (1994)': 4.0,\n",
            "    'Speed (1994)': 5.0,\n",
            "    'Speed 2: Cruise Control (1997)': 3.0,\n",
            "    'Star Trek III: The Search for Spock (1984)': 4.0,\n",
            "    'Star Trek IV: The Voyage Home (1986)': 5.0,\n",
            "    'Star Trek: First Contact (1996)': 4.0,\n",
            "    'Star Trek: The Motion Picture (1979)': 3.0,\n",
            "    'Star Trek: The Wrath of Khan (1982)': 5.0,\n",
            "    'Star Wars (1977)': 5.0,\n",
            "    'Stargate (1994)': 5.0,\n",
            "    'Sting, The (1973)': 5.0,\n",
            "    'Strange Days (1995)': 3.0,\n",
            "    'Strictly Ballroom (1992)': 3.0,\n",
            "    'Striptease (1996)': 2.0,\n",
            "    'Supercop (1992)': 3.0,\n",
            "    'Swimming with Sharks (1995)': 3.0,\n",
            "    'Switchblade Sisters (1975)': 2.0,\n",
            "    'Terminator 2: Judgment Day (1991)': 5.0,\n",
            "    'Terminator, The (1984)': 5.0,\n",
            "    'That Old Feeling (1997)': 4.0,\n",
            "    'That Thing You Do! (1996)': 4.0,\n",
            "    'This Is Spinal Tap (1984)': 5.0,\n",
            "    'To Die For (1995)': 3.0,\n",
            "    'To Kill a Mockingbird (1962)': 4.0,\n",
            "    'To Wong Foo, Thanks for Everything! Julie Newmar (1995)': 3.0,\n",
            "    'Tommy Boy (1995)': 4.0,\n",
            "    'Top Gun (1986)': 5.0,\n",
            "    'Treasure of the Sierra Madre, The (1948)': 4.0,\n",
            "    'True Lies (1994)': 5.0,\n",
            "    'Truth About Cats & Dogs, The (1996)': 4.0,\n",
            "    'Twelve Monkeys (1995)': 4.0,\n",
            "    'Twister (1996)': 4.0,\n",
            "    \"Ulee's Gold (1997)\": 3.0,\n",
            "    'Under Siege (1992)': 4.0,\n",
            "    'Up in Smoke (1978)': 3.0,\n",
            "    'Vegas Vacation (1997)': 4.0,\n",
            "    'Victor/Victoria (1982)': 4.0,\n",
            "    'Waterworld (1995)': 4.0,\n",
            "    \"Weekend at Bernie's (1989)\": 3.0,\n",
            "    'When Harry Met Sally... (1989)': 5.0,\n",
            "    'While You Were Sleeping (1995)': 5.0,\n",
            "    'Wizard of Oz, The (1939)': 5.0,\n",
            "    'Wyatt Earp (1994)': 3.0,\n",
            "    'Young Frankenstein (1974)': 5.0,\n",
            "    'Young Guns (1988)': 3.0,\n",
            "    'Young Guns II (1990)': 2.0}\n"
          ]
        }
      ]
    },
    {
      "cell_type": "markdown",
      "metadata": {
        "id": "mrdcACCAxyqv"
      },
      "source": [
        "Посмотрим, какие рекомендации получим с помощью коллаборативной фильтрации по схожести пользователей. Напомним, что для этого реализована функция **getRecommendations()**, которая выдает рекомендации для данного пользователя по похожести на других и предположительную его оценку фильму.\n",
        "\n",
        "Функция принимает на вход следующие аргументы:\n",
        "* словарь пользователей, в этом случае это *preferences*\n",
        "* имя персоны *person*, для которой подбираем соответствия\n",
        "* имя функции-критерия для сравнения\n",
        "\n",
        "Выведем первые топ-30 рекомендаций для пользователя с ID 87, для этого в квадратных скобочках укажем [0:30].\n",
        "\n",
        "*Замечание*: может появиться предупреждение RuntimeWarning, это связано с тем, что теперь мы работаем с большой выборкой и при подсчете корреляции Пирсона может возникать деление на ноль. В этом случае мы присваиваем корреляции значение ноль.\n",
        "\n",
        "**Code 21:**"
      ]
    },
    {
      "cell_type": "code",
      "metadata": {
        "scrolled": true,
        "id": "NO_XTe8vxyqw",
        "colab": {
          "base_uri": "https://localhost:8080/"
        },
        "outputId": "bb33495c-37fb-4df8-efca-edbc7ad84d86"
      },
      "source": [
        "get_recommendations(preferences, '87', sim_pearson)[0:30]"
      ],
      "execution_count": null,
      "outputs": [
        {
          "output_type": "execute_result",
          "data": {
            "text/plain": [
              "[(5.0, 'They Made Me a Criminal (1939)'),\n",
              " (5.0, 'Star Kid (1997)'),\n",
              " (5.0, 'Santa with Muscles (1996)'),\n",
              " (5.0, 'Saint of Fort Washington, The (1993)'),\n",
              " (5.0, 'Marlene Dietrich: Shadow and Light (1996) '),\n",
              " (5.0, 'Great Day in Harlem, A (1994)'),\n",
              " (5.0, 'Entertaining Angels: The Dorothy Day Story (1996)'),\n",
              " (5.0, 'Boys, Les (1997)'),\n",
              " (4.898844431289231, 'Legal Deceit (1997)'),\n",
              " (4.815019082242706, 'Letter From Death Row, A (1998)'),\n",
              " (4.732108298394142, 'Hearts and Minds (1996)'),\n",
              " (4.696244466490867, 'Pather Panchali (1955)'),\n",
              " (4.652397061026759, 'Lamerica (1994)'),\n",
              " (4.538723693474813, 'Leading Man, The (1996)'),\n",
              " (4.535081339106105, 'Mrs. Dalloway (1997)'),\n",
              " (4.532337612572983, 'Innocents, The (1961)'),\n",
              " (4.527998574747078, 'Casablanca (1942)'),\n",
              " (4.510270149719863, 'Everest (1998)'),\n",
              " (4.49396775542844, 'Dangerous Beauty (1998)'),\n",
              " (4.485151301801341, 'Wallace & Gromit: The Best of Aardman Animation (1996)'),\n",
              " (4.463287461290223, 'Wrong Trousers, The (1993)'),\n",
              " (4.450979436941034, 'Kaspar Hauser (1993)'),\n",
              " (4.431079071179519, 'Usual Suspects, The (1995)'),\n",
              " (4.427520682864959, 'Maya Lin: A Strong Clear Vision (1994)'),\n",
              " (4.414870784592076, 'Wedding Gift, The (1994)'),\n",
              " (4.3774452526564644, 'Affair to Remember, An (1957)'),\n",
              " (4.376071110447772, 'Good Will Hunting (1997)'),\n",
              " (4.376011099001396, 'As Good As It Gets (1997)'),\n",
              " (4.374146179500975, 'Anna (1996)'),\n",
              " (4.367437266504596, 'Close Shave, A (1995)')]"
            ]
          },
          "metadata": {},
          "execution_count": 78
        }
      ]
    },
    {
      "cell_type": "markdown",
      "metadata": {
        "id": "zOAn6ue1xyqy"
      },
      "source": [
        "Интересно также сравнить полученный результат с рекомендациями по схожести образцов. Напомним, чтобы сравнить образцы, нужно в первую очередь перестроить наш набор данных из набора предпочтений пользователей в набор оценок фильмов. Для этого используем функцию **calculateSimilarItems()**. На вход её нужно подать словарь с оценками пользователей *prefernces*. Кроме этого, мы передадим аргумент *n = 50*, так как хотим оставить только 50 наиболее похожих образцов в новом словаре.  "
      ]
    },
    {
      "cell_type": "markdown",
      "metadata": {
        "id": "5hS6u5GExyqy"
      },
      "source": [
        "В этот раз мы работаем с большим набором данных и вычисления могут занять некоторое время, поэтому функция также будет выводить сообщение о том, сколько фильмов она уже просмотрела.\n",
        "\n",
        "**Code 22:**"
      ]
    },
    {
      "cell_type": "code",
      "metadata": {
        "id": "NQgL2SBBxyqz",
        "colab": {
          "base_uri": "https://localhost:8080/"
        },
        "outputId": "89826e56-b93f-46c7-b9bf-7472c1be407c"
      },
      "source": [
        "item_similarities = calculate_similar_items(preferences, n=50)"
      ],
      "execution_count": null,
      "outputs": [
        {
          "output_type": "stream",
          "name": "stdout",
          "text": [
            "100 / 1664\n",
            "200 / 1664\n",
            "300 / 1664\n",
            "400 / 1664\n",
            "500 / 1664\n",
            "600 / 1664\n",
            "700 / 1664\n",
            "800 / 1664\n",
            "900 / 1664\n",
            "1000 / 1664\n",
            "1100 / 1664\n",
            "1200 / 1664\n",
            "1300 / 1664\n",
            "1400 / 1664\n",
            "1500 / 1664\n",
            "1600 / 1664\n"
          ]
        }
      ]
    },
    {
      "cell_type": "markdown",
      "metadata": {
        "id": "ms0cHm2lxyq1"
      },
      "source": [
        "Посмотрим на результат:\n",
        "\n",
        "**Code 23:**"
      ]
    },
    {
      "cell_type": "code",
      "metadata": {
        "scrolled": true,
        "id": "Unfusl__xyq2",
        "colab": {
          "base_uri": "https://localhost:8080/"
        },
        "outputId": "2ebc57cd-2206-4c8f-d931-85ed0181cee6"
      },
      "source": [
        "item_similarities[\"What's Eating Gilbert Grape (1993)\"]"
      ],
      "execution_count": null,
      "outputs": [
        {
          "output_type": "execute_result",
          "data": {
            "text/plain": [
              "[(1.0, 'Yankee Zulu (1994)'),\n",
              " (1.0, 'Woman in Question, The (1950)'),\n",
              " (1.0, 'Witness (1985)'),\n",
              " (1.0, \"Wend Kuuni (God's Gift) (1982)\"),\n",
              " (1.0, 'Vie est belle, La (Life is Rosey) (1987)'),\n",
              " (1.0, 'Vermont Is For Lovers (1992)'),\n",
              " (1.0, 'Van, The (1996)'),\n",
              " (1.0, 'Two or Three Things I Know About Her (1966)'),\n",
              " (1.0, 'Two Much (1996)'),\n",
              " (1.0, 'Two Deaths (1995)'),\n",
              " (1.0, 'Two Bits (1995)'),\n",
              " (1.0, 'Touki Bouki (Journey of the Hyena) (1973)'),\n",
              " (1.0, 'Total Eclipse (1995)'),\n",
              " (1.0, 'To Have, or Not (1995)'),\n",
              " (1.0, 'To Cross the Rubicon (1991)'),\n",
              " (1.0, 'Tigrero: A Film That Was Never Made (1994)'),\n",
              " (1.0, 'The Courtyard (1995)'),\n",
              " (1.0, 'Terror in a Texas Town (1958)'),\n",
              " (1.0, 'Talking About Sex (1994)'),\n",
              " (1.0, 'T-Men (1947)'),\n",
              " (1.0, 'Symphonie pastorale, La (1946)'),\n",
              " (1.0, 'Swept from the Sea (1997)'),\n",
              " (1.0, 'Stranger in the House (1997)'),\n",
              " (1.0, 'Stonewall (1995)'),\n",
              " (1.0, 'Squeeze (1996)'),\n",
              " (1.0, 'Spirits of the Dead (Tre passi nel delirio) (1968)'),\n",
              " (1.0, 'Somebody to Love (1994)'),\n",
              " (1.0, 'So Dear to My Heart (1949)'),\n",
              " (1.0, 'Sliding Doors (1998)'),\n",
              " (1.0, 'Shooting Fish (1997)'),\n",
              " (1.0, 'Shadows (Cienie) (1988)'),\n",
              " (1.0, 'Secret Adventures of Tom Thumb, The (1993)'),\n",
              " (1.0, 'Scream of Stone (Schrei aus Stein) (1991)'),\n",
              " (1.0, 'Salut cousin! (1996)'),\n",
              " (1.0, 'Romper Stomper (1992)'),\n",
              " (1.0, 'Relative Fear (1994)'),\n",
              " (1.0, 'Quartier Mozart (1992)'),\n",
              " (1.0, 'Promise, The (Versprechen, Das) (1994)'),\n",
              " (1.0, 'Prefontaine (1997)'),\n",
              " (1.0, \"Pharaoh's Army (1995)\"),\n",
              " (1.0, 'Nosferatu a Venezia (1986)'),\n",
              " (1.0, 'Nina Takes a Lover (1994)'),\n",
              " (1.0, 'Niagara, Niagara (1997)'),\n",
              " (1.0, 'Mr. Jones (1993)'),\n",
              " (1.0, 'Mostro, Il (1994)'),\n",
              " (1.0, 'Modern Affair, A (1995)'),\n",
              " (1.0, 'Mighty, The (1998)'),\n",
              " (1.0, 'Metisse (Café au Lait) (1993)'),\n",
              " (1.0, 'Man from Down Under, The (1943)'),\n",
              " (1.0, 'Liebelei (1933)')]"
            ]
          },
          "metadata": {},
          "execution_count": 80
        }
      ]
    },
    {
      "cell_type": "markdown",
      "metadata": {
        "id": "YU16xvBpxyq6"
      },
      "source": [
        "Теперь получим топ-30 рекомендаций для пользователя с учетом похожести фильмов. Используем функцию **getRecommendedItems()**, которой на вход подается:\n",
        "* словарь с оценками пользователя (*preferences*)\n",
        "* словарь с данными о схожести фильмов, *item_similarities*\n",
        "* ID пользователя, для которого строим рекомендации\n",
        "\n",
        "**Code 24:**"
      ]
    },
    {
      "cell_type": "code",
      "metadata": {
        "id": "1ipmvlb-xyq6",
        "colab": {
          "base_uri": "https://localhost:8080/"
        },
        "outputId": "516ec3fa-d7d3-493b-8989-750c12dba606"
      },
      "source": [
        "getRecommendedItems(preferences, item_similarities, '87')[0:30]"
      ],
      "execution_count": null,
      "outputs": [
        {
          "output_type": "execute_result",
          "data": {
            "text/plain": [
              "[(5.0, \"What's Eating Gilbert Grape (1993)\"),\n",
              " (5.0, 'Vertigo (1958)'),\n",
              " (5.0, 'Usual Suspects, The (1995)'),\n",
              " (5.0, 'Toy Story (1995)'),\n",
              " (5.0, 'Titanic (1997)'),\n",
              " (5.0, 'Sword in the Stone, The (1963)'),\n",
              " (5.0, 'Stand by Me (1986)'),\n",
              " (5.0, 'Sling Blade (1996)'),\n",
              " (5.0, 'Silence of the Lambs, The (1991)'),\n",
              " (5.0, 'Shining, The (1980)'),\n",
              " (5.0, 'Shine (1996)'),\n",
              " (5.0, 'Sense and Sensibility (1995)'),\n",
              " (5.0, 'Scream (1996)'),\n",
              " (5.0, 'Rumble in the Bronx (1995)'),\n",
              " (5.0, 'Rock, The (1996)'),\n",
              " (5.0, 'Robin Hood: Prince of Thieves (1991)'),\n",
              " (5.0, 'Rising Sun (1993)'),\n",
              " (5.0, 'Reservoir Dogs (1992)'),\n",
              " (5.0, 'Replacement Killers, The (1998)'),\n",
              " (5.0, 'Police Story 4: Project S (Chao ji ji hua) (1993)'),\n",
              " (5.0, 'Murder in the First (1995)'),\n",
              " (5.0, 'Houseguest (1994)'),\n",
              " (5.0, 'Great Dictator, The (1940)'),\n",
              " (5.0, 'Friday (1995)'),\n",
              " (5.0, 'Day the Sun Turned Cold, The (Tianguo niezi) (1994)'),\n",
              " (5.0, 'Chamber, The (1996)'),\n",
              " (5.0, 'Body Snatcher, The (1945)'),\n",
              " (5.0, 'Big Lebowski, The (1998)'),\n",
              " (5.0, '1-900 (1994)'),\n",
              " (4.875, \"Ed's Next Move (1996)\")]"
            ]
          },
          "metadata": {},
          "execution_count": 81
        }
      ]
    },
    {
      "cell_type": "markdown",
      "metadata": {
        "id": "oF9qzVofxyq8"
      },
      "source": [
        "Выведем список фильмов, которые пользователь с id `87` оценил максимальным баллом:\n",
        "\n",
        "**Code 25:**"
      ]
    },
    {
      "cell_type": "code",
      "metadata": {
        "scrolled": true,
        "id": "l-Iqlmebxyq9",
        "colab": {
          "base_uri": "https://localhost:8080/"
        },
        "outputId": "78f29892-47bc-4cc9-9820-e1e3a4577bb2"
      },
      "source": [
        "{x: preferences['87'][x] for x in preferences['87'] if preferences['87'][x] == 5}"
      ],
      "execution_count": null,
      "outputs": [
        {
          "output_type": "execute_result",
          "data": {
            "text/plain": [
              "{'Jurassic Park (1993)': 5.0,\n",
              " 'Indiana Jones and the Last Crusade (1989)': 5.0,\n",
              " 'Good, The Bad and The Ugly, The (1966)': 5.0,\n",
              " 'Dead Poets Society (1989)': 5.0,\n",
              " 'M*A*S*H (1970)': 5.0,\n",
              " '2001: A Space Odyssey (1968)': 5.0,\n",
              " 'Four Weddings and a Funeral (1994)': 5.0,\n",
              " 'Prefontaine (1997)': 5.0,\n",
              " 'This Is Spinal Tap (1984)': 5.0,\n",
              " 'Cool Hand Luke (1967)': 5.0,\n",
              " 'True Lies (1994)': 5.0,\n",
              " 'Sleepless in Seattle (1993)': 5.0,\n",
              " 'Young Frankenstein (1974)': 5.0,\n",
              " 'Fugitive, The (1993)': 5.0,\n",
              " 'In the Line of Fire (1993)': 5.0,\n",
              " 'Speed (1994)': 5.0,\n",
              " 'Terminator 2: Judgment Day (1991)': 5.0,\n",
              " 'Shawshank Redemption, The (1994)': 5.0,\n",
              " 'Clear and Present Danger (1994)': 5.0,\n",
              " 'Dances with Wolves (1990)': 5.0,\n",
              " 'Adventures of Robin Hood, The (1938)': 5.0,\n",
              " 'Blues Brothers, The (1980)': 5.0,\n",
              " 'Babe (1995)': 5.0,\n",
              " 'Top Gun (1986)': 5.0,\n",
              " 'Get Shorty (1995)': 5.0,\n",
              " 'Wizard of Oz, The (1939)': 5.0,\n",
              " 'When Harry Met Sally... (1989)': 5.0,\n",
              " 'Star Trek IV: The Voyage Home (1986)': 5.0,\n",
              " 'Net, The (1995)': 5.0,\n",
              " 'Fargo (1996)': 5.0,\n",
              " 'Stargate (1994)': 5.0,\n",
              " 'Groundhog Day (1993)': 5.0,\n",
              " 'Bridge on the River Kwai, The (1957)': 5.0,\n",
              " 'Star Trek: The Wrath of Khan (1982)': 5.0,\n",
              " 'Bananas (1971)': 5.0,\n",
              " 'French Kiss (1995)': 5.0,\n",
              " 'Empire Strikes Back, The (1980)': 5.0,\n",
              " 'Return of the Jedi (1983)': 5.0,\n",
              " 'Butch Cassidy and the Sundance Kid (1969)': 5.0,\n",
              " 'Star Wars (1977)': 5.0,\n",
              " 'Magnificent Seven, The (1954)': 5.0,\n",
              " 'Back to the Future (1985)': 5.0,\n",
              " 'Terminator, The (1984)': 5.0,\n",
              " 'Fish Called Wanda, A (1988)': 5.0,\n",
              " \"It's a Wonderful Life (1946)\": 5.0,\n",
              " 'Renaissance Man (1994)': 5.0,\n",
              " 'American President, The (1995)': 5.0,\n",
              " 'I.Q. (1994)': 5.0,\n",
              " 'While You Were Sleeping (1995)': 5.0,\n",
              " 'Independence Day (ID4) (1996)': 5.0,\n",
              " 'Raiders of the Lost Ark (1981)': 5.0,\n",
              " 'Quiet Man, The (1952)': 5.0,\n",
              " 'Sting, The (1973)': 5.0,\n",
              " 'Days of Thunder (1990)': 5.0}"
            ]
          },
          "metadata": {},
          "execution_count": 82
        }
      ]
    },
    {
      "cell_type": "markdown",
      "metadata": {
        "id": "FJPAExlSxyq-"
      },
      "source": [
        "Валидация для моделей рекомендательных систем устроена достаточно сложно.\n",
        "Например, нам нужно забыть часть рейтингов фильмов для пользователя, а потом попытаться восстановить их с\n",
        "помощью нашей модели.\n",
        "\n",
        "В данном случае, мы можем оценить адекватность полученных рекомендаций, просмотрев списки фильмов. Однако, на текущем датасете, из-за размера выборки, такое сделать сложно.\n",
        "\n",
        "Приведем примеры интерпретации:\n",
        "* В случае использования расстояния, основанного на коррелции, модель рекомендует в первую очередь боевики\n",
        "* В случае использование похожестей фильмов мы видим как общепризнанные шедевры, так и боевики\n",
        "* В реальности пользователю нравятся фильмы, которые нравятся всем, приключенческие фильмы и боевики\n",
        "\n",
        "С такой точки зрения оба списка рекомендаций кажутся адекватным, а то, что они не пересекаются связано с тем,\n",
        "что есть много похожих друг на друга фильмов - и мы не можем рекомендовать сразу все такие фильмы пользователю.\n"
      ]
    },
    {
      "cell_type": "markdown",
      "metadata": {
        "id": "3m3xlZAmxyrA"
      },
      "source": [
        "Для рекомендательных систем есть специальные библиотеки, например, https://surprise.readthedocs.io/, однако их применение требует более глубокого знакомства с темой."
      ]
    },
    {
      "cell_type": "code",
      "metadata": {
        "id": "CzlkwpiRC6bM"
      },
      "source": [],
      "execution_count": null,
      "outputs": []
    }
  ]
}