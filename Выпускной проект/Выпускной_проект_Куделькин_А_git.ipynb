{
 "cells": [
  {
   "cell_type": "markdown",
   "id": "9267926b",
   "metadata": {
    "toc": true
   },
   "source": [
    "<h1>Contents<span class=\"tocSkip\"></span></h1>\n",
    "<div class=\"toc\"><ul class=\"toc-item\"><li><ul class=\"toc-item\"><li><span><a href=\"#Генерация-и-предобработка\" data-toc-modified-id=\"Генерация-и-предобработка-0.1\">Генерация и предобработка</a></span></li></ul></li><li><span><a href=\"#Подбор-модели-и-гиперпараметров-с-архитектурой-ООП\" data-toc-modified-id=\"Подбор-модели-и-гиперпараметров-с-архитектурой-ООП-1\">Подбор модели и гиперпараметров с архитектурой ООП</a></span><ul class=\"toc-item\"><li><span><a href=\"#Прогноз-на-контрольной-выборке\" data-toc-modified-id=\"Прогноз-на-контрольной-выборке-1.1\">Прогноз на контрольной выборке</a></span></li></ul></li><li><span><a href=\"#Рекурентная-нейронная-сеть---LSTM\" data-toc-modified-id=\"Рекурентная-нейронная-сеть---LSTM-2\">Рекурентная нейронная сеть - LSTM</a></span></li></ul></div>"
   ]
  },
  {
   "cell_type": "markdown",
   "id": "0b880526",
   "metadata": {},
   "source": [
    "![Image](fon_project.jpg)"
   ]
  },
  {
   "cell_type": "markdown",
   "id": "b9382e33",
   "metadata": {},
   "source": [
    "# Сравнительный анализ работы алгоритмов ML и DL"
   ]
  },
  {
   "cell_type": "code",
   "execution_count": 1,
   "id": "50d842e2",
   "metadata": {},
   "outputs": [
    {
     "data": {
      "text/html": [
       "<style>.container { width:70% !important; }</style>"
      ],
      "text/plain": [
       "<IPython.core.display.HTML object>"
      ]
     },
     "metadata": {},
     "output_type": "display_data"
    },
    {
     "data": {
      "application/javascript": [
       "IPython.notebook.set_autosave_interval(60000)"
      ]
     },
     "metadata": {},
     "output_type": "display_data"
    },
    {
     "name": "stdout",
     "output_type": "stream",
     "text": [
      "Autosaving every 60 seconds\n"
     ]
    }
   ],
   "source": [
    "import pandas as pd\n",
    "import numpy as np\n",
    "import matplotlib.pyplot as plt\n",
    "import seaborn as sns\n",
    "import plotly.express as px\n",
    "\n",
    "from sklearn.preprocessing import StandardScaler\n",
    "from sklearn.compose import ColumnTransformer\n",
    "from sklearn.pipeline import Pipeline\n",
    "from sklearn.model_selection import GridSearchCV\n",
    "from sklearn.metrics import mean_squared_error, mean_absolute_error, r2_score\n",
    "\n",
    "def mean_absolute_percentage_error(y_true, y_pred): \n",
    "    y_true, y_pred = np.array(y_true), np.array(y_pred)\n",
    "    return np.mean(np.abs((y_true - y_pred) / y_true)) * 100\n",
    "\n",
    "from catboost import CatBoostRegressor, Pool\n",
    "from xgboost import XGBRegressor\n",
    "from sklearn.ensemble import RandomForestRegressor, GradientBoostingRegressor\n",
    "from sklearn.impute import SimpleImputer\n",
    "\n",
    "import torch\n",
    "import torch.nn as nn\n",
    "import torch.optim as optim\n",
    "from torch.autograd import Variable\n",
    "\n",
    "import warnings\n",
    "warnings.filterwarnings('ignore') \n",
    "\n",
    "from IPython.display import display, HTML\n",
    "pd.options.display.max_columns = None\n",
    "display(HTML(\"<style>.container { width:70% !important; }</style>\"))\n",
    "\n",
    "import random\n",
    "random.seed(42)\n",
    "%autosave 60"
   ]
  },
  {
   "cell_type": "code",
   "execution_count": 2,
   "id": "c1b632e0",
   "metadata": {},
   "outputs": [],
   "source": [
    "# загружаем данные\n",
    "aplan = pd.read_csv(r\"C:\\Users\\123123\\Desktop\\Выпускной проект\\Количество товаров.csv\")\n",
    "aplan.columns = aplan.columns.str.strip('aggr_id_')\n",
    "\n",
    "# маппим названия фичей\n",
    "id_features = pd.read_csv(r\"C:\\Users\\123123\\Desktop\\Выпускной проект\\id_features_1.csv\")\n",
    "for i in range(len(id_features)):\n",
    "    col_id = id_features.iloc[i]['id']\n",
    "    new_name = id_features.iloc[i]['name']\n",
    "    aplan.rename(columns={str(col_id): new_name}, inplace=True)\n",
    "    \n",
    "# переименовываем фичи\n",
    "aplan = (aplan.rename(columns={aplan.columns[0]:'target', \n",
    "                               'Календарь: Номер часа':'час',\n",
    "                               'Календарь: День месяца':'день',\n",
    "                               'Календарь: Номер месяца':'месяц',\n",
    "                               'Календарь: Агрегация номер года':'год', \n",
    "                               }))"
   ]
  },
  {
   "cell_type": "markdown",
   "id": "d83d6037",
   "metadata": {},
   "source": [
    "### Генерация и предобработка"
   ]
  },
  {
   "cell_type": "code",
   "execution_count": 3,
   "id": "51bbc25c",
   "metadata": {},
   "outputs": [],
   "source": [
    "# лаг на 365 дней\n",
    "#aplan['lag_365'] = aplan['target'].shift(8760)\n",
    "#aplan.dropna(inplace=True)\n",
    "\n",
    "# меняем тип данных\n",
    "aplan['час'] = aplan['час'].astype(int)\n",
    "aplan['день'] = aplan['день'].astype(int)\n",
    "aplan['месяц'] = aplan['месяц'].astype(int)\n",
    "aplan['год'] = aplan['год'].astype(int)\n",
    "aplan['год'] = aplan['год'].astype(str)\n",
    "aplan['месяц'] = aplan['месяц'].astype(str)\n",
    "aplan['день'] = aplan['день'].astype(str)\n",
    "aplan['час'] = aplan['час'].astype(str)\n",
    "\n",
    "# добавляем 0 к значениям\n",
    "aplan['месяц'] = aplan['месяц'].str.zfill(2)\n",
    "aplan['день'] = aplan['день'].str.zfill(2)\n",
    "aplan['час'] = aplan['час'].str.zfill(2)\n",
    "\n",
    "# создание столбца с датой\n",
    "aplan['date'] = pd.to_datetime(aplan['год'] + '-' + aplan['месяц'] + '-' + aplan['день'] + ' ' + aplan['час'])\n",
    "\n",
    "# удаление ненужных символов из столбца 'date'\n",
    "aplan['date'] = aplan['date'].dt.strftime('%Y-%m-%d %H:%m:%s')\n",
    "aplan['date'] = pd.to_datetime(aplan['date'])\n",
    "\n",
    "# возвращаем типы в числовые\n",
    "aplan['час'] = aplan['час'].astype(int)\n",
    "aplan['день'] = aplan['день'].astype(int)\n",
    "aplan['месяц'] = aplan['месяц'].astype(int)\n",
    "aplan['год'] = aplan['год'].astype(int)\n",
    "\n",
    "# формируем датафрейм\n",
    "aplan = aplan.query('date >= \"2020-07-01\"')"
   ]
  },
  {
   "cell_type": "markdown",
   "id": "b61b4d81",
   "metadata": {},
   "source": [
    "# дашборд\n",
    "fig = px.line(aplan, x='date', y='target', title='Распределение целевой переменной')\n",
    "fig.update_xaxes(title_text='Дата', tickformat='%Y-%m-%d')\n",
    "fig.update_yaxes(title_text='Целевая переменная')\n",
    "fig.show()"
   ]
  },
  {
   "cell_type": "markdown",
   "id": "faccc52d",
   "metadata": {},
   "source": [
    "![Image](1.png)"
   ]
  },
  {
   "cell_type": "code",
   "execution_count": 14,
   "id": "a308a40e",
   "metadata": {},
   "outputs": [],
   "source": [
    "# формируем выборки для обучения и прогноза\n",
    "train_df = aplan[(aplan['date'] >= '2021-12-01') & (aplan['date'] < '2022-12-01')]\n",
    "test_df = aplan[(aplan['date'] >= '2022-12-01') & (aplan['date'] < '2023-01-01')]\n",
    "train_df.drop('date', axis=1, inplace=True)\n",
    "test_df.drop('date', axis=1, inplace=True)\n",
    "\n",
    "# признаки и целевая переменная для обучающей и тестовой выборки\n",
    "X_train = train_df.iloc[:, 1:]  \n",
    "y_train = train_df['target']\n",
    "X_test = test_df.iloc[:, 1:]  \n",
    "y_test = test_df['target']"
   ]
  },
  {
   "cell_type": "markdown",
   "id": "726f5e42",
   "metadata": {},
   "source": [
    "## Подбор модели и гиперпараметров с архитектурой ООП"
   ]
  },
  {
   "cell_type": "code",
   "execution_count": 15,
   "id": "b7bd8487",
   "metadata": {
    "scrolled": false
   },
   "outputs": [
    {
     "name": "stdout",
     "output_type": "stream",
     "text": [
      "Модель CatBoost:\n",
      "Fitting 5 folds for each of 14 candidates, totalling 70 fits\n",
      "Лучшие параметры: {'forecast__depth': 5, 'forecast__learning_rate': 0.1}\n",
      "МЕТРИКИ МОДЕЛИ:\n",
      "MAE: 14.19192\n",
      "MAPE: 15.91149\n",
      "MSE: 438.51717\n",
      "RMSE: 21\n",
      "R2: 0.94904\n",
      "---------------------------------------------------------------------------\n",
      "CPU times: total: 8 s\n",
      "Wall time: 30.8 s\n",
      "\n",
      "Модель XGBoost:\n",
      "Fitting 5 folds for each of 14 candidates, totalling 70 fits\n",
      "Лучшие параметры: {'forecast__learning_rate': 0.1, 'forecast__max_depth': 6}\n",
      "МЕТРИКИ МОДЕЛИ:\n",
      "MAE: 15.31149\n",
      "MAPE: 15.23305\n",
      "MSE: 550.78556\n",
      "RMSE: 23\n",
      "R2: 0.93487\n",
      "---------------------------------------------------------------------------\n",
      "CPU times: total: 3.33 s\n",
      "Wall time: 8.01 s\n",
      "\n",
      "Модель GradientBoostingRegressor:\n",
      "Fitting 5 folds for each of 21 candidates, totalling 105 fits\n",
      "Лучшие параметры: {'forecast__max_depth': 4, 'forecast__n_estimators': 500}\n",
      "МЕТРИКИ МОДЕЛИ:\n",
      "MAE: 14.67559\n",
      "MAPE: 15.45045\n",
      "MSE: 464.27006\n",
      "RMSE: 22\n",
      "R2: 0.9463\n",
      "---------------------------------------------------------------------------\n",
      "CPU times: total: 9.88 s\n",
      "Wall time: 1min 41s\n",
      "\n",
      "Модель RandomForest:\n",
      "Fitting 5 folds for each of 21 candidates, totalling 105 fits\n",
      "Лучшие параметры: {'forecast__max_depth': 7, 'forecast__n_estimators': 300}\n",
      "МЕТРИКИ МОДЕЛИ:\n",
      "MAE: 17.69771\n",
      "MAPE: 18.65059\n",
      "MSE: 752.08394\n",
      "RMSE: 27\n",
      "R2: 0.90869\n",
      "---------------------------------------------------------------------------\n",
      "CPU times: total: 7.89 s\n",
      "Wall time: 1min 19s\n",
      "CPU times: total: 29.1 s\n",
      "Wall time: 3min 39s\n"
     ]
    }
   ],
   "source": [
    "%%time\n",
    "# класс модели с поиском гиперпараметров по сетке\n",
    "class GridSearchModelTrainer:\n",
    "    def __init__(self, model, param_grid):\n",
    "        self.model = model\n",
    "        self.param_grid = param_grid\n",
    "        self.grid_search = GridSearchCV(self.model, self.param_grid, cv=5,\n",
    "                                        scoring='neg_mean_squared_error', n_jobs=-1, verbose=100)\n",
    "    \n",
    "    # метод обучения, прогноза и оценки\n",
    "    def train_evaluate(self, X_train, X_test, y_train, y_test):\n",
    "        self.grid_search.fit(X_train, y_train)\n",
    "        best_params = self.grid_search.best_params_\n",
    "        best_model = self.grid_search.best_estimator_\n",
    "        y_pred = best_model.predict(X_test)\n",
    "\n",
    "        print(\"Лучшие параметры:\", best_params)\n",
    "        print('МЕТРИКИ МОДЕЛИ:')\n",
    "        print('MAE:', round(mean_absolute_error(y_pred, y_test), 5))\n",
    "        print('MAPE:', round(mean_absolute_percentage_error(y_pred, y_test), 5))\n",
    "        print('MSE:', round(mean_squared_error(y_pred, y_test), 5))\n",
    "        print('RMSE:', round(np.sqrt(mean_squared_error(y_pred, y_test))))\n",
    "        print('R2:', round(r2_score(y_pred, y_test), 5))\n",
    "        print('---------------------------------------------------------------------------')\n",
    "\n",
    "# класс CatBoost с сеткой гиперпараметров\n",
    "class CatBoostModelTrainerGridSearch(GridSearchModelTrainer):\n",
    "    def __init__(self):\n",
    "        model = Pipeline(steps=[('forecast', CatBoostRegressor(verbose=0, n_estimators=500))])\n",
    "        param_grid = {'forecast__learning_rate': [0.1, 0.01], 'forecast__depth': range(1, 8)}\n",
    "        super().__init__(model, param_grid)\n",
    "\n",
    "# класс XGBoost с сеткой гиперпараметров\n",
    "class XGBoostModelTrainerGridSearch(GridSearchModelTrainer):\n",
    "    def __init__(self):\n",
    "        model = Pipeline(steps=[('forecast', XGBRegressor())])\n",
    "        param_grid = {'forecast__learning_rate': [0.1, 0.01], 'forecast__max_depth': range(1, 8)}\n",
    "        super().__init__(model, param_grid)\n",
    "\n",
    "# класс GradientBoostingRegressor с сеткой гиперпараметров\n",
    "class GradientBoostingModelTrainerGridSearch(GridSearchModelTrainer):\n",
    "    def __init__(self):\n",
    "        model = Pipeline(steps=[('forecast', GradientBoostingRegressor())])\n",
    "        param_grid = {'forecast__n_estimators': [100, 300, 500], 'forecast__max_depth': range(1, 8)}\n",
    "        super().__init__(model, param_grid)\n",
    "\n",
    "# класс RandomForest с сеткой гиперпараметров\n",
    "class RandomForestModelTrainerGridSearch(GridSearchModelTrainer):\n",
    "    def __init__(self):\n",
    "        model = Pipeline(steps=[('forecast', RandomForestRegressor())])\n",
    "        param_grid = {'forecast__n_estimators': [100, 300, 500], 'forecast__max_depth': range(1, 8)}\n",
    "        super().__init__(model, param_grid)        \n",
    "\n",
    "# модель CatBoost\n",
    "print(\"Модель CatBoost:\")\n",
    "catboost_trainer = CatBoostModelTrainerGridSearch()\n",
    "%time catboost_trainer.train_evaluate(X_train, X_test, y_train, y_test)\n",
    "\n",
    "# модель XGBoost\n",
    "print(\"\\nМодель XGBoost:\")\n",
    "xgboost_trainer = XGBoostModelTrainerGridSearch()\n",
    "%time xgboost_trainer.train_evaluate(X_train, X_test, y_train, y_test)\n",
    "\n",
    "# модель GradientBoostingRegressor\n",
    "print(\"\\nМодель GradientBoostingRegressor:\")\n",
    "gradient_boosting_trainer = GradientBoostingModelTrainerGridSearch()\n",
    "%time gradient_boosting_trainer.train_evaluate(X_train, X_test, y_train, y_test)\n",
    "\n",
    "# модель RandomForest\n",
    "print(\"\\nМодель RandomForest:\")\n",
    "random_forest_trainer = RandomForestModelTrainerGridSearch()\n",
    "%time random_forest_trainer.train_evaluate(X_train, X_test, y_train, y_test)"
   ]
  },
  {
   "cell_type": "markdown",
   "id": "6b79f935",
   "metadata": {},
   "source": [
    "### Прогноз на контрольной выборке"
   ]
  },
  {
   "cell_type": "code",
   "execution_count": 16,
   "id": "fa5d8cca",
   "metadata": {},
   "outputs": [
    {
     "name": "stdout",
     "output_type": "stream",
     "text": [
      "МЕТРИКИ НА КОНТРОЛЬНОЙ ВЫБОРКЕ:\n",
      "MAE: 16.06968\n",
      "MAPE: 21.15973\n",
      "MSE: 570.30268\n",
      "RMSE: 24\n",
      "R2: 0.92033\n",
      "---------------------------------------------------------------------------\n"
     ]
    },
    {
     "data": {
      "image/png": "[encoded data removed]",
      "text/plain": [
       "<Figure size 1000x600 with 1 Axes>"
      ]
     },
     "metadata": {},
     "output_type": "display_data"
    }
   ],
   "source": [
    "# визуализация факт/прогноз лучшей модели - CatBoost\n",
    "test_df = aplan[(aplan['date'] >= '2023-01-01') & (aplan['date'] < '2023-02-01')]\n",
    "test_df.drop('date', axis=1, inplace=True)\n",
    "X_test = test_df.iloc[:, 1:]  \n",
    "y_test = test_df['target']\n",
    "y_pred_best_catboost = catboost_trainer.grid_search.best_estimator_.predict(X_test) \n",
    "test_df = aplan[(aplan['date'] >= '2023-01-01') & (aplan['date'] < '2023-02-01')]\n",
    "test_df['y_pred_best_catboost'] = y_pred_best_catboost\n",
    "\n",
    "print('МЕТРИКИ НА КОНТРОЛЬНОЙ ВЫБОРКЕ:')\n",
    "print('MAE:', round(mean_absolute_error(y_pred_best_catboost, y_test), 5))\n",
    "print('MAPE:', round(mean_absolute_percentage_error(y_pred_best_catboost, y_test), 5))\n",
    "print('MSE:', round(mean_squared_error(y_pred_best_catboost, y_test), 5))\n",
    "print('RMSE:', round(np.sqrt(mean_squared_error(y_pred_best_catboost, y_test))))\n",
    "print('R2:', round(r2_score(y_pred_best_catboost, y_test), 5))\n",
    "print('---------------------------------------------------------------------------')\n",
    "\n",
    "# дашборд \n",
    "#fig = px.line(test_df, x=test_df['date'], y=['target', 'y_pred_best_catboost'], \n",
    "             # labels={'index': 'Дата', 'value': 'Целевая переменная'},\n",
    "             # title='Дашборд факт/прогноз лучшей модели',\n",
    "             # color_discrete_map={'target': 'green', 'y_pred_best_catboost': 'blue'})\n",
    "#fig.show()\n",
    "\n",
    "# визуализация важности признаков \n",
    "if catboost_trainer.grid_search.best_estimator_ is not None:\n",
    "    feature_importances_catboost = catboost_trainer.grid_search.best_estimator_.named_steps['forecast'].feature_importances_\n",
    "    features = X_train.columns\n",
    "    sorted_indices = np.argsort(feature_importances_catboost)[::-1]\n",
    "    sorted_feature_importances_catboost = feature_importances_catboost[sorted_indices]\n",
    "    sorted_features = [features[i] for i in sorted_indices]\n",
    "    plt.figure(figsize=(10, 6))\n",
    "    sns.barplot(x=sorted_feature_importances_catboost, y=sorted_features, palette='Blues_r')\n",
    "    plt.title('Важность признаков (CatBoost)')\n",
    "    plt.xlabel('Важность')\n",
    "    plt.ylabel('Признаки')\n",
    "    for i, importance in enumerate(sorted_feature_importances_catboost):\n",
    "        plt.text(importance + 0.3, i, f'{importance:.1f}', ha='center', va='center')\n",
    "    plt.show()\n",
    "    \n",
    "# R2 на каждый день\n",
    "#r2 = []\n",
    "#for i in test_df['день'].unique():\n",
    "   # r2_value = r2_score(test_df[test_df['день'] == i]['target'],\n",
    "                      #  test_df[test_df['день'] == i]['y_pred_best_catboost'])\n",
    "   # r2.append(round(r2_value, 4))   \n",
    "#r2_df = pd.DataFrame({'R2': r2})\n",
    "#r2_df.index += 1\n",
    "#def color_r2(val):\n",
    "       # if val >= 0.90:\n",
    "           # color = 'background-color: green; color: white'\n",
    "        #elif 0.9 > val >= 0.8:\n",
    "           # color = 'background-color: yellow; color: black'\n",
    "      #  else:\n",
    "            #color = 'background-color: red; color: white'\n",
    "        #return color\n",
    "#r2_styled = r2_df.style.applymap(lambda x: color_r2(x), subset=['R2'])\n",
    "#r2_styled"
   ]
  },
  {
   "cell_type": "markdown",
   "id": "590f1cb9",
   "metadata": {},
   "source": [
    "![Image](2.png)\n",
    "![Image](4.png)"
   ]
  },
  {
   "cell_type": "markdown",
   "id": "e360c6a3",
   "metadata": {},
   "source": [
    "## Рекурентная нейронная сеть - LSTM"
   ]
  },
  {
   "cell_type": "code",
   "execution_count": 17,
   "id": "f4aaa79d",
   "metadata": {
    "scrolled": false
   },
   "outputs": [
    {
     "name": "stdout",
     "output_type": "stream",
     "text": [
      "Epoch [10/200], Loss: 9012.9785\n",
      "Epoch [20/200], Loss: 1495.8069\n",
      "Epoch [30/200], Loss: 690.8517\n",
      "Epoch [40/200], Loss: 538.8850\n",
      "Epoch [50/200], Loss: 462.9074\n",
      "Epoch [60/200], Loss: 405.3524\n",
      "Epoch [70/200], Loss: 370.1415\n",
      "Epoch [80/200], Loss: 337.1146\n",
      "Epoch [90/200], Loss: 314.4451\n",
      "Epoch [100/200], Loss: 299.9404\n",
      "Epoch [110/200], Loss: 278.3000\n",
      "Epoch [120/200], Loss: 268.0278\n",
      "Epoch [130/200], Loss: 256.5237\n",
      "Epoch [140/200], Loss: 243.4364\n",
      "Epoch [150/200], Loss: 232.7159\n",
      "Epoch [160/200], Loss: 229.1180\n",
      "Epoch [170/200], Loss: 222.7129\n",
      "Epoch [180/200], Loss: 213.7468\n",
      "Epoch [190/200], Loss: 209.0472\n"
     ]
    },
    {
     "name": "stderr",
     "output_type": "stream",
     "text": [
      "No artists with labels found to put in legend.  Note that artists whose label start with an underscore are ignored when legend() is called with no argument.\n"
     ]
    },
    {
     "name": "stdout",
     "output_type": "stream",
     "text": [
      "Epoch [200/200], Loss: 202.2921\n",
      "Test Loss: 544.6364\n"
     ]
    },
    {
     "data": {
      "image/png": "[encoded data removed]",
      "text/plain": [
       "<Figure size 640x480 with 1 Axes>"
      ]
     },
     "metadata": {},
     "output_type": "display_data"
    },
    {
     "name": "stdout",
     "output_type": "stream",
     "text": [
      "Test MSE: 544.6364\n",
      "Test R^2: 0.9214\n",
      "MAE:17.76   MSE:544.64   R2:0.9214 \n",
      "CPU times: total: 35min 45s\n",
      "Wall time: 9min 10s\n"
     ]
    }
   ],
   "source": [
    "%%time\n",
    "# выборки для обучения и прогноза\n",
    "train_df = aplan[(aplan['date'] >= '2021-01-01') & (aplan['date'] < '2023-01-01')]\n",
    "test_df = aplan[(aplan['date'] >= '2023-01-01') & (aplan['date'] < '2023-02-01')]\n",
    "train_df.drop('date', axis=1, inplace=True)\n",
    "test_df.drop('date', axis=1, inplace=True)\n",
    "X_train = train_df.iloc[:, 1:]  \n",
    "y_train = train_df['target'].values  \n",
    "X_test = test_df.iloc[:, 1:]  \n",
    "y_test = test_df['target'].values  \n",
    "\n",
    "# масштабирование данных\n",
    "scaler = StandardScaler()\n",
    "X_train = scaler.fit_transform(X_train)\n",
    "X_test = scaler.transform(X_test)\n",
    "\n",
    "# преобразование в тензоры PyTorch\n",
    "X_train = torch.tensor(X_train, dtype=torch.float32).unsqueeze(1)\n",
    "y_train = torch.tensor(y_train, dtype=torch.float32)\n",
    "X_test = torch.tensor(X_test, dtype=torch.float32).unsqueeze(1)\n",
    "y_test = torch.tensor(y_test, dtype=torch.float32)\n",
    "\n",
    "\n",
    "# класс для рекурентной сети с LSTM\n",
    "class LSTM(nn.Module):\n",
    "    def __init__(self, input_size, hidden_size, num_layers, output_size, dropout_prob):\n",
    "        super(LSTM, self).__init__()\n",
    "        self.hidden_size = hidden_size\n",
    "        self.num_layers = num_layers\n",
    "        self.lstm = nn.LSTM(input_size, hidden_size, num_layers, batch_first=True, dropout=dropout_prob)\n",
    "        self.fc = nn.Linear(hidden_size, output_size)\n",
    "    \n",
    "    # метод прямого прохода\n",
    "    def forward(self, x):\n",
    "        h0 = torch.zeros(self.num_layers, x.size(0), self.hidden_size).to(x.device)\n",
    "        c0 = torch.zeros(self.num_layers, x.size(0), self.hidden_size).to(x.device)\n",
    "        out, _ = self.lstm(x, (h0, c0))\n",
    "        out = self.fc(out[:, -1, :])\n",
    "        return out\n",
    "\n",
    "# функция обучения модели\n",
    "def train_model(model, X_train, y_train, criterion, optimizer, num_epochs=200, print_every=10):\n",
    "    model.train()\n",
    "    losses = []\n",
    "    for epoch in range(num_epochs):\n",
    "        outputs = model(X_train)\n",
    "        optimizer.zero_grad()\n",
    "        loss = criterion(outputs.squeeze(), y_train)\n",
    "        loss.backward()\n",
    "        optimizer.step()\n",
    "        losses.append(loss.item())\n",
    "        if (epoch+1) % print_every == 0:\n",
    "            print(f'Epoch [{epoch+1}/{num_epochs}], Loss: {loss.item():.4f}')\n",
    "    return losses\n",
    "\n",
    "# параметры модели\n",
    "input_size = 20  \n",
    "hidden_size = 400  \n",
    "num_layers = 2  \n",
    "output_size = 1  \n",
    "num_epochs = 200\n",
    "learning_rate = 0.07\n",
    "dropout_prob = 0.2  \n",
    "\n",
    "# инициализация модели, функции потерь и оптимизатора\n",
    "model = LSTM(input_size, hidden_size, num_layers, output_size, dropout_prob)\n",
    "criterion = nn.MSELoss()\n",
    "optimizer = optim.Adam(model.parameters(), lr=learning_rate)\n",
    "\n",
    "# перенос модели и данных на GPU \n",
    "device = torch.device(\"cuda\" if torch.cuda.is_available() else \"cpu\")\n",
    "model.to(device)\n",
    "X_train = X_train.to(device)\n",
    "y_train = y_train.to(device)\n",
    "\n",
    "# обучение \n",
    "losses = train_model(model, X_train, y_train, criterion, optimizer, num_epochs)\n",
    "\n",
    "# функция для тестирования модели\n",
    "def test_model(model, X_test, y_test, criterion):\n",
    "    model.eval()\n",
    "    with torch.no_grad():\n",
    "        outputs = model(X_test)\n",
    "        test_loss = criterion(outputs.squeeze(), y_test)\n",
    "        print(f'Test Loss: {test_loss.item():.4f}')\n",
    "\n",
    "# тестирование\n",
    "test_model(model, X_test, y_test, criterion)\n",
    "        \n",
    "# визуализация функции потерь\n",
    "plt.plot(range(1, num_epochs+1), losses)\n",
    "plt.xlabel('эпоха')\n",
    "plt.ylabel('loss')\n",
    "plt.title('Изменение функции потерь')\n",
    "plt.legend()\n",
    "plt.grid()\n",
    "plt.show()\n",
    "\n",
    "# оценка модели \n",
    "model.eval()\n",
    "with torch.no_grad():\n",
    "    test_outputs = model(X_test)\n",
    "    mse = criterion(test_outputs, y_test.view(-1, 1))\n",
    "    r2 = r2_score(y_test, test_outputs.squeeze().numpy())  \n",
    "    print(f'Test MSE: {mse.item():.4f}')\n",
    "    print(f'Test R^2: {r2:.4f}')\n",
    "\n",
    "test_df = aplan[(aplan['date'] >= '2023-01-01') & (aplan['date'] < '2023-02-01')] \n",
    "test_df['test_outputs'] = test_outputs\n",
    "test_df.loc[(test_df.test_outputs <= 0), ('test_outputs')] = 0\n",
    "\n",
    "# метрики качества\n",
    "print('MAE:{:.2f}   MSE:{:.2f}   R2:{:.4f} '.format(mean_absolute_error(test_df['target'], test_outputs), \n",
    "                                                        mean_squared_error(test_df['target'], test_outputs), \n",
    "                                                        r2_score(test_df['target'], test_outputs)))\n",
    "\n",
    "# дашборд факт/прогноз\n",
    "#fig = px.line(test_df, x=test_df['date'], y=['target', 'test_outputs'], \n",
    "              #labels={'index': 'Дата', 'value': 'Целевая переменная'},\n",
    "             # title='Факт/прогноз LSTM',\n",
    "             # color_discrete_map={'target': 'green', 'test_outputs': 'blue'})\n",
    "#fig.show()\n",
    "\n",
    "# R2 на каждый день с условным форматированием\n",
    "#r2 = []\n",
    "#for i in test_df['день'].unique():\n",
    "   # r2_value = r2_score(test_df[test_df['день'] == i]['target'], test_df[test_df['день'] == i]['test_outputs'])\n",
    "   # r2.append(round(r2_value, 4))  \n",
    "#r2_df = pd.DataFrame({'R2': r2})\n",
    "#r2_df.index += 1\n",
    "#def color_r2(val):\n",
    "        #if val >= 0.90:\n",
    "           # color = 'background-color: green; color: white'\n",
    "        #elif 0.9 > val >= 0.8:\n",
    "            #color = 'background-color: yellow; color: black'\n",
    "        #else:\n",
    "            #color = 'background-color: red; color: white'\n",
    "        #return color\n",
    "#r2_styled = r2_df.style.applymap(lambda x: color_r2(x), subset=['R2'])\n",
    "#r2_styled"
   ]
  },
  {
   "cell_type": "markdown",
   "id": "f9ff5aa0",
   "metadata": {},
   "source": [
    "![Image](5.png)\n",
    "![Image](6.png)"
   ]
  }
 ],
 "metadata": {
  "hide_input": false,
  "kernelspec": {
   "display_name": "Python 3 (ipykernel)",
   "language": "python",
   "name": "python3"
  },
  "language_info": {
   "codemirror_mode": {
    "name": "ipython",
    "version": 3
   },
   "file_extension": ".py",
   "mimetype": "text/x-python",
   "name": "python",
   "nbconvert_exporter": "python",
   "pygments_lexer": "ipython3",
   "version": "3.11.3"
  },
  "toc": {
   "base_numbering": 1,
   "nav_menu": {},
   "number_sections": false,
   "sideBar": true,
   "skip_h1_title": true,
   "title_cell": "Contents",
   "title_sidebar": "Contents",
   "toc_cell": true,
   "toc_position": {},
   "toc_section_display": true,
   "toc_window_display": false
  }
 },
 "nbformat": 4,
 "nbformat_minor": 5
}
